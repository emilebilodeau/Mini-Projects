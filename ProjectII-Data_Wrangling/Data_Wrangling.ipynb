{
 "cells": [
  {
   "cell_type": "markdown",
   "metadata": {},
   "source": [
    "## Note: things to do to improve before pushing to github:\n",
    "* similar to mini-project-I, remove cells with collapse json files, lists and what not. Makes the notebook too hard to view "
   ]
  },
  {
   "cell_type": "code",
   "execution_count": 36,
   "metadata": {},
   "outputs": [],
   "source": [
    "import requests\n",
    "import os\n",
    "import json\n",
    "from IPython.display import JSON\n",
    "import numpy as np\n",
    "import pandas as pd"
   ]
  },
  {
   "cell_type": "code",
   "execution_count": 37,
   "metadata": {},
   "outputs": [],
   "source": [
    "import sqlite3\n",
    "from sqlite3 import Error"
   ]
  },
  {
   "cell_type": "markdown",
   "metadata": {},
   "source": [
    "# Yelp API"
   ]
  },
  {
   "cell_type": "code",
   "execution_count": 5,
   "metadata": {},
   "outputs": [],
   "source": [
    "from yelpapi import YelpAPI"
   ]
  },
  {
   "cell_type": "code",
   "execution_count": 4,
   "metadata": {},
   "outputs": [],
   "source": [
    "yelp_API_key = os.environ[\"YELP_API_KEY\"]"
   ]
  },
  {
   "cell_type": "code",
   "execution_count": 14,
   "metadata": {},
   "outputs": [],
   "source": [
    "base_url = \"https://api.yelp.com\"\n",
    "# will most likely be using following urls (host+path):\n",
    "# https://api.yelp.com/v3/businesses/search\n",
    "# https://api.yelp.com/v3/businesses/{id}/reviews"
   ]
  },
  {
   "cell_type": "code",
   "execution_count": 41,
   "metadata": {},
   "outputs": [],
   "source": [
    "HOST = 'https://api.yelp.com'\n",
    "path1 = '/v3/business/search'\n",
    "headers = {\"Authorization\" : f\"Bearer {yelp_API_key}\"}\n",
    "url_params1 = {'term': 'bar', 'location': 'Vancouver, BC'}"
   ]
  },
  {
   "cell_type": "code",
   "execution_count": 5,
   "metadata": {},
   "outputs": [],
   "source": [
    "url_params2 = {}"
   ]
  },
  {
   "cell_type": "code",
   "execution_count": 6,
   "metadata": {},
   "outputs": [],
   "source": [
    "url_params3 = {}"
   ]
  },
  {
   "cell_type": "code",
   "execution_count": 42,
   "metadata": {},
   "outputs": [],
   "source": [
    "response = requests.get(\"https://api.yelp.com/v3/businesses/search\", headers=headers, params=url_params1)"
   ]
  },
  {
   "cell_type": "code",
   "execution_count": 43,
   "metadata": {},
   "outputs": [
    {
     "data": {
      "text/plain": [
       "200"
      ]
     },
     "execution_count": 43,
     "metadata": {},
     "output_type": "execute_result"
    }
   ],
   "source": [
    "response.status_code"
   ]
  },
  {
   "cell_type": "code",
   "execution_count": 46,
   "metadata": {},
   "outputs": [],
   "source": [
    "json_yelp = response.json()"
   ]
  },
  {
   "cell_type": "code",
   "execution_count": 175,
   "metadata": {},
   "outputs": [],
   "source": [
    "# data = json.load(open('json_file.json'))\n",
    "\n",
    "# df = pd.DataFrame(data[\"result\"])\n",
    "# possible to create dataframe directly from the json results?"
   ]
  },
  {
   "cell_type": "code",
   "execution_count": 48,
   "metadata": {},
   "outputs": [],
   "source": [
    "pretty_json_yelp = JSON(json_yelp)"
   ]
  },
  {
   "cell_type": "code",
   "execution_count": 2,
   "metadata": {},
   "outputs": [],
   "source": [
    "# pretty_json_yelp"
   ]
  },
  {
   "cell_type": "code",
   "execution_count": 116,
   "metadata": {},
   "outputs": [],
   "source": [
    "# retrieving data\n",
    "for key, value in json_yelp.items():\n",
    "    if json_yelp[key] == json_yelp['businesses']:\n",
    "        restaurant_list = list(value)"
   ]
  },
  {
   "cell_type": "code",
   "execution_count": 180,
   "metadata": {},
   "outputs": [],
   "source": [
    "# getting names\n",
    "list_names = []\n",
    "\n",
    "for restaurant in restaurant_list:\n",
    "    for key, value in restaurant.items():\n",
    "        if restaurant[key] == restaurant['name']:\n",
    "            list_names.append(value)"
   ]
  },
  {
   "cell_type": "code",
   "execution_count": 181,
   "metadata": {},
   "outputs": [],
   "source": [
    "# getting price ranges\n",
    "list_price_range = []\n",
    "\n",
    "for restaurant in restaurant_list:\n",
    "    try:\n",
    "        for key, value in restaurant.items():\n",
    "            if restaurant[key] == restaurant['price']:\n",
    "                list_price_range.append(value)\n",
    "    except:\n",
    "        list_price_range.append(np.nan)"
   ]
  },
  {
   "cell_type": "code",
   "execution_count": 182,
   "metadata": {},
   "outputs": [],
   "source": [
    "# getting rating\n",
    "list_rating = []\n",
    "\n",
    "for restaurant in restaurant_list:\n",
    "    try:\n",
    "        for key, value in restaurant.items():\n",
    "            if restaurant[key] == restaurant['rating']:\n",
    "                list_rating.append(float(value))\n",
    "    except:\n",
    "        list_rating.append(np.nan)"
   ]
  },
  {
   "cell_type": "code",
   "execution_count": 183,
   "metadata": {},
   "outputs": [],
   "source": [
    "# getting review count\n",
    "list_review = []\n",
    "\n",
    "for restaurant in restaurant_list:\n",
    "    try:\n",
    "        for key, value in restaurant.items():\n",
    "            if restaurant[key] == restaurant['review_count']:\n",
    "                list_review.append(int(value))\n",
    "    except:\n",
    "        list_review.append(np.nan)"
   ]
  },
  {
   "cell_type": "code",
   "execution_count": 184,
   "metadata": {},
   "outputs": [],
   "source": [
    "# getting category\n",
    "list_category1 = []\n",
    "\n",
    "for restaurant in restaurant_list:\n",
    "    try:\n",
    "        for key, value in restaurant.items():\n",
    "            if restaurant[key] == restaurant['categories']:\n",
    "                list_category1.append(restaurant[key][0]['title'])\n",
    "    except:\n",
    "        list_category1.append(np.nan)"
   ]
  },
  {
   "cell_type": "code",
   "execution_count": 185,
   "metadata": {},
   "outputs": [],
   "source": [
    "list_category2 = []\n",
    "\n",
    "for restaurant in restaurant_list:\n",
    "    try:\n",
    "        for key, value in restaurant.items():\n",
    "            if restaurant[key] == restaurant['categories']:\n",
    "                list_category2.append(restaurant[key][1]['title'])\n",
    "    except:\n",
    "        list_category2.append(np.nan)"
   ]
  },
  {
   "cell_type": "code",
   "execution_count": 186,
   "metadata": {},
   "outputs": [],
   "source": [
    "# creating dataframe\n",
    "dict_yelp = {}\n",
    "dict_yelp['name'] = list_names\n",
    "dict_yelp['price_range'] = list_price_range\n",
    "dict_yelp['rating'] = list_rating\n",
    "dict_yelp['review_count'] = list_review\n",
    "dict_yelp['category_1'] = list_category1\n",
    "dict_yelp['category_2'] = list_category2"
   ]
  },
  {
   "cell_type": "code",
   "execution_count": 188,
   "metadata": {},
   "outputs": [],
   "source": [
    "yelp_data = pd.DataFrame(dict_yelp)"
   ]
  },
  {
   "cell_type": "code",
   "execution_count": 189,
   "metadata": {},
   "outputs": [
    {
     "data": {
      "text/html": [
       "<div>\n",
       "<style scoped>\n",
       "    .dataframe tbody tr th:only-of-type {\n",
       "        vertical-align: middle;\n",
       "    }\n",
       "\n",
       "    .dataframe tbody tr th {\n",
       "        vertical-align: top;\n",
       "    }\n",
       "\n",
       "    .dataframe thead th {\n",
       "        text-align: right;\n",
       "    }\n",
       "</style>\n",
       "<table border=\"1\" class=\"dataframe\">\n",
       "  <thead>\n",
       "    <tr style=\"text-align: right;\">\n",
       "      <th></th>\n",
       "      <th>name</th>\n",
       "      <th>price_range</th>\n",
       "      <th>rating</th>\n",
       "      <th>review_count</th>\n",
       "      <th>category_1</th>\n",
       "      <th>category_2</th>\n",
       "    </tr>\n",
       "  </thead>\n",
       "  <tbody>\n",
       "    <tr>\n",
       "      <th>0</th>\n",
       "      <td>Prohibition</td>\n",
       "      <td>$$</td>\n",
       "      <td>4.0</td>\n",
       "      <td>144</td>\n",
       "      <td>Lounges</td>\n",
       "      <td>Cocktail Bars</td>\n",
       "    </tr>\n",
       "    <tr>\n",
       "      <th>1</th>\n",
       "      <td>The Shameful Tiki Room</td>\n",
       "      <td>$$</td>\n",
       "      <td>4.0</td>\n",
       "      <td>304</td>\n",
       "      <td>Tiki Bars</td>\n",
       "      <td>NaN</td>\n",
       "    </tr>\n",
       "    <tr>\n",
       "      <th>2</th>\n",
       "      <td>Alibi Room</td>\n",
       "      <td>$$</td>\n",
       "      <td>4.5</td>\n",
       "      <td>535</td>\n",
       "      <td>Pubs</td>\n",
       "      <td>Canadian (New)</td>\n",
       "    </tr>\n",
       "    <tr>\n",
       "      <th>3</th>\n",
       "      <td>The Keefer Bar</td>\n",
       "      <td>$$</td>\n",
       "      <td>4.0</td>\n",
       "      <td>239</td>\n",
       "      <td>Lounges</td>\n",
       "      <td>NaN</td>\n",
       "    </tr>\n",
       "    <tr>\n",
       "      <th>4</th>\n",
       "      <td>Key Party</td>\n",
       "      <td>NaN</td>\n",
       "      <td>4.5</td>\n",
       "      <td>11</td>\n",
       "      <td>Lounges</td>\n",
       "      <td>NaN</td>\n",
       "    </tr>\n",
       "  </tbody>\n",
       "</table>\n",
       "</div>"
      ],
      "text/plain": [
       "                     name price_range  rating  review_count category_1  \\\n",
       "0             Prohibition          $$     4.0           144    Lounges   \n",
       "1  The Shameful Tiki Room          $$     4.0           304  Tiki Bars   \n",
       "2              Alibi Room          $$     4.5           535       Pubs   \n",
       "3          The Keefer Bar          $$     4.0           239    Lounges   \n",
       "4               Key Party         NaN     4.5            11    Lounges   \n",
       "\n",
       "       category_2  \n",
       "0   Cocktail Bars  \n",
       "1             NaN  \n",
       "2  Canadian (New)  \n",
       "3             NaN  \n",
       "4             NaN  "
      ]
     },
     "execution_count": 189,
     "metadata": {},
     "output_type": "execute_result"
    }
   ],
   "source": [
    "yelp_data.head()"
   ]
  },
  {
   "cell_type": "code",
   "execution_count": 59,
   "metadata": {},
   "outputs": [],
   "source": [
    "# creating sqlite file\n",
    "def create_connection(path):\n",
    "    connection = None\n",
    "    try:\n",
    "        connection = sqlite3.connect(path)\n",
    "        print(\"Connection to SQLite DB successful\")\n",
    "    except Error as e:\n",
    "        print(f\"The error '{e}' occurred\")\n",
    "\n",
    "    return connection"
   ]
  },
  {
   "cell_type": "code",
   "execution_count": 60,
   "metadata": {},
   "outputs": [
    {
     "name": "stdout",
     "output_type": "stream",
     "text": [
      "Connection to SQLite DB successful\n"
     ]
    }
   ],
   "source": [
    "connection = create_connection(\"yelp_results.sqlite\")"
   ]
  },
  {
   "cell_type": "code",
   "execution_count": 58,
   "metadata": {},
   "outputs": [],
   "source": [
    "# for getting results once the database is complete\n",
    "def execute_read_query(connection, query):\n",
    "    cursor = connection.cursor()\n",
    "    result = None\n",
    "    try:\n",
    "        cursor.execute(query)\n",
    "        result = cursor.fetchall()\n",
    "        return result\n",
    "    except Error as e:\n",
    "        print(f\"The error '{e}' occurred\")"
   ]
  },
  {
   "cell_type": "code",
   "execution_count": 194,
   "metadata": {},
   "outputs": [],
   "source": [
    "# dataframe to sql\n",
    "yelp_data.to_sql(name='yelp_results_table', con=connection)"
   ]
  },
  {
   "cell_type": "code",
   "execution_count": 197,
   "metadata": {},
   "outputs": [],
   "source": [
    "# how to make queries to sql file\n",
    "# get_all = pd.read_sql('SELECT * From yelp_results_table', connection)"
   ]
  },
  {
   "cell_type": "markdown",
   "metadata": {},
   "source": [
    "### Some results"
   ]
  },
  {
   "cell_type": "code",
   "execution_count": 217,
   "metadata": {},
   "outputs": [
    {
     "data": {
      "text/html": [
       "<div>\n",
       "<style scoped>\n",
       "    .dataframe tbody tr th:only-of-type {\n",
       "        vertical-align: middle;\n",
       "    }\n",
       "\n",
       "    .dataframe tbody tr th {\n",
       "        vertical-align: top;\n",
       "    }\n",
       "\n",
       "    .dataframe thead th {\n",
       "        text-align: right;\n",
       "    }\n",
       "</style>\n",
       "<table border=\"1\" class=\"dataframe\">\n",
       "  <thead>\n",
       "    <tr style=\"text-align: right;\">\n",
       "      <th></th>\n",
       "      <th>price_range</th>\n",
       "      <th>COUNT(name)</th>\n",
       "    </tr>\n",
       "  </thead>\n",
       "  <tbody>\n",
       "    <tr>\n",
       "      <th>0</th>\n",
       "      <td>$$</td>\n",
       "      <td>14</td>\n",
       "    </tr>\n",
       "    <tr>\n",
       "      <th>1</th>\n",
       "      <td>None</td>\n",
       "      <td>3</td>\n",
       "    </tr>\n",
       "    <tr>\n",
       "      <th>2</th>\n",
       "      <td>$</td>\n",
       "      <td>2</td>\n",
       "    </tr>\n",
       "    <tr>\n",
       "      <th>3</th>\n",
       "      <td>$$$</td>\n",
       "      <td>1</td>\n",
       "    </tr>\n",
       "  </tbody>\n",
       "</table>\n",
       "</div>"
      ],
      "text/plain": [
       "  price_range  COUNT(name)\n",
       "0          $$           14\n",
       "1        None            3\n",
       "2           $            2\n",
       "3         $$$            1"
      ]
     },
     "execution_count": 217,
     "metadata": {},
     "output_type": "execute_result"
    }
   ],
   "source": [
    "restaurant_prices = pd.read_sql(\"\"\"\n",
    "SELECT price_range, COUNT(name)\n",
    "FROM yelp_results_table\n",
    "GROUP BY price_range\n",
    "ORDER BY COUNT(name) DESC\n",
    "\"\"\", connection)\n",
    "\n",
    "restaurant_prices.head()"
   ]
  },
  {
   "cell_type": "code",
   "execution_count": 220,
   "metadata": {},
   "outputs": [],
   "source": [
    "most_frequent_cat = pd.read_sql(\"\"\"\n",
    "SELECT category_1, COUNT(category_1) \n",
    "FROM yelp_results_table\n",
    "GROUP BY category_1\n",
    "ORDER BY COUNT(category_1) DESC\n",
    "\"\"\", connection)"
   ]
  },
  {
   "cell_type": "code",
   "execution_count": 221,
   "metadata": {},
   "outputs": [
    {
     "data": {
      "text/html": [
       "<div>\n",
       "<style scoped>\n",
       "    .dataframe tbody tr th:only-of-type {\n",
       "        vertical-align: middle;\n",
       "    }\n",
       "\n",
       "    .dataframe tbody tr th {\n",
       "        vertical-align: top;\n",
       "    }\n",
       "\n",
       "    .dataframe thead th {\n",
       "        text-align: right;\n",
       "    }\n",
       "</style>\n",
       "<table border=\"1\" class=\"dataframe\">\n",
       "  <thead>\n",
       "    <tr style=\"text-align: right;\">\n",
       "      <th></th>\n",
       "      <th>category_1</th>\n",
       "      <th>COUNT(category_1)</th>\n",
       "    </tr>\n",
       "  </thead>\n",
       "  <tbody>\n",
       "    <tr>\n",
       "      <th>0</th>\n",
       "      <td>Lounges</td>\n",
       "      <td>5</td>\n",
       "    </tr>\n",
       "    <tr>\n",
       "      <th>1</th>\n",
       "      <td>Tiki Bars</td>\n",
       "      <td>3</td>\n",
       "    </tr>\n",
       "    <tr>\n",
       "      <th>2</th>\n",
       "      <td>Pubs</td>\n",
       "      <td>3</td>\n",
       "    </tr>\n",
       "    <tr>\n",
       "      <th>3</th>\n",
       "      <td>Cocktail Bars</td>\n",
       "      <td>3</td>\n",
       "    </tr>\n",
       "    <tr>\n",
       "      <th>4</th>\n",
       "      <td>Dive Bars</td>\n",
       "      <td>2</td>\n",
       "    </tr>\n",
       "    <tr>\n",
       "      <th>5</th>\n",
       "      <td>Wine Bars</td>\n",
       "      <td>1</td>\n",
       "    </tr>\n",
       "    <tr>\n",
       "      <th>6</th>\n",
       "      <td>Pizza</td>\n",
       "      <td>1</td>\n",
       "    </tr>\n",
       "    <tr>\n",
       "      <th>7</th>\n",
       "      <td>Music Venues</td>\n",
       "      <td>1</td>\n",
       "    </tr>\n",
       "    <tr>\n",
       "      <th>8</th>\n",
       "      <td>Bars</td>\n",
       "      <td>1</td>\n",
       "    </tr>\n",
       "  </tbody>\n",
       "</table>\n",
       "</div>"
      ],
      "text/plain": [
       "      category_1  COUNT(category_1)\n",
       "0        Lounges                  5\n",
       "1      Tiki Bars                  3\n",
       "2           Pubs                  3\n",
       "3  Cocktail Bars                  3\n",
       "4      Dive Bars                  2\n",
       "5      Wine Bars                  1\n",
       "6          Pizza                  1\n",
       "7   Music Venues                  1\n",
       "8           Bars                  1"
      ]
     },
     "execution_count": 221,
     "metadata": {},
     "output_type": "execute_result"
    }
   ],
   "source": [
    "most_frequent_cat"
   ]
  },
  {
   "cell_type": "code",
   "execution_count": 222,
   "metadata": {},
   "outputs": [
    {
     "data": {
      "text/html": [
       "<div>\n",
       "<style scoped>\n",
       "    .dataframe tbody tr th:only-of-type {\n",
       "        vertical-align: middle;\n",
       "    }\n",
       "\n",
       "    .dataframe tbody tr th {\n",
       "        vertical-align: top;\n",
       "    }\n",
       "\n",
       "    .dataframe thead th {\n",
       "        text-align: right;\n",
       "    }\n",
       "</style>\n",
       "<table border=\"1\" class=\"dataframe\">\n",
       "  <thead>\n",
       "    <tr style=\"text-align: right;\">\n",
       "      <th></th>\n",
       "      <th>name</th>\n",
       "      <th>MAX(review_count)</th>\n",
       "    </tr>\n",
       "  </thead>\n",
       "  <tbody>\n",
       "    <tr>\n",
       "      <th>0</th>\n",
       "      <td>Alibi Room</td>\n",
       "      <td>535</td>\n",
       "    </tr>\n",
       "  </tbody>\n",
       "</table>\n",
       "</div>"
      ],
      "text/plain": [
       "         name  MAX(review_count)\n",
       "0  Alibi Room                535"
      ]
     },
     "execution_count": 222,
     "metadata": {},
     "output_type": "execute_result"
    }
   ],
   "source": [
    "most_reviews = pd.read_sql(\"\"\"\n",
    "SELECT name, MAX(review_count)\n",
    "FROM yelp_results_table\n",
    "\"\"\", connection)\n",
    "\n",
    "most_reviews"
   ]
  },
  {
   "cell_type": "markdown",
   "metadata": {},
   "source": [
    "### Top 10 restaurant based on rating"
   ]
  },
  {
   "cell_type": "code",
   "execution_count": 216,
   "metadata": {},
   "outputs": [
    {
     "data": {
      "text/html": [
       "<div>\n",
       "<style scoped>\n",
       "    .dataframe tbody tr th:only-of-type {\n",
       "        vertical-align: middle;\n",
       "    }\n",
       "\n",
       "    .dataframe tbody tr th {\n",
       "        vertical-align: top;\n",
       "    }\n",
       "\n",
       "    .dataframe thead th {\n",
       "        text-align: right;\n",
       "    }\n",
       "</style>\n",
       "<table border=\"1\" class=\"dataframe\">\n",
       "  <thead>\n",
       "    <tr style=\"text-align: right;\">\n",
       "      <th></th>\n",
       "      <th>name</th>\n",
       "      <th>rating</th>\n",
       "    </tr>\n",
       "  </thead>\n",
       "  <tbody>\n",
       "    <tr>\n",
       "      <th>0</th>\n",
       "      <td>The Red Accordion</td>\n",
       "      <td>5.0</td>\n",
       "    </tr>\n",
       "    <tr>\n",
       "      <th>1</th>\n",
       "      <td>Alibi Room</td>\n",
       "      <td>4.5</td>\n",
       "    </tr>\n",
       "    <tr>\n",
       "      <th>2</th>\n",
       "      <td>Key Party</td>\n",
       "      <td>4.5</td>\n",
       "    </tr>\n",
       "    <tr>\n",
       "      <th>3</th>\n",
       "      <td>Jackalope's Neighbourhood Dive</td>\n",
       "      <td>4.5</td>\n",
       "    </tr>\n",
       "    <tr>\n",
       "      <th>4</th>\n",
       "      <td>Grapes &amp; Soda</td>\n",
       "      <td>4.5</td>\n",
       "    </tr>\n",
       "    <tr>\n",
       "      <th>5</th>\n",
       "      <td>1927 Lobby Lounge</td>\n",
       "      <td>4.5</td>\n",
       "    </tr>\n",
       "    <tr>\n",
       "      <th>6</th>\n",
       "      <td>Prohibition</td>\n",
       "      <td>4.0</td>\n",
       "    </tr>\n",
       "    <tr>\n",
       "      <th>7</th>\n",
       "      <td>The Shameful Tiki Room</td>\n",
       "      <td>4.0</td>\n",
       "    </tr>\n",
       "    <tr>\n",
       "      <th>8</th>\n",
       "      <td>The Keefer Bar</td>\n",
       "      <td>4.0</td>\n",
       "    </tr>\n",
       "    <tr>\n",
       "      <th>9</th>\n",
       "      <td>The Tiki Bar</td>\n",
       "      <td>4.0</td>\n",
       "    </tr>\n",
       "  </tbody>\n",
       "</table>\n",
       "</div>"
      ],
      "text/plain": [
       "                             name  rating\n",
       "0               The Red Accordion     5.0\n",
       "1                      Alibi Room     4.5\n",
       "2                       Key Party     4.5\n",
       "3  Jackalope's Neighbourhood Dive     4.5\n",
       "4                   Grapes & Soda     4.5\n",
       "5               1927 Lobby Lounge     4.5\n",
       "6                     Prohibition     4.0\n",
       "7          The Shameful Tiki Room     4.0\n",
       "8                  The Keefer Bar     4.0\n",
       "9                    The Tiki Bar     4.0"
      ]
     },
     "execution_count": 216,
     "metadata": {},
     "output_type": "execute_result"
    }
   ],
   "source": [
    "most_pop = pd.read_sql(\"\"\"\n",
    "SELECT name, rating\n",
    "FROM yelp_results_table\n",
    "ORDER BY rating DESC\n",
    "\"\"\", connection)\n",
    "\n",
    "most_pop.head(10)"
   ]
  },
  {
   "cell_type": "markdown",
   "metadata": {},
   "source": [
    "# Foursquare API"
   ]
  },
  {
   "cell_type": "code",
   "execution_count": 3,
   "metadata": {},
   "outputs": [],
   "source": [
    "foursquare_client_id = os.environ[\"FOURSQUARE_CLIENT_ID\"]\n",
    "foursquare_client_secret = os.environ[\"FOURSQUARE_CLIENT_SECRET\"]"
   ]
  },
  {
   "cell_type": "code",
   "execution_count": null,
   "metadata": {},
   "outputs": [],
   "source": [
    "# 49.2827° N, 123.1207° W cords vancouver"
   ]
  },
  {
   "cell_type": "code",
   "execution_count": 4,
   "metadata": {},
   "outputs": [],
   "source": [
    "response_foursquare = response = requests.get(f\"https://api.foursquare.com/v2/venues/explore?client_id={foursquare_client_id}&client_secret={foursquare_client_secret}&ll=49.2827,-123.1207&v=20200731\")"
   ]
  },
  {
   "cell_type": "code",
   "execution_count": 5,
   "metadata": {},
   "outputs": [
    {
     "data": {
      "text/plain": [
       "200"
      ]
     },
     "execution_count": 5,
     "metadata": {},
     "output_type": "execute_result"
    }
   ],
   "source": [
    "response_foursquare.status_code"
   ]
  },
  {
   "cell_type": "code",
   "execution_count": 14,
   "metadata": {},
   "outputs": [],
   "source": [
    "json_foursquare = response_foursquare.json()"
   ]
  },
  {
   "cell_type": "code",
   "execution_count": 11,
   "metadata": {},
   "outputs": [],
   "source": [
    "pretty_foursquare_json = JSON(json_foursquare)"
   ]
  },
  {
   "cell_type": "code",
   "execution_count": 1,
   "metadata": {},
   "outputs": [],
   "source": [
    "# pretty_foursquare_json"
   ]
  },
  {
   "cell_type": "code",
   "execution_count": 29,
   "metadata": {},
   "outputs": [],
   "source": [
    "# retrieving some data:\n",
    "for key in json_foursquare:\n",
    "    if json_foursquare[key] == json_foursquare[\"response\"]:\n",
    "        response = json_foursquare[key]\n",
    "        for key in response:\n",
    "            if response[key] == response[\"groups\"]:\n",
    "                groups = response[key]\n",
    "                for key, value in groups[0].items():\n",
    "                    if groups[0][key] == groups[0][\"items\"]:\n",
    "                         list_items = list(value)\n"
   ]
  },
  {
   "cell_type": "code",
   "execution_count": 44,
   "metadata": {},
   "outputs": [],
   "source": [
    "clearer_list = JSON(list_items)"
   ]
  },
  {
   "cell_type": "code",
   "execution_count": 42,
   "metadata": {},
   "outputs": [
    {
     "data": {
      "text/plain": [
       "30"
      ]
     },
     "execution_count": 42,
     "metadata": {},
     "output_type": "execute_result"
    }
   ],
   "source": [
    "# retrieving name of locations\n",
    "list_venue_names = []\n",
    "\n",
    "for item in list_items:\n",
    "    for key in item:\n",
    "        if item[key] == item[\"venue\"]:\n",
    "            venue = item[key]\n",
    "            for key, values in venue.items():\n",
    "                if venue[key] == venue[\"name\"]:\n",
    "                    list_venue_names.append(values)\n",
    "len(list_venue_names)"
   ]
  },
  {
   "cell_type": "code",
   "execution_count": 43,
   "metadata": {},
   "outputs": [
    {
     "data": {
      "text/plain": [
       "30"
      ]
     },
     "execution_count": 43,
     "metadata": {},
     "output_type": "execute_result"
    }
   ],
   "source": [
    "list_ratings = []\n",
    "\n",
    "for item in list_items:\n",
    "    for key in item:\n",
    "        if item[key] == item[\"reasons\"]:\n",
    "            reasons = item[key]\n",
    "            for key in reasons:\n",
    "                if reasons[key] == reasons[\"items\"]:\n",
    "                    list_ratings.append(reasons[key][0]['summary'])\n",
    "\n",
    "len(list_ratings)"
   ]
  },
  {
   "cell_type": "code",
   "execution_count": 3,
   "metadata": {},
   "outputs": [],
   "source": [
    "# clearer_list"
   ]
  },
  {
   "cell_type": "code",
   "execution_count": 120,
   "metadata": {},
   "outputs": [],
   "source": [
    "list_category = []\n",
    "\n",
    "for item in list_items:\n",
    "    for key in item:\n",
    "        if item[key] == item[\"venue\"]:\n",
    "            venue = item[key]\n",
    "            for key, value in venue.items():\n",
    "                if venue[key] == venue[\"categories\"]:\n",
    "                    categories = venue[key]\n",
    "                    for things in categories:\n",
    "                        list_category.append(things)"
   ]
  },
  {
   "cell_type": "code",
   "execution_count": 119,
   "metadata": {},
   "outputs": [
    {
     "data": {
      "text/plain": [
       "30"
      ]
     },
     "execution_count": 119,
     "metadata": {},
     "output_type": "execute_result"
    }
   ],
   "source": [
    "final_list_category = []\n",
    "\n",
    "for items in list_category:\n",
    "    for key, value in items.items():\n",
    "        if items[key] == items['pluralName']:\n",
    "            final_list_category.append(value)\n",
    "\n",
    "len(final_list_category)"
   ]
  },
  {
   "cell_type": "code",
   "execution_count": 122,
   "metadata": {},
   "outputs": [],
   "source": [
    "dict_foursquare = {}\n",
    "dict_foursquare['name'] = list_venue_names\n",
    "dict_foursquare['rating'] = list_ratings\n",
    "dict_foursquare['category'] = final_list_category"
   ]
  },
  {
   "cell_type": "code",
   "execution_count": 123,
   "metadata": {},
   "outputs": [],
   "source": [
    "foursquare_data = pd.DataFrame(dict_foursquare)"
   ]
  },
  {
   "cell_type": "code",
   "execution_count": 125,
   "metadata": {},
   "outputs": [
    {
     "data": {
      "text/html": [
       "<div>\n",
       "<style scoped>\n",
       "    .dataframe tbody tr th:only-of-type {\n",
       "        vertical-align: middle;\n",
       "    }\n",
       "\n",
       "    .dataframe tbody tr th {\n",
       "        vertical-align: top;\n",
       "    }\n",
       "\n",
       "    .dataframe thead th {\n",
       "        text-align: right;\n",
       "    }\n",
       "</style>\n",
       "<table border=\"1\" class=\"dataframe\">\n",
       "  <thead>\n",
       "    <tr style=\"text-align: right;\">\n",
       "      <th></th>\n",
       "      <th>name</th>\n",
       "      <th>rating</th>\n",
       "      <th>category</th>\n",
       "    </tr>\n",
       "  </thead>\n",
       "  <tbody>\n",
       "    <tr>\n",
       "      <th>0</th>\n",
       "      <td>Rosewood Hotel Georgia</td>\n",
       "      <td>This spot is popular</td>\n",
       "      <td>Hotels</td>\n",
       "    </tr>\n",
       "    <tr>\n",
       "      <th>1</th>\n",
       "      <td>Hawksworth Restaurant</td>\n",
       "      <td>This spot is popular</td>\n",
       "      <td>Lounges</td>\n",
       "    </tr>\n",
       "    <tr>\n",
       "      <th>2</th>\n",
       "      <td>Disney store</td>\n",
       "      <td>This spot is popular</td>\n",
       "      <td>Toy / Game Stores</td>\n",
       "    </tr>\n",
       "    <tr>\n",
       "      <th>3</th>\n",
       "      <td>Victoria's Secret</td>\n",
       "      <td>This spot is popular</td>\n",
       "      <td>Lingerie Stores</td>\n",
       "    </tr>\n",
       "    <tr>\n",
       "      <th>4</th>\n",
       "      <td>Abercrombie &amp; Fitch</td>\n",
       "      <td>This spot is popular</td>\n",
       "      <td>Clothing Stores</td>\n",
       "    </tr>\n",
       "    <tr>\n",
       "      <th>5</th>\n",
       "      <td>Wedgewood Hotel</td>\n",
       "      <td>This spot is popular</td>\n",
       "      <td>Hotels</td>\n",
       "    </tr>\n",
       "    <tr>\n",
       "      <th>6</th>\n",
       "      <td>Commodore Ballroom</td>\n",
       "      <td>This spot is popular</td>\n",
       "      <td>Concert Halls</td>\n",
       "    </tr>\n",
       "    <tr>\n",
       "      <th>7</th>\n",
       "      <td>Vancouver Art Gallery</td>\n",
       "      <td>This spot is popular</td>\n",
       "      <td>Art Galleries</td>\n",
       "    </tr>\n",
       "    <tr>\n",
       "      <th>8</th>\n",
       "      <td>Rocky Mountain Chocolate Factory</td>\n",
       "      <td>This spot is popular</td>\n",
       "      <td>Dessert Shops</td>\n",
       "    </tr>\n",
       "    <tr>\n",
       "      <th>9</th>\n",
       "      <td>Hubbub Sandwiches</td>\n",
       "      <td>This spot is popular</td>\n",
       "      <td>Sandwich Places</td>\n",
       "    </tr>\n",
       "    <tr>\n",
       "      <th>10</th>\n",
       "      <td>Tiffany &amp; Co.</td>\n",
       "      <td>This spot is popular</td>\n",
       "      <td>Jewelry Stores</td>\n",
       "    </tr>\n",
       "    <tr>\n",
       "      <th>11</th>\n",
       "      <td>The Fairmont Hotel Vancouver</td>\n",
       "      <td>This spot is popular</td>\n",
       "      <td>Hotels</td>\n",
       "    </tr>\n",
       "    <tr>\n",
       "      <th>12</th>\n",
       "      <td>Hyatt Regency Vancouver</td>\n",
       "      <td>This spot is popular</td>\n",
       "      <td>Hotels</td>\n",
       "    </tr>\n",
       "    <tr>\n",
       "      <th>13</th>\n",
       "      <td>Robson Square</td>\n",
       "      <td>This spot is popular</td>\n",
       "      <td>Plazas</td>\n",
       "    </tr>\n",
       "    <tr>\n",
       "      <th>14</th>\n",
       "      <td>Bacchus Lounge</td>\n",
       "      <td>This spot is popular</td>\n",
       "      <td>French Restaurants</td>\n",
       "    </tr>\n",
       "    <tr>\n",
       "      <th>15</th>\n",
       "      <td>Vancouver Art Gallery Gift Shop</td>\n",
       "      <td>This spot is popular</td>\n",
       "      <td>Gift Shops</td>\n",
       "    </tr>\n",
       "    <tr>\n",
       "      <th>16</th>\n",
       "      <td>Sutton Place Hotel Vancouver</td>\n",
       "      <td>This spot is popular</td>\n",
       "      <td>Hotels</td>\n",
       "    </tr>\n",
       "    <tr>\n",
       "      <th>17</th>\n",
       "      <td>Indigo</td>\n",
       "      <td>This spot is popular</td>\n",
       "      <td>Bookstores</td>\n",
       "    </tr>\n",
       "    <tr>\n",
       "      <th>18</th>\n",
       "      <td>YYoga Downtown Flow</td>\n",
       "      <td>This spot is popular</td>\n",
       "      <td>Yoga Studios</td>\n",
       "    </tr>\n",
       "    <tr>\n",
       "      <th>19</th>\n",
       "      <td>SEPHORA</td>\n",
       "      <td>This spot is popular</td>\n",
       "      <td>Cosmetics Shops</td>\n",
       "    </tr>\n",
       "    <tr>\n",
       "      <th>20</th>\n",
       "      <td>JOEY Burrard</td>\n",
       "      <td>This spot is popular</td>\n",
       "      <td>New American Restaurants</td>\n",
       "    </tr>\n",
       "    <tr>\n",
       "      <th>21</th>\n",
       "      <td>Orpheum Theatre</td>\n",
       "      <td>This spot is popular</td>\n",
       "      <td>Concert Halls</td>\n",
       "    </tr>\n",
       "    <tr>\n",
       "      <th>22</th>\n",
       "      <td>Clearly</td>\n",
       "      <td>This spot is popular</td>\n",
       "      <td>Optical Shops</td>\n",
       "    </tr>\n",
       "    <tr>\n",
       "      <th>23</th>\n",
       "      <td>Hy's Steakhouse</td>\n",
       "      <td>This spot is popular</td>\n",
       "      <td>Steakhouses</td>\n",
       "    </tr>\n",
       "    <tr>\n",
       "      <th>24</th>\n",
       "      <td>Nespresso Boutique at The Bay</td>\n",
       "      <td>This spot is popular</td>\n",
       "      <td>Coffee Shops</td>\n",
       "    </tr>\n",
       "    <tr>\n",
       "      <th>25</th>\n",
       "      <td>Suki's Hair Salon</td>\n",
       "      <td>This spot is popular</td>\n",
       "      <td>Salons / Barbershops</td>\n",
       "    </tr>\n",
       "    <tr>\n",
       "      <th>26</th>\n",
       "      <td>Thierry Chocolaterie Patisserie</td>\n",
       "      <td>This spot is popular</td>\n",
       "      <td>Dessert Shops</td>\n",
       "    </tr>\n",
       "    <tr>\n",
       "      <th>27</th>\n",
       "      <td>Le Crocodile Restaurant</td>\n",
       "      <td>This spot is popular</td>\n",
       "      <td>French Restaurants</td>\n",
       "    </tr>\n",
       "    <tr>\n",
       "      <th>28</th>\n",
       "      <td>Harbour Dance Centre</td>\n",
       "      <td>This spot is popular</td>\n",
       "      <td>Dance Studios</td>\n",
       "    </tr>\n",
       "    <tr>\n",
       "      <th>29</th>\n",
       "      <td>CF Pacific Centre</td>\n",
       "      <td>This spot is popular</td>\n",
       "      <td>Shopping Malls</td>\n",
       "    </tr>\n",
       "  </tbody>\n",
       "</table>\n",
       "</div>"
      ],
      "text/plain": [
       "                                name                rating  \\\n",
       "0             Rosewood Hotel Georgia  This spot is popular   \n",
       "1              Hawksworth Restaurant  This spot is popular   \n",
       "2                       Disney store  This spot is popular   \n",
       "3                  Victoria's Secret  This spot is popular   \n",
       "4                Abercrombie & Fitch  This spot is popular   \n",
       "5                    Wedgewood Hotel  This spot is popular   \n",
       "6                 Commodore Ballroom  This spot is popular   \n",
       "7              Vancouver Art Gallery  This spot is popular   \n",
       "8   Rocky Mountain Chocolate Factory  This spot is popular   \n",
       "9                  Hubbub Sandwiches  This spot is popular   \n",
       "10                     Tiffany & Co.  This spot is popular   \n",
       "11      The Fairmont Hotel Vancouver  This spot is popular   \n",
       "12           Hyatt Regency Vancouver  This spot is popular   \n",
       "13                     Robson Square  This spot is popular   \n",
       "14                    Bacchus Lounge  This spot is popular   \n",
       "15   Vancouver Art Gallery Gift Shop  This spot is popular   \n",
       "16      Sutton Place Hotel Vancouver  This spot is popular   \n",
       "17                            Indigo  This spot is popular   \n",
       "18               YYoga Downtown Flow  This spot is popular   \n",
       "19                           SEPHORA  This spot is popular   \n",
       "20                      JOEY Burrard  This spot is popular   \n",
       "21                   Orpheum Theatre  This spot is popular   \n",
       "22                           Clearly  This spot is popular   \n",
       "23                   Hy's Steakhouse  This spot is popular   \n",
       "24     Nespresso Boutique at The Bay  This spot is popular   \n",
       "25                 Suki's Hair Salon  This spot is popular   \n",
       "26   Thierry Chocolaterie Patisserie  This spot is popular   \n",
       "27           Le Crocodile Restaurant  This spot is popular   \n",
       "28              Harbour Dance Centre  This spot is popular   \n",
       "29                 CF Pacific Centre  This spot is popular   \n",
       "\n",
       "                    category  \n",
       "0                     Hotels  \n",
       "1                    Lounges  \n",
       "2          Toy / Game Stores  \n",
       "3            Lingerie Stores  \n",
       "4            Clothing Stores  \n",
       "5                     Hotels  \n",
       "6              Concert Halls  \n",
       "7              Art Galleries  \n",
       "8              Dessert Shops  \n",
       "9            Sandwich Places  \n",
       "10            Jewelry Stores  \n",
       "11                    Hotels  \n",
       "12                    Hotels  \n",
       "13                    Plazas  \n",
       "14        French Restaurants  \n",
       "15                Gift Shops  \n",
       "16                    Hotels  \n",
       "17                Bookstores  \n",
       "18              Yoga Studios  \n",
       "19           Cosmetics Shops  \n",
       "20  New American Restaurants  \n",
       "21             Concert Halls  \n",
       "22             Optical Shops  \n",
       "23               Steakhouses  \n",
       "24              Coffee Shops  \n",
       "25      Salons / Barbershops  \n",
       "26             Dessert Shops  \n",
       "27        French Restaurants  \n",
       "28             Dance Studios  \n",
       "29            Shopping Malls  "
      ]
     },
     "execution_count": 125,
     "metadata": {},
     "output_type": "execute_result"
    }
   ],
   "source": [
    "foursquare_data.head(30)"
   ]
  }
 ],
 "metadata": {
  "kernelspec": {
   "display_name": "Python 3",
   "language": "python",
   "name": "python3"
  },
  "language_info": {
   "codemirror_mode": {
    "name": "ipython",
    "version": 3
   },
   "file_extension": ".py",
   "mimetype": "text/x-python",
   "name": "python",
   "nbconvert_exporter": "python",
   "pygments_lexer": "ipython3",
   "version": "3.8.5"
  }
 },
 "nbformat": 4,
 "nbformat_minor": 4
}
