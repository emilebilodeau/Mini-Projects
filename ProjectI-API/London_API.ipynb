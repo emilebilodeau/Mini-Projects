{
 "cells": [
  {
   "cell_type": "markdown",
   "metadata": {},
   "source": [
    "# Mini-Project I\n",
    "During this project, we will practice handling of complex lists and dictionaries in Python. Plus, we will learn how to work with API documentation. Don't be afraid to search for the information in the [**documentation**](https://api.tfl.gov.uk/swagger/ui/index.html?url=/swagger/docs/v1#!/AccidentStats/AccidentStats_Get).\n",
    "\n",
    "Let's go to the tasks, we have some parsing to do :)!!"
   ]
  },
  {
   "cell_type": "code",
   "execution_count": null,
   "metadata": {},
   "outputs": [],
   "source": []
  },
  {
   "cell_type": "code",
   "execution_count": null,
   "metadata": {},
   "outputs": [],
   "source": [
    "# import packages we need (remember what packages we used yesterday during the API session)\n",
    "# IMPORT HERE"
   ]
  },
  {
   "cell_type": "code",
   "execution_count": 4,
   "metadata": {},
   "outputs": [],
   "source": [
    "import requests\n",
    "import os\n",
    "import json\n",
    "from IPython.display import JSON"
   ]
  },
  {
   "cell_type": "markdown",
   "metadata": {},
   "source": [
    "## Demo"
   ]
  },
  {
   "cell_type": "code",
   "execution_count": null,
   "metadata": {},
   "outputs": [],
   "source": [
    "# don't forget package os\n",
    "app_id = os.environ[\"<your app id name>\"]\n",
    "app_key = os.environ[\"<your app key name>\"]\n",
    "url_append = f'?app_id={app_id}&app_key={app_key}' \n",
    "print()"
   ]
  },
  {
   "cell_type": "code",
   "execution_count": null,
   "metadata": {},
   "outputs": [],
   "source": [
    "print(url_append)"
   ]
  },
  {
   "cell_type": "code",
   "execution_count": 2,
   "metadata": {},
   "outputs": [],
   "source": [
    "# URL for air quaility\n",
    "url_air_quality = \"https://api.tfl.gov.uk/AirQuality\""
   ]
  },
  {
   "cell_type": "code",
   "execution_count": 3,
   "metadata": {},
   "outputs": [],
   "source": [
    "# We send the request to the API\n",
    "# NOTE: if you don't have your APP_KEY, run this without the url_append\n",
    "res = requests.get(url_air_quality)"
   ]
  },
  {
   "cell_type": "code",
   "execution_count": 4,
   "metadata": {},
   "outputs": [
    {
     "data": {
      "text/plain": [
       "200"
      ]
     },
     "execution_count": 4,
     "metadata": {},
     "output_type": "execute_result"
    }
   ],
   "source": [
    "# We can check if the request was successful\n",
    "res.status_code"
   ]
  },
  {
   "cell_type": "code",
   "execution_count": 3,
   "metadata": {},
   "outputs": [],
   "source": [
    "# We can export the information that was returned using method .json()\n",
    "# res.json()"
   ]
  },
  {
   "cell_type": "code",
   "execution_count": 6,
   "metadata": {},
   "outputs": [
    {
     "data": {
      "application/json": {
       "$id": "1",
       "$type": "Tfl.Api.Presentation.Entities.LondonAirForecast, Tfl.Api.Presentation.Entities",
       "currentForecast": [
        {
         "$id": "2",
         "$type": "Tfl.Api.Presentation.Entities.CurrentForecast, Tfl.Api.Presentation.Entities",
         "forecastBand": "Low",
         "forecastID": "30873",
         "forecastSummary": "Low air pollution forecast valid from Friday 5 March to end of Saturday 6 March GMT",
         "forecastText": "Friday forecast to be dry with periods of sunshine and continued northern air feed. Dry with sunny spells on Saturday.&lt;br/&gt;The expected northerly air flow should ensure a &#39;clean&#39; air feed and good dispersion of any locally produced pollutants.&lt;br/&gt;&lt;br/&gt;Air Pollution is expected to remain &#39;Low&#39; for the following pollutants:&lt;br/&gt;&lt;br/&gt;Nitrogen Dioxide&lt;br/&gt;Ozone&lt;br/&gt;PM10 Particulate&lt;br/&gt;PM2.5 Particulate&lt;br/&gt;Sulphur Dioxide",
         "forecastType": "Current",
         "fromDate": "2021-05-03T00:00:00Z",
         "nO2Band": "Low",
         "o3Band": "Low",
         "pM10Band": "Low",
         "pM25Band": "Low",
         "publishedDate": "2021-04-03T12:22:06Z",
         "sO2Band": "Low",
         "toDate": "2021-06-03T23:59:00Z"
        },
        {
         "$id": "3",
         "$type": "Tfl.Api.Presentation.Entities.CurrentForecast, Tfl.Api.Presentation.Entities",
         "forecastBand": "Low",
         "forecastID": "30888",
         "forecastSummary": "Low air pollution forecast valid from Saturday 6 March to end of Monday 8 March GMT",
         "forecastText": "Dry with sunny spells on Saturday with cloud developing in the afternoon. Both Sunday and Monday forecast to be mainly dry with variable amount of cloud and sunny spells. &lt;br/&gt;The expected northerly air flow should ensure a &#39;clean&#39; air feed and good dispersion of any locally produced pollutants. &lt;br/&gt;&lt;br/&gt;Air Pollution is expected to remain &#39;Low&#39; for the following pollutants:&lt;br/&gt;&lt;br/&gt;Nitrogen Dioxide&lt;br/&gt;Ozone&lt;br/&gt;PM10 Particulate&lt;br/&gt;PM2.5 Particulate&lt;br/&gt;Sulphur Dioxide",
         "forecastType": "Future",
         "fromDate": "2021-06-03T00:00:00Z",
         "nO2Band": "Low",
         "o3Band": "Low",
         "pM10Band": "Low",
         "pM25Band": "Low",
         "publishedDate": "2021-05-03T12:44:11Z",
         "sO2Band": "Low",
         "toDate": "2021-08-03T23:59:00Z"
        }
       ],
       "disclaimerText": "This forecast is intended to provide information on expected pollution levels in areas of significant public exposure. It may not apply in very specific locations close to unusually strong or short-lived local sources of pollution.",
       "forecastURL": "http://londonair.org.uk/forecast",
       "updateFrequency": "1",
       "updatePeriod": "hourly"
      },
      "text/plain": [
       "<IPython.core.display.JSON object>"
      ]
     },
     "execution_count": 6,
     "metadata": {
      "application/json": {
       "expanded": false,
       "root": "root"
      }
     },
     "output_type": "execute_result"
    }
   ],
   "source": [
    "result_air_quality = res.json()\n",
    "clearer_air = JSON(result_air_quality)\n",
    "clearer_air"
   ]
  },
  {
   "cell_type": "markdown",
   "metadata": {},
   "source": [
    "## Task\n",
    "Parse the dictionary and print the AirQuality predictions for tomorrow"
   ]
  },
  {
   "cell_type": "code",
   "execution_count": 7,
   "metadata": {},
   "outputs": [
    {
     "name": "stdout",
     "output_type": "stream",
     "text": [
      "Low air pollution forecast valid from Saturday 6 March to end of Monday 8 March GMT\n"
     ]
    }
   ],
   "source": [
    "Forecast_dict = result_air_quality['currentForecast']\n",
    "Future_forecast_lists = Forecast_dict[1]\n",
    "print(Future_forecast_lists['forecastSummary'])      "
   ]
  },
  {
   "cell_type": "code",
   "execution_count": null,
   "metadata": {},
   "outputs": [],
   "source": []
  },
  {
   "cell_type": "markdown",
   "metadata": {},
   "source": [
    "## Task\n",
    "What are the different modes of transport which are operated by Transfer for London? How many of modes do they have?\n",
    "\n",
    "Print the list with different modes of transport, plus their count. Example output:\n",
    "```\n",
    "[bus, cable-car,.....]\n",
    "Number of different modes of transport is: xyz\n",
    "```\n",
    "\n",
    "We need to search the documentation for correct request."
   ]
  },
  {
   "cell_type": "code",
   "execution_count": 9,
   "metadata": {},
   "outputs": [],
   "source": [
    "# URL for transport methods\n",
    "url_transport = \"https://api.tfl.gov.uk/Line/Meta/Modes\""
   ]
  },
  {
   "cell_type": "code",
   "execution_count": 10,
   "metadata": {},
   "outputs": [],
   "source": [
    "res2 = requests.get(url_transport)"
   ]
  },
  {
   "cell_type": "code",
   "execution_count": 11,
   "metadata": {},
   "outputs": [
    {
     "data": {
      "text/plain": [
       "200"
      ]
     },
     "execution_count": 11,
     "metadata": {},
     "output_type": "execute_result"
    }
   ],
   "source": [
    "res2.status_code"
   ]
  },
  {
   "cell_type": "code",
   "execution_count": 4,
   "metadata": {},
   "outputs": [],
   "source": [
    "# res2.json()"
   ]
  },
  {
   "cell_type": "code",
   "execution_count": 13,
   "metadata": {},
   "outputs": [],
   "source": [
    "result_transportation = res2.json()\n",
    "clearer_transport = JSON(result_transportation)"
   ]
  },
  {
   "cell_type": "code",
   "execution_count": 5,
   "metadata": {},
   "outputs": [],
   "source": [
    "# clearer_transport"
   ]
  },
  {
   "cell_type": "code",
   "execution_count": 14,
   "metadata": {},
   "outputs": [
    {
     "name": "stdout",
     "output_type": "stream",
     "text": [
      "['bus', 'cable-car', 'coach', 'cycle', 'cycle-hire', 'dlr', 'interchange-keep-sitting', 'interchange-secure', 'national-rail', 'overground', 'replacement-bus', 'river-bus', 'river-tour', 'taxi', 'tflrail', 'tram', 'tube', 'walking']\n",
      "There are 18 different modes of transportation\n"
     ]
    }
   ],
   "source": [
    "list_transport = []\n",
    "\n",
    "for item in result_transportation:\n",
    "     for key in item:\n",
    "            if item[key] == item[\"modeName\"]:\n",
    "                list_transport.append(item[key])\n",
    "\n",
    "total_transport = len(list_transport)\n",
    "\n",
    "print(list_transport)\n",
    "print(f\"There are {total_transport} different modes of transportation\")"
   ]
  },
  {
   "cell_type": "markdown",
   "metadata": {},
   "source": [
    "## Task\n",
    "How many BikePoints in London are operated by Transfor for London? How many docks are in **all** BikePoints? There is the information for empty and full docks for each BikePoint."
   ]
  },
  {
   "cell_type": "code",
   "execution_count": 15,
   "metadata": {},
   "outputs": [],
   "source": [
    "# URL for bike points\n",
    "url_bikepoint = \"https://api.tfl.gov.uk/BikePoint/\""
   ]
  },
  {
   "cell_type": "code",
   "execution_count": 16,
   "metadata": {},
   "outputs": [],
   "source": [
    "res3 = requests.get(url_bikepoint)"
   ]
  },
  {
   "cell_type": "code",
   "execution_count": 17,
   "metadata": {},
   "outputs": [
    {
     "data": {
      "text/plain": [
       "200"
      ]
     },
     "execution_count": 17,
     "metadata": {},
     "output_type": "execute_result"
    }
   ],
   "source": [
    "res3.status_code"
   ]
  },
  {
   "cell_type": "code",
   "execution_count": 6,
   "metadata": {},
   "outputs": [],
   "source": [
    "# res3.json()"
   ]
  },
  {
   "cell_type": "code",
   "execution_count": 19,
   "metadata": {},
   "outputs": [],
   "source": [
    "result_bikepoints = res3.json()\n",
    "clearer_bikepoints = JSON(result_bikepoints)"
   ]
  },
  {
   "cell_type": "code",
   "execution_count": 7,
   "metadata": {},
   "outputs": [],
   "source": [
    "# clearer_bikepoints"
   ]
  },
  {
   "cell_type": "code",
   "execution_count": 20,
   "metadata": {},
   "outputs": [
    {
     "name": "stdout",
     "output_type": "stream",
     "text": [
      "21051\n",
      "There are 792 bikepoints in London\n"
     ]
    }
   ],
   "source": [
    "number_bikepoints = len(result_bikepoints)\n",
    "total_docks = 0\n",
    "list_of_properties = []\n",
    "list_of_docks = []\n",
    "\n",
    "for bikepoints in result_bikepoints:\n",
    "    for key in bikepoints:\n",
    "        if bikepoints[key] == bikepoints[\"additionalProperties\"]:\n",
    "            list_of_properties.append(bikepoints[key])\n",
    "\n",
    "for indiv_property in list_of_properties:\n",
    "    if indiv_property[8]:\n",
    "        list_of_docks.append(indiv_property[8])\n",
    "\n",
    "for dock in list_of_docks:\n",
    "    for key in dock:\n",
    "        if dock[key] == dock[\"value\"]:\n",
    "            total_docks += int(dock[key])\n",
    "\n",
    "            \n",
    "print(total_docks)\n",
    "print(f\"There are {number_bikepoints} bikepoints in London\")"
   ]
  },
  {
   "cell_type": "markdown",
   "metadata": {},
   "source": [
    "## Task\n",
    "How many tube and bus lines are in London? Print names of all tube lines."
   ]
  },
  {
   "cell_type": "code",
   "execution_count": 5,
   "metadata": {},
   "outputs": [],
   "source": [
    "# URL modes\n",
    "url_modes = 'https://api.tfl.gov.uk/Line/Mode/tube, bus'"
   ]
  },
  {
   "cell_type": "code",
   "execution_count": 6,
   "metadata": {},
   "outputs": [],
   "source": [
    "res4 = requests.get(url_modes)"
   ]
  },
  {
   "cell_type": "code",
   "execution_count": 7,
   "metadata": {},
   "outputs": [
    {
     "data": {
      "text/plain": [
       "200"
      ]
     },
     "execution_count": 7,
     "metadata": {},
     "output_type": "execute_result"
    }
   ],
   "source": [
    "res4.status_code"
   ]
  },
  {
   "cell_type": "code",
   "execution_count": 8,
   "metadata": {},
   "outputs": [],
   "source": [
    "# res4.json()"
   ]
  },
  {
   "cell_type": "code",
   "execution_count": 8,
   "metadata": {},
   "outputs": [],
   "source": [
    "result_services = res4.json()\n",
    "clearer_services = JSON(result_services)"
   ]
  },
  {
   "cell_type": "code",
   "execution_count": 9,
   "metadata": {},
   "outputs": [],
   "source": [
    "# clearer_services"
   ]
  },
  {
   "cell_type": "code",
   "execution_count": 26,
   "metadata": {},
   "outputs": [
    {
     "name": "stdout",
     "output_type": "stream",
     "text": [
      "There are 690 tube and bus lines in London\n",
      "There are 679 buses in London\n",
      "There are 11 tubes in Lodon\n",
      "['Bakerloo', 'Central', 'Circle', 'District', 'Hammersmith & City', 'Jubilee', 'Metropolitan', 'Northern', 'Piccadilly', 'Victoria', 'Waterloo & City']\n"
     ]
    }
   ],
   "source": [
    "number_of_bus_tube = len(result_services)\n",
    "number_of_bus = 0\n",
    "number_of_tube = 0\n",
    "list_of_tube_names = []\n",
    "\n",
    "for item in result_services:\n",
    "    for key in item:\n",
    "        if item[key] == \"bus\":\n",
    "            number_of_bus += 1\n",
    "\n",
    "for item in result_services:\n",
    "    for key in item:\n",
    "        if item[key] == \"tube\":\n",
    "            number_of_tube += 1\n",
    "\n",
    "for item in result_services:\n",
    "    for key in item:\n",
    "        if item[key] == \"tube\":\n",
    "            list_of_tube_names.append(item[\"name\"])\n",
    "            \n",
    "\n",
    "print(f\"There are {number_of_bus_tube} tube and bus lines in London\")\n",
    "print(f\"There are {number_of_bus} buses in London\")\n",
    "print(f\"There are {number_of_tube} tubes in Lodon\")\n",
    "print(list_of_tube_names)"
   ]
  },
  {
   "cell_type": "markdown",
   "metadata": {},
   "source": [
    "## Task\n",
    "How many station has `victoria` line?"
   ]
  },
  {
   "cell_type": "code",
   "execution_count": 27,
   "metadata": {},
   "outputs": [],
   "source": [
    "# URL line routes for victoria\n",
    "url_line_routes = \"https://api.tfl.gov.uk/Line/victoria/Route/Sequence/outbound\""
   ]
  },
  {
   "cell_type": "code",
   "execution_count": 28,
   "metadata": {},
   "outputs": [],
   "source": [
    "res5 = requests.get(url_line_routes)"
   ]
  },
  {
   "cell_type": "code",
   "execution_count": 29,
   "metadata": {},
   "outputs": [
    {
     "data": {
      "text/plain": [
       "200"
      ]
     },
     "execution_count": 29,
     "metadata": {},
     "output_type": "execute_result"
    }
   ],
   "source": [
    "res5.status_code"
   ]
  },
  {
   "cell_type": "code",
   "execution_count": 10,
   "metadata": {},
   "outputs": [],
   "source": [
    "# res5.json()"
   ]
  },
  {
   "cell_type": "code",
   "execution_count": 31,
   "metadata": {},
   "outputs": [],
   "source": [
    "result_stations = res5.json()\n",
    "clearer_stations = JSON(result_stations)"
   ]
  },
  {
   "cell_type": "code",
   "execution_count": 11,
   "metadata": {},
   "outputs": [],
   "source": [
    "# clearer_stations"
   ]
  },
  {
   "cell_type": "code",
   "execution_count": 32,
   "metadata": {},
   "outputs": [
    {
     "name": "stdout",
     "output_type": "stream",
     "text": [
      "16\n"
     ]
    }
   ],
   "source": [
    "number_stations = 0\n",
    "\n",
    "for key in result_stations:\n",
    "    if key == \"stations\":\n",
    "        for item in result_stations[key]:\n",
    "            number_stations += 1\n",
    "\n",
    "print(number_stations)   "
   ]
  },
  {
   "cell_type": "markdown",
   "metadata": {},
   "source": [
    "## Task\n",
    "Plan the journey from Heathrow Airport to Tower Bridge using Bus and Tube? Which way is faster? Example output:\n",
    "```\n",
    "Planned duration:\n",
    "Bus: x minutes\n",
    "Tube: y minutes\n",
    "```\n",
    "\n",
    "We need to search the documentation for correct requests and parameters we need."
   ]
  },
  {
   "cell_type": "code",
   "execution_count": 9,
   "metadata": {},
   "outputs": [],
   "source": [
    "# URL for journey by tube\n",
    "url_journey_tube = \"https://api.tfl.gov.uk/Journey/JourneyResults/TW61EW/to/SE12UF?mode=tube\"\n",
    "# Heathrow Airport postal code (more precisely, postal code of terminal 2) = TW61EW\n",
    "# Tower Bridge postal code = SE12UF"
   ]
  },
  {
   "cell_type": "code",
   "execution_count": 10,
   "metadata": {},
   "outputs": [],
   "source": [
    "res6 = requests.get(url_journey_tube)"
   ]
  },
  {
   "cell_type": "code",
   "execution_count": 11,
   "metadata": {},
   "outputs": [
    {
     "data": {
      "text/plain": [
       "200"
      ]
     },
     "execution_count": 11,
     "metadata": {},
     "output_type": "execute_result"
    }
   ],
   "source": [
    "res6.status_code"
   ]
  },
  {
   "cell_type": "code",
   "execution_count": 12,
   "metadata": {},
   "outputs": [],
   "source": [
    "# res6.json()"
   ]
  },
  {
   "cell_type": "code",
   "execution_count": 12,
   "metadata": {},
   "outputs": [
    {
     "data": {
      "application/json": {
       "$type": "Tfl.Api.Presentation.Entities.JourneyPlanner.ItineraryResult, Tfl.Api.Presentation.Entities",
       "journeyVector": {
        "$type": "Tfl.Api.Presentation.Entities.JourneyPlanner.JourneyVector, Tfl.Api.Presentation.Entities",
        "from": "TW61EW",
        "to": "SE12UF",
        "uri": "/journey/journeyresults/tw61ew/to/se12uf?mode=tube",
        "via": ""
       },
       "journeys": [
        {
         "$type": "Tfl.Api.Presentation.Entities.JourneyPlanner.Journey, Tfl.Api.Presentation.Entities",
         "arrivalDateTime": "2021-03-06T00:55:00",
         "duration": 82,
         "legs": [
          {
           "$type": "Tfl.Api.Presentation.Entities.JourneyPlanner.Leg, Tfl.Api.Presentation.Entities",
           "arrivalPoint": {
            "$type": "Tfl.Api.Presentation.Entities.StopPoint, Tfl.Api.Presentation.Entities",
            "additionalProperties": [],
            "commonName": "Heathrow Terminals 2 & 3 Underground Station",
            "icsCode": "1000105",
            "lat": 51.471637629,
            "lon": -0.45295694328,
            "naptanId": "940GZZLUHRC",
            "placeType": "StopPoint",
            "platformName": ""
           },
           "arrivalTime": "2021-03-05T23:41:00",
           "departurePoint": {
            "$type": "Tfl.Api.Presentation.Entities.StopPoint, Tfl.Api.Presentation.Entities",
            "additionalProperties": [],
            "commonName": "TW6 1EW",
            "icsCode": "99999997",
            "lat": 51.469776580410006,
            "lon": -0.44957881255,
            "placeType": "StopPoint",
            "platformName": ""
           },
           "departureTime": "2021-03-05T23:33:00",
           "disruptions": [],
           "distance": 215,
           "duration": 8,
           "hasFixedLocations": true,
           "instruction": {
            "$type": "Tfl.Api.Presentation.Entities.Instruction, Tfl.Api.Presentation.Entities",
            "detailed": "Walk to Heathrow Terminals 2 & 3 Underground Station",
            "steps": [
             {
              "$type": "Tfl.Api.Presentation.Entities.InstructionStep, Tfl.Api.Presentation.Entities",
              "cumulativeDistance": 215,
              "cumulativeTravelTime": 193,
              "description": " for 215 metres",
              "descriptionHeading": "Continue along ",
              "distance": 215,
              "latitude": 51.469399547399995,
              "longitude": -0.45098816812,
              "pathAttribute": {
               "$type": "Tfl.Api.Presentation.Entities.PathAttribute, Tfl.Api.Presentation.Entities"
              },
              "skyDirection": 479,
              "skyDirectionDescription": "North",
              "streetName": "",
              "trackType": "None",
              "turnDirection": "STRAIGHT"
             }
            ],
            "summary": "Walk to Heathrow Terminals 2 & 3 Underground Station"
           },
           "isDisrupted": false,
           "mode": {
            "$type": "Tfl.Api.Presentation.Entities.Identifier, Tfl.Api.Presentation.Entities",
            "id": "walking",
            "name": "walking",
            "routeType": "Unknown",
            "status": "Unknown",
            "type": "Mode"
           },
           "obstacles": [
            {
             "$type": "Tfl.Api.Presentation.Entities.JourneyPlanner.Obstacle, Tfl.Api.Presentation.Entities",
             "incline": "DOWN",
             "position": "IDEST",
             "stopId": 1000105,
             "type": "ESCALATOR"
            },
            {
             "$type": "Tfl.Api.Presentation.Entities.JourneyPlanner.Obstacle, Tfl.Api.Presentation.Entities",
             "incline": "DOWN",
             "position": "IDEST",
             "stopId": 1000105,
             "type": "ESCALATOR"
            }
           ],
           "path": {
            "$type": "Tfl.Api.Presentation.Entities.JourneyPlanner.Path, Tfl.Api.Presentation.Entities",
            "elevation": [],
            "lineString": "[[51.46977658041, -0.44957881255],[51.4693995474, -0.45098816812],[51.47112631229, -0.45236951224],[51.47115175739, -0.45225346537],[51.4714450785, -0.45267548951],[51.471637629, -0.45295694328],[51.47133397351, -0.45296249441]]",
            "stopPoints": []
           },
           "plannedWorks": [],
           "routeOptions": [
            {
             "$type": "Tfl.Api.Presentation.Entities.JourneyPlanner.RouteOption, Tfl.Api.Presentation.Entities",
             "directions": [
              ""
             ],
             "name": ""
            }
           ]
          },
          {
           "$type": "Tfl.Api.Presentation.Entities.JourneyPlanner.Leg, Tfl.Api.Presentation.Entities",
           "arrivalPoint": {
            "$type": "Tfl.Api.Presentation.Entities.StopPoint, Tfl.Api.Presentation.Entities",
            "additionalProperties": [],
            "commonName": "Green Park Underground Station",
            "icsCode": "1000093",
            "lat": 51.507120049280005,
            "lon": -0.14191535794,
            "naptanId": "940GZZLUGPK",
            "placeType": "StopPoint",
            "platformName": ""
           },
           "arrivalTime": "2021-03-06T00:27:00",
           "departurePoint": {
            "$type": "Tfl.Api.Presentation.Entities.StopPoint, Tfl.Api.Presentation.Entities",
            "additionalProperties": [],
            "commonName": "Heathrow Terminals 2 & 3 Underground Station",
            "icsCode": "1000105",
            "lat": 51.471637629,
            "lon": -0.45295694328,
            "naptanId": "940GZZLUHRC",
            "placeType": "StopPoint",
            "platformName": ""
           },
           "departureTime": "2021-03-05T23:41:00",
           "disruptions": [],
           "duration": 46,
           "hasFixedLocations": true,
           "instruction": {
            "$type": "Tfl.Api.Presentation.Entities.Instruction, Tfl.Api.Presentation.Entities",
            "detailed": "Piccadilly line towards Arnos Grove, or Cockfosters",
            "steps": [],
            "summary": "Piccadilly line to Green Park"
           },
           "isDisrupted": false,
           "mode": {
            "$type": "Tfl.Api.Presentation.Entities.Identifier, Tfl.Api.Presentation.Entities",
            "id": "tube",
            "name": "tube",
            "routeType": "Unknown",
            "status": "Unknown",
            "type": "Mode"
           },
           "obstacles": [
            {
             "$type": "Tfl.Api.Presentation.Entities.JourneyPlanner.Obstacle, Tfl.Api.Presentation.Entities",
             "incline": "UP",
             "position": "AFTER",
             "stopId": 1000093,
             "type": "STAIRS"
            },
            {
             "$type": "Tfl.Api.Presentation.Entities.JourneyPlanner.Obstacle, Tfl.Api.Presentation.Entities",
             "incline": "DOWN",
             "position": "AFTER",
             "stopId": 1000093,
             "type": "STAIRS"
            },
            {
             "$type": "Tfl.Api.Presentation.Entities.JourneyPlanner.Obstacle, Tfl.Api.Presentation.Entities",
             "incline": "LEVEL",
             "position": "AFTER",
             "stopId": 1000093,
             "type": "WALKWAY"
            }
           ],
           "path": {
            "$type": "Tfl.Api.Presentation.Entities.JourneyPlanner.Path, Tfl.Api.Presentation.Entities",
            "elevation": [],
            "lineString": "[[51.47133414008, -0.45297143671],[51.47129625217, -0.45093833188],[51.47119705219, -0.45023617707],[51.46562304245, -0.42736179058],[51.46551394189, -0.42660252651],[51.46550583066, -0.42599815248],[51.46559697209, -0.42541915544],[51.46638638497, -0.42360158321],[51.46638638497, -0.42360158321],[51.46680937918, -0.42262761335],[51.46718153783, -0.42154940001],[51.46922027601, -0.41469773922],[51.46967581535, -0.41314138278],[51.47188053313, -0.40662874577],[51.47266595611, -0.40421118384],[51.4731883564, -0.40229229392],[51.47494220963, -0.39704719586],[51.47507814629, -0.39646644862],[51.47513338514, -0.39590292812],[51.47512038717, -0.39495301203],[51.47498856672, -0.39386327385],[51.47478680503, -0.39291999464],[51.47423550195, -0.39075067401],[51.47358430283, -0.38851292937],[51.47345075673, -0.38795607167],[51.47337113566, -0.38739731574],[51.47335965335, -0.38656257661],[51.4733866923, -0.3859136657],[51.47341926289, -0.385734712],[51.47341926289, -0.385734712],[51.47387990381, -0.38320360757],[51.47400981566, -0.38219106752],[51.47403106901, -0.38112477083],[51.47390051231, -0.38013584652],[51.47368006827, -0.37915011351],[51.47336774641, -0.3780236576],[51.47223737126, -0.37496802597],[51.47157888271, -0.37287484377],[51.47133340786, -0.37138614109],[51.47123772117, -0.37032406734],[51.47125106032, -0.36869657304],[51.47133422543, -0.36620170922],[51.47133422543, -0.36620170922],[51.4713462021, -0.36584229009],[51.471437203, -0.36462956768],[51.47170628789, -0.36264734459],[51.47193784297, -0.36119919215],[51.47212169283, -0.36019909501],[51.47247924827, -0.35876079367],[51.4728923255, -0.35743566677],[51.47309198812, -0.35692453078],[51.47355472319, -0.35612620222],[51.47355472319, -0.35612620222],[51.47425972115, -0.35490986263],[51.47481464229, -0.35408352575],[51.47528513595, -0.35364900059],[51.47574088603, -0.35344539471],[51.47624258518, -0.35331212994],[51.47762670379, -0.35326228544],[51.47850114607, -0.35341800242],[51.47920219297, -0.35339275658],[51.4798650653, -0.35321047201],[51.48028385213, -0.35293616543],[51.48149076439, -0.35181184571],[51.48149076439, -0.35181184571],[51.48165077802, -0.35166277698],[51.48209207177, -0.35107079292],[51.48236279739, -0.35049935335],[51.48257878341, -0.34987227464],[51.48300527151, -0.34822943966],[51.48345936458, -0.34599508165],[51.48368842655, -0.34502183634],[51.48392951692, -0.34426418194],[51.48425966623, -0.34344568222],[51.48476834345, -0.34253428178],[51.49278966746, -0.32986928129],[51.49298247444, -0.32951650763],[51.49354004044, -0.32825725451],[51.4938018695, -0.3277002646],[51.49405676184, -0.32728757871],[51.49505998532, -0.32575263528],[51.49573468815, -0.32481625777],[51.49573468815, -0.32481625777],[51.49669122554, -0.3234886738],[51.49709621533, -0.32288314316],[51.49733208505, -0.32239906485],[51.49831750614, -0.31962555272],[51.49858208852, -0.31863613968],[51.49971676663, -0.31353113831],[51.49971676663, -0.31353113831],[51.50036424411, -0.31061752396],[51.50108944725, -0.30739114955],[51.50108944725, -0.30739114955],[51.50118391718, -0.30697082307],[51.50132127291, -0.30651908558],[51.50231360067, -0.30424901532],[51.502829938, -0.30264491839],[51.50303125403, -0.30164325011],[51.50329277414, -0.29983245096],[51.50433859847, -0.29320863743],[51.50460043866, -0.29204613102],[51.50562103371, -0.28865058866],[51.50578964306, -0.28788057234],[51.50587715008, -0.28709918206],[51.50585659227, -0.28630743346],[51.50570999464, -0.28550600685],[51.50538968178, -0.28450937827],[51.50364425624, -0.28137618171],[51.50277167788, -0.27986003801],[51.50277167788, -0.27986003801],[51.50276765264, -0.27985304418],[51.50209223387, -0.27917247055],[51.50052843591, -0.2780067116],[51.49987182754, -0.27738311875],[51.49874479649, -0.27595607466],[51.49570540839, -0.27107177814],[51.4952880256, -0.27020879586],[51.49492158603, -0.26914221544],[51.49461741054, -0.26803007429],[51.49447542257, -0.26694060845],[51.49450009304, -0.2661761603],[51.49460760363, -0.26493317096],[51.49470011041, -0.26389242917],[51.49510405624, -0.26020352799],[51.49529069168, -0.25642200817],[51.49529539136, -0.25552864659],[51.49526890491, -0.25462221712],[51.49526890491, -0.25462221712],[51.49490995737, -0.24236181984],[51.49482848299, -0.24112603403],[51.49463612357, -0.23969283971],[51.49416765347, -0.23664244205],[51.49413246427, -0.23609637831],[51.4938625608, -0.22952336733],[51.49389162508, -0.22847062012],[51.49387241422, -0.22779429393],[51.4937344074, -0.22699292561],[51.49354399647, -0.22629443585],[51.49330755644, -0.22552571115],[51.49310068802, -0.22492871185],[51.4928333043, -0.22449252917],[51.4920959202, -0.2235783194],[51.4920959202, -0.2235783194],[51.4910645424, -0.22229967955],[51.49062992288, -0.22150991913],[51.49034895321, -0.22077181035],[51.49018503026, -0.22004355659],[51.49011471448, -0.21896595054],[51.4901460911, -0.21807164222],[51.49041793613, -0.21643331258],[51.49047428308, -0.21540837889],[51.4904158226, -0.2139846506],[51.4904158226, -0.2139846506],[51.49040282633, -0.21366820117],[51.49016057498, -0.21134412118],[51.49011999668, -0.21045262339],[51.49019621778, -0.20896596118],[51.4903360229, -0.20811060601],[51.49088403769, -0.20513612287],[51.49092368436, -0.20478884879],[51.49094601713, -0.20448546898],[51.49083894854, -0.20336609718],[51.49056458459, -0.20189319214],[51.49044024696, -0.20140832334],[51.49016268591, -0.20090067952],[51.48978471879, -0.20029616374],[51.48962354255, -0.19975514055],[51.48955945267, -0.19909506012],[51.48954618492, -0.19823131581],[51.48964274665, -0.19749288036],[51.48993635411, -0.19670345334],[51.49050390242, -0.19560070223],[51.49171829011, -0.19376940871],[51.49171829011, -0.19376940871],[51.49244613635, -0.1926717502],[51.49403160383, -0.19052019112],[51.49444266042, -0.18976920715],[51.49471646166, -0.18886518215],[51.49482261759, -0.18816948014],[51.49490709594, -0.18665348339],[51.49482971321, -0.18572015513],[51.49425552631, -0.18320517722],[51.49425552631, -0.18320517722],[51.49387466921, -0.18153716156],[51.49378691891, -0.18051784029],[51.49378142925, -0.17900544763],[51.49407418278, -0.17527705428],[51.49401755653, -0.17336332487],[51.49401755653, -0.17336332487],[51.49394129639, -0.17078772496],[51.49399432205, -0.17015174248],[51.49410486084, -0.16974394965],[51.49426976895, -0.16936278863],[51.49441108677, -0.16919866068],[51.49473169233, -0.16899853537],[51.49510037907, -0.1689981679],[51.49536189764, -0.16904531378],[51.49584157367, -0.16924218993],[51.49640684781, -0.16916191401],[51.49657557542, -0.16902549263],[51.49682158759, -0.16865546415],[51.49754725513, -0.16732974508],[51.49787189295, -0.16681247356],[51.49821225073, -0.16615049125],[51.49849935922, -0.16553385907],[51.49976729498, -0.16323533984],[51.50015414521, -0.16267228786],[51.50074611019, -0.16200011802],[51.50112690177, -0.16162459327],[51.50140565956, -0.16125444556],[51.50140565956, -0.16125444556],[51.50154093013, -0.16107482473],[51.50161932788, -0.16091317727],[51.50179025681, -0.16034436908],[51.50203528527, -0.15934031773],[51.50217721135, -0.15864299072],[51.50225554705, -0.15790499789],[51.50234454305, -0.15612915575],[51.50243049075, -0.15530439673],[51.50268829722, -0.15367476289],[51.50268829722, -0.15367476289],[51.50318288971, -0.15054791446],[51.5033436452, -0.14990741464],[51.50355831772, -0.14926472576],[51.50382713453, -0.14863424531],[51.50439308278, -0.14745856884],[51.50584117644, -0.14463317644],[51.50620563109, -0.14379701293],[51.50714109072, -0.14194261337]]",
            "stopPoints": [
             {
              "$type": "Tfl.Api.Presentation.Entities.Identifier, Tfl.Api.Presentation.Entities",
              "id": "940GZZLUHNX",
              "name": "Hatton Cross Underground Station",
              "routeType": "Unknown",
              "status": "Unknown",
              "type": "StopPoint",
              "uri": "/StopPoint/940GZZLUHNX"
             },
             {
              "$type": "Tfl.Api.Presentation.Entities.Identifier, Tfl.Api.Presentation.Entities",
              "id": "940GZZLUHWT",
              "name": "Hounslow West Underground Station",
              "routeType": "Unknown",
              "status": "Unknown",
              "type": "StopPoint",
              "uri": "/StopPoint/940GZZLUHWT"
             },
             {
              "$type": "Tfl.Api.Presentation.Entities.Identifier, Tfl.Api.Presentation.Entities",
              "id": "940GZZLUHWC",
              "name": "Hounslow Central Underground Station",
              "routeType": "Unknown",
              "status": "Unknown",
              "type": "StopPoint",
              "uri": "/StopPoint/940GZZLUHWC"
             },
             {
              "$type": "Tfl.Api.Presentation.Entities.Identifier, Tfl.Api.Presentation.Entities",
              "id": "940GZZLUHWE",
              "name": "Hounslow East Underground Station",
              "routeType": "Unknown",
              "status": "Unknown",
              "type": "StopPoint",
              "uri": "/StopPoint/940GZZLUHWE"
             },
             {
              "$type": "Tfl.Api.Presentation.Entities.Identifier, Tfl.Api.Presentation.Entities",
              "id": "940GZZLUOSY",
              "name": "Osterley Underground Station",
              "routeType": "Unknown",
              "status": "Unknown",
              "type": "StopPoint",
              "uri": "/StopPoint/940GZZLUOSY"
             },
             {
              "$type": "Tfl.Api.Presentation.Entities.Identifier, Tfl.Api.Presentation.Entities",
              "id": "940GZZLUBOS",
              "name": "Boston Manor Underground Station",
              "routeType": "Unknown",
              "status": "Unknown",
              "type": "StopPoint",
              "uri": "/StopPoint/940GZZLUBOS"
             },
             {
              "$type": "Tfl.Api.Presentation.Entities.Identifier, Tfl.Api.Presentation.Entities",
              "id": "940GZZLUNFD",
              "name": "Northfields Underground Station",
              "routeType": "Unknown",
              "status": "Unknown",
              "type": "StopPoint",
              "uri": "/StopPoint/940GZZLUNFD"
             },
             {
              "$type": "Tfl.Api.Presentation.Entities.Identifier, Tfl.Api.Presentation.Entities",
              "id": "940GZZLUSEA",
              "name": "South Ealing Underground Station",
              "routeType": "Unknown",
              "status": "Unknown",
              "type": "StopPoint",
              "uri": "/StopPoint/940GZZLUSEA"
             },
             {
              "$type": "Tfl.Api.Presentation.Entities.Identifier, Tfl.Api.Presentation.Entities",
              "id": "940GZZLUACT",
              "name": "Acton Town Underground Station",
              "routeType": "Unknown",
              "status": "Unknown",
              "type": "StopPoint",
              "uri": "/StopPoint/940GZZLUACT"
             },
             {
              "$type": "Tfl.Api.Presentation.Entities.Identifier, Tfl.Api.Presentation.Entities",
              "id": "940GZZLUTNG",
              "name": "Turnham Green Underground Station",
              "routeType": "Unknown",
              "status": "Unknown",
              "type": "StopPoint",
              "uri": "/StopPoint/940GZZLUTNG"
             },
             {
              "$type": "Tfl.Api.Presentation.Entities.Identifier, Tfl.Api.Presentation.Entities",
              "id": "940GZZLUHSD",
              "name": "Hammersmith (Dist&Picc Line) Underground Station",
              "routeType": "Unknown",
              "status": "Unknown",
              "type": "StopPoint",
              "uri": "/StopPoint/940GZZLUHSD"
             },
             {
              "$type": "Tfl.Api.Presentation.Entities.Identifier, Tfl.Api.Presentation.Entities",
              "id": "940GZZLUBSC",
              "name": "Barons Court Underground Station",
              "routeType": "Unknown",
              "status": "Unknown",
              "type": "StopPoint",
              "uri": "/StopPoint/940GZZLUBSC"
             },
             {
              "$type": "Tfl.Api.Presentation.Entities.Identifier, Tfl.Api.Presentation.Entities",
              "id": "940GZZLUECT",
              "name": "Earl's Court Underground Station",
              "routeType": "Unknown",
              "status": "Unknown",
              "type": "StopPoint",
              "uri": "/StopPoint/940GZZLUECT"
             },
             {
              "$type": "Tfl.Api.Presentation.Entities.Identifier, Tfl.Api.Presentation.Entities",
              "id": "940GZZLUGTR",
              "name": "Gloucester Road Underground Station",
              "routeType": "Unknown",
              "status": "Unknown",
              "type": "StopPoint",
              "uri": "/StopPoint/940GZZLUGTR"
             },
             {
              "$type": "Tfl.Api.Presentation.Entities.Identifier, Tfl.Api.Presentation.Entities",
              "id": "940GZZLUKNB",
              "name": "Knightsbridge Underground Station",
              "routeType": "Unknown",
              "status": "Unknown",
              "type": "StopPoint",
              "uri": "/StopPoint/940GZZLUKNB"
             },
             {
              "$type": "Tfl.Api.Presentation.Entities.Identifier, Tfl.Api.Presentation.Entities",
              "id": "940GZZLUHPC",
              "name": "Hyde Park Corner Underground Station",
              "routeType": "Unknown",
              "status": "Unknown",
              "type": "StopPoint",
              "uri": "/StopPoint/940GZZLUHPC"
             },
             {
              "$type": "Tfl.Api.Presentation.Entities.Identifier, Tfl.Api.Presentation.Entities",
              "id": "940GZZLUGPK",
              "name": "Green Park Underground Station",
              "routeType": "Unknown",
              "status": "Unknown",
              "type": "StopPoint",
              "uri": "/StopPoint/940GZZLUGPK"
             }
            ]
           },
           "plannedWorks": [],
           "routeOptions": [
            {
             "$type": "Tfl.Api.Presentation.Entities.JourneyPlanner.RouteOption, Tfl.Api.Presentation.Entities",
             "directions": [
              "Arnos Grove Underground Station",
              "Cockfosters Underground Station"
             ],
             "lineIdentifier": {
              "$type": "Tfl.Api.Presentation.Entities.Identifier, Tfl.Api.Presentation.Entities",
              "crowding": {
               "$type": "Tfl.Api.Presentation.Entities.Crowding, Tfl.Api.Presentation.Entities"
              },
              "id": "piccadilly",
              "name": "Piccadilly",
              "routeType": "Unknown",
              "status": "Unknown",
              "type": "Line",
              "uri": "/Line/piccadilly"
             },
             "name": "Piccadilly"
            }
           ]
          },
          {
           "$type": "Tfl.Api.Presentation.Entities.JourneyPlanner.Leg, Tfl.Api.Presentation.Entities",
           "arrivalPoint": {
            "$type": "Tfl.Api.Presentation.Entities.StopPoint, Tfl.Api.Presentation.Entities",
            "additionalProperties": [],
            "commonName": "London Bridge Underground Station",
            "icsCode": "1000139",
            "lat": 51.50583751486,
            "lon": -0.08785894256,
            "naptanId": "940GZZLULNB",
            "placeType": "StopPoint",
            "platformName": ""
           },
           "arrivalTime": "2021-03-06T00:40:00",
           "departurePoint": {
            "$type": "Tfl.Api.Presentation.Entities.StopPoint, Tfl.Api.Presentation.Entities",
            "additionalProperties": [],
            "commonName": "Green Park Underground Station",
            "icsCode": "1000093",
            "lat": 51.506161524460005,
            "lon": -0.14157969695,
            "naptanId": "940GZZLUGPK",
            "placeType": "StopPoint",
            "platformName": ""
           },
           "departureTime": "2021-03-06T00:34:00",
           "disruptions": [
            {
             "$type": "Tfl.Api.Presentation.Entities.Disruption, Tfl.Api.Presentation.Entities",
             "additionalInfo": "",
             "category": "PlannedWork",
             "categoryDescription": "PlannedWork",
             "created": "2018-01-22T11:40:00",
             "description": "LONDON BRIDGE STATION: Please note that step free interchange between the Jubilee and Northern lines is partly at street level, in both directions. Lifts are available between Northern line and Borough High Street entrance then via Borough High Street, St Thomas Street and Joiner Street to the main Underground ticket hall from where lifts are available to/from the Jubilee line.",
             "lastUpdate": "2018-03-05T15:29:00",
             "summary": "",
             "type": "stopInfo"
            }
           ],
           "duration": 6,
           "hasFixedLocations": true,
           "instruction": {
            "$type": "Tfl.Api.Presentation.Entities.Instruction, Tfl.Api.Presentation.Entities",
            "detailed": "Jubilee line towards Stratford",
            "steps": [],
            "summary": "Jubilee line to London Bridge"
           },
           "isDisrupted": true,
           "mode": {
            "$type": "Tfl.Api.Presentation.Entities.Identifier, Tfl.Api.Presentation.Entities",
            "id": "tube",
            "name": "tube",
            "routeType": "Unknown",
            "status": "Unknown",
            "type": "Mode"
           },
           "obstacles": [],
           "path": {
            "$type": "Tfl.Api.Presentation.Entities.JourneyPlanner.Path, Tfl.Api.Presentation.Entities",
            "elevation": [],
            "lineString": "[[51.50616302255, -0.14157907788],[51.50591197371, -0.14001919115],[51.50578760902, -0.13954873597],[51.50560033551, -0.13908084636],[51.5020131521, -0.1312158545],[51.50169268756, -0.13029241786],[51.50143374446, -0.12928002483],[51.50123402222, -0.12803468442],[51.50108659683, -0.12668635271],[51.50099956538, -0.12485966609],[51.50099956538, -0.12485966609],[51.5009783417, -0.12441429778],[51.50106337511, -0.12298439272],[51.50170090818, -0.11955780858],[51.50333888904, -0.11302583748],[51.50333888904, -0.11302583748],[51.50398263824, -0.11045815313],[51.50426792153, -0.10863078519],[51.50435392304, -0.10727275095],[51.50429122782, -0.10537666705],[51.50429122782, -0.10537666705],[51.50407248611, -0.0987685702],[51.50422182972, -0.09577963576],[51.50438856048, -0.09441820849],[51.50474305469, -0.09299129429],[51.50495952019, -0.09247792387],[51.50527608892, -0.09148484967],[51.50575025934, -0.08967822594],[51.50586159146, -0.08823258945],[51.50583318936, -0.08785978875]]",
            "stopPoints": [
             {
              "$type": "Tfl.Api.Presentation.Entities.Identifier, Tfl.Api.Presentation.Entities",
              "id": "940GZZLUWSM",
              "name": "Westminster Underground Station",
              "routeType": "Unknown",
              "status": "Unknown",
              "type": "StopPoint",
              "uri": "/StopPoint/940GZZLUWSM"
             },
             {
              "$type": "Tfl.Api.Presentation.Entities.Identifier, Tfl.Api.Presentation.Entities",
              "id": "940GZZLUWLO",
              "name": "Waterloo Underground Station",
              "routeType": "Unknown",
              "status": "Unknown",
              "type": "StopPoint",
              "uri": "/StopPoint/940GZZLUWLO"
             },
             {
              "$type": "Tfl.Api.Presentation.Entities.Identifier, Tfl.Api.Presentation.Entities",
              "id": "940GZZLUSWK",
              "name": "Southwark Underground Station",
              "routeType": "Unknown",
              "status": "Unknown",
              "type": "StopPoint",
              "uri": "/StopPoint/940GZZLUSWK"
             },
             {
              "$type": "Tfl.Api.Presentation.Entities.Identifier, Tfl.Api.Presentation.Entities",
              "id": "940GZZLULNB",
              "name": "London Bridge Underground Station",
              "routeType": "Unknown",
              "status": "Unknown",
              "type": "StopPoint",
              "uri": "/StopPoint/940GZZLULNB"
             }
            ]
           },
           "plannedWorks": [],
           "routeOptions": [
            {
             "$type": "Tfl.Api.Presentation.Entities.JourneyPlanner.RouteOption, Tfl.Api.Presentation.Entities",
             "directions": [
              "Stratford Underground Station"
             ],
             "lineIdentifier": {
              "$type": "Tfl.Api.Presentation.Entities.Identifier, Tfl.Api.Presentation.Entities",
              "crowding": {
               "$type": "Tfl.Api.Presentation.Entities.Crowding, Tfl.Api.Presentation.Entities"
              },
              "id": "jubilee",
              "name": "Jubilee",
              "routeType": "Unknown",
              "status": "Unknown",
              "type": "Line",
              "uri": "/Line/jubilee"
             },
             "name": "Jubilee"
            }
           ]
          },
          {
           "$type": "Tfl.Api.Presentation.Entities.JourneyPlanner.Leg, Tfl.Api.Presentation.Entities",
           "arrivalPoint": {
            "$type": "Tfl.Api.Presentation.Entities.Place, Tfl.Api.Presentation.Entities",
            "commonName": "SE1 2UF",
            "lat": 51.50266561539,
            "lon": -0.07755974773,
            "placeType": "StopPoint"
           },
           "arrivalTime": "2021-03-06T00:55:00",
           "departurePoint": {
            "$type": "Tfl.Api.Presentation.Entities.StopPoint, Tfl.Api.Presentation.Entities",
            "additionalProperties": [],
            "commonName": "London Bridge Underground Station",
            "icsCode": "1000139",
            "lat": 51.50583751486,
            "lon": -0.08785894256,
            "naptanId": "940GZZLULNB",
            "placeType": "StopPoint",
            "platformName": ""
           },
           "departureTime": "2021-03-06T00:40:00",
           "disruptions": [],
           "distance": 731,
           "duration": 15,
           "hasFixedLocations": false,
           "instruction": {
            "$type": "Tfl.Api.Presentation.Entities.Instruction, Tfl.Api.Presentation.Entities",
            "detailed": "Walk to SE1 2UF",
            "steps": [
             {
              "$type": "Tfl.Api.Presentation.Entities.InstructionStep, Tfl.Api.Presentation.Entities",
              "cumulativeDistance": 14,
              "cumulativeTravelTime": 13,
              "description": " for 14 metres",
              "descriptionHeading": "Continue along ",
              "distance": 14,
              "latitude": 51.50573620429,
              "longitude": -0.08660953442,
              "pathAttribute": {
               "$type": "Tfl.Api.Presentation.Entities.PathAttribute, Tfl.Api.Presentation.Entities"
              },
              "skyDirection": 403,
              "skyDirectionDescription": "North",
              "streetName": "",
              "trackType": "None",
              "turnDirection": "STRAIGHT"
             },
             {
              "$type": "Tfl.Api.Presentation.Entities.InstructionStep, Tfl.Api.Presentation.Entities",
              "cumulativeDistance": 43,
              "cumulativeTravelTime": 39,
              "description": "on to Duke Street Hill, continue for 29 metres",
              "descriptionHeading": "Take a slight right",
              "distance": 29,
              "latitude": 51.50582371923,
              "longitude": -0.08646177031,
              "pathAttribute": {
               "$type": "Tfl.Api.Presentation.Entities.PathAttribute, Tfl.Api.Presentation.Entities"
              },
              "skyDirection": 464,
              "skyDirectionDescription": "North",
              "streetName": "Duke Street Hill",
              "trackType": "None",
              "turnDirection": "SLIGHT_RIGHT"
             },
             {
              "$type": "Tfl.Api.Presentation.Entities.InstructionStep, Tfl.Api.Presentation.Entities",
              "cumulativeDistance": 731,
              "cumulativeTravelTime": 654,
              "description": "on to Tooley Street, continue for 688 metres",
              "descriptionHeading": "Continue along ",
              "distance": 688,
              "latitude": 51.50573626196,
              "longitude": -0.08606196091,
              "pathAttribute": {
               "$type": "Tfl.Api.Presentation.Entities.PathAttribute, Tfl.Api.Presentation.Entities"
              },
              "skyDirection": 467,
              "skyDirectionDescription": "North",
              "streetName": "Tooley Street",
              "trackType": "None",
              "turnDirection": "STRAIGHT"
             }
            ],
            "summary": "Walk to SE1 2UF"
           },
           "isDisrupted": false,
           "mode": {
            "$type": "Tfl.Api.Presentation.Entities.Identifier, Tfl.Api.Presentation.Entities",
            "id": "walking",
            "name": "walking",
            "routeType": "Unknown",
            "status": "Unknown",
            "type": "Mode"
           },
           "obstacles": [
            {
             "$type": "Tfl.Api.Presentation.Entities.JourneyPlanner.Obstacle, Tfl.Api.Presentation.Entities",
             "incline": "UP",
             "position": "BEFORE",
             "stopId": 1000139,
             "type": "ESCALATOR"
            },
            {
             "$type": "Tfl.Api.Presentation.Entities.JourneyPlanner.Obstacle, Tfl.Api.Presentation.Entities",
             "incline": "LEVEL",
             "position": "BEFORE",
             "stopId": 1000139,
             "type": "WALKWAY"
            }
           ],
           "path": {
            "$type": "Tfl.Api.Presentation.Entities.JourneyPlanner.Path, Tfl.Api.Presentation.Entities",
            "elevation": [],
            "lineString": "[[51.50583751486, -0.08785894256],[51.50586018302, -0.08814618959],[51.50572698292, -0.08659551096],[51.50573620429, -0.08660953442],[51.50582371923, -0.08646177031],[51.50578401402, -0.08623287728],[51.5057556448, -0.08614760733],[51.50573626196, -0.08606196091],[51.50564833323, -0.0856333533],[51.50550742478, -0.08526460714],[51.50533080462, -0.08491177021],[51.50528422644, -0.08481285579],[51.50510666415, -0.08440242352],[51.50506907198, -0.0843031332],[51.50492910045, -0.08399199446],[51.504741843, -0.08353874691],[51.50450682725, -0.08291459471],[51.50439286966, -0.08254473456],[51.50422334406, -0.08207634429],[51.50408289568, -0.08173641951],[51.50398051203, -0.08152458092],[51.50383060448, -0.08115623862],[51.50370859758, -0.08084436295],[51.50361307774, -0.08050255769],[51.50351567111, -0.08004556052],[51.50345774497, -0.0798030413],[51.50336387271, -0.07956203396],[51.50329790245, -0.07937749042],[51.5032127799, -0.07912170785],[51.50312742092, -0.07885152722],[51.50300399246, -0.07845326866],[51.50292051957, -0.07829828226],[51.5025511525, -0.07770865272],[51.50266561539, -0.07755974773]]",
            "stopPoints": []
           },
           "plannedWorks": [],
           "routeOptions": [
            {
             "$type": "Tfl.Api.Presentation.Entities.JourneyPlanner.RouteOption, Tfl.Api.Presentation.Entities",
             "directions": [
              ""
             ],
             "name": ""
            }
           ]
          }
         ],
         "startDateTime": "2021-03-05T23:33:00"
        },
        {
         "$type": "Tfl.Api.Presentation.Entities.JourneyPlanner.Journey, Tfl.Api.Presentation.Entities",
         "arrivalDateTime": "2021-03-06T01:01:00",
         "duration": 84,
         "legs": [
          {
           "$type": "Tfl.Api.Presentation.Entities.JourneyPlanner.Leg, Tfl.Api.Presentation.Entities",
           "arrivalPoint": {
            "$type": "Tfl.Api.Presentation.Entities.StopPoint, Tfl.Api.Presentation.Entities",
            "additionalProperties": [],
            "commonName": "Heathrow Terminals 2 & 3 Underground Station",
            "icsCode": "1000105",
            "lat": 51.471637629,
            "lon": -0.45295694328,
            "naptanId": "940GZZLUHRC",
            "placeType": "StopPoint",
            "platformName": ""
           },
           "arrivalTime": "2021-03-05T23:45:00",
           "departurePoint": {
            "$type": "Tfl.Api.Presentation.Entities.StopPoint, Tfl.Api.Presentation.Entities",
            "additionalProperties": [],
            "commonName": "TW6 1EW",
            "icsCode": "99999997",
            "lat": 51.469776580410006,
            "lon": -0.44957881255,
            "placeType": "StopPoint",
            "platformName": ""
           },
           "departureTime": "2021-03-05T23:37:00",
           "disruptions": [],
           "distance": 215,
           "duration": 8,
           "hasFixedLocations": true,
           "instruction": {
            "$type": "Tfl.Api.Presentation.Entities.Instruction, Tfl.Api.Presentation.Entities",
            "detailed": "Walk to Heathrow Terminals 2 & 3 Underground Station",
            "steps": [
             {
              "$type": "Tfl.Api.Presentation.Entities.InstructionStep, Tfl.Api.Presentation.Entities",
              "cumulativeDistance": 215,
              "cumulativeTravelTime": 193,
              "description": " for 215 metres",
              "descriptionHeading": "Continue along ",
              "distance": 215,
              "latitude": 51.469399547399995,
              "longitude": -0.45098816812,
              "pathAttribute": {
               "$type": "Tfl.Api.Presentation.Entities.PathAttribute, Tfl.Api.Presentation.Entities"
              },
              "skyDirection": 479,
              "skyDirectionDescription": "North",
              "streetName": "",
              "trackType": "None",
              "turnDirection": "STRAIGHT"
             }
            ],
            "summary": "Walk to Heathrow Terminals 2 & 3 Underground Station"
           },
           "isDisrupted": false,
           "mode": {
            "$type": "Tfl.Api.Presentation.Entities.Identifier, Tfl.Api.Presentation.Entities",
            "id": "walking",
            "name": "walking",
            "routeType": "Unknown",
            "status": "Unknown",
            "type": "Mode"
           },
           "obstacles": [
            {
             "$type": "Tfl.Api.Presentation.Entities.JourneyPlanner.Obstacle, Tfl.Api.Presentation.Entities",
             "incline": "DOWN",
             "position": "IDEST",
             "stopId": 1000105,
             "type": "ESCALATOR"
            },
            {
             "$type": "Tfl.Api.Presentation.Entities.JourneyPlanner.Obstacle, Tfl.Api.Presentation.Entities",
             "incline": "DOWN",
             "position": "IDEST",
             "stopId": 1000105,
             "type": "ESCALATOR"
            }
           ],
           "path": {
            "$type": "Tfl.Api.Presentation.Entities.JourneyPlanner.Path, Tfl.Api.Presentation.Entities",
            "elevation": [],
            "lineString": "[[51.46977658041, -0.44957881255],[51.4693995474, -0.45098816812],[51.47112631229, -0.45236951224],[51.47115175739, -0.45225346537],[51.4714450785, -0.45267548951],[51.471637629, -0.45295694328],[51.47133397351, -0.45296249441]]",
            "stopPoints": []
           },
           "plannedWorks": [],
           "routeOptions": [
            {
             "$type": "Tfl.Api.Presentation.Entities.JourneyPlanner.RouteOption, Tfl.Api.Presentation.Entities",
             "directions": [
              ""
             ],
             "name": ""
            }
           ]
          },
          {
           "$type": "Tfl.Api.Presentation.Entities.JourneyPlanner.Leg, Tfl.Api.Presentation.Entities",
           "arrivalPoint": {
            "$type": "Tfl.Api.Presentation.Entities.StopPoint, Tfl.Api.Presentation.Entities",
            "additionalProperties": [],
            "commonName": "Green Park Underground Station",
            "icsCode": "1000093",
            "lat": 51.507120049280005,
            "lon": -0.14191535794,
            "naptanId": "940GZZLUGPK",
            "placeType": "StopPoint",
            "platformName": ""
           },
           "arrivalTime": "2021-03-06T00:32:00",
           "departurePoint": {
            "$type": "Tfl.Api.Presentation.Entities.StopPoint, Tfl.Api.Presentation.Entities",
            "additionalProperties": [],
            "commonName": "Heathrow Terminals 2 & 3 Underground Station",
            "icsCode": "1000105",
            "lat": 51.471637629,
            "lon": -0.45295694328,
            "naptanId": "940GZZLUHRC",
            "placeType": "StopPoint",
            "platformName": ""
           },
           "departureTime": "2021-03-05T23:45:00",
           "disruptions": [],
           "duration": 47,
           "hasFixedLocations": true,
           "instruction": {
            "$type": "Tfl.Api.Presentation.Entities.Instruction, Tfl.Api.Presentation.Entities",
            "detailed": "Piccadilly line towards Cockfosters",
            "steps": [],
            "summary": "Piccadilly line to Green Park"
           },
           "isDisrupted": false,
           "mode": {
            "$type": "Tfl.Api.Presentation.Entities.Identifier, Tfl.Api.Presentation.Entities",
            "id": "tube",
            "name": "tube",
            "routeType": "Unknown",
            "status": "Unknown",
            "type": "Mode"
           },
           "obstacles": [
            {
             "$type": "Tfl.Api.Presentation.Entities.JourneyPlanner.Obstacle, Tfl.Api.Presentation.Entities",
             "incline": "UP",
             "position": "AFTER",
             "stopId": 1000093,
             "type": "STAIRS"
            },
            {
             "$type": "Tfl.Api.Presentation.Entities.JourneyPlanner.Obstacle, Tfl.Api.Presentation.Entities",
             "incline": "DOWN",
             "position": "AFTER",
             "stopId": 1000093,
             "type": "STAIRS"
            },
            {
             "$type": "Tfl.Api.Presentation.Entities.JourneyPlanner.Obstacle, Tfl.Api.Presentation.Entities",
             "incline": "LEVEL",
             "position": "AFTER",
             "stopId": 1000093,
             "type": "WALKWAY"
            }
           ],
           "path": {
            "$type": "Tfl.Api.Presentation.Entities.JourneyPlanner.Path, Tfl.Api.Presentation.Entities",
            "elevation": [],
            "lineString": "[[51.47133414008, -0.45297143671],[51.47129625217, -0.45093833188],[51.47119705219, -0.45023617707],[51.46562304245, -0.42736179058],[51.46551394189, -0.42660252651],[51.46550583066, -0.42599815248],[51.46559697209, -0.42541915544],[51.46638638497, -0.42360158321],[51.46638638497, -0.42360158321],[51.46680937918, -0.42262761335],[51.46718153783, -0.42154940001],[51.46922027601, -0.41469773922],[51.46967581535, -0.41314138278],[51.47188053313, -0.40662874577],[51.47266595611, -0.40421118384],[51.4731883564, -0.40229229392],[51.47494220963, -0.39704719586],[51.47507814629, -0.39646644862],[51.47513338514, -0.39590292812],[51.47512038717, -0.39495301203],[51.47498856672, -0.39386327385],[51.47478680503, -0.39291999464],[51.47423550195, -0.39075067401],[51.47358430283, -0.38851292937],[51.47345075673, -0.38795607167],[51.47337113566, -0.38739731574],[51.47335965335, -0.38656257661],[51.4733866923, -0.3859136657],[51.47341926289, -0.385734712],[51.47341926289, -0.385734712],[51.47387990381, -0.38320360757],[51.47400981566, -0.38219106752],[51.47403106901, -0.38112477083],[51.47390051231, -0.38013584652],[51.47368006827, -0.37915011351],[51.47336774641, -0.3780236576],[51.47223737126, -0.37496802597],[51.47157888271, -0.37287484377],[51.47133340786, -0.37138614109],[51.47123772117, -0.37032406734],[51.47125106032, -0.36869657304],[51.47133422543, -0.36620170922],[51.47133422543, -0.36620170922],[51.4713462021, -0.36584229009],[51.471437203, -0.36462956768],[51.47170628789, -0.36264734459],[51.47193784297, -0.36119919215],[51.47212169283, -0.36019909501],[51.47247924827, -0.35876079367],[51.4728923255, -0.35743566677],[51.47309198812, -0.35692453078],[51.47355472319, -0.35612620222],[51.47355472319, -0.35612620222],[51.47425972115, -0.35490986263],[51.47481464229, -0.35408352575],[51.47528513595, -0.35364900059],[51.47574088603, -0.35344539471],[51.47624258518, -0.35331212994],[51.47762670379, -0.35326228544],[51.47850114607, -0.35341800242],[51.47920219297, -0.35339275658],[51.4798650653, -0.35321047201],[51.48028385213, -0.35293616543],[51.48149076439, -0.35181184571],[51.48149076439, -0.35181184571],[51.48165077802, -0.35166277698],[51.48209207177, -0.35107079292],[51.48236279739, -0.35049935335],[51.48257878341, -0.34987227464],[51.48300527151, -0.34822943966],[51.48345936458, -0.34599508165],[51.48368842655, -0.34502183634],[51.48392951692, -0.34426418194],[51.48425966623, -0.34344568222],[51.48476834345, -0.34253428178],[51.49278966746, -0.32986928129],[51.49298247444, -0.32951650763],[51.49354004044, -0.32825725451],[51.4938018695, -0.3277002646],[51.49405676184, -0.32728757871],[51.49505998532, -0.32575263528],[51.49573468815, -0.32481625777],[51.49573468815, -0.32481625777],[51.49669122554, -0.3234886738],[51.49709621533, -0.32288314316],[51.49733208505, -0.32239906485],[51.49831750614, -0.31962555272],[51.49858208852, -0.31863613968],[51.49971676663, -0.31353113831],[51.49971676663, -0.31353113831],[51.50036424411, -0.31061752396],[51.50108944725, -0.30739114955],[51.50108944725, -0.30739114955],[51.50118391718, -0.30697082307],[51.50132127291, -0.30651908558],[51.50231360067, -0.30424901532],[51.502829938, -0.30264491839],[51.50303125403, -0.30164325011],[51.50329277414, -0.29983245096],[51.50433859847, -0.29320863743],[51.50460043866, -0.29204613102],[51.50562103371, -0.28865058866],[51.50578964306, -0.28788057234],[51.50587715008, -0.28709918206],[51.50585659227, -0.28630743346],[51.50570999464, -0.28550600685],[51.50538968178, -0.28450937827],[51.50364425624, -0.28137618171],[51.50277167788, -0.27986003801],[51.50277167788, -0.27986003801],[51.50276765264, -0.27985304418],[51.50209223387, -0.27917247055],[51.50052843591, -0.2780067116],[51.49987182754, -0.27738311875],[51.49874479649, -0.27595607466],[51.49570540839, -0.27107177814],[51.4952880256, -0.27020879586],[51.49492158603, -0.26914221544],[51.49461741054, -0.26803007429],[51.49447542257, -0.26694060845],[51.49450009304, -0.2661761603],[51.49460760363, -0.26493317096],[51.49470011041, -0.26389242917],[51.49510405624, -0.26020352799],[51.49529069168, -0.25642200817],[51.49529539136, -0.25552864659],[51.49526890491, -0.25462221712],[51.49526890491, -0.25462221712],[51.49490995737, -0.24236181984],[51.49482848299, -0.24112603403],[51.49463612357, -0.23969283971],[51.49416765347, -0.23664244205],[51.49413246427, -0.23609637831],[51.4938625608, -0.22952336733],[51.49389162508, -0.22847062012],[51.49387241422, -0.22779429393],[51.4937344074, -0.22699292561],[51.49354399647, -0.22629443585],[51.49330755644, -0.22552571115],[51.49310068802, -0.22492871185],[51.4928333043, -0.22449252917],[51.4920959202, -0.2235783194],[51.4920959202, -0.2235783194],[51.4910645424, -0.22229967955],[51.49062992288, -0.22150991913],[51.49034895321, -0.22077181035],[51.49018503026, -0.22004355659],[51.49011471448, -0.21896595054],[51.4901460911, -0.21807164222],[51.49041793613, -0.21643331258],[51.49047428308, -0.21540837889],[51.4904158226, -0.2139846506],[51.4904158226, -0.2139846506],[51.49040282633, -0.21366820117],[51.49016057498, -0.21134412118],[51.49011999668, -0.21045262339],[51.49019621778, -0.20896596118],[51.4903360229, -0.20811060601],[51.49088403769, -0.20513612287],[51.49092368436, -0.20478884879],[51.49094601713, -0.20448546898],[51.49083894854, -0.20336609718],[51.49056458459, -0.20189319214],[51.49044024696, -0.20140832334],[51.49016268591, -0.20090067952],[51.48978471879, -0.20029616374],[51.48962354255, -0.19975514055],[51.48955945267, -0.19909506012],[51.48954618492, -0.19823131581],[51.48964274665, -0.19749288036],[51.48993635411, -0.19670345334],[51.49050390242, -0.19560070223],[51.49171829011, -0.19376940871],[51.49171829011, -0.19376940871],[51.49244613635, -0.1926717502],[51.49403160383, -0.19052019112],[51.49444266042, -0.18976920715],[51.49471646166, -0.18886518215],[51.49482261759, -0.18816948014],[51.49490709594, -0.18665348339],[51.49482971321, -0.18572015513],[51.49425552631, -0.18320517722],[51.49425552631, -0.18320517722],[51.49387466921, -0.18153716156],[51.49378691891, -0.18051784029],[51.49378142925, -0.17900544763],[51.49407418278, -0.17527705428],[51.49401755653, -0.17336332487],[51.49401755653, -0.17336332487],[51.49394129639, -0.17078772496],[51.49399432205, -0.17015174248],[51.49410486084, -0.16974394965],[51.49426976895, -0.16936278863],[51.49441108677, -0.16919866068],[51.49473169233, -0.16899853537],[51.49510037907, -0.1689981679],[51.49536189764, -0.16904531378],[51.49584157367, -0.16924218993],[51.49640684781, -0.16916191401],[51.49657557542, -0.16902549263],[51.49682158759, -0.16865546415],[51.49754725513, -0.16732974508],[51.49787189295, -0.16681247356],[51.49821225073, -0.16615049125],[51.49849935922, -0.16553385907],[51.49976729498, -0.16323533984],[51.50015414521, -0.16267228786],[51.50074611019, -0.16200011802],[51.50112690177, -0.16162459327],[51.50140565956, -0.16125444556],[51.50140565956, -0.16125444556],[51.50154093013, -0.16107482473],[51.50161932788, -0.16091317727],[51.50179025681, -0.16034436908],[51.50203528527, -0.15934031773],[51.50217721135, -0.15864299072],[51.50225554705, -0.15790499789],[51.50234454305, -0.15612915575],[51.50243049075, -0.15530439673],[51.50268829722, -0.15367476289],[51.50268829722, -0.15367476289],[51.50318288971, -0.15054791446],[51.5033436452, -0.14990741464],[51.50355831772, -0.14926472576],[51.50382713453, -0.14863424531],[51.50439308278, -0.14745856884],[51.50584117644, -0.14463317644],[51.50620563109, -0.14379701293],[51.50714109072, -0.14194261337]]",
            "stopPoints": [
             {
              "$type": "Tfl.Api.Presentation.Entities.Identifier, Tfl.Api.Presentation.Entities",
              "id": "940GZZLUHNX",
              "name": "Hatton Cross Underground Station",
              "routeType": "Unknown",
              "status": "Unknown",
              "type": "StopPoint",
              "uri": "/StopPoint/940GZZLUHNX"
             },
             {
              "$type": "Tfl.Api.Presentation.Entities.Identifier, Tfl.Api.Presentation.Entities",
              "id": "940GZZLUHWT",
              "name": "Hounslow West Underground Station",
              "routeType": "Unknown",
              "status": "Unknown",
              "type": "StopPoint",
              "uri": "/StopPoint/940GZZLUHWT"
             },
             {
              "$type": "Tfl.Api.Presentation.Entities.Identifier, Tfl.Api.Presentation.Entities",
              "id": "940GZZLUHWC",
              "name": "Hounslow Central Underground Station",
              "routeType": "Unknown",
              "status": "Unknown",
              "type": "StopPoint",
              "uri": "/StopPoint/940GZZLUHWC"
             },
             {
              "$type": "Tfl.Api.Presentation.Entities.Identifier, Tfl.Api.Presentation.Entities",
              "id": "940GZZLUHWE",
              "name": "Hounslow East Underground Station",
              "routeType": "Unknown",
              "status": "Unknown",
              "type": "StopPoint",
              "uri": "/StopPoint/940GZZLUHWE"
             },
             {
              "$type": "Tfl.Api.Presentation.Entities.Identifier, Tfl.Api.Presentation.Entities",
              "id": "940GZZLUOSY",
              "name": "Osterley Underground Station",
              "routeType": "Unknown",
              "status": "Unknown",
              "type": "StopPoint",
              "uri": "/StopPoint/940GZZLUOSY"
             },
             {
              "$type": "Tfl.Api.Presentation.Entities.Identifier, Tfl.Api.Presentation.Entities",
              "id": "940GZZLUBOS",
              "name": "Boston Manor Underground Station",
              "routeType": "Unknown",
              "status": "Unknown",
              "type": "StopPoint",
              "uri": "/StopPoint/940GZZLUBOS"
             },
             {
              "$type": "Tfl.Api.Presentation.Entities.Identifier, Tfl.Api.Presentation.Entities",
              "id": "940GZZLUNFD",
              "name": "Northfields Underground Station",
              "routeType": "Unknown",
              "status": "Unknown",
              "type": "StopPoint",
              "uri": "/StopPoint/940GZZLUNFD"
             },
             {
              "$type": "Tfl.Api.Presentation.Entities.Identifier, Tfl.Api.Presentation.Entities",
              "id": "940GZZLUSEA",
              "name": "South Ealing Underground Station",
              "routeType": "Unknown",
              "status": "Unknown",
              "type": "StopPoint",
              "uri": "/StopPoint/940GZZLUSEA"
             },
             {
              "$type": "Tfl.Api.Presentation.Entities.Identifier, Tfl.Api.Presentation.Entities",
              "id": "940GZZLUACT",
              "name": "Acton Town Underground Station",
              "routeType": "Unknown",
              "status": "Unknown",
              "type": "StopPoint",
              "uri": "/StopPoint/940GZZLUACT"
             },
             {
              "$type": "Tfl.Api.Presentation.Entities.Identifier, Tfl.Api.Presentation.Entities",
              "id": "940GZZLUTNG",
              "name": "Turnham Green Underground Station",
              "routeType": "Unknown",
              "status": "Unknown",
              "type": "StopPoint",
              "uri": "/StopPoint/940GZZLUTNG"
             },
             {
              "$type": "Tfl.Api.Presentation.Entities.Identifier, Tfl.Api.Presentation.Entities",
              "id": "940GZZLUHSD",
              "name": "Hammersmith (Dist&Picc Line) Underground Station",
              "routeType": "Unknown",
              "status": "Unknown",
              "type": "StopPoint",
              "uri": "/StopPoint/940GZZLUHSD"
             },
             {
              "$type": "Tfl.Api.Presentation.Entities.Identifier, Tfl.Api.Presentation.Entities",
              "id": "940GZZLUBSC",
              "name": "Barons Court Underground Station",
              "routeType": "Unknown",
              "status": "Unknown",
              "type": "StopPoint",
              "uri": "/StopPoint/940GZZLUBSC"
             },
             {
              "$type": "Tfl.Api.Presentation.Entities.Identifier, Tfl.Api.Presentation.Entities",
              "id": "940GZZLUECT",
              "name": "Earl's Court Underground Station",
              "routeType": "Unknown",
              "status": "Unknown",
              "type": "StopPoint",
              "uri": "/StopPoint/940GZZLUECT"
             },
             {
              "$type": "Tfl.Api.Presentation.Entities.Identifier, Tfl.Api.Presentation.Entities",
              "id": "940GZZLUGTR",
              "name": "Gloucester Road Underground Station",
              "routeType": "Unknown",
              "status": "Unknown",
              "type": "StopPoint",
              "uri": "/StopPoint/940GZZLUGTR"
             },
             {
              "$type": "Tfl.Api.Presentation.Entities.Identifier, Tfl.Api.Presentation.Entities",
              "id": "940GZZLUKNB",
              "name": "Knightsbridge Underground Station",
              "routeType": "Unknown",
              "status": "Unknown",
              "type": "StopPoint",
              "uri": "/StopPoint/940GZZLUKNB"
             },
             {
              "$type": "Tfl.Api.Presentation.Entities.Identifier, Tfl.Api.Presentation.Entities",
              "id": "940GZZLUHPC",
              "name": "Hyde Park Corner Underground Station",
              "routeType": "Unknown",
              "status": "Unknown",
              "type": "StopPoint",
              "uri": "/StopPoint/940GZZLUHPC"
             },
             {
              "$type": "Tfl.Api.Presentation.Entities.Identifier, Tfl.Api.Presentation.Entities",
              "id": "940GZZLUGPK",
              "name": "Green Park Underground Station",
              "routeType": "Unknown",
              "status": "Unknown",
              "type": "StopPoint",
              "uri": "/StopPoint/940GZZLUGPK"
             }
            ]
           },
           "plannedWorks": [],
           "routeOptions": [
            {
             "$type": "Tfl.Api.Presentation.Entities.JourneyPlanner.RouteOption, Tfl.Api.Presentation.Entities",
             "directions": [
              "Cockfosters Underground Station"
             ],
             "lineIdentifier": {
              "$type": "Tfl.Api.Presentation.Entities.Identifier, Tfl.Api.Presentation.Entities",
              "crowding": {
               "$type": "Tfl.Api.Presentation.Entities.Crowding, Tfl.Api.Presentation.Entities"
              },
              "id": "piccadilly",
              "name": "Piccadilly",
              "routeType": "Unknown",
              "status": "Unknown",
              "type": "Line",
              "uri": "/Line/piccadilly"
             },
             "name": "Piccadilly"
            }
           ]
          },
          {
           "$type": "Tfl.Api.Presentation.Entities.JourneyPlanner.Leg, Tfl.Api.Presentation.Entities",
           "arrivalPoint": {
            "$type": "Tfl.Api.Presentation.Entities.StopPoint, Tfl.Api.Presentation.Entities",
            "additionalProperties": [],
            "commonName": "London Bridge Underground Station",
            "icsCode": "1000139",
            "lat": 51.50583751486,
            "lon": -0.08785894256,
            "naptanId": "940GZZLULNB",
            "placeType": "StopPoint",
            "platformName": ""
           },
           "arrivalTime": "2021-03-06T00:46:00",
           "departurePoint": {
            "$type": "Tfl.Api.Presentation.Entities.StopPoint, Tfl.Api.Presentation.Entities",
            "additionalProperties": [],
            "commonName": "Green Park Underground Station",
            "icsCode": "1000093",
            "lat": 51.506161524460005,
            "lon": -0.14157969695,
            "naptanId": "940GZZLUGPK",
            "placeType": "StopPoint",
            "platformName": ""
           },
           "departureTime": "2021-03-06T00:40:00",
           "disruptions": [
            {
             "$type": "Tfl.Api.Presentation.Entities.Disruption, Tfl.Api.Presentation.Entities",
             "additionalInfo": "",
             "category": "PlannedWork",
             "categoryDescription": "PlannedWork",
             "created": "2018-01-22T11:40:00",
             "description": "LONDON BRIDGE STATION: Please note that step free interchange between the Jubilee and Northern lines is partly at street level, in both directions. Lifts are available between Northern line and Borough High Street entrance then via Borough High Street, St Thomas Street and Joiner Street to the main Underground ticket hall from where lifts are available to/from the Jubilee line.",
             "lastUpdate": "2018-03-05T15:29:00",
             "summary": "",
             "type": "stopInfo"
            }
           ],
           "duration": 6,
           "hasFixedLocations": true,
           "instruction": {
            "$type": "Tfl.Api.Presentation.Entities.Instruction, Tfl.Api.Presentation.Entities",
            "detailed": "Jubilee line towards Stratford",
            "steps": [],
            "summary": "Jubilee line to London Bridge"
           },
           "isDisrupted": true,
           "mode": {
            "$type": "Tfl.Api.Presentation.Entities.Identifier, Tfl.Api.Presentation.Entities",
            "id": "tube",
            "name": "tube",
            "routeType": "Unknown",
            "status": "Unknown",
            "type": "Mode"
           },
           "obstacles": [],
           "path": {
            "$type": "Tfl.Api.Presentation.Entities.JourneyPlanner.Path, Tfl.Api.Presentation.Entities",
            "elevation": [],
            "lineString": "[[51.50616302255, -0.14157907788],[51.50591197371, -0.14001919115],[51.50578760902, -0.13954873597],[51.50560033551, -0.13908084636],[51.5020131521, -0.1312158545],[51.50169268756, -0.13029241786],[51.50143374446, -0.12928002483],[51.50123402222, -0.12803468442],[51.50108659683, -0.12668635271],[51.50099956538, -0.12485966609],[51.50099956538, -0.12485966609],[51.5009783417, -0.12441429778],[51.50106337511, -0.12298439272],[51.50170090818, -0.11955780858],[51.50333888904, -0.11302583748],[51.50333888904, -0.11302583748],[51.50398263824, -0.11045815313],[51.50426792153, -0.10863078519],[51.50435392304, -0.10727275095],[51.50429122782, -0.10537666705],[51.50429122782, -0.10537666705],[51.50407248611, -0.0987685702],[51.50422182972, -0.09577963576],[51.50438856048, -0.09441820849],[51.50474305469, -0.09299129429],[51.50495952019, -0.09247792387],[51.50527608892, -0.09148484967],[51.50575025934, -0.08967822594],[51.50586159146, -0.08823258945],[51.50583318936, -0.08785978875]]",
            "stopPoints": [
             {
              "$type": "Tfl.Api.Presentation.Entities.Identifier, Tfl.Api.Presentation.Entities",
              "id": "940GZZLUWSM",
              "name": "Westminster Underground Station",
              "routeType": "Unknown",
              "status": "Unknown",
              "type": "StopPoint",
              "uri": "/StopPoint/940GZZLUWSM"
             },
             {
              "$type": "Tfl.Api.Presentation.Entities.Identifier, Tfl.Api.Presentation.Entities",
              "id": "940GZZLUWLO",
              "name": "Waterloo Underground Station",
              "routeType": "Unknown",
              "status": "Unknown",
              "type": "StopPoint",
              "uri": "/StopPoint/940GZZLUWLO"
             },
             {
              "$type": "Tfl.Api.Presentation.Entities.Identifier, Tfl.Api.Presentation.Entities",
              "id": "940GZZLUSWK",
              "name": "Southwark Underground Station",
              "routeType": "Unknown",
              "status": "Unknown",
              "type": "StopPoint",
              "uri": "/StopPoint/940GZZLUSWK"
             },
             {
              "$type": "Tfl.Api.Presentation.Entities.Identifier, Tfl.Api.Presentation.Entities",
              "id": "940GZZLULNB",
              "name": "London Bridge Underground Station",
              "routeType": "Unknown",
              "status": "Unknown",
              "type": "StopPoint",
              "uri": "/StopPoint/940GZZLULNB"
             }
            ]
           },
           "plannedWorks": [],
           "routeOptions": [
            {
             "$type": "Tfl.Api.Presentation.Entities.JourneyPlanner.RouteOption, Tfl.Api.Presentation.Entities",
             "directions": [
              "Stratford Underground Station"
             ],
             "lineIdentifier": {
              "$type": "Tfl.Api.Presentation.Entities.Identifier, Tfl.Api.Presentation.Entities",
              "crowding": {
               "$type": "Tfl.Api.Presentation.Entities.Crowding, Tfl.Api.Presentation.Entities"
              },
              "id": "jubilee",
              "name": "Jubilee",
              "routeType": "Unknown",
              "status": "Unknown",
              "type": "Line",
              "uri": "/Line/jubilee"
             },
             "name": "Jubilee"
            }
           ]
          },
          {
           "$type": "Tfl.Api.Presentation.Entities.JourneyPlanner.Leg, Tfl.Api.Presentation.Entities",
           "arrivalPoint": {
            "$type": "Tfl.Api.Presentation.Entities.Place, Tfl.Api.Presentation.Entities",
            "commonName": "SE1 2UF",
            "lat": 51.50266561539,
            "lon": -0.07755974773,
            "placeType": "StopPoint"
           },
           "arrivalTime": "2021-03-06T01:01:00",
           "departurePoint": {
            "$type": "Tfl.Api.Presentation.Entities.StopPoint, Tfl.Api.Presentation.Entities",
            "additionalProperties": [],
            "commonName": "London Bridge Underground Station",
            "icsCode": "1000139",
            "lat": 51.50583751486,
            "lon": -0.08785894256,
            "naptanId": "940GZZLULNB",
            "placeType": "StopPoint",
            "platformName": ""
           },
           "departureTime": "2021-03-06T00:46:00",
           "disruptions": [],
           "distance": 731,
           "duration": 15,
           "hasFixedLocations": false,
           "instruction": {
            "$type": "Tfl.Api.Presentation.Entities.Instruction, Tfl.Api.Presentation.Entities",
            "detailed": "Walk to SE1 2UF",
            "steps": [
             {
              "$type": "Tfl.Api.Presentation.Entities.InstructionStep, Tfl.Api.Presentation.Entities",
              "cumulativeDistance": 14,
              "cumulativeTravelTime": 13,
              "description": " for 14 metres",
              "descriptionHeading": "Continue along ",
              "distance": 14,
              "latitude": 51.50573620429,
              "longitude": -0.08660953442,
              "pathAttribute": {
               "$type": "Tfl.Api.Presentation.Entities.PathAttribute, Tfl.Api.Presentation.Entities"
              },
              "skyDirection": 403,
              "skyDirectionDescription": "North",
              "streetName": "",
              "trackType": "None",
              "turnDirection": "STRAIGHT"
             },
             {
              "$type": "Tfl.Api.Presentation.Entities.InstructionStep, Tfl.Api.Presentation.Entities",
              "cumulativeDistance": 43,
              "cumulativeTravelTime": 39,
              "description": "on to Duke Street Hill, continue for 29 metres",
              "descriptionHeading": "Take a slight right",
              "distance": 29,
              "latitude": 51.50582371923,
              "longitude": -0.08646177031,
              "pathAttribute": {
               "$type": "Tfl.Api.Presentation.Entities.PathAttribute, Tfl.Api.Presentation.Entities"
              },
              "skyDirection": 464,
              "skyDirectionDescription": "North",
              "streetName": "Duke Street Hill",
              "trackType": "None",
              "turnDirection": "SLIGHT_RIGHT"
             },
             {
              "$type": "Tfl.Api.Presentation.Entities.InstructionStep, Tfl.Api.Presentation.Entities",
              "cumulativeDistance": 731,
              "cumulativeTravelTime": 654,
              "description": "on to Tooley Street, continue for 688 metres",
              "descriptionHeading": "Continue along ",
              "distance": 688,
              "latitude": 51.50573626196,
              "longitude": -0.08606196091,
              "pathAttribute": {
               "$type": "Tfl.Api.Presentation.Entities.PathAttribute, Tfl.Api.Presentation.Entities"
              },
              "skyDirection": 467,
              "skyDirectionDescription": "North",
              "streetName": "Tooley Street",
              "trackType": "None",
              "turnDirection": "STRAIGHT"
             }
            ],
            "summary": "Walk to SE1 2UF"
           },
           "isDisrupted": false,
           "mode": {
            "$type": "Tfl.Api.Presentation.Entities.Identifier, Tfl.Api.Presentation.Entities",
            "id": "walking",
            "name": "walking",
            "routeType": "Unknown",
            "status": "Unknown",
            "type": "Mode"
           },
           "obstacles": [
            {
             "$type": "Tfl.Api.Presentation.Entities.JourneyPlanner.Obstacle, Tfl.Api.Presentation.Entities",
             "incline": "UP",
             "position": "BEFORE",
             "stopId": 1000139,
             "type": "ESCALATOR"
            },
            {
             "$type": "Tfl.Api.Presentation.Entities.JourneyPlanner.Obstacle, Tfl.Api.Presentation.Entities",
             "incline": "LEVEL",
             "position": "BEFORE",
             "stopId": 1000139,
             "type": "WALKWAY"
            }
           ],
           "path": {
            "$type": "Tfl.Api.Presentation.Entities.JourneyPlanner.Path, Tfl.Api.Presentation.Entities",
            "elevation": [],
            "lineString": "[[51.50583751486, -0.08785894256],[51.50586018302, -0.08814618959],[51.50572698292, -0.08659551096],[51.50573620429, -0.08660953442],[51.50582371923, -0.08646177031],[51.50578401402, -0.08623287728],[51.5057556448, -0.08614760733],[51.50573626196, -0.08606196091],[51.50564833323, -0.0856333533],[51.50550742478, -0.08526460714],[51.50533080462, -0.08491177021],[51.50528422644, -0.08481285579],[51.50510666415, -0.08440242352],[51.50506907198, -0.0843031332],[51.50492910045, -0.08399199446],[51.504741843, -0.08353874691],[51.50450682725, -0.08291459471],[51.50439286966, -0.08254473456],[51.50422334406, -0.08207634429],[51.50408289568, -0.08173641951],[51.50398051203, -0.08152458092],[51.50383060448, -0.08115623862],[51.50370859758, -0.08084436295],[51.50361307774, -0.08050255769],[51.50351567111, -0.08004556052],[51.50345774497, -0.0798030413],[51.50336387271, -0.07956203396],[51.50329790245, -0.07937749042],[51.5032127799, -0.07912170785],[51.50312742092, -0.07885152722],[51.50300399246, -0.07845326866],[51.50292051957, -0.07829828226],[51.5025511525, -0.07770865272],[51.50266561539, -0.07755974773]]",
            "stopPoints": []
           },
           "plannedWorks": [],
           "routeOptions": [
            {
             "$type": "Tfl.Api.Presentation.Entities.JourneyPlanner.RouteOption, Tfl.Api.Presentation.Entities",
             "directions": [
              ""
             ],
             "name": ""
            }
           ]
          }
         ],
         "startDateTime": "2021-03-05T23:37:00"
        },
        {
         "$type": "Tfl.Api.Presentation.Entities.JourneyPlanner.Journey, Tfl.Api.Presentation.Entities",
         "arrivalDateTime": "2021-03-06T05:47:00",
         "duration": 334,
         "legs": [
          {
           "$type": "Tfl.Api.Presentation.Entities.JourneyPlanner.Leg, Tfl.Api.Presentation.Entities",
           "arrivalPoint": {
            "$type": "Tfl.Api.Presentation.Entities.StopPoint, Tfl.Api.Presentation.Entities",
            "additionalProperties": [],
            "commonName": "Heathrow Terminals 2 & 3 Underground Station",
            "icsCode": "1000105",
            "lat": 51.471637629,
            "lon": -0.45295694328,
            "naptanId": "940GZZLUHRC",
            "placeType": "StopPoint",
            "platformName": ""
           },
           "arrivalTime": "2021-03-06T00:21:00",
           "departurePoint": {
            "$type": "Tfl.Api.Presentation.Entities.StopPoint, Tfl.Api.Presentation.Entities",
            "additionalProperties": [],
            "commonName": "TW6 1EW",
            "icsCode": "99999997",
            "lat": 51.469776580410006,
            "lon": -0.44957881255,
            "placeType": "StopPoint",
            "platformName": ""
           },
           "departureTime": "2021-03-06T00:13:00",
           "disruptions": [],
           "distance": 215,
           "duration": 8,
           "hasFixedLocations": true,
           "instruction": {
            "$type": "Tfl.Api.Presentation.Entities.Instruction, Tfl.Api.Presentation.Entities",
            "detailed": "Walk to Heathrow Terminals 2 & 3 Underground Station",
            "steps": [
             {
              "$type": "Tfl.Api.Presentation.Entities.InstructionStep, Tfl.Api.Presentation.Entities",
              "cumulativeDistance": 215,
              "cumulativeTravelTime": 193,
              "description": " for 215 metres",
              "descriptionHeading": "Continue along ",
              "distance": 215,
              "latitude": 51.469399547399995,
              "longitude": -0.45098816812,
              "pathAttribute": {
               "$type": "Tfl.Api.Presentation.Entities.PathAttribute, Tfl.Api.Presentation.Entities"
              },
              "skyDirection": 479,
              "skyDirectionDescription": "North",
              "streetName": "",
              "trackType": "None",
              "turnDirection": "STRAIGHT"
             }
            ],
            "summary": "Walk to Heathrow Terminals 2 & 3 Underground Station"
           },
           "isDisrupted": false,
           "mode": {
            "$type": "Tfl.Api.Presentation.Entities.Identifier, Tfl.Api.Presentation.Entities",
            "id": "walking",
            "name": "walking",
            "routeType": "Unknown",
            "status": "Unknown",
            "type": "Mode"
           },
           "obstacles": [
            {
             "$type": "Tfl.Api.Presentation.Entities.JourneyPlanner.Obstacle, Tfl.Api.Presentation.Entities",
             "incline": "DOWN",
             "position": "IDEST",
             "stopId": 1000105,
             "type": "ESCALATOR"
            },
            {
             "$type": "Tfl.Api.Presentation.Entities.JourneyPlanner.Obstacle, Tfl.Api.Presentation.Entities",
             "incline": "DOWN",
             "position": "IDEST",
             "stopId": 1000105,
             "type": "ESCALATOR"
            }
           ],
           "path": {
            "$type": "Tfl.Api.Presentation.Entities.JourneyPlanner.Path, Tfl.Api.Presentation.Entities",
            "elevation": [],
            "lineString": "[[51.46977658041, -0.44957881255],[51.4693995474, -0.45098816812],[51.47112631229, -0.45236951224],[51.47115175739, -0.45225346537],[51.4714450785, -0.45267548951],[51.471637629, -0.45295694328],[51.47133397351, -0.45296249441]]",
            "stopPoints": []
           },
           "plannedWorks": [],
           "routeOptions": [
            {
             "$type": "Tfl.Api.Presentation.Entities.JourneyPlanner.RouteOption, Tfl.Api.Presentation.Entities",
             "directions": [
              ""
             ],
             "name": ""
            }
           ]
          },
          {
           "$type": "Tfl.Api.Presentation.Entities.JourneyPlanner.Leg, Tfl.Api.Presentation.Entities",
           "arrivalPoint": {
            "$type": "Tfl.Api.Presentation.Entities.StopPoint, Tfl.Api.Presentation.Entities",
            "additionalProperties": [],
            "commonName": "Acton Town Underground Station",
            "icsCode": "1000002",
            "lat": 51.502776640040004,
            "lon": -0.27985270577,
            "naptanId": "940GZZLUACT",
            "placeType": "StopPoint",
            "platformName": ""
           },
           "arrivalTime": "2021-03-06T00:44:00",
           "departurePoint": {
            "$type": "Tfl.Api.Presentation.Entities.StopPoint, Tfl.Api.Presentation.Entities",
            "additionalProperties": [],
            "commonName": "Heathrow Terminals 2 & 3 Underground Station",
            "icsCode": "1000105",
            "lat": 51.471637629,
            "lon": -0.45295694328,
            "naptanId": "940GZZLUHRC",
            "placeType": "StopPoint",
            "platformName": ""
           },
           "departureTime": "2021-03-06T00:21:00",
           "disruptions": [],
           "duration": 23,
           "hasFixedLocations": true,
           "instruction": {
            "$type": "Tfl.Api.Presentation.Entities.Instruction, Tfl.Api.Presentation.Entities",
            "detailed": "Piccadilly line towards Acton Town",
            "steps": [],
            "summary": "Piccadilly line to Acton Town"
           },
           "isDisrupted": false,
           "mode": {
            "$type": "Tfl.Api.Presentation.Entities.Identifier, Tfl.Api.Presentation.Entities",
            "id": "tube",
            "name": "tube",
            "routeType": "Unknown",
            "status": "Unknown",
            "type": "Mode"
           },
           "obstacles": [
            {
             "$type": "Tfl.Api.Presentation.Entities.JourneyPlanner.Obstacle, Tfl.Api.Presentation.Entities",
             "incline": "LEVEL",
             "position": "AFTER",
             "stopId": 1000002,
             "type": "WALKWAY"
            }
           ],
           "path": {
            "$type": "Tfl.Api.Presentation.Entities.JourneyPlanner.Path, Tfl.Api.Presentation.Entities",
            "elevation": [],
            "lineString": "[[51.47133414008, -0.45297143671],[51.47129625217, -0.45093833188],[51.47119705219, -0.45023617707],[51.46562304245, -0.42736179058],[51.46551394189, -0.42660252651],[51.46550583066, -0.42599815248],[51.46559697209, -0.42541915544],[51.46638638497, -0.42360158321],[51.46638638497, -0.42360158321],[51.46680937918, -0.42262761335],[51.46718153783, -0.42154940001],[51.46922027601, -0.41469773922],[51.46967581535, -0.41314138278],[51.47188053313, -0.40662874577],[51.47266595611, -0.40421118384],[51.4731883564, -0.40229229392],[51.47494220963, -0.39704719586],[51.47507814629, -0.39646644862],[51.47513338514, -0.39590292812],[51.47512038717, -0.39495301203],[51.47498856672, -0.39386327385],[51.47478680503, -0.39291999464],[51.47423550195, -0.39075067401],[51.47358430283, -0.38851292937],[51.47345075673, -0.38795607167],[51.47337113566, -0.38739731574],[51.47335965335, -0.38656257661],[51.4733866923, -0.3859136657],[51.47341926289, -0.385734712],[51.47341926289, -0.385734712],[51.47387990381, -0.38320360757],[51.47400981566, -0.38219106752],[51.47403106901, -0.38112477083],[51.47390051231, -0.38013584652],[51.47368006827, -0.37915011351],[51.47336774641, -0.3780236576],[51.47223737126, -0.37496802597],[51.47157888271, -0.37287484377],[51.47133340786, -0.37138614109],[51.47123772117, -0.37032406734],[51.47125106032, -0.36869657304],[51.47133422543, -0.36620170922],[51.47133422543, -0.36620170922],[51.4713462021, -0.36584229009],[51.471437203, -0.36462956768],[51.47170628789, -0.36264734459],[51.47193784297, -0.36119919215],[51.47212169283, -0.36019909501],[51.47247924827, -0.35876079367],[51.4728923255, -0.35743566677],[51.47309198812, -0.35692453078],[51.47355472319, -0.35612620222],[51.47355472319, -0.35612620222],[51.47425972115, -0.35490986263],[51.47481464229, -0.35408352575],[51.47528513595, -0.35364900059],[51.47574088603, -0.35344539471],[51.47624258518, -0.35331212994],[51.47762670379, -0.35326228544],[51.47850114607, -0.35341800242],[51.47920219297, -0.35339275658],[51.4798650653, -0.35321047201],[51.48028385213, -0.35293616543],[51.48149076439, -0.35181184571],[51.48149076439, -0.35181184571],[51.48165077802, -0.35166277698],[51.48209207177, -0.35107079292],[51.48236279739, -0.35049935335],[51.48257878341, -0.34987227464],[51.48300527151, -0.34822943966],[51.48345936458, -0.34599508165],[51.48368842655, -0.34502183634],[51.48392951692, -0.34426418194],[51.48425966623, -0.34344568222],[51.48476834345, -0.34253428178],[51.49278966746, -0.32986928129],[51.49298247444, -0.32951650763],[51.49354004044, -0.32825725451],[51.4938018695, -0.3277002646],[51.49405676184, -0.32728757871],[51.49505998532, -0.32575263528],[51.49573468815, -0.32481625777],[51.49573468815, -0.32481625777],[51.49669122554, -0.3234886738],[51.49709621533, -0.32288314316],[51.49733208505, -0.32239906485],[51.49831750614, -0.31962555272],[51.49858208852, -0.31863613968],[51.49971676663, -0.31353113831],[51.49971676663, -0.31353113831],[51.50036424411, -0.31061752396],[51.50108944725, -0.30739114955],[51.50108944725, -0.30739114955],[51.50118391718, -0.30697082307],[51.50132127291, -0.30651908558],[51.50231360067, -0.30424901532],[51.502829938, -0.30264491839],[51.50303125403, -0.30164325011],[51.50329277414, -0.29983245096],[51.50433859847, -0.29320863743],[51.50460043866, -0.29204613102],[51.50562103371, -0.28865058866],[51.50578964306, -0.28788057234],[51.50587715008, -0.28709918206],[51.50585659227, -0.28630743346],[51.50570999464, -0.28550600685],[51.50538968178, -0.28450937827],[51.50364425624, -0.28137618171],[51.50277167788, -0.27986003801]]",
            "stopPoints": [
             {
              "$type": "Tfl.Api.Presentation.Entities.Identifier, Tfl.Api.Presentation.Entities",
              "id": "940GZZLUHNX",
              "name": "Hatton Cross Underground Station",
              "routeType": "Unknown",
              "status": "Unknown",
              "type": "StopPoint",
              "uri": "/StopPoint/940GZZLUHNX"
             },
             {
              "$type": "Tfl.Api.Presentation.Entities.Identifier, Tfl.Api.Presentation.Entities",
              "id": "940GZZLUHWT",
              "name": "Hounslow West Underground Station",
              "routeType": "Unknown",
              "status": "Unknown",
              "type": "StopPoint",
              "uri": "/StopPoint/940GZZLUHWT"
             },
             {
              "$type": "Tfl.Api.Presentation.Entities.Identifier, Tfl.Api.Presentation.Entities",
              "id": "940GZZLUHWC",
              "name": "Hounslow Central Underground Station",
              "routeType": "Unknown",
              "status": "Unknown",
              "type": "StopPoint",
              "uri": "/StopPoint/940GZZLUHWC"
             },
             {
              "$type": "Tfl.Api.Presentation.Entities.Identifier, Tfl.Api.Presentation.Entities",
              "id": "940GZZLUHWE",
              "name": "Hounslow East Underground Station",
              "routeType": "Unknown",
              "status": "Unknown",
              "type": "StopPoint",
              "uri": "/StopPoint/940GZZLUHWE"
             },
             {
              "$type": "Tfl.Api.Presentation.Entities.Identifier, Tfl.Api.Presentation.Entities",
              "id": "940GZZLUOSY",
              "name": "Osterley Underground Station",
              "routeType": "Unknown",
              "status": "Unknown",
              "type": "StopPoint",
              "uri": "/StopPoint/940GZZLUOSY"
             },
             {
              "$type": "Tfl.Api.Presentation.Entities.Identifier, Tfl.Api.Presentation.Entities",
              "id": "940GZZLUBOS",
              "name": "Boston Manor Underground Station",
              "routeType": "Unknown",
              "status": "Unknown",
              "type": "StopPoint",
              "uri": "/StopPoint/940GZZLUBOS"
             },
             {
              "$type": "Tfl.Api.Presentation.Entities.Identifier, Tfl.Api.Presentation.Entities",
              "id": "940GZZLUNFD",
              "name": "Northfields Underground Station",
              "routeType": "Unknown",
              "status": "Unknown",
              "type": "StopPoint",
              "uri": "/StopPoint/940GZZLUNFD"
             },
             {
              "$type": "Tfl.Api.Presentation.Entities.Identifier, Tfl.Api.Presentation.Entities",
              "id": "940GZZLUSEA",
              "name": "South Ealing Underground Station",
              "routeType": "Unknown",
              "status": "Unknown",
              "type": "StopPoint",
              "uri": "/StopPoint/940GZZLUSEA"
             },
             {
              "$type": "Tfl.Api.Presentation.Entities.Identifier, Tfl.Api.Presentation.Entities",
              "id": "940GZZLUACT",
              "name": "Acton Town Underground Station",
              "routeType": "Unknown",
              "status": "Unknown",
              "type": "StopPoint",
              "uri": "/StopPoint/940GZZLUACT"
             }
            ]
           },
           "plannedWorks": [],
           "routeOptions": [
            {
             "$type": "Tfl.Api.Presentation.Entities.JourneyPlanner.RouteOption, Tfl.Api.Presentation.Entities",
             "directions": [
              "Acton Town Underground Station"
             ],
             "lineIdentifier": {
              "$type": "Tfl.Api.Presentation.Entities.Identifier, Tfl.Api.Presentation.Entities",
              "crowding": {
               "$type": "Tfl.Api.Presentation.Entities.Crowding, Tfl.Api.Presentation.Entities"
              },
              "id": "piccadilly",
              "name": "Piccadilly",
              "routeType": "Unknown",
              "status": "Unknown",
              "type": "Line",
              "uri": "/Line/piccadilly"
             },
             "name": "Piccadilly"
            }
           ]
          },
          {
           "$type": "Tfl.Api.Presentation.Entities.JourneyPlanner.Leg, Tfl.Api.Presentation.Entities",
           "arrivalPoint": {
            "$type": "Tfl.Api.Presentation.Entities.StopPoint, Tfl.Api.Presentation.Entities",
            "additionalProperties": [],
            "commonName": "Westminster Underground Station",
            "icsCode": "1000266",
            "lat": 51.50125484855,
            "lon": -0.12483519366000001,
            "naptanId": "940GZZLUWSM",
            "placeType": "StopPoint",
            "platformName": ""
           },
           "arrivalTime": "2021-03-06T05:24:00",
           "departurePoint": {
            "$type": "Tfl.Api.Presentation.Entities.StopPoint, Tfl.Api.Presentation.Entities",
            "additionalProperties": [],
            "commonName": "Acton Town Underground Station",
            "icsCode": "1000002",
            "lat": 51.5028508624,
            "lon": -0.2800084046,
            "naptanId": "940GZZLUACT",
            "placeType": "StopPoint",
            "platformName": ""
           },
           "departureTime": "2021-03-06T04:57:00",
           "disruptions": [
            {
             "$type": "Tfl.Api.Presentation.Entities.Disruption, Tfl.Api.Presentation.Entities",
             "additionalInfo": "",
             "category": "PlannedWork",
             "categoryDescription": "PlannedWork",
             "created": "2021-01-08T09:03:00",
             "description": "CIRCLE LINE: Saturday 6 March, until 1045, no service on the whole line.",
             "lastUpdate": "2021-01-08T09:04:00",
             "summary": "",
             "type": "routeBlocking"
            }
           ],
           "duration": 27,
           "hasFixedLocations": true,
           "instruction": {
            "$type": "Tfl.Api.Presentation.Entities.Instruction, Tfl.Api.Presentation.Entities",
            "detailed": "District line towards Embankment",
            "steps": [],
            "summary": "District line to Westminster"
           },
           "isDisrupted": true,
           "mode": {
            "$type": "Tfl.Api.Presentation.Entities.Identifier, Tfl.Api.Presentation.Entities",
            "id": "tube",
            "name": "tube",
            "routeType": "Unknown",
            "status": "Unknown",
            "type": "Mode"
           },
           "obstacles": [
            {
             "$type": "Tfl.Api.Presentation.Entities.JourneyPlanner.Obstacle, Tfl.Api.Presentation.Entities",
             "incline": "DOWN",
             "position": "AFTER",
             "stopId": 1000266,
             "type": "ESCALATOR"
            },
            {
             "$type": "Tfl.Api.Presentation.Entities.JourneyPlanner.Obstacle, Tfl.Api.Presentation.Entities",
             "incline": "DOWN",
             "position": "AFTER",
             "stopId": 1000266,
             "type": "ESCALATOR"
            }
           ],
           "path": {
            "$type": "Tfl.Api.Presentation.Entities.JourneyPlanner.Path, Tfl.Api.Presentation.Entities",
            "elevation": [],
            "lineString": "[[51.50285421646, -0.28000344856],[51.50276765264, -0.27985304418],[51.50209223387, -0.27917247055],[51.50052843591, -0.2780067116],[51.49987182754, -0.27738311875],[51.49874479649, -0.27595607466],[51.49570540839, -0.27107177814],[51.4952880256, -0.27020879586],[51.49492158603, -0.26914221544],[51.49461741054, -0.26803007429],[51.49461465266, -0.26800891247],[51.49461465266, -0.26800891247],[51.49447542257, -0.26694060845],[51.49450009304, -0.2661761603],[51.49460760363, -0.26493317096],[51.49470011041, -0.26389242917],[51.49510405624, -0.26020352799],[51.49529069168, -0.25642200817],[51.49529539136, -0.25552864659],[51.49526427161, -0.25446367932],[51.4952615636, -0.25446388245],[51.49504322545, -0.24585737758],[51.49501249562, -0.24585968837],[51.49490995737, -0.24236181984],[51.49482848299, -0.24112603403],[51.49463612357, -0.23969283971],[51.49416765347, -0.23664244205],[51.49413246427, -0.23609637831],[51.49412541851, -0.2359246765],[51.49412541851, -0.2359246765],[51.4938625608, -0.22952336733],[51.49389162508, -0.22847062012],[51.49387241422, -0.22779429393],[51.4937344074, -0.22699292561],[51.49354399647, -0.22629443585],[51.49330755644, -0.22552571115],[51.49310068802, -0.22492871185],[51.4928333043, -0.22449252917],[51.49208760477, -0.22356801013],[51.49208760477, -0.22356801013],[51.4910645424, -0.22229967955],[51.49062992288, -0.22150991913],[51.49034895321, -0.22077181035],[51.49018503026, -0.22004355659],[51.49011471448, -0.21896595054],[51.4901460911, -0.21807164222],[51.49041793613, -0.21643331258],[51.49047428308, -0.21540837889],[51.49042292219, -0.21415752913],[51.49042292219, -0.21415752913],[51.49040282633, -0.21366820117],[51.49016057498, -0.21134412118],[51.49031239024, -0.20891819446],[51.49082224137, -0.20617272801],[51.49082224137, -0.20617272801],[51.49101029725, -0.20515997396],[51.4910095878, -0.20452618611],[51.49090274014, -0.20342120885],[51.49062705245, -0.2018619248],[51.49049372764, -0.20137740912],[51.49021616645, -0.20086976491],[51.48981978322, -0.20023716482],[51.48967724378, -0.19973862077],[51.48961337489, -0.19909293535],[51.4896001071, -0.19822919003],[51.4896975539, -0.19754833679],[51.48997363039, -0.19678841006],[51.49053241398, -0.19570040991],[51.49176926194, -0.19383235919],[51.49176926194, -0.19383235919],[51.49250094582, -0.19272720411],[51.4940688846, -0.19060515021],[51.49446241221, -0.18988367282],[51.49475396596, -0.18896453843],[51.49486799732, -0.18819649308],[51.49495269862, -0.18669489221],[51.49488363497, -0.18571801418],[51.4946523523, -0.18471877111],[51.49429434407, -0.18311980226],[51.49429434407, -0.18311980226],[51.49420795866, -0.18273399814],[51.49394701123, -0.18156309445],[51.49383207696, -0.18053044806],[51.49388296801, -0.17917427153],[51.49418157766, -0.17524395382],[51.49413444819, -0.17394930107],[51.49410537443, -0.17304276088],[51.49410537443, -0.17304276088],[51.49397701935, -0.16904318096],[51.49388955135, -0.16574773969],[51.4935821644, -0.16104938568],[51.4933850391, -0.15994807731],[51.49232944642, -0.15611967477],[51.49232944642, -0.15611967477],[51.49220260052, -0.1556596748],[51.49203419789, -0.15467250467],[51.49196864177, -0.15336426993],[51.4919550368, -0.15250050208],[51.49203596861, -0.15135920979],[51.49217467015, -0.15046046611],[51.4924521552, -0.14923917703],[51.49279354996, -0.1486491277],[51.49433974243, -0.14747721673],[51.49559299982, -0.14654761224],[51.49602447545, -0.14596825275],[51.4964152192, -0.14508799447],[51.49666102898, -0.1441415737],[51.49677372683, -0.14350601902],[51.49677372683, -0.14350601902],[51.49705728358, -0.14190681254],[51.4973873904, -0.13947300677],[51.49759187705, -0.13875873199],[51.49935006435, -0.13452329177],[51.49937923781, -0.13443898791],[51.49937923781, -0.13443898791],[51.49960798215, -0.13377796535],[51.49976612469, -0.13297907664],[51.49979592553, -0.13202694365],[51.49977810033, -0.12978005537],[51.49984405157, -0.12884084682],[51.50000376901, -0.12814272697],[51.50102555928, -0.12568028136],[51.50137149336, -0.12498395938]]",
            "stopPoints": [
             {
              "$type": "Tfl.Api.Presentation.Entities.Identifier, Tfl.Api.Presentation.Entities",
              "id": "940GZZLUCWP",
              "name": "Chiswick Park Underground Station",
              "routeType": "Unknown",
              "status": "Unknown",
              "type": "StopPoint",
              "uri": "/StopPoint/940GZZLUCWP"
             },
             {
              "$type": "Tfl.Api.Presentation.Entities.Identifier, Tfl.Api.Presentation.Entities",
              "id": "940GZZLUTNG",
              "name": "Turnham Green Underground Station",
              "routeType": "Unknown",
              "status": "Unknown",
              "type": "StopPoint",
              "uri": "/StopPoint/940GZZLUTNG"
             },
             {
              "$type": "Tfl.Api.Presentation.Entities.Identifier, Tfl.Api.Presentation.Entities",
              "id": "940GZZLUSFB",
              "name": "Stamford Brook Underground Station",
              "routeType": "Unknown",
              "status": "Unknown",
              "type": "StopPoint",
              "uri": "/StopPoint/940GZZLUSFB"
             },
             {
              "$type": "Tfl.Api.Presentation.Entities.Identifier, Tfl.Api.Presentation.Entities",
              "id": "940GZZLURVP",
              "name": "Ravenscourt Park Underground Station",
              "routeType": "Unknown",
              "status": "Unknown",
              "type": "StopPoint",
              "uri": "/StopPoint/940GZZLURVP"
             },
             {
              "$type": "Tfl.Api.Presentation.Entities.Identifier, Tfl.Api.Presentation.Entities",
              "id": "940GZZLUHSD",
              "name": "Hammersmith (Dist&Picc Line) Underground Station",
              "routeType": "Unknown",
              "status": "Unknown",
              "type": "StopPoint",
              "uri": "/StopPoint/940GZZLUHSD"
             },
             {
              "$type": "Tfl.Api.Presentation.Entities.Identifier, Tfl.Api.Presentation.Entities",
              "id": "940GZZLUBSC",
              "name": "Barons Court Underground Station",
              "routeType": "Unknown",
              "status": "Unknown",
              "type": "StopPoint",
              "uri": "/StopPoint/940GZZLUBSC"
             },
             {
              "$type": "Tfl.Api.Presentation.Entities.Identifier, Tfl.Api.Presentation.Entities",
              "id": "940GZZLUWKN",
              "name": "West Kensington Underground Station",
              "routeType": "Unknown",
              "status": "Unknown",
              "type": "StopPoint",
              "uri": "/StopPoint/940GZZLUWKN"
             },
             {
              "$type": "Tfl.Api.Presentation.Entities.Identifier, Tfl.Api.Presentation.Entities",
              "id": "940GZZLUECT",
              "name": "Earl's Court Underground Station",
              "routeType": "Unknown",
              "status": "Unknown",
              "type": "StopPoint",
              "uri": "/StopPoint/940GZZLUECT"
             },
             {
              "$type": "Tfl.Api.Presentation.Entities.Identifier, Tfl.Api.Presentation.Entities",
              "id": "940GZZLUGTR",
              "name": "Gloucester Road Underground Station",
              "routeType": "Unknown",
              "status": "Unknown",
              "type": "StopPoint",
              "uri": "/StopPoint/940GZZLUGTR"
             },
             {
              "$type": "Tfl.Api.Presentation.Entities.Identifier, Tfl.Api.Presentation.Entities",
              "id": "940GZZLUSKS",
              "name": "South Kensington Underground Station",
              "routeType": "Unknown",
              "status": "Unknown",
              "type": "StopPoint",
              "uri": "/StopPoint/940GZZLUSKS"
             },
             {
              "$type": "Tfl.Api.Presentation.Entities.Identifier, Tfl.Api.Presentation.Entities",
              "id": "940GZZLUSSQ",
              "name": "Sloane Square Underground Station",
              "routeType": "Unknown",
              "status": "Unknown",
              "type": "StopPoint",
              "uri": "/StopPoint/940GZZLUSSQ"
             },
             {
              "$type": "Tfl.Api.Presentation.Entities.Identifier, Tfl.Api.Presentation.Entities",
              "id": "940GZZLUVIC",
              "name": "Victoria Underground Station",
              "routeType": "Unknown",
              "status": "Unknown",
              "type": "StopPoint",
              "uri": "/StopPoint/940GZZLUVIC"
             },
             {
              "$type": "Tfl.Api.Presentation.Entities.Identifier, Tfl.Api.Presentation.Entities",
              "id": "940GZZLUSJP",
              "name": "St. James's Park Underground Station",
              "routeType": "Unknown",
              "status": "Unknown",
              "type": "StopPoint",
              "uri": "/StopPoint/940GZZLUSJP"
             },
             {
              "$type": "Tfl.Api.Presentation.Entities.Identifier, Tfl.Api.Presentation.Entities",
              "id": "940GZZLUWSM",
              "name": "Westminster Underground Station",
              "routeType": "Unknown",
              "status": "Unknown",
              "type": "StopPoint",
              "uri": "/StopPoint/940GZZLUWSM"
             }
            ]
           },
           "plannedWorks": [],
           "routeOptions": [
            {
             "$type": "Tfl.Api.Presentation.Entities.JourneyPlanner.RouteOption, Tfl.Api.Presentation.Entities",
             "directions": [
              "Embankment Underground Station"
             ],
             "lineIdentifier": {
              "$type": "Tfl.Api.Presentation.Entities.Identifier, Tfl.Api.Presentation.Entities",
              "crowding": {
               "$type": "Tfl.Api.Presentation.Entities.Crowding, Tfl.Api.Presentation.Entities"
              },
              "id": "district",
              "name": "District",
              "routeType": "Unknown",
              "status": "Unknown",
              "type": "Line",
              "uri": "/Line/district"
             },
             "name": "District"
            }
           ]
          },
          {
           "$type": "Tfl.Api.Presentation.Entities.JourneyPlanner.Leg, Tfl.Api.Presentation.Entities",
           "arrivalPoint": {
            "$type": "Tfl.Api.Presentation.Entities.StopPoint, Tfl.Api.Presentation.Entities",
            "additionalProperties": [],
            "commonName": "London Bridge Underground Station",
            "icsCode": "1000139",
            "lat": 51.50583751486,
            "lon": -0.08785894256,
            "naptanId": "940GZZLULNB",
            "placeType": "StopPoint",
            "platformName": ""
           },
           "arrivalTime": "2021-03-06T05:32:00",
           "departurePoint": {
            "$type": "Tfl.Api.Presentation.Entities.StopPoint, Tfl.Api.Presentation.Entities",
            "additionalProperties": [],
            "commonName": "Westminster Underground Station",
            "icsCode": "1000266",
            "lat": 51.50099446612,
            "lon": -0.12486028989,
            "naptanId": "940GZZLUWSM",
            "placeType": "StopPoint",
            "platformName": ""
           },
           "departureTime": "2021-03-06T05:28:00",
           "disruptions": [
            {
             "$type": "Tfl.Api.Presentation.Entities.Disruption, Tfl.Api.Presentation.Entities",
             "additionalInfo": "",
             "category": "PlannedWork",
             "categoryDescription": "PlannedWork",
             "created": "2021-01-08T09:03:00",
             "description": "CIRCLE LINE: Saturday 6 March, until 1045, no service on the whole line.",
             "lastUpdate": "2021-01-08T09:04:00",
             "summary": "",
             "type": "routeBlocking"
            },
            {
             "$type": "Tfl.Api.Presentation.Entities.Disruption, Tfl.Api.Presentation.Entities",
             "additionalInfo": "",
             "category": "PlannedWork",
             "categoryDescription": "PlannedWork",
             "created": "2018-01-22T11:40:00",
             "description": "LONDON BRIDGE STATION: Please note that step free interchange between the Jubilee and Northern lines is partly at street level, in both directions. Lifts are available between Northern line and Borough High Street entrance then via Borough High Street, St Thomas Street and Joiner Street to the main Underground ticket hall from where lifts are available to/from the Jubilee line.",
             "lastUpdate": "2018-03-05T15:29:00",
             "summary": "",
             "type": "stopInfo"
            }
           ],
           "duration": 4,
           "hasFixedLocations": true,
           "instruction": {
            "$type": "Tfl.Api.Presentation.Entities.Instruction, Tfl.Api.Presentation.Entities",
            "detailed": "Jubilee line towards Stratford",
            "steps": [],
            "summary": "Jubilee line to London Bridge"
           },
           "isDisrupted": true,
           "mode": {
            "$type": "Tfl.Api.Presentation.Entities.Identifier, Tfl.Api.Presentation.Entities",
            "id": "tube",
            "name": "tube",
            "routeType": "Unknown",
            "status": "Unknown",
            "type": "Mode"
           },
           "obstacles": [],
           "path": {
            "$type": "Tfl.Api.Presentation.Entities.JourneyPlanner.Path, Tfl.Api.Presentation.Entities",
            "elevation": [],
            "lineString": "[[51.50099956538, -0.12485966609],[51.5009783417, -0.12441429778],[51.50106337511, -0.12298439272],[51.50170090818, -0.11955780858],[51.50333888904, -0.11302583748],[51.50333888904, -0.11302583748],[51.50398263824, -0.11045815313],[51.50426792153, -0.10863078519],[51.50435392304, -0.10727275095],[51.50429122782, -0.10537666705],[51.50429122782, -0.10537666705],[51.50407248611, -0.0987685702],[51.50422182972, -0.09577963576],[51.50438856048, -0.09441820849],[51.50474305469, -0.09299129429],[51.50495952019, -0.09247792387],[51.50527608892, -0.09148484967],[51.50575025934, -0.08967822594],[51.50586159146, -0.08823258945],[51.50583318936, -0.08785978875]]",
            "stopPoints": [
             {
              "$type": "Tfl.Api.Presentation.Entities.Identifier, Tfl.Api.Presentation.Entities",
              "id": "940GZZLUWLO",
              "name": "Waterloo Underground Station",
              "routeType": "Unknown",
              "status": "Unknown",
              "type": "StopPoint",
              "uri": "/StopPoint/940GZZLUWLO"
             },
             {
              "$type": "Tfl.Api.Presentation.Entities.Identifier, Tfl.Api.Presentation.Entities",
              "id": "940GZZLUSWK",
              "name": "Southwark Underground Station",
              "routeType": "Unknown",
              "status": "Unknown",
              "type": "StopPoint",
              "uri": "/StopPoint/940GZZLUSWK"
             },
             {
              "$type": "Tfl.Api.Presentation.Entities.Identifier, Tfl.Api.Presentation.Entities",
              "id": "940GZZLULNB",
              "name": "London Bridge Underground Station",
              "routeType": "Unknown",
              "status": "Unknown",
              "type": "StopPoint",
              "uri": "/StopPoint/940GZZLULNB"
             }
            ]
           },
           "plannedWorks": [],
           "routeOptions": [
            {
             "$type": "Tfl.Api.Presentation.Entities.JourneyPlanner.RouteOption, Tfl.Api.Presentation.Entities",
             "directions": [
              "Stratford Underground Station"
             ],
             "lineIdentifier": {
              "$type": "Tfl.Api.Presentation.Entities.Identifier, Tfl.Api.Presentation.Entities",
              "crowding": {
               "$type": "Tfl.Api.Presentation.Entities.Crowding, Tfl.Api.Presentation.Entities"
              },
              "id": "jubilee",
              "name": "Jubilee",
              "routeType": "Unknown",
              "status": "Unknown",
              "type": "Line",
              "uri": "/Line/jubilee"
             },
             "name": "Jubilee"
            }
           ]
          },
          {
           "$type": "Tfl.Api.Presentation.Entities.JourneyPlanner.Leg, Tfl.Api.Presentation.Entities",
           "arrivalPoint": {
            "$type": "Tfl.Api.Presentation.Entities.Place, Tfl.Api.Presentation.Entities",
            "commonName": "SE1 2UF",
            "lat": 51.50266561539,
            "lon": -0.07755974773,
            "placeType": "StopPoint"
           },
           "arrivalTime": "2021-03-06T05:47:00",
           "departurePoint": {
            "$type": "Tfl.Api.Presentation.Entities.StopPoint, Tfl.Api.Presentation.Entities",
            "additionalProperties": [],
            "commonName": "London Bridge Underground Station",
            "icsCode": "1000139",
            "lat": 51.50583751486,
            "lon": -0.08785894256,
            "naptanId": "940GZZLULNB",
            "placeType": "StopPoint",
            "platformName": ""
           },
           "departureTime": "2021-03-06T05:32:00",
           "disruptions": [],
           "distance": 731,
           "duration": 15,
           "hasFixedLocations": false,
           "instruction": {
            "$type": "Tfl.Api.Presentation.Entities.Instruction, Tfl.Api.Presentation.Entities",
            "detailed": "Walk to SE1 2UF",
            "steps": [
             {
              "$type": "Tfl.Api.Presentation.Entities.InstructionStep, Tfl.Api.Presentation.Entities",
              "cumulativeDistance": 14,
              "cumulativeTravelTime": 13,
              "description": " for 14 metres",
              "descriptionHeading": "Continue along ",
              "distance": 14,
              "latitude": 51.50573620429,
              "longitude": -0.08660953442,
              "pathAttribute": {
               "$type": "Tfl.Api.Presentation.Entities.PathAttribute, Tfl.Api.Presentation.Entities"
              },
              "skyDirection": 403,
              "skyDirectionDescription": "North",
              "streetName": "",
              "trackType": "None",
              "turnDirection": "STRAIGHT"
             },
             {
              "$type": "Tfl.Api.Presentation.Entities.InstructionStep, Tfl.Api.Presentation.Entities",
              "cumulativeDistance": 43,
              "cumulativeTravelTime": 39,
              "description": "on to Duke Street Hill, continue for 29 metres",
              "descriptionHeading": "Take a slight right",
              "distance": 29,
              "latitude": 51.50582371923,
              "longitude": -0.08646177031,
              "pathAttribute": {
               "$type": "Tfl.Api.Presentation.Entities.PathAttribute, Tfl.Api.Presentation.Entities"
              },
              "skyDirection": 464,
              "skyDirectionDescription": "North",
              "streetName": "Duke Street Hill",
              "trackType": "None",
              "turnDirection": "SLIGHT_RIGHT"
             },
             {
              "$type": "Tfl.Api.Presentation.Entities.InstructionStep, Tfl.Api.Presentation.Entities",
              "cumulativeDistance": 731,
              "cumulativeTravelTime": 654,
              "description": "on to Tooley Street, continue for 688 metres",
              "descriptionHeading": "Continue along ",
              "distance": 688,
              "latitude": 51.50573626196,
              "longitude": -0.08606196091,
              "pathAttribute": {
               "$type": "Tfl.Api.Presentation.Entities.PathAttribute, Tfl.Api.Presentation.Entities"
              },
              "skyDirection": 467,
              "skyDirectionDescription": "North",
              "streetName": "Tooley Street",
              "trackType": "None",
              "turnDirection": "STRAIGHT"
             }
            ],
            "summary": "Walk to SE1 2UF"
           },
           "isDisrupted": false,
           "mode": {
            "$type": "Tfl.Api.Presentation.Entities.Identifier, Tfl.Api.Presentation.Entities",
            "id": "walking",
            "name": "walking",
            "routeType": "Unknown",
            "status": "Unknown",
            "type": "Mode"
           },
           "obstacles": [
            {
             "$type": "Tfl.Api.Presentation.Entities.JourneyPlanner.Obstacle, Tfl.Api.Presentation.Entities",
             "incline": "UP",
             "position": "BEFORE",
             "stopId": 1000139,
             "type": "ESCALATOR"
            },
            {
             "$type": "Tfl.Api.Presentation.Entities.JourneyPlanner.Obstacle, Tfl.Api.Presentation.Entities",
             "incline": "LEVEL",
             "position": "BEFORE",
             "stopId": 1000139,
             "type": "WALKWAY"
            }
           ],
           "path": {
            "$type": "Tfl.Api.Presentation.Entities.JourneyPlanner.Path, Tfl.Api.Presentation.Entities",
            "elevation": [],
            "lineString": "[[51.50583751486, -0.08785894256],[51.50586018302, -0.08814618959],[51.50572698292, -0.08659551096],[51.50573620429, -0.08660953442],[51.50582371923, -0.08646177031],[51.50578401402, -0.08623287728],[51.5057556448, -0.08614760733],[51.50573626196, -0.08606196091],[51.50564833323, -0.0856333533],[51.50550742478, -0.08526460714],[51.50533080462, -0.08491177021],[51.50528422644, -0.08481285579],[51.50510666415, -0.08440242352],[51.50506907198, -0.0843031332],[51.50492910045, -0.08399199446],[51.504741843, -0.08353874691],[51.50450682725, -0.08291459471],[51.50439286966, -0.08254473456],[51.50422334406, -0.08207634429],[51.50408289568, -0.08173641951],[51.50398051203, -0.08152458092],[51.50383060448, -0.08115623862],[51.50370859758, -0.08084436295],[51.50361307774, -0.08050255769],[51.50351567111, -0.08004556052],[51.50345774497, -0.0798030413],[51.50336387271, -0.07956203396],[51.50329790245, -0.07937749042],[51.5032127799, -0.07912170785],[51.50312742092, -0.07885152722],[51.50300399246, -0.07845326866],[51.50292051957, -0.07829828226],[51.5025511525, -0.07770865272],[51.50266561539, -0.07755974773]]",
            "stopPoints": []
           },
           "plannedWorks": [],
           "routeOptions": [
            {
             "$type": "Tfl.Api.Presentation.Entities.JourneyPlanner.RouteOption, Tfl.Api.Presentation.Entities",
             "directions": [
              ""
             ],
             "name": ""
            }
           ]
          }
         ],
         "startDateTime": "2021-03-06T00:13:00"
        }
       ],
       "lines": [
        {
         "$type": "Tfl.Api.Presentation.Entities.Line, Tfl.Api.Presentation.Entities",
         "created": "2021-03-02T13:59:20.13Z",
         "crowding": {
          "$type": "Tfl.Api.Presentation.Entities.Crowding, Tfl.Api.Presentation.Entities"
         },
         "disruptions": [],
         "id": "district",
         "lineStatuses": [
          {
           "$type": "Tfl.Api.Presentation.Entities.LineStatus, Tfl.Api.Presentation.Entities",
           "created": "0001-01-01T00:00:00",
           "disruption": {
            "$type": "Tfl.Api.Presentation.Entities.Disruption, Tfl.Api.Presentation.Entities",
            "additionalInfo": "Replacement buses operate Service DL6: Liverpool Street - Aldgate and Aldgate East - Stepney Green - Whitechapel - Mile End - Stepney Green - Mile End - Bow Road - Bromley-by-Bow - Canning Town (for Jubilee line and DLR connections to/from West Ham) - Barking.",
            "affectedRoutes": [],
            "affectedStops": [],
            "category": "PlannedWork",
            "categoryDescription": "PlannedWork",
            "closureText": "partClosure",
            "created": "2021-01-08T08:58:00Z",
            "description": "DISTRICT LINE: Saturday 6 March, until 1000, no service between Embankment and West Ham. Replacement buses operate between Liverpool Street and Barking."
           },
           "id": 0,
           "lineId": "district",
           "reason": "DISTRICT LINE: Saturday 6 March, until 1000, no service between Embankment and West Ham. Replacement buses operate between Liverpool Street and Barking.",
           "statusSeverity": 5,
           "statusSeverityDescription": "Part Closure",
           "validityPeriods": [
            {
             "$type": "Tfl.Api.Presentation.Entities.ValidityPeriod, Tfl.Api.Presentation.Entities",
             "fromDate": "2021-03-06T04:30:00Z",
             "isNow": false,
             "toDate": "2021-03-06T10:00:00Z"
            }
           ]
          }
         ],
         "modeName": "tube",
         "modified": "2021-03-02T13:59:20.13Z",
         "name": "District",
         "routeSections": [],
         "serviceTypes": [
          {
           "$type": "Tfl.Api.Presentation.Entities.LineServiceTypeInfo, Tfl.Api.Presentation.Entities",
           "name": "Regular",
           "uri": "/Line/Route?ids=District&serviceTypes=Regular"
          }
         ]
        },
        {
         "$type": "Tfl.Api.Presentation.Entities.Line, Tfl.Api.Presentation.Entities",
         "created": "2021-03-02T13:59:20.13Z",
         "crowding": {
          "$type": "Tfl.Api.Presentation.Entities.Crowding, Tfl.Api.Presentation.Entities"
         },
         "disruptions": [],
         "id": "jubilee",
         "lineStatuses": [
          {
           "$type": "Tfl.Api.Presentation.Entities.LineStatus, Tfl.Api.Presentation.Entities",
           "created": "0001-01-01T00:00:00",
           "id": 0,
           "statusSeverity": 10,
           "statusSeverityDescription": "Good Service",
           "validityPeriods": []
          }
         ],
         "modeName": "tube",
         "modified": "2021-03-02T13:59:20.13Z",
         "name": "Jubilee",
         "routeSections": [],
         "serviceTypes": [
          {
           "$type": "Tfl.Api.Presentation.Entities.LineServiceTypeInfo, Tfl.Api.Presentation.Entities",
           "name": "Regular",
           "uri": "/Line/Route?ids=Jubilee&serviceTypes=Regular"
          },
          {
           "$type": "Tfl.Api.Presentation.Entities.LineServiceTypeInfo, Tfl.Api.Presentation.Entities",
           "name": "Night",
           "uri": "/Line/Route?ids=Jubilee&serviceTypes=Night"
          }
         ]
        },
        {
         "$type": "Tfl.Api.Presentation.Entities.Line, Tfl.Api.Presentation.Entities",
         "created": "2021-03-02T13:59:20.13Z",
         "crowding": {
          "$type": "Tfl.Api.Presentation.Entities.Crowding, Tfl.Api.Presentation.Entities"
         },
         "disruptions": [],
         "id": "piccadilly",
         "lineStatuses": [
          {
           "$type": "Tfl.Api.Presentation.Entities.LineStatus, Tfl.Api.Presentation.Entities",
           "created": "0001-01-01T00:00:00",
           "id": 0,
           "statusSeverity": 10,
           "statusSeverityDescription": "Good Service",
           "validityPeriods": []
          }
         ],
         "modeName": "tube",
         "modified": "2021-03-02T13:59:20.13Z",
         "name": "Piccadilly",
         "routeSections": [],
         "serviceTypes": [
          {
           "$type": "Tfl.Api.Presentation.Entities.LineServiceTypeInfo, Tfl.Api.Presentation.Entities",
           "name": "Regular",
           "uri": "/Line/Route?ids=Piccadilly&serviceTypes=Regular"
          },
          {
           "$type": "Tfl.Api.Presentation.Entities.LineServiceTypeInfo, Tfl.Api.Presentation.Entities",
           "name": "Night",
           "uri": "/Line/Route?ids=Piccadilly&serviceTypes=Night"
          }
         ]
        }
       ],
       "recommendedMaxAgeMinutes": 5,
       "searchCriteria": {
        "$type": "Tfl.Api.Presentation.Entities.JourneyPlanner.SearchCriteria, Tfl.Api.Presentation.Entities",
        "dateTime": "2021-03-05T23:37:00",
        "dateTimeType": "Departing",
        "timeAdjustments": {
         "$type": "Tfl.Api.Presentation.Entities.JourneyPlanner.TimeAdjustments, Tfl.Api.Presentation.Entities",
         "earlier": {
          "$type": "Tfl.Api.Presentation.Entities.JourneyPlanner.TimeAdjustment, Tfl.Api.Presentation.Entities",
          "date": "20210305",
          "time": "2333",
          "timeIs": "departing",
          "uri": "/journey/journeyresults/tw61ew/to/se12uf?mode=tube&time=2333&date=20210305&timeIs=departing"
         },
         "earliest": {
          "$type": "Tfl.Api.Presentation.Entities.JourneyPlanner.TimeAdjustment, Tfl.Api.Presentation.Entities",
          "date": "20210305",
          "time": "0300",
          "timeIs": "departing",
          "uri": "/journey/journeyresults/tw61ew/to/se12uf?mode=tube&time=0300&date=20210305&timeIs=departing"
         },
         "later": {
          "$type": "Tfl.Api.Presentation.Entities.JourneyPlanner.TimeAdjustment, Tfl.Api.Presentation.Entities",
          "date": "20210306",
          "time": "0013",
          "timeIs": "departing",
          "uri": "/journey/journeyresults/tw61ew/to/se12uf?mode=tube&time=0013&date=20210306&timeIs=departing"
         },
         "latest": {
          "$type": "Tfl.Api.Presentation.Entities.JourneyPlanner.TimeAdjustment, Tfl.Api.Presentation.Entities",
          "date": "20210306",
          "time": "0300",
          "timeIs": "departing",
          "uri": "/journey/journeyresults/tw61ew/to/se12uf?mode=tube&time=0300&date=20210306&timeIs=departing"
         }
        }
       },
       "stopMessages": []
      },
      "text/plain": [
       "<IPython.core.display.JSON object>"
      ]
     },
     "execution_count": 12,
     "metadata": {
      "application/json": {
       "expanded": false,
       "root": "root"
      }
     },
     "output_type": "execute_result"
    }
   ],
   "source": [
    "result_journey_tube = res6.json()\n",
    "clearer_journey_tube = JSON(result_journey_tube)\n",
    "clearer_journey_tube"
   ]
  },
  {
   "cell_type": "code",
   "execution_count": 107,
   "metadata": {},
   "outputs": [],
   "source": [
    "journey_tube_list = []\n",
    "tube_durations = []\n",
    "\n",
    "for key in result_journey_tube:\n",
    "    if result_journey_tube[key] == result_journey_tube[\"journeys\"]:\n",
    "        journey_tube_list.append(result_journey_tube[key])\n",
    "\n",
    "for journey in journey_tube_list:\n",
    "    for item in journey:\n",
    "        for key in item:\n",
    "            if item[key] == item[\"duration\"]:\n",
    "                tube_durations.append(item[key])\n",
    "    \n",
    "tube_durations_dict['tube'] = tube_durations"
   ]
  },
  {
   "cell_type": "code",
   "execution_count": 13,
   "metadata": {},
   "outputs": [],
   "source": [
    "# URL for journet by bus\n",
    "url_journey_bus = \"https://api.tfl.gov.uk/Journey/JourneyResults/TW61EW/to/SE12UF?mode=bus\""
   ]
  },
  {
   "cell_type": "code",
   "execution_count": 14,
   "metadata": {},
   "outputs": [],
   "source": [
    "res7 = requests.get(url_journey_bus)"
   ]
  },
  {
   "cell_type": "code",
   "execution_count": 15,
   "metadata": {},
   "outputs": [
    {
     "data": {
      "text/plain": [
       "200"
      ]
     },
     "execution_count": 15,
     "metadata": {},
     "output_type": "execute_result"
    }
   ],
   "source": [
    "res7.status_code"
   ]
  },
  {
   "cell_type": "code",
   "execution_count": 13,
   "metadata": {},
   "outputs": [],
   "source": [
    "# res7.json()"
   ]
  },
  {
   "cell_type": "code",
   "execution_count": 16,
   "metadata": {},
   "outputs": [
    {
     "data": {
      "application/json": {
       "$type": "Tfl.Api.Presentation.Entities.JourneyPlanner.ItineraryResult, Tfl.Api.Presentation.Entities",
       "journeyVector": {
        "$type": "Tfl.Api.Presentation.Entities.JourneyPlanner.JourneyVector, Tfl.Api.Presentation.Entities",
        "from": "TW61EW",
        "to": "SE12UF",
        "uri": "/journey/journeyresults/tw61ew/to/se12uf?mode=bus",
        "via": ""
       },
       "journeys": [
        {
         "$type": "Tfl.Api.Presentation.Entities.JourneyPlanner.Journey, Tfl.Api.Presentation.Entities",
         "arrivalDateTime": "2021-03-06T01:26:00",
         "duration": 126,
         "legs": [
          {
           "$type": "Tfl.Api.Presentation.Entities.JourneyPlanner.Leg, Tfl.Api.Presentation.Entities",
           "arrivalPoint": {
            "$type": "Tfl.Api.Presentation.Entities.StopPoint, Tfl.Api.Presentation.Entities",
            "additionalProperties": [],
            "commonName": "Heathrow Central Bus Stn (Rail-Air)",
            "icsCode": "1008016",
            "lat": 51.47136544841,
            "lon": -0.45345569183,
            "naptanId": "910GHTRWCBS",
            "placeType": "StopPoint",
            "platformName": "19"
           },
           "arrivalTime": "2021-03-05T23:31:00",
           "departurePoint": {
            "$type": "Tfl.Api.Presentation.Entities.StopPoint, Tfl.Api.Presentation.Entities",
            "additionalProperties": [],
            "commonName": "TW6 1EW",
            "icsCode": "99999997",
            "lat": 51.469776580410006,
            "lon": -0.44957881255,
            "placeType": "StopPoint",
            "platformName": ""
           },
           "departureTime": "2021-03-05T23:20:00",
           "disruptions": [],
           "distance": 706,
           "duration": 11,
           "hasFixedLocations": true,
           "instruction": {
            "$type": "Tfl.Api.Presentation.Entities.Instruction, Tfl.Api.Presentation.Entities",
            "detailed": "Walk to Heathrow Central Bus Station",
            "steps": [
             {
              "$type": "Tfl.Api.Presentation.Entities.InstructionStep, Tfl.Api.Presentation.Entities",
              "cumulativeDistance": 318,
              "cumulativeTravelTime": 286,
              "description": " for 318 metres",
              "descriptionHeading": "Continue along ",
              "distance": 318,
              "latitude": 51.469399547399995,
              "longitude": -0.45098816812,
              "pathAttribute": {
               "$type": "Tfl.Api.Presentation.Entities.PathAttribute, Tfl.Api.Presentation.Entities"
              },
              "skyDirection": 299,
              "skyDirectionDescription": "NorthWest",
              "streetName": "",
              "trackType": "None",
              "turnDirection": "STRAIGHT"
             },
             {
              "$type": "Tfl.Api.Presentation.Entities.InstructionStep, Tfl.Api.Presentation.Entities",
              "cumulativeDistance": 569,
              "cumulativeTravelTime": 512,
              "description": "on to Contrail Way, continue for 251 metres",
              "descriptionHeading": "Take a slight right",
              "distance": 251,
              "latitude": 51.46853877779,
              "longitude": -0.45322012153,
              "pathAttribute": {
               "$type": "Tfl.Api.Presentation.Entities.PathAttribute, Tfl.Api.Presentation.Entities"
              },
              "skyDirection": 318,
              "skyDirectionDescription": "North",
              "streetName": "Contrail Way",
              "trackType": "None",
              "turnDirection": "SLIGHT_RIGHT"
             },
             {
              "$type": "Tfl.Api.Presentation.Entities.InstructionStep, Tfl.Api.Presentation.Entities",
              "cumulativeDistance": 638,
              "cumulativeTravelTime": 574,
              "description": "on to Inner Ring West, continue for 69 metres",
              "descriptionHeading": "Continue along ",
              "distance": 69,
              "latitude": 51.47062030437,
              "longitude": -0.45422958635,
              "pathAttribute": {
               "$type": "Tfl.Api.Presentation.Entities.PathAttribute, Tfl.Api.Presentation.Entities"
              },
              "skyDirection": 346,
              "skyDirectionDescription": "North",
              "streetName": "Inner Ring West",
              "trackType": "None",
              "turnDirection": "STRAIGHT"
             },
             {
              "$type": "Tfl.Api.Presentation.Entities.InstructionStep, Tfl.Api.Presentation.Entities",
              "cumulativeDistance": 706,
              "cumulativeTravelTime": 635,
              "description": "on to Control Tower Road, continue for 68 metres",
              "descriptionHeading": "Take a sharp right",
              "distance": 68,
              "latitude": 51.47123340134,
              "longitude": -0.45435284892,
              "pathAttribute": {
               "$type": "Tfl.Api.Presentation.Entities.PathAttribute, Tfl.Api.Presentation.Entities"
              },
              "skyDirection": 485,
              "skyDirectionDescription": "North",
              "streetName": "Control Tower Road",
              "trackType": "None",
              "turnDirection": "SHARP_RIGHT"
             }
            ],
            "summary": "Walk to Heathrow Central Bus Station"
           },
           "isDisrupted": false,
           "mode": {
            "$type": "Tfl.Api.Presentation.Entities.Identifier, Tfl.Api.Presentation.Entities",
            "id": "walking",
            "name": "walking",
            "routeType": "Unknown",
            "status": "Unknown",
            "type": "Mode"
           },
           "obstacles": [],
           "path": {
            "$type": "Tfl.Api.Presentation.Entities.JourneyPlanner.Path, Tfl.Api.Presentation.Entities",
            "elevation": [],
            "lineString": "[[51.46977658041, -0.44957881255],[51.4693995474, -0.45098816812],[51.46990315369, -0.45235330669],[51.46991214191, -0.45235300257],[51.46988479735, -0.4523251321],[51.46981289153, -0.45232756509],[51.46968724628, -0.45234621415],[51.46867138648, -0.45236618747],[51.46854688075, -0.45247118184],[51.46849693931, -0.45277521685],[51.46853877779, -0.45322012153],[51.46884108363, -0.45364182433],[51.46895982838, -0.45378178552],[51.46917649481, -0.45384644959],[51.46965363027, -0.45388791242],[51.47004968183, -0.45391771884],[51.47031147908, -0.45399525753],[51.47062030437, -0.45422958635],[51.47094558814, -0.45434817678],[51.47123340134, -0.45435284892],[51.47102977877, -0.45391338582],[51.47101509723, -0.4534819363]]",
            "stopPoints": []
           },
           "plannedWorks": [],
           "routeOptions": [
            {
             "$type": "Tfl.Api.Presentation.Entities.JourneyPlanner.RouteOption, Tfl.Api.Presentation.Entities",
             "directions": [
              ""
             ],
             "name": ""
            }
           ]
          },
          {
           "$type": "Tfl.Api.Presentation.Entities.JourneyPlanner.Leg, Tfl.Api.Presentation.Entities",
           "arrivalPoint": {
            "$type": "Tfl.Api.Presentation.Entities.StopPoint, Tfl.Api.Presentation.Entities",
            "additionalProperties": [],
            "commonName": "Newport Road",
            "icsCode": "1010245",
            "lat": 51.48033031768,
            "lon": -0.45957538585,
            "naptanId": "490G00010245",
            "placeType": "StopPoint",
            "platformName": "",
            "stopLetter": "BS"
           },
           "arrivalTime": "2021-03-05T23:33:00",
           "departurePoint": {
            "$type": "Tfl.Api.Presentation.Entities.StopPoint, Tfl.Api.Presentation.Entities",
            "additionalProperties": [],
            "commonName": "Heathrow Central Bus Stn (Rail-Air)",
            "icsCode": "1008016",
            "lat": 51.47136544841,
            "lon": -0.45345569183,
            "naptanId": "910GHTRWCBS",
            "placeType": "StopPoint",
            "platformName": "19"
           },
           "departureTime": "2021-03-05T23:31:00",
           "disruptions": [
            {
             "$type": "Tfl.Api.Presentation.Entities.Disruption, Tfl.Api.Presentation.Entities",
             "additionalInfo": "Further information and a <a href=\"https://tfl.gov.uk/campaign/bus-strike?intcmp=25146\">list of affected routes</a>.",
             "category": "RealTime",
             "categoryDescription": "RealTime",
             "created": "2021-02-26T09:44:00",
             "description": "RATP DEV LONDON STRIKE: RATP Dev London bus services in parts of west, south west and north west London are expected to see disruption on Friday 5, Saturday 6 and Wednesday 10 March, TfL is working hard to minimise potential disruption but customers who need to make journeys are advised to check before they travel. Industrial action will affect services from 00:00 to 23:59 on the respective strike dates and until 06:00 on Sunday 7 March.",
             "lastUpdate": "2021-03-04T21:45:00",
             "summary": "",
             "type": "lineInfo"
            }
           ],
           "duration": 2,
           "hasFixedLocations": true,
           "instruction": {
            "$type": "Tfl.Api.Presentation.Entities.Instruction, Tfl.Api.Presentation.Entities",
            "detailed": "105 bus towards Greenford Station or 278 bus towards Ruislip",
            "steps": [],
            "summary": "105 bus or 278 bus to Newport Road"
           },
           "isDisrupted": true,
           "mode": {
            "$type": "Tfl.Api.Presentation.Entities.Identifier, Tfl.Api.Presentation.Entities",
            "id": "bus",
            "name": "bus",
            "routeType": "Unknown",
            "status": "Unknown",
            "type": "Mode"
           },
           "obstacles": [],
           "path": {
            "$type": "Tfl.Api.Presentation.Entities.JourneyPlanner.Path, Tfl.Api.Presentation.Entities",
            "elevation": [],
            "lineString": "[[51.47101407422, -0.45348903241],[51.47102977877, -0.45391338582],[51.47123340134, -0.45435284892],[51.47164382467, -0.45410860501],[51.47176814204, -0.45398921576],[51.4718389094, -0.45390043298],[51.47199993852, -0.45383739555],[51.47215027137, -0.45364513232],[51.47265000589, -0.45335466072],[51.47292750196, -0.45325888387],[51.47348382278, -0.45316807442],[51.47415718024, -0.45308770308],[51.47983216464, -0.45315493627],[51.48028233488, -0.45319731136],[51.48051216594, -0.45357836826],[51.4805808203, -0.45537619694],[51.48058255226, -0.45687386359],[51.480532032, -0.45713478996],[51.48032199499, -0.45757391089],[51.48025907736, -0.45757603333],[51.47999264857, -0.45782983811],[51.48000068956, -0.45912565839],[51.48004790025, -0.45929687979],[51.48024791081, -0.45946295338],[51.48031159651, -0.45944031377]]",
            "stopPoints": [
             {
              "$type": "Tfl.Api.Presentation.Entities.Identifier, Tfl.Api.Presentation.Entities",
              "id": "490G00010245",
              "name": "Newport Road",
              "routeType": "Unknown",
              "status": "Unknown",
              "type": "StopPoint",
              "uri": "/StopPoint/490G00010245"
             }
            ]
           },
           "plannedWorks": [],
           "routeOptions": [
            {
             "$type": "Tfl.Api.Presentation.Entities.JourneyPlanner.RouteOption, Tfl.Api.Presentation.Entities",
             "directions": [
              "Greenford Station"
             ],
             "lineIdentifier": {
              "$type": "Tfl.Api.Presentation.Entities.Identifier, Tfl.Api.Presentation.Entities",
              "crowding": {
               "$type": "Tfl.Api.Presentation.Entities.Crowding, Tfl.Api.Presentation.Entities"
              },
              "id": "105",
              "name": "105",
              "routeType": "Unknown",
              "status": "Unknown",
              "type": "Line",
              "uri": "/Line/105"
             },
             "name": "105"
            },
            {
             "$type": "Tfl.Api.Presentation.Entities.JourneyPlanner.RouteOption, Tfl.Api.Presentation.Entities",
             "directions": [
              "Ruislip"
             ],
             "lineIdentifier": {
              "$type": "Tfl.Api.Presentation.Entities.Identifier, Tfl.Api.Presentation.Entities",
              "crowding": {
               "$type": "Tfl.Api.Presentation.Entities.Crowding, Tfl.Api.Presentation.Entities"
              },
              "id": "278",
              "name": "278",
              "routeType": "Unknown",
              "status": "Unknown",
              "type": "Line",
              "uri": "/Line/278"
             },
             "name": "278"
            }
           ]
          },
          {
           "$type": "Tfl.Api.Presentation.Entities.JourneyPlanner.Leg, Tfl.Api.Presentation.Entities",
           "arrivalPoint": {
            "$type": "Tfl.Api.Presentation.Entities.StopPoint, Tfl.Api.Presentation.Entities",
            "additionalProperties": [],
            "commonName": "Hounslow West Station",
            "icsCode": "1000118",
            "lat": 51.4729425193,
            "lon": -0.3856557626,
            "naptanId": "490G00118B",
            "placeType": "StopPoint",
            "platformName": "A",
            "stopLetter": "A"
           },
           "arrivalTime": "2021-03-05T23:50:00",
           "departurePoint": {
            "$type": "Tfl.Api.Presentation.Entities.StopPoint, Tfl.Api.Presentation.Entities",
            "additionalProperties": [],
            "commonName": "Newport Road",
            "icsCode": "1010245",
            "lat": 51.48102681122,
            "lon": -0.46194254242,
            "naptanId": "490G00010245",
            "placeType": "StopPoint",
            "platformName": "",
            "stopLetter": "BB"
           },
           "departureTime": "2021-03-05T23:39:00",
           "disruptions": [],
           "duration": 11,
           "hasFixedLocations": true,
           "instruction": {
            "$type": "Tfl.Api.Presentation.Entities.Instruction, Tfl.Api.Presentation.Entities",
            "detailed": "81 bus towards Hounslow Bus Station",
            "steps": [],
            "summary": "81 bus to Hounslow West Station"
           },
           "isDisrupted": false,
           "mode": {
            "$type": "Tfl.Api.Presentation.Entities.Identifier, Tfl.Api.Presentation.Entities",
            "id": "bus",
            "name": "bus",
            "routeType": "Unknown",
            "status": "Unknown",
            "type": "Mode"
           },
           "obstacles": [],
           "path": {
            "$type": "Tfl.Api.Presentation.Entities.JourneyPlanner.Path, Tfl.Api.Presentation.Entities",
            "elevation": [],
            "lineString": "[[51.48099976193, -0.46194591774],[51.48095067379, -0.4609370118],[51.48099828363, -0.45976890164],[51.4810906338, -0.45858487926],[51.48112318079, -0.45832455735],[51.48128929481, -0.45591391834],[51.48129013154, -0.45529462871],[51.48129236583, -0.45501490104],[51.48129236583, -0.45501490104],[51.48129691805, -0.45444471504],[51.4813390818, -0.45355040017],[51.48137203681, -0.45059698657],[51.48135277608, -0.4498199607],[51.4812593432, -0.44824648928],[51.4812593432, -0.44824648928],[51.48124865507, -0.44806651712],[51.48118141416, -0.44638383501],[51.48115790672, -0.44596699318],[51.48110660893, -0.44485074433],[51.48110660893, -0.44485074433],[51.48105679557, -0.44376702021],[51.48103806298, -0.44303318812],[51.48101148482, -0.44238603203],[51.48094665055, -0.44089050135],[51.48091833743, -0.44011379483],[51.48089063509, -0.43919645045],[51.48089063509, -0.43919645045],[51.48085402792, -0.43798459424],[51.48083621828, -0.43732274234],[51.48077896367, -0.43572615539],[51.48076859265, -0.43494884035],[51.48075211113, -0.43438775421],[51.48074139338, -0.43425850962],[51.48074004802, -0.43415774669],[51.48072740776, -0.4338845552],[51.48069032907, -0.43309839139],[51.48069032907, -0.43309839139],[51.48065213014, -0.43228859374],[51.48063170332, -0.42874658466],[51.4807350556, -0.42651532735],[51.4807350556, -0.42651532735],[51.48074327993, -0.4263377336],[51.48078145873, -0.42583237365],[51.4809098962, -0.42401338102],[51.48093105628, -0.42358061078],[51.48099590984, -0.42261420937],[51.48099590984, -0.42261420937],[51.48104341969, -0.42190617429],[51.48126090105, -0.4200264766],[51.48127716756, -0.41973193202],[51.48127716756, -0.41973193202],[51.48136208978, -0.41819398861],[51.48134882974, -0.4178776143],[51.48121586028, -0.41668689413],[51.48051086688, -0.41375905236],[51.48027370119, -0.41284560526],[51.48005720113, -0.41204923993],[51.48005720113, -0.41204923993],[51.48003711323, -0.41197535075],[51.47975323824, -0.41093393623],[51.4797155306, -0.41080563771],[51.4796399198, -0.41053464712],[51.47948868509, -0.40999430559],[51.47948868509, -0.40999430559],[51.47917686339, -0.40888024733],[51.4790260231, -0.40836706795],[51.47893106288, -0.40799595373],[51.47879917213, -0.40755412356],[51.47871397939, -0.40724027535],[51.47852561539, -0.40661320888],[51.47829953507, -0.40585785727],[51.47815119939, -0.40534555443],[51.47815119939, -0.40534555443],[51.47796929568, -0.40471733364],[51.47792942717, -0.40443071562],[51.47794681565, -0.40438690751],[51.47798120085, -0.40427050394],[51.47788603189, -0.40388501336],[51.47778559649, -0.40377331589],[51.47762809778, -0.40343320534],[51.4769693816, -0.40118133713],[51.4769693816, -0.40118133713],[51.47683584143, -0.40072484635],[51.47649381445, -0.39938320797],[51.47601886104, -0.39752785119],[51.47587210777, -0.39698325082],[51.47587210777, -0.39698325082],[51.4757536223, -0.39654356138],[51.47570061199, -0.39595503005],[51.47575001122, -0.3956221025],[51.47572166884, -0.3955222985],[51.47569450799, -0.39550885171],[51.47551238525, -0.39534244527],[51.47535092223, -0.39471452635],[51.47526589255, -0.39441511906],[51.47509721084, -0.3939170564],[51.47497228372, -0.39333106303],[51.47485752523, -0.39283111243],[51.47467649426, -0.39208870357],[51.47440862073, -0.39108603012],[51.47440862073, -0.39108603012],[51.47430681304, -0.3907049667],[51.47408882888, -0.38989187964],[51.47392812772, -0.38932156904],[51.47352226457, -0.38792475294],[51.47348433416, -0.38778209924],[51.47316587878, -0.38685739222],[51.47295923305, -0.38621673013],[51.47303735141, -0.38601238855],[51.47292604584, -0.38566947249]]",
            "stopPoints": [
             {
              "$type": "Tfl.Api.Presentation.Entities.Identifier, Tfl.Api.Presentation.Entities",
              "id": "490G00012177",
              "name": "Sipson Way / Blunts Avenue",
              "routeType": "Unknown",
              "status": "Unknown",
              "type": "StopPoint",
              "uri": "/StopPoint/490G00012177"
             },
             {
              "$type": "Tfl.Api.Presentation.Entities.Identifier, Tfl.Api.Presentation.Entities",
              "id": "490G00012176",
              "name": "Nene Road",
              "routeType": "Unknown",
              "status": "Unknown",
              "type": "StopPoint",
              "uri": "/StopPoint/490G00012176"
             },
             {
              "$type": "Tfl.Api.Presentation.Entities.Identifier, Tfl.Api.Presentation.Entities",
              "id": "490G00004139",
              "name": "Bolton's Lane",
              "routeType": "Unknown",
              "status": "Unknown",
              "type": "StopPoint",
              "uri": "/StopPoint/490G00004139"
             },
             {
              "$type": "Tfl.Api.Presentation.Entities.Identifier, Tfl.Api.Presentation.Entities",
              "id": "490G00010251",
              "name": "New Road",
              "routeType": "Unknown",
              "status": "Unknown",
              "type": "StopPoint",
              "uri": "/StopPoint/490G00010251"
             },
             {
              "$type": "Tfl.Api.Presentation.Entities.Identifier, Tfl.Api.Presentation.Entities",
              "id": "490G00007811",
              "name": "Harlington Corner",
              "routeType": "Unknown",
              "status": "Unknown",
              "type": "StopPoint",
              "uri": "/StopPoint/490G00007811"
             },
             {
              "$type": "Tfl.Api.Presentation.Entities.Identifier, Tfl.Api.Presentation.Entities",
              "id": "490G00015397",
              "name": "Nobel Drive",
              "routeType": "Unknown",
              "status": "Unknown",
              "type": "StopPoint",
              "uri": "/StopPoint/490G00015397"
             },
             {
              "$type": "Tfl.Api.Presentation.Entities.Identifier, Tfl.Api.Presentation.Entities",
              "id": "490G00010677",
              "name": "Oxford Avenue",
              "routeType": "Unknown",
              "status": "Unknown",
              "type": "StopPoint",
              "uri": "/StopPoint/490G00010677"
             },
             {
              "$type": "Tfl.Api.Presentation.Entities.Identifier, Tfl.Api.Presentation.Entities",
              "id": "490G00013596",
              "name": "Craneswater",
              "routeType": "Unknown",
              "status": "Unknown",
              "type": "StopPoint",
              "uri": "/StopPoint/490G00013596"
             },
             {
              "$type": "Tfl.Api.Presentation.Entities.Identifier, Tfl.Api.Presentation.Entities",
              "id": "490G00005704",
              "name": "Waye Avenue",
              "routeType": "Unknown",
              "status": "Unknown",
              "type": "StopPoint",
              "uri": "/StopPoint/490G00005704"
             },
             {
              "$type": "Tfl.Api.Presentation.Entities.Identifier, Tfl.Api.Presentation.Entities",
              "id": "490G00013235",
              "name": "The Avenue",
              "routeType": "Unknown",
              "status": "Unknown",
              "type": "StopPoint",
              "uri": "/StopPoint/490G00013235"
             },
             {
              "$type": "Tfl.Api.Presentation.Entities.Identifier, Tfl.Api.Presentation.Entities",
              "id": "490G00013495",
              "name": "The Parkway",
              "routeType": "Unknown",
              "status": "Unknown",
              "type": "StopPoint",
              "uri": "/StopPoint/490G00013495"
             },
             {
              "$type": "Tfl.Api.Presentation.Entities.Identifier, Tfl.Api.Presentation.Entities",
              "id": "490G00011470",
              "name": "Rectory Road",
              "routeType": "Unknown",
              "status": "Unknown",
              "type": "StopPoint",
              "uri": "/StopPoint/490G00011470"
             },
             {
              "$type": "Tfl.Api.Presentation.Entities.Identifier, Tfl.Api.Presentation.Entities",
              "id": "490G00015462",
              "name": "Henlys Roundabout",
              "routeType": "Unknown",
              "status": "Unknown",
              "type": "StopPoint",
              "uri": "/StopPoint/490G00015462"
             },
             {
              "$type": "Tfl.Api.Presentation.Entities.Identifier, Tfl.Api.Presentation.Entities",
              "id": "490G000040",
              "name": "Great West Road / Renfrew Road",
              "routeType": "Unknown",
              "status": "Unknown",
              "type": "StopPoint",
              "uri": "/StopPoint/490G000040"
             },
             {
              "$type": "Tfl.Api.Presentation.Entities.Identifier, Tfl.Api.Presentation.Entities",
              "id": "490G00118B",
              "name": "Hounslow West Station",
              "routeType": "Unknown",
              "status": "Unknown",
              "type": "StopPoint",
              "uri": "/StopPoint/490G00118B"
             }
            ]
           },
           "plannedWorks": [],
           "routeOptions": [
            {
             "$type": "Tfl.Api.Presentation.Entities.JourneyPlanner.RouteOption, Tfl.Api.Presentation.Entities",
             "directions": [
              "Hounslow Bus Station"
             ],
             "lineIdentifier": {
              "$type": "Tfl.Api.Presentation.Entities.Identifier, Tfl.Api.Presentation.Entities",
              "crowding": {
               "$type": "Tfl.Api.Presentation.Entities.Crowding, Tfl.Api.Presentation.Entities"
              },
              "id": "81",
              "name": "81",
              "routeType": "Unknown",
              "status": "Unknown",
              "type": "Line",
              "uri": "/Line/81"
             },
             "name": "81"
            }
           ]
          },
          {
           "$type": "Tfl.Api.Presentation.Entities.JourneyPlanner.Leg, Tfl.Api.Presentation.Entities",
           "arrivalPoint": {
            "$type": "Tfl.Api.Presentation.Entities.StopPoint, Tfl.Api.Presentation.Entities",
            "additionalProperties": [],
            "commonName": "Hammersmith Bus Station",
            "icsCode": "1007705",
            "lat": 51.49259065112,
            "lon": -0.22450195684,
            "naptanId": "490G000565",
            "placeType": "StopPoint",
            "platformName": "",
            "stopLetter": "Z1"
           },
           "arrivalTime": "2021-03-06T00:23:00",
           "departurePoint": {
            "$type": "Tfl.Api.Presentation.Entities.StopPoint, Tfl.Api.Presentation.Entities",
            "additionalProperties": [],
            "commonName": "Hounslow West Station",
            "icsCode": "1000118",
            "lat": 51.47289460746,
            "lon": -0.38544147045000005,
            "naptanId": "490G00118B",
            "placeType": "StopPoint",
            "platformName": "B",
            "stopLetter": "B"
           },
           "departureTime": "2021-03-05T23:55:00",
           "disruptions": [
            {
             "$type": "Tfl.Api.Presentation.Entities.Disruption, Tfl.Api.Presentation.Entities",
             "additionalInfo": "Further information and a <a href=\"https://tfl.gov.uk/campaign/bus-strike?intcmp=25146\">list of affected routes</a>.",
             "category": "RealTime",
             "categoryDescription": "RealTime",
             "created": "2021-02-26T09:44:00",
             "description": "RATP DEV LONDON STRIKE: RATP Dev London bus services in parts of west, south west and north west London are expected to see disruption on Friday 5, Saturday 6 and Wednesday 10 March, TfL is working hard to minimise potential disruption but customers who need to make journeys are advised to check before they travel. Industrial action will affect services from 00:00 to 23:59 on the respective strike dates and until 06:00 on Sunday 7 March.",
             "lastUpdate": "2021-03-04T21:45:00",
             "summary": "",
             "type": "lineInfo"
            },
            {
             "$type": "Tfl.Api.Presentation.Entities.Disruption, Tfl.Api.Presentation.Entities",
             "additionalInfo": "",
             "category": "PlannedWork",
             "categoryDescription": "PlannedWork",
             "created": "2021-02-25T07:52:00",
             "description": "GREAT WEST ROAD: From 22:00 to 05:00 nightly starting on Monday 01 March and ending on Saturday 06 March, route H91 is on diversion due to roadworks. Buses towards Hammersmith will miss stops from Clayponds Avenue to Chiswick Roundabout/Gunnersbury. Buses towards Osterley will miss stops from Chiswick Roundabout/Gunnersbury to Ealing Road. Use stops on Chiswick High Road or use the stops Windmill Road or Ealing Road (stop BU). Buses are diverted via Ealing Road, Brentford High Street, Kew Bridge Road and Chiswick High Road.",
             "lastUpdate": "2021-02-25T08:21:00",
             "summary": "CE21/13519 A4 GREAT WEST ROAD,TW8 BUS ROUTE H91",
             "type": "lineInfo"
            }
           ],
           "duration": 28,
           "hasFixedLocations": true,
           "instruction": {
            "$type": "Tfl.Api.Presentation.Entities.Instruction, Tfl.Api.Presentation.Entities",
            "detailed": "H91 bus towards Hammersmith",
            "steps": [],
            "summary": "H91 bus to Hammersmith Bus Station"
           },
           "isDisrupted": true,
           "mode": {
            "$type": "Tfl.Api.Presentation.Entities.Identifier, Tfl.Api.Presentation.Entities",
            "id": "bus",
            "name": "bus",
            "routeType": "Unknown",
            "status": "Unknown",
            "type": "Mode"
           },
           "obstacles": [],
           "path": {
            "$type": "Tfl.Api.Presentation.Entities.JourneyPlanner.Path, Tfl.Api.Presentation.Entities",
            "elevation": [],
            "lineString": "[[51.47286109253, -0.3854693631],[51.47303735141, -0.38601238855],[51.47295923305, -0.38621673013],[51.47316587878, -0.38685739222],[51.47365917403, -0.3865560776],[51.47365917403, -0.3865560776],[51.47406653169, -0.38630725001],[51.47477645381, -0.38561982335],[51.47504311938, -0.3853944161],[51.47578898748, -0.38470569046],[51.47629614385, -0.384313377],[51.47642098321, -0.38423696615],[51.47646552619, -0.38420659225],[51.47650590397, -0.38387396481],[51.47657965311, -0.38335295642],[51.47659167836, -0.38325388829],[51.47659167836, -0.38325388829],[51.47666040286, -0.38268769792],[51.47671636943, -0.38218171502],[51.47687924285, -0.38095193974],[51.47693559945, -0.38047473872],[51.47719811746, -0.37849840611],[51.47719811746, -0.37849840611],[51.47727768035, -0.37789937311],[51.47731823927, -0.37758112782],[51.47752221678, -0.37607625287],[51.47774775786, -0.37420580337],[51.47774775786, -0.37420580337],[51.47778031002, -0.37393582087],[51.47796107214, -0.37270534975],[51.47805813825, -0.37192426627],[51.47859989341, -0.36779044431],[51.47859989341, -0.36779044431],[51.47865161717, -0.36739570657],[51.47883849029, -0.36596335567],[51.47897583469, -0.36484958285],[51.47901615723, -0.36451692125],[51.47905748271, -0.36425622751],[51.4791150904, -0.36382072361],[51.4791150904, -0.36382072361],[51.47912255795, -0.36376426932],[51.47920420044, -0.36317091026],[51.47924411628, -0.36280945816],[51.47932575391, -0.36221609593],[51.47987670707, -0.35801693758],[51.47987670707, -0.35801693758],[51.47999208419, -0.35713741796],[51.48007369293, -0.35654403651],[51.48022013695, -0.35544427795],[51.4803430409, -0.35459018136],[51.48062336583, -0.35277992098],[51.48077768107, -0.35186608333],[51.48077768107, -0.35186608333],[51.48085580753, -0.35140340863],[51.48131259654, -0.34935631203],[51.48178671631, -0.34726534217],[51.48185415476, -0.34694606522],[51.48198862305, -0.34627871961],[51.48213414154, -0.34525716848],[51.48213414154, -0.34525716848],[51.48224226175, -0.34449811128],[51.48237147178, -0.34252790987],[51.48237147178, -0.34252790987],[51.48244201382, -0.34145206297],[51.48246409047, -0.34110561463],[51.48249189488, -0.34052852628],[51.48263374719, -0.33773653638],[51.48263374719, -0.33773653638],[51.48268174605, -0.33679150412],[51.48270401309, -0.33645944666],[51.48294217649, -0.3315457228],[51.48294217649, -0.3315457228],[51.4829543537, -0.33129436998],[51.48310172155, -0.32901344393],[51.48316674535, -0.32856720605],[51.48316674535, -0.32856720605],[51.48338021164, -0.32710216284],[51.48348739784, -0.32642133135],[51.48378244146, -0.32504230052],[51.48395175054, -0.32445867902],[51.48395175054, -0.32445867902],[51.48407383051, -0.32403785097],[51.48417674424, -0.32368841693],[51.48466193711, -0.32240318758],[51.48486144401, -0.32189176933],[51.48532192147, -0.32076584123],[51.48534880116, -0.32070108339],[51.48534880116, -0.32070108339],[51.48570438691, -0.31984440033],[51.48625203723, -0.31852798238],[51.48633902344, -0.31832313731],[51.48679089139, -0.31722625972],[51.48744222778, -0.31561788645],[51.4876584386, -0.31501936909],[51.48786730036, -0.31445161829],[51.48786730036, -0.31445161829],[51.48812576626, -0.31374901046],[51.48829951419, -0.31332488855],[51.4884561138, -0.31295901199],[51.4889167108, -0.31184730288],[51.48943039293, -0.3106759922],[51.48956168073, -0.31042626717],[51.48979613177, -0.30971192352],[51.48979613177, -0.30971192352],[51.48994931489, -0.30924518208],[51.49000911425, -0.3090269038],[51.49005218372, -0.30889567052],[51.49088948981, -0.30647351062],[51.49115147056, -0.30530875879],[51.49115147056, -0.30530875879],[51.49137956201, -0.30429462381],[51.49142262609, -0.30416338224],[51.49139212408, -0.30391963155],[51.4914073922, -0.30373180177],[51.49148125364, -0.3020004744],[51.49149906178, -0.30074658724],[51.49150556662, -0.30018133399],[51.49150556662, -0.30018133399],[51.491518954, -0.29901725964],[51.49155303064, -0.29826693589],[51.49151227523, -0.29793714071],[51.4915032601, -0.2948404228],[51.49147167493, -0.29390528313],[51.49146038345, -0.29374725084],[51.49147246948, -0.29272405198],[51.49151884798, -0.29220374259],[51.49157714752, -0.29188465555],[51.4916872839, -0.29157060302],[51.49172595014, -0.29160539941],[51.49245109816, -0.28953275197],[51.49241371045, -0.28949910786],[51.49287215763, -0.28819170067],[51.49300355497, -0.28733686088],[51.49299850833, -0.2869913207],[51.49277096891, -0.28557372336],[51.49266368676, -0.28500153662],[51.49256583788, -0.28465487506],[51.49256583788, -0.28465487506],[51.49239813887, -0.28406075847],[51.4922937994, -0.28369014171],[51.49216333942, -0.28337812832],[51.49178157459, -0.28248495241],[51.49184237806, -0.28233861702],[51.49188913219, -0.2818470882],[51.49187866823, -0.28174664629],[51.49180065085, -0.28133183399],[51.49185955372, -0.28105592311],[51.49195145067, -0.28057709936],[51.49200655137, -0.28004203808],[51.49210923691, -0.27907303044],[51.49213990434, -0.27871174734],[51.49217078201, -0.27836486095],[51.49221209707, -0.27794497883],[51.49221209707, -0.27794497883],[51.49223337999, -0.27772867563],[51.49233932118, -0.2763705946],[51.49239877902, -0.275766214],[51.49239877902, -0.275766214],[51.49243320055, -0.27541630875],[51.49250307544, -0.27466459877],[51.49257811835, -0.27365339623],[51.49262292789, -0.27303227592],[51.49281741517, -0.27158439074],[51.49285039388, -0.27138146829],[51.49288927685, -0.27081196001],[51.49288927685, -0.27081196001],[51.49293913599, -0.27008162581],[51.49294302589, -0.26973574897],[51.49291995266, -0.26939089314],[51.49289730342, -0.26907483236],[51.49268332138, -0.26676368051],[51.49262970516, -0.26557007351],[51.49257967723, -0.2648892199],[51.49257967723, -0.2648892199],[51.49256215017, -0.26465069901],[51.49253373446, -0.26394591932],[51.49245976884, -0.26259463485],[51.49245784915, -0.2624650605],[51.49244867533, -0.26184598325],[51.49244376706, -0.26151484904],[51.49244376706, -0.26151484904],[51.49243949823, -0.26122690633],[51.49244378904, -0.26090982741],[51.49245772438, -0.26003057609],[51.49247206748, -0.25978514044],[51.49250075213, -0.2592942687],[51.49252558682, -0.25854424784],[51.49254014061, -0.25831320857],[51.49255335695, -0.258081421],[51.49255335695, -0.258081421],[51.49260434335, -0.25718714724],[51.49261140499, -0.25705723009],[51.49265933384, -0.25604702882],[51.49270404994, -0.2554258924],[51.49274383456, -0.25447361971],[51.49278105551, -0.25395360451],[51.49282154183, -0.25303651019],[51.49282154183, -0.25303651019],[51.49284156966, -0.25258277979],[51.49285182034, -0.2520637934],[51.49286099545, -0.25147282087],[51.49294632862, -0.25056201359],[51.4929781968, -0.25028709017],[51.49304236096, -0.24976603672],[51.49310624109, -0.24927125674],[51.49310624109, -0.24927125674],[51.49317132725, -0.24876711738],[51.49321217847, -0.248491847],[51.49326842274, -0.24804311957],[51.49332999501, -0.24734929217],[51.49333683054, -0.24720497438],[51.49335582219, -0.24674964397],[51.49335582219, -0.24674964397],[51.4933765482, -0.24625268296],[51.49340259157, -0.24558902656],[51.49343078572, -0.2450693427],[51.49344229608, -0.24463673267],[51.49349098008, -0.24368409191],[51.49353217917, -0.24283257626],[51.49353771467, -0.24260187327],[51.49355928213, -0.24224090282],[51.49355604504, -0.24202494273],[51.49356257862, -0.24126119228],[51.49355890785, -0.24101643763],[51.49353169517, -0.24026828273],[51.49353169517, -0.24026828273],[51.49349768155, -0.23933333615],[51.49348350624, -0.23898814736],[51.49346142383, -0.23871529162],[51.49339733599, -0.23804069864],[51.49332793545, -0.23761120722],[51.49322386253, -0.23714848127],[51.49322386253, -0.23714848127],[51.49316411615, -0.23688284326],[51.49309730929, -0.2366261217],[51.49304804327, -0.23633991294],[51.49294842621, -0.23569551183],[51.4929243376, -0.2352406338],[51.4929243376, -0.2352406338],[51.49292330323, -0.23522110183],[51.49290186215, -0.2349914427],[51.49282919933, -0.23434600505],[51.49322333561, -0.23424434337],[51.49371611418, -0.23412446236],[51.4938862206, -0.23407467163],[51.49406574779, -0.23405332807],[51.49444147566, -0.23392356043],[51.49446419537, -0.23304391988],[51.49447635226, -0.23261636543],[51.49447635226, -0.23261636543],[51.49448182757, -0.23242378229],[51.49447727018, -0.23212143366],[51.49449402903, -0.23144370544],[51.49447613842, -0.23085375392],[51.49447860901, -0.23042147972],[51.49447404646, -0.23011913145],[51.49447404646, -0.23011913145],[51.49446970044, -0.22983118078],[51.49442310102, -0.22912709509],[51.49439033907, -0.22814876168],[51.49439721735, -0.22741379251],[51.49380064483, -0.2266158063],[51.49361282209, -0.22613708873],[51.49361282209, -0.22613708873],[51.49356682039, -0.22601984219],[51.49310749593, -0.22478439212],[51.49302247048, -0.22451399052],[51.49305580336, -0.22433982929],[51.49307884074, -0.22407963476],[51.49310868408, -0.22367512011],[51.49292654222, -0.2235237399],[51.49289669938, -0.22392825301],[51.49283025256, -0.22429097155],[51.49263842032, -0.22468737086],[51.49255235611, -0.22458296959]]",
            "stopPoints": [
             {
              "$type": "Tfl.Api.Presentation.Entities.Identifier, Tfl.Api.Presentation.Entities",
              "id": "490G000053",
              "name": "Hounslow West Stn  / Vicarage Farm Rd",
              "routeType": "Unknown",
              "status": "Unknown",
              "type": "StopPoint",
              "uri": "/StopPoint/490G000053"
             },
             {
              "$type": "Tfl.Api.Presentation.Entities.Identifier, Tfl.Api.Presentation.Entities",
              "id": "490G00014037",
              "name": "Vicarage Farm Road",
              "routeType": "Unknown",
              "status": "Unknown",
              "type": "StopPoint",
              "uri": "/StopPoint/490G00014037"
             },
             {
              "$type": "Tfl.Api.Presentation.Entities.Identifier, Tfl.Api.Presentation.Entities",
              "id": "490G00007436",
              "name": "Greencroft Road",
              "routeType": "Unknown",
              "status": "Unknown",
              "type": "StopPoint",
              "uri": "/StopPoint/490G00007436"
             },
             {
              "$type": "Tfl.Api.Presentation.Entities.Identifier, Tfl.Api.Presentation.Entities",
              "id": "490G00013078",
              "name": "Sutton Lane",
              "routeType": "Unknown",
              "status": "Unknown",
              "type": "StopPoint",
              "uri": "/StopPoint/490G00013078"
             },
             {
              "$type": "Tfl.Api.Presentation.Entities.Identifier, Tfl.Api.Presentation.Entities",
              "id": "490G000347",
              "name": "Lampton School",
              "routeType": "Unknown",
              "status": "Unknown",
              "type": "StopPoint",
              "uri": "/StopPoint/490G000347"
             },
             {
              "$type": "Tfl.Api.Presentation.Entities.Identifier, Tfl.Api.Presentation.Entities",
              "id": "490G00008925",
              "name": "Lampton Road",
              "routeType": "Unknown",
              "status": "Unknown",
              "type": "StopPoint",
              "uri": "/StopPoint/490G00008925"
             },
             {
              "$type": "Tfl.Api.Presentation.Entities.Identifier, Tfl.Api.Presentation.Entities",
              "id": "490G00007524",
              "name": "Gresham Road",
              "routeType": "Unknown",
              "status": "Unknown",
              "type": "StopPoint",
              "uri": "/StopPoint/490G00007524"
             },
             {
              "$type": "Tfl.Api.Presentation.Entities.Identifier, Tfl.Api.Presentation.Entities",
              "id": "490G00171A",
              "name": "Osterley Station",
              "routeType": "Unknown",
              "status": "Unknown",
              "type": "StopPoint",
              "uri": "/StopPoint/490G00171A"
             },
             {
              "$type": "Tfl.Api.Presentation.Entities.Identifier, Tfl.Api.Presentation.Entities",
              "id": "490G00010658",
              "name": "Osterley Library",
              "routeType": "Unknown",
              "status": "Unknown",
              "type": "StopPoint",
              "uri": "/StopPoint/490G00010658"
             },
             {
              "$type": "Tfl.Api.Presentation.Entities.Identifier, Tfl.Api.Presentation.Entities",
              "id": "490G00011577",
              "name": "Ridgeway Road",
              "routeType": "Unknown",
              "status": "Unknown",
              "type": "StopPoint",
              "uri": "/StopPoint/490G00011577"
             },
             {
              "$type": "Tfl.Api.Presentation.Entities.Identifier, Tfl.Api.Presentation.Entities",
              "id": "490G00014873",
              "name": "Wood Lane",
              "routeType": "Unknown",
              "status": "Unknown",
              "type": "StopPoint",
              "uri": "/StopPoint/490G00014873"
             },
             {
              "$type": "Tfl.Api.Presentation.Entities.Identifier, Tfl.Api.Presentation.Entities",
              "id": "490G00012686",
              "name": "St Francis Of Assisi Church",
              "routeType": "Unknown",
              "status": "Unknown",
              "type": "StopPoint",
              "uri": "/StopPoint/490G00012686"
             },
             {
              "$type": "Tfl.Api.Presentation.Entities.Identifier, Tfl.Api.Presentation.Entities",
              "id": "490G00007179",
              "name": "Gillette Corner",
              "routeType": "Unknown",
              "status": "Unknown",
              "type": "StopPoint",
              "uri": "/StopPoint/490G00007179"
             },
             {
              "$type": "Tfl.Api.Presentation.Entities.Identifier, Tfl.Api.Presentation.Entities",
              "id": "490G00014416",
              "name": "West Cross Centre",
              "routeType": "Unknown",
              "status": "Unknown",
              "type": "StopPoint",
              "uri": "/StopPoint/490G00014416"
             },
             {
              "$type": "Tfl.Api.Presentation.Entities.Identifier, Tfl.Api.Presentation.Entities",
              "id": "490G00014417",
              "name": "West Cross Way",
              "routeType": "Unknown",
              "status": "Unknown",
              "type": "StopPoint",
              "uri": "/StopPoint/490G00014417"
             },
             {
              "$type": "Tfl.Api.Presentation.Entities.Identifier, Tfl.Api.Presentation.Entities",
              "id": "490G00007421",
              "name": "Boston Manor Road",
              "routeType": "Unknown",
              "status": "Unknown",
              "type": "StopPoint",
              "uri": "/StopPoint/490G00007421"
             },
             {
              "$type": "Tfl.Api.Presentation.Entities.Identifier, Tfl.Api.Presentation.Entities",
              "id": "490G00014772",
              "name": "Windmill Road",
              "routeType": "Unknown",
              "status": "Unknown",
              "type": "StopPoint",
              "uri": "/StopPoint/490G00014772"
             },
             {
              "$type": "Tfl.Api.Presentation.Entities.Identifier, Tfl.Api.Presentation.Entities",
              "id": "490G00006300",
              "name": "Ealing Road",
              "routeType": "Unknown",
              "status": "Unknown",
              "type": "StopPoint",
              "uri": "/StopPoint/490G00006300"
             },
             {
              "$type": "Tfl.Api.Presentation.Entities.Identifier, Tfl.Api.Presentation.Entities",
              "id": "490G00005378",
              "name": "Clayponds Avenue",
              "routeType": "Unknown",
              "status": "Unknown",
              "type": "StopPoint",
              "uri": "/StopPoint/490G00005378"
             },
             {
              "$type": "Tfl.Api.Presentation.Entities.Identifier, Tfl.Api.Presentation.Entities",
              "id": "490G00009200",
              "name": "Lionel Road",
              "routeType": "Unknown",
              "status": "Unknown",
              "type": "StopPoint",
              "uri": "/StopPoint/490G00009200"
             },
             {
              "$type": "Tfl.Api.Presentation.Entities.Identifier, Tfl.Api.Presentation.Entities",
              "id": "490G00014010",
              "name": "Vantage West",
              "routeType": "Unknown",
              "status": "Unknown",
              "type": "StopPoint",
              "uri": "/StopPoint/490G00014010"
             },
             {
              "$type": "Tfl.Api.Presentation.Entities.Identifier, Tfl.Api.Presentation.Entities",
              "id": "490G00007605",
              "name": "Chiswick Roundabout / Gunnersbury",
              "routeType": "Unknown",
              "status": "Unknown",
              "type": "StopPoint",
              "uri": "/StopPoint/490G00007605"
             },
             {
              "$type": "Tfl.Api.Presentation.Entities.Identifier, Tfl.Api.Presentation.Entities",
              "id": "490G000750",
              "name": "Thorney Hedge Road",
              "routeType": "Unknown",
              "status": "Unknown",
              "type": "StopPoint",
              "uri": "/StopPoint/490G000750"
             },
             {
              "$type": "Tfl.Api.Presentation.Entities.Identifier, Tfl.Api.Presentation.Entities",
              "id": "490G00094B",
              "name": "Gunnersbury Station",
              "routeType": "Unknown",
              "status": "Unknown",
              "type": "StopPoint",
              "uri": "/StopPoint/490G00094B"
             },
             {
              "$type": "Tfl.Api.Presentation.Entities.Identifier, Tfl.Api.Presentation.Entities",
              "id": "490G00005211",
              "name": "Chiswick Road",
              "routeType": "Unknown",
              "status": "Unknown",
              "type": "StopPoint",
              "uri": "/StopPoint/490G00005211"
             },
             {
              "$type": "Tfl.Api.Presentation.Entities.Identifier, Tfl.Api.Presentation.Entities",
              "id": "490G000807",
              "name": "Turnham Green Church",
              "routeType": "Unknown",
              "status": "Unknown",
              "type": "StopPoint",
              "uri": "/StopPoint/490G000807"
             },
             {
              "$type": "Tfl.Api.Presentation.Entities.Identifier, Tfl.Api.Presentation.Entities",
              "id": "490G00005423",
              "name": "Clifton Gardens",
              "routeType": "Unknown",
              "status": "Unknown",
              "type": "StopPoint",
              "uri": "/StopPoint/490G00005423"
             },
             {
              "$type": "Tfl.Api.Presentation.Entities.Identifier, Tfl.Api.Presentation.Entities",
              "id": "490G00005210",
              "name": "Chiswick Police Station",
              "routeType": "Unknown",
              "status": "Unknown",
              "type": "StopPoint",
              "uri": "/StopPoint/490G00005210"
             },
             {
              "$type": "Tfl.Api.Presentation.Entities.Identifier, Tfl.Api.Presentation.Entities",
              "id": "490G00013850",
              "name": "Chiswick Lane",
              "routeType": "Unknown",
              "status": "Unknown",
              "type": "StopPoint",
              "uri": "/StopPoint/490G00013850"
             },
             {
              "$type": "Tfl.Api.Presentation.Entities.Identifier, Tfl.Api.Presentation.Entities",
              "id": "490G00012521",
              "name": "Stamford Brook Bus Garage",
              "routeType": "Unknown",
              "status": "Unknown",
              "type": "StopPoint",
              "uri": "/StopPoint/490G00012521"
             },
             {
              "$type": "Tfl.Api.Presentation.Entities.Identifier, Tfl.Api.Presentation.Entities",
              "id": "490G000535",
              "name": "Goldhawk Road / Young's Corner",
              "routeType": "Unknown",
              "status": "Unknown",
              "type": "StopPoint",
              "uri": "/StopPoint/490G000535"
             },
             {
              "$type": "Tfl.Api.Presentation.Entities.Identifier, Tfl.Api.Presentation.Entities",
              "id": "490G00012533",
              "name": "Ravenscourt Park",
              "routeType": "Unknown",
              "status": "Unknown",
              "type": "StopPoint",
              "uri": "/StopPoint/490G00012533"
             },
             {
              "$type": "Tfl.Api.Presentation.Entities.Identifier, Tfl.Api.Presentation.Entities",
              "id": "490G00188A",
              "name": "Ravenscourt Park Station",
              "routeType": "Unknown",
              "status": "Unknown",
              "type": "StopPoint",
              "uri": "/StopPoint/490G00188A"
             },
             {
              "$type": "Tfl.Api.Presentation.Entities.Identifier, Tfl.Api.Presentation.Entities",
              "id": "490G00005937",
              "name": "Dalling Road",
              "routeType": "Unknown",
              "status": "Unknown",
              "type": "StopPoint",
              "uri": "/StopPoint/490G00005937"
             },
             {
              "$type": "Tfl.Api.Presentation.Entities.Identifier, Tfl.Api.Presentation.Entities",
              "id": "490G00015588",
              "name": "Lamington Street",
              "routeType": "Unknown",
              "status": "Unknown",
              "type": "StopPoint",
              "uri": "/StopPoint/490G00015588"
             },
             {
              "$type": "Tfl.Api.Presentation.Entities.Identifier, Tfl.Api.Presentation.Entities",
              "id": "490G00007239",
              "name": "Iffley Road",
              "routeType": "Unknown",
              "status": "Unknown",
              "type": "StopPoint",
              "uri": "/StopPoint/490G00007239"
             },
             {
              "$type": "Tfl.Api.Presentation.Entities.Identifier, Tfl.Api.Presentation.Entities",
              "id": "490G00097T",
              "name": "Hammersmith Stn / H&C and Circle Lines",
              "routeType": "Unknown",
              "status": "Unknown",
              "type": "StopPoint",
              "uri": "/StopPoint/490G00097T"
             },
             {
              "$type": "Tfl.Api.Presentation.Entities.Identifier, Tfl.Api.Presentation.Entities",
              "id": "490G000565",
              "name": "Hammersmith Bus Station",
              "routeType": "Unknown",
              "status": "Unknown",
              "type": "StopPoint",
              "uri": "/StopPoint/490G000565"
             }
            ]
           },
           "plannedWorks": [],
           "routeOptions": [
            {
             "$type": "Tfl.Api.Presentation.Entities.JourneyPlanner.RouteOption, Tfl.Api.Presentation.Entities",
             "directions": [
              "Hammersmith"
             ],
             "lineIdentifier": {
              "$type": "Tfl.Api.Presentation.Entities.Identifier, Tfl.Api.Presentation.Entities",
              "crowding": {
               "$type": "Tfl.Api.Presentation.Entities.Crowding, Tfl.Api.Presentation.Entities"
              },
              "id": "h91",
              "name": "H91",
              "routeType": "Unknown",
              "status": "Unknown",
              "type": "Line",
              "uri": "/Line/h91"
             },
             "name": "H91"
            }
           ]
          },
          {
           "$type": "Tfl.Api.Presentation.Entities.JourneyPlanner.Leg, Tfl.Api.Presentation.Entities",
           "arrivalPoint": {
            "$type": "Tfl.Api.Presentation.Entities.StopPoint, Tfl.Api.Presentation.Entities",
            "additionalProperties": [],
            "commonName": "Southampton Street / Covent Garden",
            "icsCode": "1012247",
            "lat": 51.51039701446,
            "lon": -0.12182258537,
            "naptanId": "490G00012247",
            "placeType": "StopPoint",
            "platformName": "A",
            "stopLetter": "A"
           },
           "arrivalTime": "2021-03-06T00:53:00",
           "departurePoint": {
            "$type": "Tfl.Api.Presentation.Entities.StopPoint, Tfl.Api.Presentation.Entities",
            "additionalProperties": [],
            "commonName": "Hammersmith Bus Station",
            "icsCode": "1007705",
            "lat": 51.49254641849,
            "lon": -0.22395627195,
            "naptanId": "490G000565",
            "placeType": "StopPoint",
            "platformName": "",
            "stopLetter": "F"
           },
           "departureTime": "2021-03-06T00:25:00",
           "disruptions": [
            {
             "$type": "Tfl.Api.Presentation.Entities.Disruption, Tfl.Api.Presentation.Entities",
             "additionalInfo": "Further information and a <a href=\"https://tfl.gov.uk/campaign/bus-strike?intcmp=25146\">list of affected routes</a>.",
             "category": "RealTime",
             "categoryDescription": "RealTime",
             "created": "2021-02-26T09:44:00",
             "description": "RATP DEV LONDON STRIKE: RATP Dev London bus services in parts of west, south west and north west London are expected to see disruption on Friday 5, Saturday 6 and Wednesday 10 March, TfL is working hard to minimise potential disruption but customers who need to make journeys are advised to check before they travel. Industrial action will affect services from 00:00 to 23:59 on the respective strike dates and until 06:00 on Sunday 7 March.",
             "lastUpdate": "2021-03-04T21:45:00",
             "summary": "",
             "type": "lineInfo"
            }
           ],
           "duration": 28,
           "hasFixedLocations": true,
           "instruction": {
            "$type": "Tfl.Api.Presentation.Entities.Instruction, Tfl.Api.Presentation.Entities",
            "detailed": "9 bus towards Aldwych",
            "steps": [],
            "summary": "9 bus to Southampton Street / Covent Garden"
           },
           "isDisrupted": true,
           "mode": {
            "$type": "Tfl.Api.Presentation.Entities.Identifier, Tfl.Api.Presentation.Entities",
            "id": "bus",
            "name": "bus",
            "routeType": "Unknown",
            "status": "Unknown",
            "type": "Mode"
           },
           "obstacles": [],
           "path": {
            "$type": "Tfl.Api.Presentation.Entities.JourneyPlanner.Path, Tfl.Api.Presentation.Entities",
            "elevation": [],
            "lineString": "[[51.49254577137, -0.22395768944],[51.49283025256, -0.22429097155],[51.49289669938, -0.22392825301],[51.49292654222, -0.2235237399],[51.49307779709, -0.22341702133],[51.49303377754, -0.22288572883],[51.49305288382, -0.22236638725],[51.49307005802, -0.22112684423],[51.49319659439, -0.21998387896],[51.4932033962, -0.21983955834],[51.49323366205, -0.2194638343],[51.49324595244, -0.21908881028],[51.4932496023, -0.21903172639],[51.4932496023, -0.21903172639],[51.4934130545, -0.21647487756],[51.49356715802, -0.21596466389],[51.4936210824, -0.21578876975],[51.4936210824, -0.21578876975],[51.49377277194, -0.21529397184],[51.49386637118, -0.21494457742],[51.49410551597, -0.21411410145],[51.49426793821, -0.21356032892],[51.49441326111, -0.21306484495],[51.49451671837, -0.21277267933],[51.49470204183, -0.21230745853],[51.49470204183, -0.21230745853],[51.49481985472, -0.2120117063],[51.49489744572, -0.2117925785],[51.49505416355, -0.2114551037],[51.49561000721, -0.21016558868],[51.49582369513, -0.20943689778],[51.49591419828, -0.20888590647],[51.4959689705, -0.20835072043],[51.4960086263, -0.20800341014],[51.49606647525, -0.20766979207],[51.49615983134, -0.20730596705],[51.49625230572, -0.2068845489],[51.49664152944, -0.2058752137],[51.49681422114, -0.20540741736],[51.4969127914, -0.20514215643],[51.4969127914, -0.20514215643],[51.49715105266, -0.20450096369],[51.49729743909, -0.20407741145],[51.4974038288, -0.20376137524],[51.4974038288, -0.20376137524],[51.4975038661, -0.20346420553],[51.49782314955, -0.20258722794],[51.49790072261, -0.20236807005],[51.498012919, -0.20206110629],[51.49822832229, -0.20144752806],[51.4983236464, -0.20121326016],[51.49848212303, -0.2007539867],[51.49848212303, -0.2007539867],[51.49853027906, -0.20061442637],[51.49863348374, -0.20030780815],[51.49880983497, -0.19949404872],[51.49891148898, -0.19908663532],[51.49903943913, -0.19863496097],[51.49909969419, -0.19845969565],[51.49927191323, -0.19796304902],[51.49943580703, -0.19750994979],[51.49951447703, -0.19736277003],[51.49960014175, -0.19708564511],[51.49977247803, -0.19659149835],[51.49977247803, -0.19659149835],[51.49996187539, -0.19604842041],[51.50021230837, -0.19537577199],[51.50039327946, -0.19486434765],[51.50054795236, -0.19439718239],[51.50063147985, -0.19416718771],[51.50063147985, -0.19416718771],[51.50089301862, -0.19344702169],[51.50097933941, -0.19321307912],[51.50124861741, -0.19259728681],[51.50136977469, -0.19228992137],[51.5016388257, -0.19165971894],[51.50188291116, -0.19116017279],[51.50199574398, -0.19089635402],[51.5021189959, -0.19014223454],[51.50219254462, -0.18966384158],[51.50234452831, -0.18902384436],[51.50237647355, -0.18876322465],[51.50237091341, -0.18840323221],[51.50235551997, -0.18825436033],[51.50235551997, -0.18825436033],[51.5022863365, -0.1875853023],[51.50225425702, -0.18725517997],[51.50222195401, -0.18691065849],[51.50212949332, -0.18616508913],[51.50207000352, -0.18580724055],[51.50195933913, -0.18504799062],[51.5018632176, -0.18456367735],[51.5018632176, -0.18456367735],[51.50180328927, -0.18426173149],[51.50174624636, -0.18406228217],[51.50167776326, -0.18370479679],[51.50150624696, -0.18250132279],[51.50149547477, -0.18238648535],[51.50145104555, -0.18184074006],[51.50144568752, -0.18149515564],[51.5014483204, -0.18130343707],[51.5014483204, -0.18130343707],[51.50145835521, -0.18057252394],[51.50146421456, -0.18037057516],[51.5014720844, -0.18029822046],[51.50147119071, -0.18024062308],[51.50153235954, -0.17954658966],[51.50157380261, -0.17816174314],[51.50156354629, -0.17692304002],[51.50160617336, -0.1763667839],[51.50160617336, -0.1763667839],[51.5017429474, -0.17458172945],[51.50180049507, -0.17365729478],[51.50180746376, -0.1735273409],[51.5019000637, -0.17196753186],[51.50192526656, -0.17103788626],[51.50192526656, -0.17103788626],[51.50192860897, -0.17091457589],[51.50190884056, -0.1702237641],[51.50185379079, -0.16900125621],[51.50185199227, -0.1688860612],[51.50183693457, -0.16849763843],[51.50182637358, -0.16839720318],[51.50181962633, -0.16796522235],[51.50182186435, -0.16753288121],[51.50182091398, -0.16712782869],[51.50182091398, -0.16712782869],[51.50182027482, -0.16685575109],[51.5017189044, -0.165548659],[51.50167349575, -0.16494533227],[51.50167393338, -0.16316910258],[51.50167393338, -0.16316910258],[51.50167404841, -0.16268320064],[51.50166592629, -0.16216482706],[51.50167152822, -0.16194847655],[51.50172694399, -0.1608944365],[51.50186328072, -0.16041347039],[51.5020534849, -0.15935399288],[51.50223717984, -0.15845326262],[51.50234302614, -0.15660469962],[51.50235760458, -0.15638798279],[51.50245933388, -0.15599484493],[51.50268166805, -0.15526543629],[51.5028538517, -0.15420664572],[51.50292061999, -0.15348398613],[51.50292061999, -0.15348398613],[51.50297678308, -0.15287607161],[51.50299807311, -0.15251499127],[51.50303892369, -0.15225398086],[51.50306384215, -0.15212329372],[51.50311435937, -0.15190511792],[51.50313927744, -0.15177443038],[51.50325601381, -0.1511933527],[51.50327979599, -0.15099066598],[51.50330289665, -0.15074477999],[51.50330279988, -0.15016842877],[51.50376092273, -0.14899715453],[51.50383031675, -0.14883584301],[51.50403040989, -0.14835058751],[51.50403040989, -0.14835058751],[51.50409014443, -0.14820572062],[51.5042284752, -0.14785429249],[51.50442925725, -0.14747151096],[51.50491818178, -0.14654388977],[51.50499655908, -0.14638220579],[51.50504035482, -0.14630838133],[51.50551959994, -0.14533789922],[51.50566781968, -0.14504368807],[51.50583401214, -0.14474874497],[51.50589372996, -0.14454458344],[51.50615604076, -0.14407281429],[51.50642596865, -0.1435142708],[51.50665255626, -0.14305835242],[51.50672216991, -0.14291142246],[51.50694875511, -0.14245549816],[51.50694875511, -0.14245549816],[51.50714098851, -0.14210183746],[51.50752431093, -0.14132250244],[51.50774837857, -0.14070815122],[51.507791714, -0.14060551486],[51.50803397962, -0.14000482571],[51.50816329846, -0.13965370876],[51.50819764623, -0.13955143656],[51.50826898363, -0.13933902458],[51.50826898363, -0.13933902458],[51.50840373098, -0.13893780016],[51.50843762106, -0.13880672447],[51.50861719896, -0.13822298313],[51.50873661104, -0.13781461798],[51.50879654522, -0.13762483593],[51.50897680338, -0.13708428955],[51.50906232377, -0.1368069974],[51.50908768233, -0.13670508774],[51.50925572211, -0.13619348546],[51.50925572211, -0.13619348546],[51.50937074103, -0.1358433007],[51.5094140721, -0.13574065615],[51.50945648737, -0.13558040539],[51.50967245365, -0.1350239738],[51.50974045379, -0.13477621091],[51.50984943911, -0.13484381454],[51.50995636316, -0.1347818036],[51.51011422956, -0.13453036792],[51.51002395632, -0.13394320319],[51.5100961279, -0.13339263412],[51.50993877003, -0.13311084572],[51.50974661115, -0.1329025368],[51.50968232884, -0.13281869933],[51.50965733006, -0.13279420354],[51.50965733006, -0.13279420354],[51.50952703333, -0.13266652896],[51.50924363106, -0.13237549018],[51.50883395601, -0.13206079821],[51.50846875468, -0.13171547141],[51.50808626736, -0.13141408857],[51.50769433368, -0.13108427662],[51.5076344804, -0.13015005748],[51.50761421105, -0.13000678455],[51.50757229389, -0.12963383392],[51.50756518671, -0.12956509332],[51.50756518671, -0.12956509332],[51.50750849702, -0.12901680599],[51.50748730727, -0.12881593069],[51.50750252335, -0.12864238436],[51.5075039263, -0.12816678878],[51.50751592321, -0.12779163061],[51.50753274706, -0.12771888968],[51.50754058422, -0.12764651712],[51.50755671824, -0.12753057359],[51.50772125611, -0.12713474931],[51.50784315945, -0.12688477438],[51.50801737185, -0.1265317796],[51.50804079584, -0.12648389583],[51.50804079584, -0.12648389583],[51.5081828266, -0.12619355187],[51.50841833239, -0.12573716274],[51.5086031391, -0.12548459834],[51.50869876951, -0.12527892445],[51.50881214259, -0.12505811062],[51.50904741353, -0.12458730809],[51.50932577286, -0.12399944414],[51.50964837099, -0.12336652231],[51.50983155909, -0.1230131309],[51.51000575947, -0.12266010608],[51.51008387264, -0.12248396212],[51.51022166374, -0.12210360821],[51.51034807208, -0.1217743316]]",
            "stopPoints": [
             {
              "$type": "Tfl.Api.Presentation.Entities.Identifier, Tfl.Api.Presentation.Entities",
              "id": "490G00008997",
              "name": "Latymer Court",
              "routeType": "Unknown",
              "status": "Unknown",
              "type": "StopPoint",
              "uri": "/StopPoint/490G00008997"
             },
             {
              "$type": "Tfl.Api.Presentation.Entities.Identifier, Tfl.Api.Presentation.Entities",
              "id": "490G00004455",
              "name": "Brook Green",
              "routeType": "Unknown",
              "status": "Unknown",
              "type": "StopPoint",
              "uri": "/StopPoint/490G00004455"
             },
             {
              "$type": "Tfl.Api.Presentation.Entities.Identifier, Tfl.Api.Presentation.Entities",
              "id": "490G00010357",
              "name": "North End Road",
              "routeType": "Unknown",
              "status": "Unknown",
              "type": "StopPoint",
              "uri": "/StopPoint/490G00010357"
             },
             {
              "$type": "Tfl.Api.Presentation.Entities.Identifier, Tfl.Api.Presentation.Entities",
              "id": "490G00008287",
              "name": "Holland Road",
              "routeType": "Unknown",
              "status": "Unknown",
              "type": "StopPoint",
              "uri": "/StopPoint/490G00008287"
             },
             {
              "$type": "Tfl.Api.Presentation.Entities.Identifier, Tfl.Api.Presentation.Entities",
              "id": "490G00003106",
              "name": "Warwick Gardens",
              "routeType": "Unknown",
              "status": "Unknown",
              "type": "StopPoint",
              "uri": "/StopPoint/490G00003106"
             },
             {
              "$type": "Tfl.Api.Presentation.Entities.Identifier, Tfl.Api.Presentation.Entities",
              "id": "490G00005528",
              "name": "The Design Museum",
              "routeType": "Unknown",
              "status": "Unknown",
              "type": "StopPoint",
              "uri": "/StopPoint/490G00005528"
             },
             {
              "$type": "Tfl.Api.Presentation.Entities.Identifier, Tfl.Api.Presentation.Entities",
              "id": "490G00010984",
              "name": "Phillimore Gardens",
              "routeType": "Unknown",
              "status": "Unknown",
              "type": "StopPoint",
              "uri": "/StopPoint/490G00010984"
             },
             {
              "$type": "Tfl.Api.Presentation.Entities.Identifier, Tfl.Api.Presentation.Entities",
              "id": "490G00110R",
              "name": "High Street Kensington Station",
              "routeType": "Unknown",
              "status": "Unknown",
              "type": "StopPoint",
              "uri": "/StopPoint/490G00110R"
             },
             {
              "$type": "Tfl.Api.Presentation.Entities.Identifier, Tfl.Api.Presentation.Entities",
              "id": "490G00011761",
              "name": "Kensington Palace",
              "routeType": "Unknown",
              "status": "Unknown",
              "type": "StopPoint",
              "uri": "/StopPoint/490G00011761"
             },
             {
              "$type": "Tfl.Api.Presentation.Entities.Identifier, Tfl.Api.Presentation.Entities",
              "id": "490G00010728",
              "name": "Palace Gate",
              "routeType": "Unknown",
              "status": "Unknown",
              "type": "StopPoint",
              "uri": "/StopPoint/490G00010728"
             },
             {
              "$type": "Tfl.Api.Presentation.Entities.Identifier, Tfl.Api.Presentation.Entities",
              "id": "490G00019923",
              "name": "Queen's Gate",
              "routeType": "Unknown",
              "status": "Unknown",
              "type": "StopPoint",
              "uri": "/StopPoint/490G00019923"
             },
             {
              "$type": "Tfl.Api.Presentation.Entities.Identifier, Tfl.Api.Presentation.Entities",
              "id": "490G00011750",
              "name": "Royal Albert Hall",
              "routeType": "Unknown",
              "status": "Unknown",
              "type": "StopPoint",
              "uri": "/StopPoint/490G00011750"
             },
             {
              "$type": "Tfl.Api.Presentation.Entities.Identifier, Tfl.Api.Presentation.Entities",
              "id": "490G00011198",
              "name": "Prince Of Wales Gate",
              "routeType": "Unknown",
              "status": "Unknown",
              "type": "StopPoint",
              "uri": "/StopPoint/490G00011198"
             },
             {
              "$type": "Tfl.Api.Presentation.Entities.Identifier, Tfl.Api.Presentation.Entities",
              "id": "490G00011822",
              "name": "Rutland Gardens",
              "routeType": "Unknown",
              "status": "Unknown",
              "type": "StopPoint",
              "uri": "/StopPoint/490G00011822"
             },
             {
              "$type": "Tfl.Api.Presentation.Entities.Identifier, Tfl.Api.Presentation.Entities",
              "id": "490G000575",
              "name": "Knightsbridge Station  / Harrods",
              "routeType": "Unknown",
              "status": "Unknown",
              "type": "StopPoint",
              "uri": "/StopPoint/490G000575"
             },
             {
              "$type": "Tfl.Api.Presentation.Entities.Identifier, Tfl.Api.Presentation.Entities",
              "id": "490G00119A",
              "name": "Hyde Park Corner",
              "routeType": "Unknown",
              "status": "Unknown",
              "type": "StopPoint",
              "uri": "/StopPoint/490G00119A"
             },
             {
              "$type": "Tfl.Api.Presentation.Entities.Identifier, Tfl.Api.Presentation.Entities",
              "id": "490G00010574",
              "name": "Old Park Lane / Hard Rock Cafe",
              "routeType": "Unknown",
              "status": "Unknown",
              "type": "StopPoint",
              "uri": "/StopPoint/490G00010574"
             },
             {
              "$type": "Tfl.Api.Presentation.Entities.Identifier, Tfl.Api.Presentation.Entities",
              "id": "490G00093PE",
              "name": "Green Park Station",
              "routeType": "Unknown",
              "status": "Unknown",
              "type": "StopPoint",
              "uri": "/StopPoint/490G00093PE"
             },
             {
              "$type": "Tfl.Api.Presentation.Entities.Identifier, Tfl.Api.Presentation.Entities",
              "id": "490G00010526",
              "name": "Old Bond Street / Royal Academy",
              "routeType": "Unknown",
              "status": "Unknown",
              "type": "StopPoint",
              "uri": "/StopPoint/490G00010526"
             },
             {
              "$type": "Tfl.Api.Presentation.Entities.Identifier, Tfl.Api.Presentation.Entities",
              "id": "490G00179B",
              "name": "Piccadilly Circus",
              "routeType": "Unknown",
              "status": "Unknown",
              "type": "StopPoint",
              "uri": "/StopPoint/490G00179B"
             },
             {
              "$type": "Tfl.Api.Presentation.Entities.Identifier, Tfl.Api.Presentation.Entities",
              "id": "490G00020307",
              "name": "Haymarket / Jermyn Street",
              "routeType": "Unknown",
              "status": "Unknown",
              "type": "StopPoint",
              "uri": "/StopPoint/490G00020307"
             },
             {
              "$type": "Tfl.Api.Presentation.Entities.Identifier, Tfl.Api.Presentation.Entities",
              "id": "490G000804",
              "name": "Trafalgar Square",
              "routeType": "Unknown",
              "status": "Unknown",
              "type": "StopPoint",
              "uri": "/StopPoint/490G000804"
             },
             {
              "$type": "Tfl.Api.Presentation.Entities.Identifier, Tfl.Api.Presentation.Entities",
              "id": "490G00045",
              "name": "Charing Cross Stn / Trafalgar Square",
              "routeType": "Unknown",
              "status": "Unknown",
              "type": "StopPoint",
              "uri": "/StopPoint/490G00045"
             },
             {
              "$type": "Tfl.Api.Presentation.Entities.Identifier, Tfl.Api.Presentation.Entities",
              "id": "490G00012247",
              "name": "Southampton Street / Covent Garden",
              "routeType": "Unknown",
              "status": "Unknown",
              "type": "StopPoint",
              "uri": "/StopPoint/490G00012247"
             }
            ]
           },
           "plannedWorks": [],
           "routeOptions": [
            {
             "$type": "Tfl.Api.Presentation.Entities.JourneyPlanner.RouteOption, Tfl.Api.Presentation.Entities",
             "directions": [
              "Aldwych"
             ],
             "lineIdentifier": {
              "$type": "Tfl.Api.Presentation.Entities.Identifier, Tfl.Api.Presentation.Entities",
              "crowding": {
               "$type": "Tfl.Api.Presentation.Entities.Crowding, Tfl.Api.Presentation.Entities"
              },
              "id": "9",
              "name": "9",
              "routeType": "Unknown",
              "status": "Unknown",
              "type": "Line",
              "uri": "/Line/9"
             },
             "name": "9"
            }
           ]
          },
          {
           "$type": "Tfl.Api.Presentation.Entities.JourneyPlanner.Leg, Tfl.Api.Presentation.Entities",
           "arrivalPoint": {
            "$type": "Tfl.Api.Presentation.Entities.StopPoint, Tfl.Api.Presentation.Entities",
            "additionalProperties": [],
            "commonName": "Tower Bridge Road",
            "icsCode": "1013746",
            "lat": 51.50271739164,
            "lon": -0.07797542472999999,
            "naptanId": "490G00013746",
            "placeType": "StopPoint",
            "platformName": "K",
            "stopLetter": "K"
           },
           "arrivalTime": "2021-03-06T01:25:00",
           "departurePoint": {
            "$type": "Tfl.Api.Presentation.Entities.StopPoint, Tfl.Api.Presentation.Entities",
            "additionalProperties": [],
            "commonName": "Southampton Street / Covent Garden",
            "icsCode": "1012247",
            "lat": 51.51039701446,
            "lon": -0.12182258537,
            "naptanId": "490G00012247",
            "placeType": "StopPoint",
            "platformName": "A",
            "stopLetter": "A"
           },
           "departureTime": "2021-03-06T01:06:00",
           "disruptions": [
            {
             "$type": "Tfl.Api.Presentation.Entities.Disruption, Tfl.Api.Presentation.Entities",
             "additionalInfo": "",
             "category": "PlannedWork",
             "categoryDescription": "PlannedWork",
             "created": "2021-02-26T07:19:00",
             "description": "HIGH STREET ORPINGTON BR6; Routes 51, 61, 208, 353, 358, 477, B14, R1, R2, R3, R4, R6, R7, R8, R9, R10 N199 are diverted at High Street, Orpington in both directions due to carriageway works. Buses will not serve the High Street / Orpington War Memorial stops.",
             "lastUpdate": "2021-02-26T07:28:00",
             "summary": "HIGH STREET ORPINGTON BR6 - SO21/14009 - ROUTES 51, 61, 208, 353, 358, 477, B14, R1, R2, R3, R4, R6, R7, R8, R9, R10 N199",
             "type": "lineInfo"
            },
            {
             "$type": "Tfl.Api.Presentation.Entities.Disruption, Tfl.Api.Presentation.Entities",
             "additionalInfo": "",
             "category": "PlannedWork",
             "categoryDescription": "PlannedWork",
             "created": "2021-01-28T10:42:00",
             "description": "RUSHEY GREEN SE6: Routes 47 54 136 199 208 N136 N199 towards Bromley is diverted via Plassey Road and Sangley Road due to gas works. Missing stop The Catford Centre.",
             "lastUpdate": "2021-01-28T10:44:00",
             "summary": "RUSHEY GREEN SE6 - SO21/12967 - ROUTES 47 54 136 199 208 N136 N199",
             "type": "lineInfo"
            },
            {
             "$type": "Tfl.Api.Presentation.Entities.Disruption, Tfl.Api.Presentation.Entities",
             "additionalInfo": "",
             "category": "PlannedWork",
             "categoryDescription": "PlannedWork",
             "created": "2021-01-11T15:50:00",
             "description": "RUSHEY GREEN, SE6: Routes 47 54 136 199 208 N136 N199 are on diversion towards Bromley via Brownhill Road, Plassy Road and Sangley Road due to a gas main replacement. Buses are missing the stop The Catford Centre.",
             "lastUpdate": "2021-01-11T15:50:00",
             "summary": "SO21/12345 - RUSHEY GREEN, SE6 - ROUTES 47 54 136 199 208 N136 N199",
             "type": "lineInfo"
            }
           ],
           "duration": 19,
           "hasFixedLocations": true,
           "instruction": {
            "$type": "Tfl.Api.Presentation.Entities.Instruction, Tfl.Api.Presentation.Entities",
            "detailed": "N199 bus towards St Mary Cray Station",
            "steps": [],
            "summary": "N199 bus to Tower Bridge Road"
           },
           "isDisrupted": true,
           "mode": {
            "$type": "Tfl.Api.Presentation.Entities.Identifier, Tfl.Api.Presentation.Entities",
            "id": "bus",
            "name": "bus",
            "routeType": "Unknown",
            "status": "Unknown",
            "type": "Mode"
           },
           "obstacles": [],
           "path": {
            "$type": "Tfl.Api.Presentation.Entities.JourneyPlanner.Path, Tfl.Api.Presentation.Entities",
            "elevation": [],
            "lineString": "[[51.51034807208, -0.1217743316],[51.51046337182, -0.12147398766],[51.51061014619, -0.12109325785],[51.51078203294, -0.12059620178],[51.51097212159, -0.12011280398],[51.51110114912, -0.11974720755],[51.51128247854, -0.11927857494],[51.51167326963, -0.11897424871],[51.51203296447, -0.11897384386],[51.51230377816, -0.11877976966],[51.51230377816, -0.11877976966],[51.51235301697, -0.11874448319],[51.51263735364, -0.11853100272],[51.51290993038, -0.11814506049],[51.51301430298, -0.11792457905],[51.51316889619, -0.11747143356],[51.51325228861, -0.11706445729],[51.51329167175, -0.11671694303],[51.51327158255, -0.11602599132],[51.51310724122, -0.11531216987],[51.51309983442, -0.1148512904],[51.51314987746, -0.11458102498],[51.51314987746, -0.11458102498],[51.5132073988, -0.11427036682],[51.51329999823, -0.11387741598],[51.51338314643, -0.11345602974],[51.51344026026, -0.11309336638],[51.51349690944, -0.11270189696],[51.51364730933, -0.11198948212],[51.51372285546, -0.11165487695],[51.51374772809, -0.11152413811],[51.51382854813, -0.11095871686],[51.51393609302, -0.11037777529],[51.51398583526, -0.11011629493],[51.51411824618, -0.10940460848],[51.51414218754, -0.10921625629],[51.51414838773, -0.10904305099],[51.51416334197, -0.1088550707],[51.51416948145, -0.10873934157],[51.51416948145, -0.10873934157],[51.51418403073, -0.10846507927],[51.51419092669, -0.10833508205],[51.5141895329, -0.10824866543],[51.5141961963, -0.1081042654],[51.51421161372, -0.10794509019],[51.51420836076, -0.10774345138],[51.51421293201, -0.1074694263],[51.51421200239, -0.10741181522],[51.51420898095, -0.10722457923],[51.51421262111, -0.10689294306],[51.51419735722, -0.10650444112],[51.51419317159, -0.10624519153],[51.51419131113, -0.1061299695],[51.51418311755, -0.10591696917],[51.51418311755, -0.10591696917],[51.5141758121, -0.10572706533],[51.51416766953, -0.1052229694],[51.514172933, -0.10499215268],[51.51416781308, -0.10467529251],[51.51416362342, -0.10441604335],[51.51414928261, -0.10408515377],[51.51412269419, -0.10355299966],[51.51400940059, -0.10266413961],[51.5139897966, -0.10256406782],[51.51393075109, -0.10224945033],[51.51388069125, -0.10193446012],[51.51387788763, -0.10191056102],[51.51387788763, -0.10191056102],[51.51382853244, -0.10148984722],[51.5138275999, -0.10143223682],[51.5137934122, -0.10098687758],[51.51376178845, -0.10069994733],[51.51370437081, -0.1004861518],[51.51363773301, -0.10025832817],[51.51349873619, -0.10000469164],[51.51328633106, -0.09910556591],[51.51326356947, -0.09825619843],[51.51321490036, -0.09802763172],[51.51313362803, -0.09765709072],[51.51313362803, -0.09765709072],[51.51302068685, -0.09714217448],[51.51289404716, -0.09654214755],[51.51288365823, -0.09645610859],[51.51273623613, -0.09568400843],[51.51264670451, -0.09515450079],[51.51260659161, -0.0949056658],[51.51260659161, -0.0949056658],[51.5125867035, -0.09478229401],[51.51254584423, -0.09448134888],[51.51248724529, -0.09419555655],[51.51239840925, -0.09370926112],[51.51231284906, -0.09342459637],[51.51214743427, -0.09265326684],[51.51200279893, -0.09205401533],[51.51198365457, -0.09198275658],[51.5118683188, -0.09152640158],[51.51177721115, -0.09115529563],[51.51177721115, -0.09115529563],[51.51167569787, -0.09074181207],[51.51147791141, -0.08964039056],[51.51142828723, -0.08935423541],[51.5112909788, -0.08865381622],[51.51125057341, -0.08838168885],[51.51117187388, -0.08796705045],[51.51113123209, -0.08768052281],[51.51110239417, -0.08756643878],[51.5109471023, -0.08686678318],[51.51087121698, -0.08662496876],[51.51071040102, -0.08668935216],[51.51030883075, -0.08687911135],[51.50980793956, -0.08704420537],[51.50973651788, -0.08707601917],[51.50952201788, -0.08715705884],[51.50952201788, -0.08715705884],[51.50902159588, -0.08735094867],[51.5089144632, -0.08739866775],[51.50790392696, -0.08774360664],[51.50682149784, -0.08809153917],[51.50673210291, -0.08812410149],[51.5065919238, -0.08818816122],[51.5065919238, -0.08818816122],[51.50641969002, -0.08826686887],[51.5063395162, -0.08831345453],[51.50617940321, -0.08842102543],[51.50613993654, -0.08820652889],[51.50611016021, -0.08803485669],[51.50598317284, -0.0873729817],[51.50598317284, -0.0873729817],[51.50587428977, -0.08680548705],[51.50582371923, -0.08646177031],[51.50578401402, -0.08623287728],[51.5057556448, -0.08614760733],[51.50573626196, -0.08606196091],[51.50564833323, -0.0856333533],[51.50550742478, -0.08526460714],[51.50533080462, -0.08491177021],[51.50528422644, -0.08481285579],[51.50510666415, -0.08440242352],[51.50506907198, -0.0843031332],[51.50503491821, -0.08422721342],[51.50503491821, -0.08422721342],[51.50492910045, -0.08399199446],[51.504741843, -0.08353874691],[51.50450682725, -0.08291459471],[51.50439286966, -0.08254473456],[51.50422334406, -0.08207634429],[51.50415390903, -0.08190829133],[51.50415390903, -0.08190829133],[51.50408289568, -0.08173641951],[51.50398051203, -0.08152458092],[51.50383060448, -0.08115623862],[51.50370859758, -0.08084436295],[51.50361307774, -0.08050255769],[51.50351567111, -0.08004556052],[51.50350693766, -0.08000899604],[51.50350693766, -0.08000899604],[51.50345774497, -0.0798030413],[51.50336387271, -0.07956203396],[51.50329790245, -0.07937749042],[51.5032127799, -0.07912170785],[51.50312742092, -0.07885152722],[51.50300399246, -0.07845326866],[51.50292051957, -0.07829828226],[51.50271826667, -0.07797402348]]",
            "stopPoints": [
             {
              "$type": "Tfl.Api.Presentation.Entities.Identifier, Tfl.Api.Presentation.Entities",
              "id": "490G000385",
              "name": "Aldwych",
              "routeType": "Unknown",
              "status": "Unknown",
              "type": "StopPoint",
              "uri": "/StopPoint/490G000385"
             },
             {
              "$type": "Tfl.Api.Presentation.Entities.Identifier, Tfl.Api.Presentation.Entities",
              "id": "490G000731",
              "name": "The Royal Courts Of Justice",
              "routeType": "Unknown",
              "status": "Unknown",
              "type": "StopPoint",
              "uri": "/StopPoint/490G000731"
             },
             {
              "$type": "Tfl.Api.Presentation.Entities.Identifier, Tfl.Api.Presentation.Entities",
              "id": "490G00006826",
              "name": "Fetter Lane",
              "routeType": "Unknown",
              "status": "Unknown",
              "type": "StopPoint",
              "uri": "/StopPoint/490G00006826"
             },
             {
              "$type": "Tfl.Api.Presentation.Entities.Identifier, Tfl.Api.Presentation.Entities",
              "id": "490G00019205",
              "name": "Ludgate Circus",
              "routeType": "Unknown",
              "status": "Unknown",
              "type": "StopPoint",
              "uri": "/StopPoint/490G00019205"
             },
             {
              "$type": "Tfl.Api.Presentation.Entities.Identifier, Tfl.Api.Presentation.Entities",
              "id": "490G00009443",
              "name": "Ludgate Hill / Old Bailey",
              "routeType": "Unknown",
              "status": "Unknown",
              "type": "StopPoint",
              "uri": "/StopPoint/490G00009443"
             },
             {
              "$type": "Tfl.Api.Presentation.Entities.Identifier, Tfl.Api.Presentation.Entities",
              "id": "490G00012873",
              "name": "St Paul's Cathedral",
              "routeType": "Unknown",
              "status": "Unknown",
              "type": "StopPoint",
              "uri": "/StopPoint/490G00012873"
             },
             {
              "$type": "Tfl.Api.Presentation.Entities.Identifier, Tfl.Api.Presentation.Entities",
              "id": "490G00143E",
              "name": "Mansion House Station",
              "routeType": "Unknown",
              "status": "Unknown",
              "type": "StopPoint",
              "uri": "/StopPoint/490G00143E"
             },
             {
              "$type": "Tfl.Api.Presentation.Entities.Identifier, Tfl.Api.Presentation.Entities",
              "id": "490G00040E",
              "name": "Cannon Street Station",
              "routeType": "Unknown",
              "status": "Unknown",
              "type": "StopPoint",
              "uri": "/StopPoint/490G00040E"
             },
             {
              "$type": "Tfl.Api.Presentation.Entities.Identifier, Tfl.Api.Presentation.Entities",
              "id": "490G09267E",
              "name": "Monument Station",
              "routeType": "Unknown",
              "status": "Unknown",
              "type": "StopPoint",
              "uri": "/StopPoint/490G09267E"
             },
             {
              "$type": "Tfl.Api.Presentation.Entities.Identifier, Tfl.Api.Presentation.Entities",
              "id": "490G000922",
              "name": "London Bridge",
              "routeType": "Unknown",
              "status": "Unknown",
              "type": "StopPoint",
              "uri": "/StopPoint/490G000922"
             },
             {
              "$type": "Tfl.Api.Presentation.Entities.Identifier, Tfl.Api.Presentation.Entities",
              "id": "490G00139R",
              "name": "London Bridge Station",
              "routeType": "Unknown",
              "status": "Unknown",
              "type": "StopPoint",
              "uri": "/StopPoint/490G00139R"
             },
             {
              "$type": "Tfl.Api.Presentation.Entities.Identifier, Tfl.Api.Presentation.Entities",
              "id": "490G00007964",
              "name": "Hay's Galleria",
              "routeType": "Unknown",
              "status": "Unknown",
              "type": "StopPoint",
              "uri": "/StopPoint/490G00007964"
             },
             {
              "$type": "Tfl.Api.Presentation.Entities.Identifier, Tfl.Api.Presentation.Entities",
              "id": "490G00018666",
              "name": "Abbots Lane",
              "routeType": "Unknown",
              "status": "Unknown",
              "type": "StopPoint",
              "uri": "/StopPoint/490G00018666"
             },
             {
              "$type": "Tfl.Api.Presentation.Entities.Identifier, Tfl.Api.Presentation.Entities",
              "id": "490G00016580",
              "name": "City Hall",
              "routeType": "Unknown",
              "status": "Unknown",
              "type": "StopPoint",
              "uri": "/StopPoint/490G00016580"
             },
             {
              "$type": "Tfl.Api.Presentation.Entities.Identifier, Tfl.Api.Presentation.Entities",
              "id": "490G00013746",
              "name": "Tower Bridge Road",
              "routeType": "Unknown",
              "status": "Unknown",
              "type": "StopPoint",
              "uri": "/StopPoint/490G00013746"
             }
            ]
           },
           "plannedWorks": [],
           "routeOptions": [
            {
             "$type": "Tfl.Api.Presentation.Entities.JourneyPlanner.RouteOption, Tfl.Api.Presentation.Entities",
             "directions": [
              "St Mary Cray Station"
             ],
             "lineIdentifier": {
              "$type": "Tfl.Api.Presentation.Entities.Identifier, Tfl.Api.Presentation.Entities",
              "crowding": {
               "$type": "Tfl.Api.Presentation.Entities.Crowding, Tfl.Api.Presentation.Entities"
              },
              "id": "n199",
              "name": "N199",
              "routeType": "Unknown",
              "status": "Unknown",
              "type": "Line",
              "uri": "/Line/n199"
             },
             "name": "N199"
            }
           ]
          },
          {
           "$type": "Tfl.Api.Presentation.Entities.JourneyPlanner.Leg, Tfl.Api.Presentation.Entities",
           "arrivalPoint": {
            "$type": "Tfl.Api.Presentation.Entities.Place, Tfl.Api.Presentation.Entities",
            "commonName": "SE1 2UF",
            "lat": 51.50266561539,
            "lon": -0.07755974773,
            "placeType": "StopPoint"
           },
           "arrivalTime": "2021-03-06T01:26:00",
           "departurePoint": {
            "$type": "Tfl.Api.Presentation.Entities.StopPoint, Tfl.Api.Presentation.Entities",
            "additionalProperties": [],
            "commonName": "Tower Bridge Road",
            "icsCode": "1013746",
            "lat": 51.50271739164,
            "lon": -0.07797542472999999,
            "naptanId": "490G00013746",
            "placeType": "StopPoint",
            "platformName": "K",
            "stopLetter": "K"
           },
           "departureTime": "2021-03-06T01:25:00",
           "disruptions": [],
           "distance": 25,
           "duration": 1,
           "hasFixedLocations": false,
           "instruction": {
            "$type": "Tfl.Api.Presentation.Entities.Instruction, Tfl.Api.Presentation.Entities",
            "detailed": "Walk to SE1 2UF",
            "steps": [
             {
              "$type": "Tfl.Api.Presentation.Entities.InstructionStep, Tfl.Api.Presentation.Entities",
              "cumulativeDistance": 25,
              "cumulativeTravelTime": 18,
              "description": "Tooley Street for 25 metres",
              "descriptionHeading": "Continue along ",
              "distance": 25,
              "latitude": 51.50271739164,
              "longitude": -0.07797542472999999,
              "pathAttribute": {
               "$type": "Tfl.Api.Presentation.Entities.PathAttribute, Tfl.Api.Presentation.Entities"
              },
              "skyDirection": 493,
              "skyDirectionDescription": "North",
              "streetName": "Tooley Street",
              "trackType": "None",
              "turnDirection": "STRAIGHT"
             }
            ],
            "summary": "Walk to SE1 2UF"
           },
           "isDisrupted": false,
           "mode": {
            "$type": "Tfl.Api.Presentation.Entities.Identifier, Tfl.Api.Presentation.Entities",
            "id": "walking",
            "name": "walking",
            "routeType": "Unknown",
            "status": "Unknown",
            "type": "Mode"
           },
           "obstacles": [],
           "path": {
            "$type": "Tfl.Api.Presentation.Entities.JourneyPlanner.Path, Tfl.Api.Presentation.Entities",
            "elevation": [],
            "lineString": "[[51.50271739164, -0.07797542473],[51.5025511525, -0.07770865272],[51.50266561539, -0.07755974773]]",
            "stopPoints": []
           },
           "plannedWorks": [],
           "routeOptions": [
            {
             "$type": "Tfl.Api.Presentation.Entities.JourneyPlanner.RouteOption, Tfl.Api.Presentation.Entities",
             "directions": [
              ""
             ],
             "name": ""
            }
           ]
          }
         ],
         "startDateTime": "2021-03-05T23:20:00"
        },
        {
         "$type": "Tfl.Api.Presentation.Entities.JourneyPlanner.Journey, Tfl.Api.Presentation.Entities",
         "arrivalDateTime": "2021-03-06T01:46:00",
         "duration": 111,
         "legs": [
          {
           "$type": "Tfl.Api.Presentation.Entities.JourneyPlanner.Leg, Tfl.Api.Presentation.Entities",
           "arrivalPoint": {
            "$type": "Tfl.Api.Presentation.Entities.StopPoint, Tfl.Api.Presentation.Entities",
            "additionalProperties": [],
            "commonName": "Heathrow Central Bus Stn (Rail-Air)",
            "icsCode": "1008016",
            "lat": 51.47136544841,
            "lon": -0.45345569183,
            "naptanId": "910GHTRWCBS",
            "placeType": "StopPoint",
            "platformName": "19"
           },
           "arrivalTime": "2021-03-06T00:06:00",
           "departurePoint": {
            "$type": "Tfl.Api.Presentation.Entities.StopPoint, Tfl.Api.Presentation.Entities",
            "additionalProperties": [],
            "commonName": "TW6 1EW",
            "icsCode": "99999997",
            "lat": 51.469776580410006,
            "lon": -0.44957881255,
            "placeType": "StopPoint",
            "platformName": ""
           },
           "departureTime": "2021-03-05T23:55:00",
           "disruptions": [],
           "distance": 706,
           "duration": 11,
           "hasFixedLocations": true,
           "instruction": {
            "$type": "Tfl.Api.Presentation.Entities.Instruction, Tfl.Api.Presentation.Entities",
            "detailed": "Walk to Heathrow Central Bus Station",
            "steps": [
             {
              "$type": "Tfl.Api.Presentation.Entities.InstructionStep, Tfl.Api.Presentation.Entities",
              "cumulativeDistance": 318,
              "cumulativeTravelTime": 286,
              "description": " for 318 metres",
              "descriptionHeading": "Continue along ",
              "distance": 318,
              "latitude": 51.469399547399995,
              "longitude": -0.45098816812,
              "pathAttribute": {
               "$type": "Tfl.Api.Presentation.Entities.PathAttribute, Tfl.Api.Presentation.Entities"
              },
              "skyDirection": 299,
              "skyDirectionDescription": "NorthWest",
              "streetName": "",
              "trackType": "None",
              "turnDirection": "STRAIGHT"
             },
             {
              "$type": "Tfl.Api.Presentation.Entities.InstructionStep, Tfl.Api.Presentation.Entities",
              "cumulativeDistance": 569,
              "cumulativeTravelTime": 512,
              "description": "on to Contrail Way, continue for 251 metres",
              "descriptionHeading": "Take a slight right",
              "distance": 251,
              "latitude": 51.46853877779,
              "longitude": -0.45322012153,
              "pathAttribute": {
               "$type": "Tfl.Api.Presentation.Entities.PathAttribute, Tfl.Api.Presentation.Entities"
              },
              "skyDirection": 318,
              "skyDirectionDescription": "North",
              "streetName": "Contrail Way",
              "trackType": "None",
              "turnDirection": "SLIGHT_RIGHT"
             },
             {
              "$type": "Tfl.Api.Presentation.Entities.InstructionStep, Tfl.Api.Presentation.Entities",
              "cumulativeDistance": 638,
              "cumulativeTravelTime": 574,
              "description": "on to Inner Ring West, continue for 69 metres",
              "descriptionHeading": "Continue along ",
              "distance": 69,
              "latitude": 51.47062030437,
              "longitude": -0.45422958635,
              "pathAttribute": {
               "$type": "Tfl.Api.Presentation.Entities.PathAttribute, Tfl.Api.Presentation.Entities"
              },
              "skyDirection": 346,
              "skyDirectionDescription": "North",
              "streetName": "Inner Ring West",
              "trackType": "None",
              "turnDirection": "STRAIGHT"
             },
             {
              "$type": "Tfl.Api.Presentation.Entities.InstructionStep, Tfl.Api.Presentation.Entities",
              "cumulativeDistance": 706,
              "cumulativeTravelTime": 635,
              "description": "on to Control Tower Road, continue for 68 metres",
              "descriptionHeading": "Take a sharp right",
              "distance": 68,
              "latitude": 51.47123340134,
              "longitude": -0.45435284892,
              "pathAttribute": {
               "$type": "Tfl.Api.Presentation.Entities.PathAttribute, Tfl.Api.Presentation.Entities"
              },
              "skyDirection": 485,
              "skyDirectionDescription": "North",
              "streetName": "Control Tower Road",
              "trackType": "None",
              "turnDirection": "SHARP_RIGHT"
             }
            ],
            "summary": "Walk to Heathrow Central Bus Station"
           },
           "isDisrupted": false,
           "mode": {
            "$type": "Tfl.Api.Presentation.Entities.Identifier, Tfl.Api.Presentation.Entities",
            "id": "walking",
            "name": "walking",
            "routeType": "Unknown",
            "status": "Unknown",
            "type": "Mode"
           },
           "obstacles": [],
           "path": {
            "$type": "Tfl.Api.Presentation.Entities.JourneyPlanner.Path, Tfl.Api.Presentation.Entities",
            "elevation": [],
            "lineString": "[[51.46977658041, -0.44957881255],[51.4693995474, -0.45098816812],[51.46990315369, -0.45235330669],[51.46991214191, -0.45235300257],[51.46988479735, -0.4523251321],[51.46981289153, -0.45232756509],[51.46968724628, -0.45234621415],[51.46867138648, -0.45236618747],[51.46854688075, -0.45247118184],[51.46849693931, -0.45277521685],[51.46853877779, -0.45322012153],[51.46884108363, -0.45364182433],[51.46895982838, -0.45378178552],[51.46917649481, -0.45384644959],[51.46965363027, -0.45388791242],[51.47004968183, -0.45391771884],[51.47031147908, -0.45399525753],[51.47062030437, -0.45422958635],[51.47094558814, -0.45434817678],[51.47123340134, -0.45435284892],[51.47102977877, -0.45391338582],[51.47101509723, -0.4534819363]]",
            "stopPoints": []
           },
           "plannedWorks": [],
           "routeOptions": [
            {
             "$type": "Tfl.Api.Presentation.Entities.JourneyPlanner.RouteOption, Tfl.Api.Presentation.Entities",
             "directions": [
              ""
             ],
             "name": ""
            }
           ]
          },
          {
           "$type": "Tfl.Api.Presentation.Entities.JourneyPlanner.Leg, Tfl.Api.Presentation.Entities",
           "arrivalPoint": {
            "$type": "Tfl.Api.Presentation.Entities.StopPoint, Tfl.Api.Presentation.Entities",
            "additionalProperties": [],
            "commonName": "Southampton Street / Covent Garden",
            "icsCode": "1012247",
            "lat": 51.51039701446,
            "lon": -0.12182258537,
            "naptanId": "490G00012247",
            "placeType": "StopPoint",
            "platformName": "A",
            "stopLetter": "A"
           },
           "arrivalTime": "2021-03-06T01:20:00",
           "departurePoint": {
            "$type": "Tfl.Api.Presentation.Entities.StopPoint, Tfl.Api.Presentation.Entities",
            "additionalProperties": [],
            "commonName": "Heathrow Central Bus Stn (Rail-Air)",
            "icsCode": "1008016",
            "lat": 51.47136544841,
            "lon": -0.45345569183,
            "naptanId": "910GHTRWCBS",
            "placeType": "StopPoint",
            "platformName": "19"
           },
           "departureTime": "2021-03-06T00:06:00",
           "disruptions": [
            {
             "$type": "Tfl.Api.Presentation.Entities.Disruption, Tfl.Api.Presentation.Entities",
             "additionalInfo": "Further information and a <a href=\"https://tfl.gov.uk/campaign/bus-strike?intcmp=25146\">list of affected routes</a>.",
             "category": "RealTime",
             "categoryDescription": "RealTime",
             "created": "2021-02-26T09:44:00",
             "description": "RATP DEV LONDON STRIKE: RATP Dev London bus services in parts of west, south west and north west London are expected to see disruption on Friday 5, Saturday 6 and Wednesday 10 March, TfL is working hard to minimise potential disruption but customers who need to make journeys are advised to check before they travel. Industrial action will affect services from 00:00 to 23:59 on the respective strike dates and until 06:00 on Sunday 7 March.",
             "lastUpdate": "2021-03-04T21:45:00",
             "summary": "",
             "type": "lineInfo"
            }
           ],
           "duration": 74,
           "hasFixedLocations": true,
           "instruction": {
            "$type": "Tfl.Api.Presentation.Entities.Instruction, Tfl.Api.Presentation.Entities",
            "detailed": "N9 bus towards Aldwych",
            "steps": [],
            "summary": "N9 bus to Southampton Street / Covent Garden"
           },
           "isDisrupted": true,
           "mode": {
            "$type": "Tfl.Api.Presentation.Entities.Identifier, Tfl.Api.Presentation.Entities",
            "id": "bus",
            "name": "bus",
            "routeType": "Unknown",
            "status": "Unknown",
            "type": "Mode"
           },
           "obstacles": [],
           "path": {
            "$type": "Tfl.Api.Presentation.Entities.JourneyPlanner.Path, Tfl.Api.Presentation.Entities",
            "elevation": [],
            "lineString": "[[51.47101407422, -0.45348903241],[51.47102977877, -0.45391338582],[51.47123340134, -0.45435284892],[51.47164382467, -0.45410860501],[51.47176814204, -0.45398921576],[51.4718389094, -0.45390043298],[51.47213077657, -0.45353060308],[51.47256683384, -0.45318468913],[51.47283610095, -0.45314678483],[51.47322221498, -0.45310492796],[51.47408413526, -0.45300377882],[51.47417420737, -0.45301513121],[51.47983083553, -0.45305417444],[51.48027239733, -0.45312564199],[51.48032689622, -0.45316700162],[51.48049096238, -0.45333426536],[51.48090783727, -0.45357938727],[51.48107899301, -0.45360240117],[51.4813390818, -0.45355040017],[51.48179653161, -0.4534629197],[51.48194724295, -0.45329940378],[51.48204769582, -0.45273434041],[51.4819630031, -0.45244917367],[51.48188995765, -0.45236523637],[51.48162935737, -0.45169718516],[51.4815074304, -0.45063560289],[51.48142753568, -0.45003344818],[51.48137113303, -0.44984814123],[51.48135277608, -0.4498199607],[51.4812593432, -0.44824648928],[51.4812593432, -0.44824648928],[51.48124865507, -0.44806651712],[51.48118141416, -0.44638383501],[51.48115790672, -0.44596699318],[51.48110660893, -0.44485074433],[51.48110660893, -0.44485074433],[51.48105679557, -0.44376702021],[51.48103806298, -0.44303318812],[51.48101148482, -0.44238603203],[51.48094665055, -0.44089050135],[51.48091833743, -0.44011379483],[51.48089063509, -0.43919645045],[51.48089063509, -0.43919645045],[51.48085402792, -0.43798459424],[51.48083621828, -0.43732274234],[51.48077896367, -0.43572615539],[51.48076859265, -0.43494884035],[51.48075211113, -0.43438775421],[51.48074139338, -0.43425850962],[51.48074004802, -0.43415774669],[51.48072740776, -0.4338845552],[51.48069032907, -0.43309839139],[51.48069032907, -0.43309839139],[51.48065213014, -0.43228859374],[51.48063170332, -0.42874658466],[51.4807350556, -0.42651532735],[51.4807350556, -0.42651532735],[51.48074327993, -0.4263377336],[51.48078145873, -0.42583237365],[51.4809098962, -0.42401338102],[51.48093105628, -0.42358061078],[51.48099590984, -0.42261420937],[51.48099590984, -0.42261420937],[51.48104341969, -0.42190617429],[51.48126090105, -0.4200264766],[51.48127716756, -0.41973193202],[51.48127716756, -0.41973193202],[51.48136208978, -0.41819398861],[51.48134882974, -0.4178776143],[51.48121586028, -0.41668689413],[51.48051086688, -0.41375905236],[51.48027370119, -0.41284560526],[51.48005720113, -0.41204923993],[51.48005720113, -0.41204923993],[51.48003711323, -0.41197535075],[51.47975323824, -0.41093393623],[51.4797155306, -0.41080563771],[51.4796399198, -0.41053464712],[51.47948868509, -0.40999430559],[51.47948868509, -0.40999430559],[51.47917686339, -0.40888024733],[51.4790260231, -0.40836706795],[51.47893106288, -0.40799595373],[51.47879917213, -0.40755412356],[51.47871397939, -0.40724027535],[51.47852561539, -0.40661320888],[51.47829953507, -0.40585785727],[51.47815119939, -0.40534555443],[51.47815119939, -0.40534555443],[51.47796929568, -0.40471733364],[51.47792942717, -0.40443071562],[51.47794681565, -0.40438690751],[51.47798120085, -0.40427050394],[51.47788603189, -0.40388501336],[51.47778559649, -0.40377331589],[51.47762809778, -0.40343320534],[51.4769693816, -0.40118133713],[51.4769693816, -0.40118133713],[51.47683584143, -0.40072484635],[51.47649381445, -0.39938320797],[51.47601886104, -0.39752785119],[51.47587210777, -0.39698325082],[51.47587210777, -0.39698325082],[51.4757536223, -0.39654356138],[51.47570061199, -0.39595503005],[51.47575001122, -0.3956221025],[51.47572166884, -0.3955222985],[51.47569450799, -0.39550885171],[51.47551238525, -0.39534244527],[51.47535092223, -0.39471452635],[51.47526589255, -0.39441511906],[51.47509721084, -0.3939170564],[51.47497228372, -0.39333106303],[51.47485752523, -0.39283111243],[51.47467649426, -0.39208870357],[51.47440862073, -0.39108603012],[51.47440862073, -0.39108603012],[51.47430681304, -0.3907049667],[51.47408882888, -0.38989187964],[51.47392812772, -0.38932156904],[51.47352226457, -0.38792475294],[51.47348433416, -0.38778209924],[51.47316587878, -0.38685739222],[51.47295923305, -0.38621673013],[51.47303735141, -0.38601238855],[51.47292604584, -0.38566947249],[51.47292604584, -0.38566947249],[51.47274624244, -0.38511553473],[51.4726301921, -0.38517722767],[51.47252716247, -0.38487849118],[51.47228316618, -0.38413837542],[51.47221767242, -0.38395350652],[51.47214259535, -0.38372578083],[51.47193692493, -0.3831571054],[51.4715064086, -0.38193405731],[51.47136602876, -0.38153586801],[51.47121646098, -0.38112360797],[51.47116973318, -0.38099567673],[51.47114506465, -0.38092250924],[51.47114506465, -0.38092250924],[51.47096345338, -0.38038385211],[51.47051433592, -0.37911832032],[51.47037394664, -0.37872014846],[51.47007339654, -0.37779493103],[51.46986710026, -0.37718313579],[51.4697046736, -0.37659103413],[51.4697046736, -0.37659103413],[51.46932728898, -0.375215394],[51.46918309671, -0.37454382229],[51.4691541381, -0.37440087408],[51.46896595997, -0.37312604754],[51.46896595997, -0.37312604754],[51.46879683322, -0.37198037478],[51.46873391321, -0.37133472215],[51.46867398882, -0.37090492831],[51.46846562336, -0.36885350391],[51.46791796402, -0.3689162253],[51.46733853655, -0.36863454575],[51.46742240824, -0.36819963875],[51.46751566678, -0.36779318963],[51.46764387352, -0.36731350516],[51.46771136785, -0.36699435577],[51.46761808208, -0.36675293267],[51.4673640167, -0.36658923788],[51.46709257679, -0.36646935663],[51.46706349489, -0.36644735983],[51.46706349489, -0.36644735983],[51.46678358141, -0.36623564201],[51.46671846082, -0.36607960107],[51.46683105275, -0.3651253766],[51.46688955331, -0.3648065511],[51.46708282464, -0.36383503696],[51.46720880565, -0.3631970569],[51.46730922624, -0.36266076841],[51.46750968673, -0.36211328399],[51.46750968673, -0.36211328399],[51.46762971668, -0.36178546044],[51.46772677337, -0.36165240875],[51.4681503465, -0.36107573758],[51.4687927059, -0.35942578824],[51.468870576, -0.35920703031],[51.46926951262, -0.35815607859],[51.46938721893, -0.3579267322],[51.46938721893, -0.3579267322],[51.46964591155, -0.35742267192],[51.46992908616, -0.35709574649],[51.47002593569, -0.35694828738],[51.47052998694, -0.35505841518],[51.47059865903, -0.35482557394],[51.47078669688, -0.35412769296],[51.47094062382, -0.35356465205],[51.47094062382, -0.35356465205],[51.47106894789, -0.35309525195],[51.4710657137, -0.35286499454],[51.47116729962, -0.35241498571],[51.4713528953, -0.35154439239],[51.47148880822, -0.35097795212],[51.47176204336, -0.34994580061],[51.47194828574, -0.34933718931],[51.47194828574, -0.34933718931],[51.47237241418, -0.34795114569],[51.47243289532, -0.34777617529],[51.47287686931, -0.34673781069],[51.47289963995, -0.34668491049],[51.47289963995, -0.34668491049],[51.47328610106, -0.34578707689],[51.47339989627, -0.34556697407],[51.47360133458, -0.34518530817],[51.4738035842, -0.34486120646],[51.47397961837, -0.34457845069],[51.47397961837, -0.34457845069],[51.47465649554, -0.34349118249],[51.47470838879, -0.34334530746],[51.47486060964, -0.34266301285],[51.47490721203, -0.34214293854],[51.47490721203, -0.34214293854],[51.47498836783, -0.34088722939],[51.47500206663, -0.34058434024],[51.47505173848, -0.339646561],[51.47511917435, -0.33869373461],[51.47516903505, -0.33777034352],[51.47519408895, -0.33730630818],[51.47519408895, -0.33730630818],[51.47521888846, -0.33684695059],[51.47523441421, -0.33667358946],[51.47524626434, -0.33624116713],[51.47526587502, -0.33572206383],[51.47534555457, -0.33493649595],[51.47534555457, -0.33493649595],[51.4754315233, -0.33408886107],[51.47549055198, -0.33381311463],[51.4755412059, -0.33358087207],[51.4759237133, -0.33231020098],[51.4759237133, -0.33231020098],[51.47596195965, -0.33218314475],[51.47608266915, -0.33181874265],[51.47680567179, -0.32954593374],[51.47701990483, -0.3288036932],[51.47713389394, -0.32839851153],[51.47713389394, -0.32839851153],[51.47720819612, -0.32813439585],[51.47743957422, -0.32733391317],[51.47760274241, -0.32679512707],[51.47768810047, -0.32647519271],[51.47783370029, -0.32596584483],[51.47785922492, -0.3258641065],[51.4779703102, -0.3254568229],[51.47803561824, -0.32522689602],[51.47803561824, -0.32522689602],[51.47809017611, -0.32503481502],[51.47822760451, -0.32458336006],[51.47827926824, -0.32442305948],[51.47839974751, -0.32404422566],[51.47857168221, -0.323490694],[51.47889818611, -0.32242745785],[51.47916561322, -0.32160099233],[51.47916561322, -0.32160099233],[51.47949237417, -0.32059112176],[51.47963753562, -0.32005294841],[51.47967183645, -0.31993647906],[51.47974002528, -0.31967475268],[51.47993986637, -0.31905984828],[51.47993986637, -0.31905984828],[51.4804031796, -0.3176341896],[51.48080173702, -0.31658261642],[51.48101031638, -0.31607021305],[51.48101031638, -0.31607021305],[51.48112311779, -0.31579309689],[51.48141877124, -0.31509092446],[51.48149697089, -0.31490082022],[51.48162744087, -0.31459357447],[51.4818269138, -0.3140821572],[51.48203269489, -0.31355831884],[51.48203269489, -0.31355831884],[51.48221727937, -0.31308842961],[51.48237160052, -0.31256426357],[51.48238729718, -0.31240526221],[51.48240009309, -0.31204473976],[51.48242692525, -0.31141006047],[51.48247276584, -0.31084668819],[51.48270111974, -0.30984450588],[51.4828305387, -0.30946526548],[51.48300157313, -0.30885404847],[51.48308605098, -0.30847646555],[51.48332154573, -0.30729081354],[51.48332154573, -0.30729081354],[51.48336269968, -0.30708360706],[51.48346935342, -0.30637394233],[51.48360904117, -0.30546141634],[51.48393181515, -0.30424783529],[51.48393181515, -0.30424783529],[51.48398430855, -0.30405046198],[51.48407085293, -0.30381681058],[51.48418394299, -0.30355336803],[51.4845405596, -0.30271918035],[51.48492434118, -0.30189837321],[51.4850786116, -0.30137413931],[51.48516410782, -0.3010685016],[51.48522284922, -0.30077826018],[51.48568835207, -0.2993926655],[51.48602089972, -0.29876095743],[51.48611869517, -0.2984666894],[51.48611869517, -0.2984666894],[51.48617599145, -0.29829428237],[51.48632167588, -0.29779914788],[51.4863697496, -0.29739406584],[51.48638667959, -0.29732141881],[51.48660906563, -0.2965353538],[51.48672945331, -0.29615637905],[51.4869080458, -0.29556748428],[51.4869080458, -0.29556748428],[51.48717566958, -0.29468498874],[51.4872699262, -0.29436459369],[51.48751674078, -0.29340474295],[51.48765278808, -0.2928667268],[51.48771297605, -0.29267723062],[51.48805968744, -0.29178564676],[51.48823663242, -0.29112138823],[51.48823663242, -0.29112138823],[51.48848598405, -0.29018527932],[51.48851962502, -0.2900255772],[51.48861949673, -0.28947448871],[51.48864435925, -0.28932951814],[51.488784333, -0.28844563189],[51.48888755979, -0.2881248764],[51.48905911196, -0.28755668944],[51.48929546606, -0.28711570741],[51.48933715561, -0.2870490605],[51.48933715561, -0.2870490605],[51.48947999688, -0.28682070622],[51.48957612474, -0.28662984701],[51.48961123323, -0.28657091359],[51.48968959612, -0.2863951237],[51.48980411895, -0.2862323817],[51.49009186725, -0.28561660416],[51.49016187266, -0.28548433776],[51.49026656473, -0.28526434245],[51.49071108466, -0.28429164022],[51.49071108466, -0.28429164022],[51.49116404786, -0.28330042435],[51.49135270775, -0.2826739281],[51.49153266728, -0.28268157073],[51.49162190915, -0.28263500243],[51.49170195273, -0.28257437461],[51.49178157459, -0.28248495241],[51.49184237806, -0.28233861702],[51.49188913219, -0.2818470882],[51.49187866823, -0.28174664629],[51.49180065085, -0.28133183399],[51.49185955372, -0.28105592311],[51.49195145067, -0.28057709936],[51.49200655137, -0.28004203808],[51.49210923691, -0.27907303044],[51.49213990434, -0.27871174734],[51.49217078201, -0.27836486095],[51.49221209707, -0.27794497883],[51.49221209707, -0.27794497883],[51.49223337999, -0.27772867563],[51.49233932118, -0.2763705946],[51.49239877902, -0.275766214],[51.49239877902, -0.275766214],[51.49243320055, -0.27541630875],[51.49250307544, -0.27466459877],[51.49257811835, -0.27365339623],[51.49262292789, -0.27303227592],[51.49281741517, -0.27158439074],[51.49285039388, -0.27138146829],[51.49288927685, -0.27081196001],[51.49288927685, -0.27081196001],[51.49293913599, -0.27008162581],[51.49294302589, -0.26973574897],[51.49291995266, -0.26939089314],[51.49289730342, -0.26907483236],[51.49268332138, -0.26676368051],[51.49262970516, -0.26557007351],[51.49257967723, -0.2648892199],[51.49257967723, -0.2648892199],[51.49256215017, -0.26465069901],[51.49253373446, -0.26394591932],[51.49245976884, -0.26259463485],[51.49245784915, -0.2624650605],[51.49244867533, -0.26184598325],[51.49244376706, -0.26151484904],[51.49244376706, -0.26151484904],[51.49243949823, -0.26122690633],[51.49244378904, -0.26090982741],[51.49245772438, -0.26003057609],[51.49247206748, -0.25978514044],[51.49250075213, -0.2592942687],[51.49252558682, -0.25854424784],[51.49254014061, -0.25831320857],[51.49255335695, -0.258081421],[51.49255335695, -0.258081421],[51.49260434335, -0.25718714724],[51.49261140499, -0.25705723009],[51.49265933384, -0.25604702882],[51.49270404994, -0.2554258924],[51.49274383456, -0.25447361971],[51.49278105551, -0.25395360451],[51.49282154183, -0.25303651019],[51.49282154183, -0.25303651019],[51.49284156966, -0.25258277979],[51.49285182034, -0.2520637934],[51.49286099545, -0.25147282087],[51.49294632862, -0.25056201359],[51.4929781968, -0.25028709017],[51.49304236096, -0.24976603672],[51.49310624109, -0.24927125674],[51.49310624109, -0.24927125674],[51.49317132725, -0.24876711738],[51.49321217847, -0.248491847],[51.49326842274, -0.24804311957],[51.49332999501, -0.24734929217],[51.49333683054, -0.24720497438],[51.49335582219, -0.24674964397],[51.49335582219, -0.24674964397],[51.4933765482, -0.24625268296],[51.49340259157, -0.24558902656],[51.49343078572, -0.2450693427],[51.49344229608, -0.24463673267],[51.49349098008, -0.24368409191],[51.49353217917, -0.24283257626],[51.49353771467, -0.24260187327],[51.49355928213, -0.24224090282],[51.49355604504, -0.24202494273],[51.49356257862, -0.24126119228],[51.49355890785, -0.24101643763],[51.49353169517, -0.24026828273],[51.49353169517, -0.24026828273],[51.49349768155, -0.23933333615],[51.49348350624, -0.23898814736],[51.49346142383, -0.23871529162],[51.49339733599, -0.23804069864],[51.49332793545, -0.23761120722],[51.49322386253, -0.23714848127],[51.49322386253, -0.23714848127],[51.49316411615, -0.23688284326],[51.49309730929, -0.2366261217],[51.49304804327, -0.23633991294],[51.49294842621, -0.23569551183],[51.4929243376, -0.2352406338],[51.4929243376, -0.2352406338],[51.49292330323, -0.23522110183],[51.49290186215, -0.2349914427],[51.49282919933, -0.23434600505],[51.49322333561, -0.23424434337],[51.49371611418, -0.23412446236],[51.4938862206, -0.23407467163],[51.49406574779, -0.23405332807],[51.49444147566, -0.23392356043],[51.49446419537, -0.23304391988],[51.49447635226, -0.23261636543],[51.49447635226, -0.23261636543],[51.49448182757, -0.23242378229],[51.49447727018, -0.23212143366],[51.49449402903, -0.23144370544],[51.49447613842, -0.23085375392],[51.49447860901, -0.23042147972],[51.49447404646, -0.23011913145],[51.49447404646, -0.23011913145],[51.49446970044, -0.22983118078],[51.49442310102, -0.22912709509],[51.49439033907, -0.22814876168],[51.49439721735, -0.22741379251],[51.49380064483, -0.2266158063],[51.49361282209, -0.22613708873],[51.49361282209, -0.22613708873],[51.49356682039, -0.22601984219],[51.49310749593, -0.22478439212],[51.49302247048, -0.22451399052],[51.49305580336, -0.22433982929],[51.49307884074, -0.22407963476],[51.49310868408, -0.22367512011],[51.49292654222, -0.2235237399],[51.49289669938, -0.22392825301],[51.49283025256, -0.22429097155],[51.49263842032, -0.22468737086],[51.4916948664, -0.22354280825],[51.49187814394, -0.22317555527],[51.49254577137, -0.22395768944],[51.49254577137, -0.22395768944],[51.49283025256, -0.22429097155],[51.49289669938, -0.22392825301],[51.49292654222, -0.2235237399],[51.49307779709, -0.22341702133],[51.49303377754, -0.22288572883],[51.49305288382, -0.22236638725],[51.49307005802, -0.22112684423],[51.49319659439, -0.21998387896],[51.4932033962, -0.21983955834],[51.49323366205, -0.2194638343],[51.49324595244, -0.21908881028],[51.4932496023, -0.21903172639],[51.4932496023, -0.21903172639],[51.4934130545, -0.21647487756],[51.49356715802, -0.21596466389],[51.4936210824, -0.21578876975],[51.4936210824, -0.21578876975],[51.49377277194, -0.21529397184],[51.49386637118, -0.21494457742],[51.49410551597, -0.21411410145],[51.49426793821, -0.21356032892],[51.49441326111, -0.21306484495],[51.49451671837, -0.21277267933],[51.49470204183, -0.21230745853],[51.49470204183, -0.21230745853],[51.49481985472, -0.2120117063],[51.49489744572, -0.2117925785],[51.49505416355, -0.2114551037],[51.49561000721, -0.21016558868],[51.49582369513, -0.20943689778],[51.49591419828, -0.20888590647],[51.4959689705, -0.20835072043],[51.4960086263, -0.20800341014],[51.49606647525, -0.20766979207],[51.49615983134, -0.20730596705],[51.49625230572, -0.2068845489],[51.49664152944, -0.2058752137],[51.49681422114, -0.20540741736],[51.4969127914, -0.20514215643],[51.4969127914, -0.20514215643],[51.49715105266, -0.20450096369],[51.49729743909, -0.20407741145],[51.4974038288, -0.20376137524],[51.4974038288, -0.20376137524],[51.4975038661, -0.20346420553],[51.49782314955, -0.20258722794],[51.49790072261, -0.20236807005],[51.498012919, -0.20206110629],[51.49822832229, -0.20144752806],[51.4983236464, -0.20121326016],[51.49848212303, -0.2007539867],[51.49848212303, -0.2007539867],[51.49853027906, -0.20061442637],[51.49863348374, -0.20030780815],[51.49880983497, -0.19949404872],[51.49891148898, -0.19908663532],[51.49903943913, -0.19863496097],[51.49909969419, -0.19845969565],[51.49927191323, -0.19796304902],[51.49943580703, -0.19750994979],[51.49951447703, -0.19736277003],[51.49960014175, -0.19708564511],[51.49977247803, -0.19659149835],[51.49977247803, -0.19659149835],[51.49996187539, -0.19604842041],[51.50021230837, -0.19537577199],[51.50039327946, -0.19486434765],[51.50054795236, -0.19439718239],[51.50063147985, -0.19416718771],[51.50063147985, -0.19416718771],[51.50089301862, -0.19344702169],[51.50097933941, -0.19321307912],[51.50124861741, -0.19259728681],[51.50136977469, -0.19228992137],[51.5016388257, -0.19165971894],[51.50188291116, -0.19116017279],[51.50199574398, -0.19089635402],[51.5021189959, -0.19014223454],[51.50219254462, -0.18966384158],[51.50234452831, -0.18902384436],[51.50237647355, -0.18876322465],[51.50237091341, -0.18840323221],[51.50235551997, -0.18825436033],[51.50235551997, -0.18825436033],[51.5022863365, -0.1875853023],[51.50225425702, -0.18725517997],[51.50222195401, -0.18691065849],[51.50212949332, -0.18616508913],[51.50207000352, -0.18580724055],[51.50195933913, -0.18504799062],[51.5018632176, -0.18456367735],[51.5018632176, -0.18456367735],[51.50180328927, -0.18426173149],[51.50174624636, -0.18406228217],[51.50167776326, -0.18370479679],[51.50150624696, -0.18250132279],[51.50149547477, -0.18238648535],[51.50145104555, -0.18184074006],[51.50144568752, -0.18149515564],[51.5014483204, -0.18130343707],[51.5014483204, -0.18130343707],[51.50145835521, -0.18057252394],[51.50146421456, -0.18037057516],[51.5014720844, -0.18029822046],[51.50147119071, -0.18024062308],[51.50153235954, -0.17954658966],[51.50157380261, -0.17816174314],[51.50156354629, -0.17692304002],[51.50160617336, -0.1763667839],[51.50160617336, -0.1763667839],[51.5017429474, -0.17458172945],[51.50180049507, -0.17365729478],[51.50180746376, -0.1735273409],[51.5019000637, -0.17196753186],[51.50192526656, -0.17103788626],[51.50192526656, -0.17103788626],[51.50192860897, -0.17091457589],[51.50190884056, -0.1702237641],[51.50185379079, -0.16900125621],[51.50185199227, -0.1688860612],[51.50183693457, -0.16849763843],[51.50182637358, -0.16839720318],[51.50181962633, -0.16796522235],[51.50182186435, -0.16753288121],[51.50182091398, -0.16712782869],[51.50182091398, -0.16712782869],[51.50182027482, -0.16685575109],[51.5017189044, -0.165548659],[51.50167349575, -0.16494533227],[51.50167393338, -0.16316910258],[51.50167393338, -0.16316910258],[51.50167404841, -0.16268320064],[51.50166592629, -0.16216482706],[51.50167152822, -0.16194847655],[51.50172694399, -0.1608944365],[51.50186328072, -0.16041347039],[51.5020534849, -0.15935399288],[51.50223717984, -0.15845326262],[51.50234302614, -0.15660469962],[51.50235760458, -0.15638798279],[51.50245933388, -0.15599484493],[51.50268166805, -0.15526543629],[51.5028538517, -0.15420664572],[51.50292061999, -0.15348398613],[51.50292061999, -0.15348398613],[51.50297678308, -0.15287607161],[51.50299807311, -0.15251499127],[51.50303892369, -0.15225398086],[51.50306384215, -0.15212329372],[51.50311435937, -0.15190511792],[51.50313927744, -0.15177443038],[51.50325601381, -0.1511933527],[51.50327979599, -0.15099066598],[51.50330289665, -0.15074477999],[51.50330279988, -0.15016842877],[51.50376092273, -0.14899715453],[51.50383031675, -0.14883584301],[51.50403040989, -0.14835058751],[51.50403040989, -0.14835058751],[51.50409014443, -0.14820572062],[51.5042284752, -0.14785429249],[51.50442925725, -0.14747151096],[51.50491818178, -0.14654388977],[51.50499655908, -0.14638220579],[51.50504035482, -0.14630838133],[51.50551959994, -0.14533789922],[51.50566781968, -0.14504368807],[51.50583401214, -0.14474874497],[51.50589372996, -0.14454458344],[51.50615604076, -0.14407281429],[51.50642596865, -0.1435142708],[51.50665255626, -0.14305835242],[51.50672216991, -0.14291142246],[51.50694875511, -0.14245549816],[51.50694875511, -0.14245549816],[51.50714098851, -0.14210183746],[51.50752431093, -0.14132250244],[51.50774837857, -0.14070815122],[51.507791714, -0.14060551486],[51.50803397962, -0.14000482571],[51.50816329846, -0.13965370876],[51.50819764623, -0.13955143656],[51.50826898363, -0.13933902458],[51.50826898363, -0.13933902458],[51.50840373098, -0.13893780016],[51.50843762106, -0.13880672447],[51.50861719896, -0.13822298313],[51.50873661104, -0.13781461798],[51.50879654522, -0.13762483593],[51.50897680338, -0.13708428955],[51.50906232377, -0.1368069974],[51.50908768233, -0.13670508774],[51.50925572211, -0.13619348546],[51.50925572211, -0.13619348546],[51.50937074103, -0.1358433007],[51.5094140721, -0.13574065615],[51.50945648737, -0.13558040539],[51.50967245365, -0.1350239738],[51.50974045379, -0.13477621091],[51.50984943911, -0.13484381454],[51.50995636316, -0.1347818036],[51.51011422956, -0.13453036792],[51.51002395632, -0.13394320319],[51.5100961279, -0.13339263412],[51.50993877003, -0.13311084572],[51.50974661115, -0.1329025368],[51.50968232884, -0.13281869933],[51.50965733006, -0.13279420354],[51.50965733006, -0.13279420354],[51.50952703333, -0.13266652896],[51.50924363106, -0.13237549018],[51.50883395601, -0.13206079821],[51.50846875468, -0.13171547141],[51.50808626736, -0.13141408857],[51.50769433368, -0.13108427662],[51.5076344804, -0.13015005748],[51.50761421105, -0.13000678455],[51.50757229389, -0.12963383392],[51.50756518671, -0.12956509332],[51.50756518671, -0.12956509332],[51.50750849702, -0.12901680599],[51.50748730727, -0.12881593069],[51.50750252335, -0.12864238436],[51.5075039263, -0.12816678878],[51.50751592321, -0.12779163061],[51.50753274706, -0.12771888968],[51.50754058422, -0.12764651712],[51.50755671824, -0.12753057359],[51.50772125611, -0.12713474931],[51.50784315945, -0.12688477438],[51.50801737185, -0.1265317796],[51.50804079584, -0.12648389583],[51.50804079584, -0.12648389583],[51.5081828266, -0.12619355187],[51.50841833239, -0.12573716274],[51.5086031391, -0.12548459834],[51.50869876951, -0.12527892445],[51.50881214259, -0.12505811062],[51.50904741353, -0.12458730809],[51.50932577286, -0.12399944414],[51.50964837099, -0.12336652231],[51.50983155909, -0.1230131309],[51.51000575947, -0.12266010608],[51.51008387264, -0.12248396212],[51.51022166374, -0.12210360821],[51.51034807208, -0.1217743316]]",
            "stopPoints": [
             {
              "$type": "Tfl.Api.Presentation.Entities.Identifier, Tfl.Api.Presentation.Entities",
              "id": "490G00012176",
              "name": "Nene Road",
              "routeType": "Unknown",
              "status": "Unknown",
              "type": "StopPoint",
              "uri": "/StopPoint/490G00012176"
             },
             {
              "$type": "Tfl.Api.Presentation.Entities.Identifier, Tfl.Api.Presentation.Entities",
              "id": "490G00004139",
              "name": "Bolton's Lane",
              "routeType": "Unknown",
              "status": "Unknown",
              "type": "StopPoint",
              "uri": "/StopPoint/490G00004139"
             },
             {
              "$type": "Tfl.Api.Presentation.Entities.Identifier, Tfl.Api.Presentation.Entities",
              "id": "490G00010251",
              "name": "New Road",
              "routeType": "Unknown",
              "status": "Unknown",
              "type": "StopPoint",
              "uri": "/StopPoint/490G00010251"
             },
             {
              "$type": "Tfl.Api.Presentation.Entities.Identifier, Tfl.Api.Presentation.Entities",
              "id": "490G00007811",
              "name": "Harlington Corner",
              "routeType": "Unknown",
              "status": "Unknown",
              "type": "StopPoint",
              "uri": "/StopPoint/490G00007811"
             },
             {
              "$type": "Tfl.Api.Presentation.Entities.Identifier, Tfl.Api.Presentation.Entities",
              "id": "490G00015397",
              "name": "Nobel Drive",
              "routeType": "Unknown",
              "status": "Unknown",
              "type": "StopPoint",
              "uri": "/StopPoint/490G00015397"
             },
             {
              "$type": "Tfl.Api.Presentation.Entities.Identifier, Tfl.Api.Presentation.Entities",
              "id": "490G00010677",
              "name": "Oxford Avenue",
              "routeType": "Unknown",
              "status": "Unknown",
              "type": "StopPoint",
              "uri": "/StopPoint/490G00010677"
             },
             {
              "$type": "Tfl.Api.Presentation.Entities.Identifier, Tfl.Api.Presentation.Entities",
              "id": "490G00013596",
              "name": "Craneswater",
              "routeType": "Unknown",
              "status": "Unknown",
              "type": "StopPoint",
              "uri": "/StopPoint/490G00013596"
             },
             {
              "$type": "Tfl.Api.Presentation.Entities.Identifier, Tfl.Api.Presentation.Entities",
              "id": "490G00005704",
              "name": "Waye Avenue",
              "routeType": "Unknown",
              "status": "Unknown",
              "type": "StopPoint",
              "uri": "/StopPoint/490G00005704"
             },
             {
              "$type": "Tfl.Api.Presentation.Entities.Identifier, Tfl.Api.Presentation.Entities",
              "id": "490G00013235",
              "name": "The Avenue",
              "routeType": "Unknown",
              "status": "Unknown",
              "type": "StopPoint",
              "uri": "/StopPoint/490G00013235"
             },
             {
              "$type": "Tfl.Api.Presentation.Entities.Identifier, Tfl.Api.Presentation.Entities",
              "id": "490G00013495",
              "name": "The Parkway",
              "routeType": "Unknown",
              "status": "Unknown",
              "type": "StopPoint",
              "uri": "/StopPoint/490G00013495"
             },
             {
              "$type": "Tfl.Api.Presentation.Entities.Identifier, Tfl.Api.Presentation.Entities",
              "id": "490G00011470",
              "name": "Rectory Road",
              "routeType": "Unknown",
              "status": "Unknown",
              "type": "StopPoint",
              "uri": "/StopPoint/490G00011470"
             },
             {
              "$type": "Tfl.Api.Presentation.Entities.Identifier, Tfl.Api.Presentation.Entities",
              "id": "490G00015462",
              "name": "Henlys Roundabout",
              "routeType": "Unknown",
              "status": "Unknown",
              "type": "StopPoint",
              "uri": "/StopPoint/490G00015462"
             },
             {
              "$type": "Tfl.Api.Presentation.Entities.Identifier, Tfl.Api.Presentation.Entities",
              "id": "490G000040",
              "name": "Great West Road / Renfrew Road",
              "routeType": "Unknown",
              "status": "Unknown",
              "type": "StopPoint",
              "uri": "/StopPoint/490G000040"
             },
             {
              "$type": "Tfl.Api.Presentation.Entities.Identifier, Tfl.Api.Presentation.Entities",
              "id": "490G00118B",
              "name": "Hounslow West Station",
              "routeType": "Unknown",
              "status": "Unknown",
              "type": "StopPoint",
              "uri": "/StopPoint/490G00118B"
             },
             {
              "$type": "Tfl.Api.Presentation.Entities.Identifier, Tfl.Api.Presentation.Entities",
              "id": "490G00012458",
              "name": "St Paul's Church",
              "routeType": "Unknown",
              "status": "Unknown",
              "type": "StopPoint",
              "uri": "/StopPoint/490G00012458"
             },
             {
              "$type": "Tfl.Api.Presentation.Entities.Identifier, Tfl.Api.Presentation.Entities",
              "id": "490G00006406",
              "name": "Wellington Road North",
              "routeType": "Unknown",
              "status": "Unknown",
              "type": "StopPoint",
              "uri": "/StopPoint/490G00006406"
             },
             {
              "$type": "Tfl.Api.Presentation.Entities.Identifier, Tfl.Api.Presentation.Entities",
              "id": "490G00012454",
              "name": "St Michael & St Martin Church",
              "routeType": "Unknown",
              "status": "Unknown",
              "type": "StopPoint",
              "uri": "/StopPoint/490G00012454"
             },
             {
              "$type": "Tfl.Api.Presentation.Entities.Identifier, Tfl.Api.Presentation.Entities",
              "id": "490G00013259",
              "name": "The Bell",
              "routeType": "Unknown",
              "status": "Unknown",
              "type": "StopPoint",
              "uri": "/StopPoint/490G00013259"
             },
             {
              "$type": "Tfl.Api.Presentation.Entities.Identifier, Tfl.Api.Presentation.Entities",
              "id": "490G00013777",
              "name": "Treaty Centre",
              "routeType": "Unknown",
              "status": "Unknown",
              "type": "StopPoint",
              "uri": "/StopPoint/490G00013777"
             },
             {
              "$type": "Tfl.Api.Presentation.Entities.Identifier, Tfl.Api.Presentation.Entities",
              "id": "490G00008399",
              "name": "Hounslow High Street",
              "routeType": "Unknown",
              "status": "Unknown",
              "type": "StopPoint",
              "uri": "/StopPoint/490G00008399"
             },
             {
              "$type": "Tfl.Api.Presentation.Entities.Identifier, Tfl.Api.Presentation.Entities",
              "id": "490G000601",
              "name": "Hounslow Bus Station",
              "routeType": "Unknown",
              "status": "Unknown",
              "type": "StopPoint",
              "uri": "/StopPoint/490G000601"
             },
             {
              "$type": "Tfl.Api.Presentation.Entities.Identifier, Tfl.Api.Presentation.Entities",
              "id": "490G00004327",
              "name": "Bridge Road",
              "routeType": "Unknown",
              "status": "Unknown",
              "type": "StopPoint",
              "uri": "/StopPoint/490G00004327"
             },
             {
              "$type": "Tfl.Api.Presentation.Entities.Identifier, Tfl.Api.Presentation.Entities",
              "id": "490G00012599",
              "name": "Star Road",
              "routeType": "Unknown",
              "status": "Unknown",
              "type": "StopPoint",
              "uri": "/StopPoint/490G00012599"
             },
             {
              "$type": "Tfl.Api.Presentation.Entities.Identifier, Tfl.Api.Presentation.Entities",
              "id": "490G00013620",
              "name": "Thornbury Road",
              "routeType": "Unknown",
              "status": "Unknown",
              "type": "StopPoint",
              "uri": "/StopPoint/490G00013620"
             },
             {
              "$type": "Tfl.Api.Presentation.Entities.Identifier, Tfl.Api.Presentation.Entities",
              "id": "490G00008510",
              "name": "West Thames College",
              "routeType": "Unknown",
              "status": "Unknown",
              "type": "StopPoint",
              "uri": "/StopPoint/490G00008510"
             },
             {
              "$type": "Tfl.Api.Presentation.Entities.Identifier, Tfl.Api.Presentation.Entities",
              "id": "490G01158B",
              "name": "Isleworth Station",
              "routeType": "Unknown",
              "status": "Unknown",
              "type": "StopPoint",
              "uri": "/StopPoint/490G01158B"
             },
             {
              "$type": "Tfl.Api.Presentation.Entities.Identifier, Tfl.Api.Presentation.Entities",
              "id": "490G00009185",
              "name": "Linkfield Road",
              "routeType": "Unknown",
              "status": "Unknown",
              "type": "StopPoint",
              "uri": "/StopPoint/490G00009185"
             },
             {
              "$type": "Tfl.Api.Presentation.Entities.Identifier, Tfl.Api.Presentation.Entities",
              "id": "490G00014874",
              "name": "Wood Lane",
              "routeType": "Unknown",
              "status": "Unknown",
              "type": "StopPoint",
              "uri": "/StopPoint/490G00014874"
             },
             {
              "$type": "Tfl.Api.Presentation.Entities.Identifier, Tfl.Api.Presentation.Entities",
              "id": "490G00007873",
              "name": "Turnpike Way",
              "routeType": "Unknown",
              "status": "Unknown",
              "type": "StopPoint",
              "uri": "/StopPoint/490G00007873"
             },
             {
              "$type": "Tfl.Api.Presentation.Entities.Identifier, Tfl.Api.Presentation.Entities",
              "id": "490G00004635",
              "name": "The Green School",
              "routeType": "Unknown",
              "status": "Unknown",
              "type": "StopPoint",
              "uri": "/StopPoint/490G00004635"
             },
             {
              "$type": "Tfl.Api.Presentation.Entities.Identifier, Tfl.Api.Presentation.Entities",
              "id": "490G00015029",
              "name": "Busch Corner",
              "routeType": "Unknown",
              "status": "Unknown",
              "type": "StopPoint",
              "uri": "/StopPoint/490G00015029"
             },
             {
              "$type": "Tfl.Api.Presentation.Entities.Identifier, Tfl.Api.Presentation.Entities",
              "id": "490G00013141",
              "name": "Syon Lane",
              "routeType": "Unknown",
              "status": "Unknown",
              "type": "StopPoint",
              "uri": "/StopPoint/490G00013141"
             },
             {
              "$type": "Tfl.Api.Presentation.Entities.Identifier, Tfl.Api.Presentation.Entities",
              "id": "490G00003804",
              "name": "Beech Avenue",
              "routeType": "Unknown",
              "status": "Unknown",
              "type": "StopPoint",
              "uri": "/StopPoint/490G00003804"
             },
             {
              "$type": "Tfl.Api.Presentation.Entities.Identifier, Tfl.Api.Presentation.Entities",
              "id": "490G00004296",
              "name": "Brent Lea",
              "routeType": "Unknown",
              "status": "Unknown",
              "type": "StopPoint",
              "uri": "/StopPoint/490G00004296"
             },
             {
              "$type": "Tfl.Api.Presentation.Entities.Identifier, Tfl.Api.Presentation.Entities",
              "id": "490G00004292",
              "name": "Market Place",
              "routeType": "Unknown",
              "status": "Unknown",
              "type": "StopPoint",
              "uri": "/StopPoint/490G00004292"
             },
             {
              "$type": "Tfl.Api.Presentation.Entities.Identifier, Tfl.Api.Presentation.Entities",
              "id": "490G00004289",
              "name": "Brentford County Court",
              "routeType": "Unknown",
              "status": "Unknown",
              "type": "StopPoint",
              "uri": "/StopPoint/490G00004289"
             },
             {
              "$type": "Tfl.Api.Presentation.Entities.Identifier, Tfl.Api.Presentation.Entities",
              "id": "490G00006297",
              "name": "Watermans Centre",
              "routeType": "Unknown",
              "status": "Unknown",
              "type": "StopPoint",
              "uri": "/StopPoint/490G00006297"
             },
             {
              "$type": "Tfl.Api.Presentation.Entities.Identifier, Tfl.Api.Presentation.Entities",
              "id": "490G00004293",
              "name": "The Musical Museum",
              "routeType": "Unknown",
              "status": "Unknown",
              "type": "StopPoint",
              "uri": "/StopPoint/490G00004293"
             },
             {
              "$type": "Tfl.Api.Presentation.Entities.Identifier, Tfl.Api.Presentation.Entities",
              "id": "490G00008690",
              "name": "London Museum Of Water and Steam",
              "routeType": "Unknown",
              "status": "Unknown",
              "type": "StopPoint",
              "uri": "/StopPoint/490G00008690"
             },
             {
              "$type": "Tfl.Api.Presentation.Entities.Identifier, Tfl.Api.Presentation.Entities",
              "id": "490G01167S",
              "name": "Kew Bridge Station",
              "routeType": "Unknown",
              "status": "Unknown",
              "type": "StopPoint",
              "uri": "/StopPoint/490G01167S"
             },
             {
              "$type": "Tfl.Api.Presentation.Entities.Identifier, Tfl.Api.Presentation.Entities",
              "id": "490G00004290",
              "name": "Brentford Fountain Leisure Centre",
              "routeType": "Unknown",
              "status": "Unknown",
              "type": "StopPoint",
              "uri": "/StopPoint/490G00004290"
             },
             {
              "$type": "Tfl.Api.Presentation.Entities.Identifier, Tfl.Api.Presentation.Entities",
              "id": "490G000750",
              "name": "Thorney Hedge Road",
              "routeType": "Unknown",
              "status": "Unknown",
              "type": "StopPoint",
              "uri": "/StopPoint/490G000750"
             },
             {
              "$type": "Tfl.Api.Presentation.Entities.Identifier, Tfl.Api.Presentation.Entities",
              "id": "490G00094B",
              "name": "Gunnersbury Station",
              "routeType": "Unknown",
              "status": "Unknown",
              "type": "StopPoint",
              "uri": "/StopPoint/490G00094B"
             },
             {
              "$type": "Tfl.Api.Presentation.Entities.Identifier, Tfl.Api.Presentation.Entities",
              "id": "490G00005211",
              "name": "Chiswick Road",
              "routeType": "Unknown",
              "status": "Unknown",
              "type": "StopPoint",
              "uri": "/StopPoint/490G00005211"
             },
             {
              "$type": "Tfl.Api.Presentation.Entities.Identifier, Tfl.Api.Presentation.Entities",
              "id": "490G000807",
              "name": "Turnham Green Church",
              "routeType": "Unknown",
              "status": "Unknown",
              "type": "StopPoint",
              "uri": "/StopPoint/490G000807"
             },
             {
              "$type": "Tfl.Api.Presentation.Entities.Identifier, Tfl.Api.Presentation.Entities",
              "id": "490G00005423",
              "name": "Clifton Gardens",
              "routeType": "Unknown",
              "status": "Unknown",
              "type": "StopPoint",
              "uri": "/StopPoint/490G00005423"
             },
             {
              "$type": "Tfl.Api.Presentation.Entities.Identifier, Tfl.Api.Presentation.Entities",
              "id": "490G00005210",
              "name": "Chiswick Police Station",
              "routeType": "Unknown",
              "status": "Unknown",
              "type": "StopPoint",
              "uri": "/StopPoint/490G00005210"
             },
             {
              "$type": "Tfl.Api.Presentation.Entities.Identifier, Tfl.Api.Presentation.Entities",
              "id": "490G00013850",
              "name": "Chiswick Lane",
              "routeType": "Unknown",
              "status": "Unknown",
              "type": "StopPoint",
              "uri": "/StopPoint/490G00013850"
             },
             {
              "$type": "Tfl.Api.Presentation.Entities.Identifier, Tfl.Api.Presentation.Entities",
              "id": "490G00012521",
              "name": "Stamford Brook Bus Garage",
              "routeType": "Unknown",
              "status": "Unknown",
              "type": "StopPoint",
              "uri": "/StopPoint/490G00012521"
             },
             {
              "$type": "Tfl.Api.Presentation.Entities.Identifier, Tfl.Api.Presentation.Entities",
              "id": "490G000535",
              "name": "Goldhawk Road / Young's Corner",
              "routeType": "Unknown",
              "status": "Unknown",
              "type": "StopPoint",
              "uri": "/StopPoint/490G000535"
             },
             {
              "$type": "Tfl.Api.Presentation.Entities.Identifier, Tfl.Api.Presentation.Entities",
              "id": "490G00012533",
              "name": "Ravenscourt Park",
              "routeType": "Unknown",
              "status": "Unknown",
              "type": "StopPoint",
              "uri": "/StopPoint/490G00012533"
             },
             {
              "$type": "Tfl.Api.Presentation.Entities.Identifier, Tfl.Api.Presentation.Entities",
              "id": "490G00188A",
              "name": "Ravenscourt Park Station",
              "routeType": "Unknown",
              "status": "Unknown",
              "type": "StopPoint",
              "uri": "/StopPoint/490G00188A"
             },
             {
              "$type": "Tfl.Api.Presentation.Entities.Identifier, Tfl.Api.Presentation.Entities",
              "id": "490G00005937",
              "name": "Dalling Road",
              "routeType": "Unknown",
              "status": "Unknown",
              "type": "StopPoint",
              "uri": "/StopPoint/490G00005937"
             },
             {
              "$type": "Tfl.Api.Presentation.Entities.Identifier, Tfl.Api.Presentation.Entities",
              "id": "490G00015588",
              "name": "Lamington Street",
              "routeType": "Unknown",
              "status": "Unknown",
              "type": "StopPoint",
              "uri": "/StopPoint/490G00015588"
             },
             {
              "$type": "Tfl.Api.Presentation.Entities.Identifier, Tfl.Api.Presentation.Entities",
              "id": "490G00007239",
              "name": "Iffley Road",
              "routeType": "Unknown",
              "status": "Unknown",
              "type": "StopPoint",
              "uri": "/StopPoint/490G00007239"
             },
             {
              "$type": "Tfl.Api.Presentation.Entities.Identifier, Tfl.Api.Presentation.Entities",
              "id": "490G00097T",
              "name": "Hammersmith Stn / H&C and Circle Lines",
              "routeType": "Unknown",
              "status": "Unknown",
              "type": "StopPoint",
              "uri": "/StopPoint/490G00097T"
             },
             {
              "$type": "Tfl.Api.Presentation.Entities.Identifier, Tfl.Api.Presentation.Entities",
              "id": "490G000565",
              "name": "Hammersmith Bus Station",
              "routeType": "Unknown",
              "status": "Unknown",
              "type": "StopPoint",
              "uri": "/StopPoint/490G000565"
             },
             {
              "$type": "Tfl.Api.Presentation.Entities.Identifier, Tfl.Api.Presentation.Entities",
              "id": "490G00008997",
              "name": "Latymer Court",
              "routeType": "Unknown",
              "status": "Unknown",
              "type": "StopPoint",
              "uri": "/StopPoint/490G00008997"
             },
             {
              "$type": "Tfl.Api.Presentation.Entities.Identifier, Tfl.Api.Presentation.Entities",
              "id": "490G00004455",
              "name": "Brook Green",
              "routeType": "Unknown",
              "status": "Unknown",
              "type": "StopPoint",
              "uri": "/StopPoint/490G00004455"
             },
             {
              "$type": "Tfl.Api.Presentation.Entities.Identifier, Tfl.Api.Presentation.Entities",
              "id": "490G00010357",
              "name": "North End Road",
              "routeType": "Unknown",
              "status": "Unknown",
              "type": "StopPoint",
              "uri": "/StopPoint/490G00010357"
             },
             {
              "$type": "Tfl.Api.Presentation.Entities.Identifier, Tfl.Api.Presentation.Entities",
              "id": "490G00008287",
              "name": "Holland Road",
              "routeType": "Unknown",
              "status": "Unknown",
              "type": "StopPoint",
              "uri": "/StopPoint/490G00008287"
             },
             {
              "$type": "Tfl.Api.Presentation.Entities.Identifier, Tfl.Api.Presentation.Entities",
              "id": "490G00003106",
              "name": "Warwick Gardens",
              "routeType": "Unknown",
              "status": "Unknown",
              "type": "StopPoint",
              "uri": "/StopPoint/490G00003106"
             },
             {
              "$type": "Tfl.Api.Presentation.Entities.Identifier, Tfl.Api.Presentation.Entities",
              "id": "490G00005528",
              "name": "The Design Museum",
              "routeType": "Unknown",
              "status": "Unknown",
              "type": "StopPoint",
              "uri": "/StopPoint/490G00005528"
             },
             {
              "$type": "Tfl.Api.Presentation.Entities.Identifier, Tfl.Api.Presentation.Entities",
              "id": "490G00010984",
              "name": "Phillimore Gardens",
              "routeType": "Unknown",
              "status": "Unknown",
              "type": "StopPoint",
              "uri": "/StopPoint/490G00010984"
             },
             {
              "$type": "Tfl.Api.Presentation.Entities.Identifier, Tfl.Api.Presentation.Entities",
              "id": "490G00110R",
              "name": "High Street Kensington Station",
              "routeType": "Unknown",
              "status": "Unknown",
              "type": "StopPoint",
              "uri": "/StopPoint/490G00110R"
             },
             {
              "$type": "Tfl.Api.Presentation.Entities.Identifier, Tfl.Api.Presentation.Entities",
              "id": "490G00011761",
              "name": "Kensington Palace",
              "routeType": "Unknown",
              "status": "Unknown",
              "type": "StopPoint",
              "uri": "/StopPoint/490G00011761"
             },
             {
              "$type": "Tfl.Api.Presentation.Entities.Identifier, Tfl.Api.Presentation.Entities",
              "id": "490G00010728",
              "name": "Palace Gate",
              "routeType": "Unknown",
              "status": "Unknown",
              "type": "StopPoint",
              "uri": "/StopPoint/490G00010728"
             },
             {
              "$type": "Tfl.Api.Presentation.Entities.Identifier, Tfl.Api.Presentation.Entities",
              "id": "490G00019923",
              "name": "Queen's Gate",
              "routeType": "Unknown",
              "status": "Unknown",
              "type": "StopPoint",
              "uri": "/StopPoint/490G00019923"
             },
             {
              "$type": "Tfl.Api.Presentation.Entities.Identifier, Tfl.Api.Presentation.Entities",
              "id": "490G00011750",
              "name": "Royal Albert Hall",
              "routeType": "Unknown",
              "status": "Unknown",
              "type": "StopPoint",
              "uri": "/StopPoint/490G00011750"
             },
             {
              "$type": "Tfl.Api.Presentation.Entities.Identifier, Tfl.Api.Presentation.Entities",
              "id": "490G00011198",
              "name": "Prince Of Wales Gate",
              "routeType": "Unknown",
              "status": "Unknown",
              "type": "StopPoint",
              "uri": "/StopPoint/490G00011198"
             },
             {
              "$type": "Tfl.Api.Presentation.Entities.Identifier, Tfl.Api.Presentation.Entities",
              "id": "490G00011822",
              "name": "Rutland Gardens",
              "routeType": "Unknown",
              "status": "Unknown",
              "type": "StopPoint",
              "uri": "/StopPoint/490G00011822"
             },
             {
              "$type": "Tfl.Api.Presentation.Entities.Identifier, Tfl.Api.Presentation.Entities",
              "id": "490G000575",
              "name": "Knightsbridge Station  / Harrods",
              "routeType": "Unknown",
              "status": "Unknown",
              "type": "StopPoint",
              "uri": "/StopPoint/490G000575"
             },
             {
              "$type": "Tfl.Api.Presentation.Entities.Identifier, Tfl.Api.Presentation.Entities",
              "id": "490G00119A",
              "name": "Hyde Park Corner",
              "routeType": "Unknown",
              "status": "Unknown",
              "type": "StopPoint",
              "uri": "/StopPoint/490G00119A"
             },
             {
              "$type": "Tfl.Api.Presentation.Entities.Identifier, Tfl.Api.Presentation.Entities",
              "id": "490G00010574",
              "name": "Old Park Lane / Hard Rock Cafe",
              "routeType": "Unknown",
              "status": "Unknown",
              "type": "StopPoint",
              "uri": "/StopPoint/490G00010574"
             },
             {
              "$type": "Tfl.Api.Presentation.Entities.Identifier, Tfl.Api.Presentation.Entities",
              "id": "490G00093PE",
              "name": "Green Park Station",
              "routeType": "Unknown",
              "status": "Unknown",
              "type": "StopPoint",
              "uri": "/StopPoint/490G00093PE"
             },
             {
              "$type": "Tfl.Api.Presentation.Entities.Identifier, Tfl.Api.Presentation.Entities",
              "id": "490G00010526",
              "name": "Old Bond Street / Royal Academy",
              "routeType": "Unknown",
              "status": "Unknown",
              "type": "StopPoint",
              "uri": "/StopPoint/490G00010526"
             },
             {
              "$type": "Tfl.Api.Presentation.Entities.Identifier, Tfl.Api.Presentation.Entities",
              "id": "490G00179B",
              "name": "Piccadilly Circus",
              "routeType": "Unknown",
              "status": "Unknown",
              "type": "StopPoint",
              "uri": "/StopPoint/490G00179B"
             },
             {
              "$type": "Tfl.Api.Presentation.Entities.Identifier, Tfl.Api.Presentation.Entities",
              "id": "490G00020307",
              "name": "Haymarket / Jermyn Street",
              "routeType": "Unknown",
              "status": "Unknown",
              "type": "StopPoint",
              "uri": "/StopPoint/490G00020307"
             },
             {
              "$type": "Tfl.Api.Presentation.Entities.Identifier, Tfl.Api.Presentation.Entities",
              "id": "490G000804",
              "name": "Trafalgar Square",
              "routeType": "Unknown",
              "status": "Unknown",
              "type": "StopPoint",
              "uri": "/StopPoint/490G000804"
             },
             {
              "$type": "Tfl.Api.Presentation.Entities.Identifier, Tfl.Api.Presentation.Entities",
              "id": "490G00045",
              "name": "Charing Cross Stn / Trafalgar Square",
              "routeType": "Unknown",
              "status": "Unknown",
              "type": "StopPoint",
              "uri": "/StopPoint/490G00045"
             },
             {
              "$type": "Tfl.Api.Presentation.Entities.Identifier, Tfl.Api.Presentation.Entities",
              "id": "490G00012247",
              "name": "Southampton Street / Covent Garden",
              "routeType": "Unknown",
              "status": "Unknown",
              "type": "StopPoint",
              "uri": "/StopPoint/490G00012247"
             }
            ]
           },
           "plannedWorks": [],
           "routeOptions": [
            {
             "$type": "Tfl.Api.Presentation.Entities.JourneyPlanner.RouteOption, Tfl.Api.Presentation.Entities",
             "directions": [
              "Aldwych"
             ],
             "lineIdentifier": {
              "$type": "Tfl.Api.Presentation.Entities.Identifier, Tfl.Api.Presentation.Entities",
              "crowding": {
               "$type": "Tfl.Api.Presentation.Entities.Crowding, Tfl.Api.Presentation.Entities"
              },
              "id": "n9",
              "name": "N9",
              "routeType": "Unknown",
              "status": "Unknown",
              "type": "Line",
              "uri": "/Line/n9"
             },
             "name": "N9"
            }
           ]
          },
          {
           "$type": "Tfl.Api.Presentation.Entities.JourneyPlanner.Leg, Tfl.Api.Presentation.Entities",
           "arrivalPoint": {
            "$type": "Tfl.Api.Presentation.Entities.StopPoint, Tfl.Api.Presentation.Entities",
            "additionalProperties": [],
            "commonName": "Tower Bridge Road",
            "icsCode": "1013746",
            "lat": 51.50271739164,
            "lon": -0.07797542472999999,
            "naptanId": "490G00013746",
            "placeType": "StopPoint",
            "platformName": "K",
            "stopLetter": "K"
           },
           "arrivalTime": "2021-03-06T01:45:00",
           "departurePoint": {
            "$type": "Tfl.Api.Presentation.Entities.StopPoint, Tfl.Api.Presentation.Entities",
            "additionalProperties": [],
            "commonName": "Southampton Street / Covent Garden",
            "icsCode": "1012247",
            "lat": 51.51039701446,
            "lon": -0.12182258537,
            "naptanId": "490G00012247",
            "placeType": "StopPoint",
            "platformName": "A",
            "stopLetter": "A"
           },
           "departureTime": "2021-03-06T01:26:00",
           "disruptions": [
            {
             "$type": "Tfl.Api.Presentation.Entities.Disruption, Tfl.Api.Presentation.Entities",
             "additionalInfo": "",
             "category": "PlannedWork",
             "categoryDescription": "PlannedWork",
             "created": "2021-02-26T07:19:00",
             "description": "HIGH STREET ORPINGTON BR6; Routes 51, 61, 208, 353, 358, 477, B14, R1, R2, R3, R4, R6, R7, R8, R9, R10 N199 are diverted at High Street, Orpington in both directions due to carriageway works. Buses will not serve the High Street / Orpington War Memorial stops.",
             "lastUpdate": "2021-02-26T07:28:00",
             "summary": "HIGH STREET ORPINGTON BR6 - SO21/14009 - ROUTES 51, 61, 208, 353, 358, 477, B14, R1, R2, R3, R4, R6, R7, R8, R9, R10 N199",
             "type": "lineInfo"
            },
            {
             "$type": "Tfl.Api.Presentation.Entities.Disruption, Tfl.Api.Presentation.Entities",
             "additionalInfo": "",
             "category": "PlannedWork",
             "categoryDescription": "PlannedWork",
             "created": "2021-01-28T10:42:00",
             "description": "RUSHEY GREEN SE6: Routes 47 54 136 199 208 N136 N199 towards Bromley is diverted via Plassey Road and Sangley Road due to gas works. Missing stop The Catford Centre.",
             "lastUpdate": "2021-01-28T10:44:00",
             "summary": "RUSHEY GREEN SE6 - SO21/12967 - ROUTES 47 54 136 199 208 N136 N199",
             "type": "lineInfo"
            },
            {
             "$type": "Tfl.Api.Presentation.Entities.Disruption, Tfl.Api.Presentation.Entities",
             "additionalInfo": "",
             "category": "PlannedWork",
             "categoryDescription": "PlannedWork",
             "created": "2021-01-11T15:50:00",
             "description": "RUSHEY GREEN, SE6: Routes 47 54 136 199 208 N136 N199 are on diversion towards Bromley via Brownhill Road, Plassy Road and Sangley Road due to a gas main replacement. Buses are missing the stop The Catford Centre.",
             "lastUpdate": "2021-01-11T15:50:00",
             "summary": "SO21/12345 - RUSHEY GREEN, SE6 - ROUTES 47 54 136 199 208 N136 N199",
             "type": "lineInfo"
            }
           ],
           "duration": 19,
           "hasFixedLocations": true,
           "instruction": {
            "$type": "Tfl.Api.Presentation.Entities.Instruction, Tfl.Api.Presentation.Entities",
            "detailed": "N199 bus towards St Mary Cray Station",
            "steps": [],
            "summary": "N199 bus to Tower Bridge Road"
           },
           "isDisrupted": true,
           "mode": {
            "$type": "Tfl.Api.Presentation.Entities.Identifier, Tfl.Api.Presentation.Entities",
            "id": "bus",
            "name": "bus",
            "routeType": "Unknown",
            "status": "Unknown",
            "type": "Mode"
           },
           "obstacles": [],
           "path": {
            "$type": "Tfl.Api.Presentation.Entities.JourneyPlanner.Path, Tfl.Api.Presentation.Entities",
            "elevation": [],
            "lineString": "[[51.51034807208, -0.1217743316],[51.51046337182, -0.12147398766],[51.51061014619, -0.12109325785],[51.51078203294, -0.12059620178],[51.51097212159, -0.12011280398],[51.51110114912, -0.11974720755],[51.51128247854, -0.11927857494],[51.51167326963, -0.11897424871],[51.51203296447, -0.11897384386],[51.51230377816, -0.11877976966],[51.51230377816, -0.11877976966],[51.51235301697, -0.11874448319],[51.51263735364, -0.11853100272],[51.51290993038, -0.11814506049],[51.51301430298, -0.11792457905],[51.51316889619, -0.11747143356],[51.51325228861, -0.11706445729],[51.51329167175, -0.11671694303],[51.51327158255, -0.11602599132],[51.51310724122, -0.11531216987],[51.51309983442, -0.1148512904],[51.51314987746, -0.11458102498],[51.51314987746, -0.11458102498],[51.5132073988, -0.11427036682],[51.51329999823, -0.11387741598],[51.51338314643, -0.11345602974],[51.51344026026, -0.11309336638],[51.51349690944, -0.11270189696],[51.51364730933, -0.11198948212],[51.51372285546, -0.11165487695],[51.51374772809, -0.11152413811],[51.51382854813, -0.11095871686],[51.51393609302, -0.11037777529],[51.51398583526, -0.11011629493],[51.51411824618, -0.10940460848],[51.51414218754, -0.10921625629],[51.51414838773, -0.10904305099],[51.51416334197, -0.1088550707],[51.51416948145, -0.10873934157],[51.51416948145, -0.10873934157],[51.51418403073, -0.10846507927],[51.51419092669, -0.10833508205],[51.5141895329, -0.10824866543],[51.5141961963, -0.1081042654],[51.51421161372, -0.10794509019],[51.51420836076, -0.10774345138],[51.51421293201, -0.1074694263],[51.51421200239, -0.10741181522],[51.51420898095, -0.10722457923],[51.51421262111, -0.10689294306],[51.51419735722, -0.10650444112],[51.51419317159, -0.10624519153],[51.51419131113, -0.1061299695],[51.51418311755, -0.10591696917],[51.51418311755, -0.10591696917],[51.5141758121, -0.10572706533],[51.51416766953, -0.1052229694],[51.514172933, -0.10499215268],[51.51416781308, -0.10467529251],[51.51416362342, -0.10441604335],[51.51414928261, -0.10408515377],[51.51412269419, -0.10355299966],[51.51400940059, -0.10266413961],[51.5139897966, -0.10256406782],[51.51393075109, -0.10224945033],[51.51388069125, -0.10193446012],[51.51387788763, -0.10191056102],[51.51387788763, -0.10191056102],[51.51382853244, -0.10148984722],[51.5138275999, -0.10143223682],[51.5137934122, -0.10098687758],[51.51376178845, -0.10069994733],[51.51370437081, -0.1004861518],[51.51363773301, -0.10025832817],[51.51349873619, -0.10000469164],[51.51328633106, -0.09910556591],[51.51326356947, -0.09825619843],[51.51321490036, -0.09802763172],[51.51313362803, -0.09765709072],[51.51313362803, -0.09765709072],[51.51302068685, -0.09714217448],[51.51289404716, -0.09654214755],[51.51288365823, -0.09645610859],[51.51273623613, -0.09568400843],[51.51264670451, -0.09515450079],[51.51260659161, -0.0949056658],[51.51260659161, -0.0949056658],[51.5125867035, -0.09478229401],[51.51254584423, -0.09448134888],[51.51248724529, -0.09419555655],[51.51239840925, -0.09370926112],[51.51231284906, -0.09342459637],[51.51214743427, -0.09265326684],[51.51200279893, -0.09205401533],[51.51198365457, -0.09198275658],[51.5118683188, -0.09152640158],[51.51177721115, -0.09115529563],[51.51177721115, -0.09115529563],[51.51167569787, -0.09074181207],[51.51147791141, -0.08964039056],[51.51142828723, -0.08935423541],[51.5112909788, -0.08865381622],[51.51125057341, -0.08838168885],[51.51117187388, -0.08796705045],[51.51113123209, -0.08768052281],[51.51110239417, -0.08756643878],[51.5109471023, -0.08686678318],[51.51087121698, -0.08662496876],[51.51071040102, -0.08668935216],[51.51030883075, -0.08687911135],[51.50980793956, -0.08704420537],[51.50973651788, -0.08707601917],[51.50952201788, -0.08715705884],[51.50952201788, -0.08715705884],[51.50902159588, -0.08735094867],[51.5089144632, -0.08739866775],[51.50790392696, -0.08774360664],[51.50682149784, -0.08809153917],[51.50673210291, -0.08812410149],[51.5065919238, -0.08818816122],[51.5065919238, -0.08818816122],[51.50641969002, -0.08826686887],[51.5063395162, -0.08831345453],[51.50617940321, -0.08842102543],[51.50613993654, -0.08820652889],[51.50611016021, -0.08803485669],[51.50598317284, -0.0873729817],[51.50598317284, -0.0873729817],[51.50587428977, -0.08680548705],[51.50582371923, -0.08646177031],[51.50578401402, -0.08623287728],[51.5057556448, -0.08614760733],[51.50573626196, -0.08606196091],[51.50564833323, -0.0856333533],[51.50550742478, -0.08526460714],[51.50533080462, -0.08491177021],[51.50528422644, -0.08481285579],[51.50510666415, -0.08440242352],[51.50506907198, -0.0843031332],[51.50503491821, -0.08422721342],[51.50503491821, -0.08422721342],[51.50492910045, -0.08399199446],[51.504741843, -0.08353874691],[51.50450682725, -0.08291459471],[51.50439286966, -0.08254473456],[51.50422334406, -0.08207634429],[51.50415390903, -0.08190829133],[51.50415390903, -0.08190829133],[51.50408289568, -0.08173641951],[51.50398051203, -0.08152458092],[51.50383060448, -0.08115623862],[51.50370859758, -0.08084436295],[51.50361307774, -0.08050255769],[51.50351567111, -0.08004556052],[51.50350693766, -0.08000899604],[51.50350693766, -0.08000899604],[51.50345774497, -0.0798030413],[51.50336387271, -0.07956203396],[51.50329790245, -0.07937749042],[51.5032127799, -0.07912170785],[51.50312742092, -0.07885152722],[51.50300399246, -0.07845326866],[51.50292051957, -0.07829828226],[51.50271826667, -0.07797402348]]",
            "stopPoints": [
             {
              "$type": "Tfl.Api.Presentation.Entities.Identifier, Tfl.Api.Presentation.Entities",
              "id": "490G000385",
              "name": "Aldwych",
              "routeType": "Unknown",
              "status": "Unknown",
              "type": "StopPoint",
              "uri": "/StopPoint/490G000385"
             },
             {
              "$type": "Tfl.Api.Presentation.Entities.Identifier, Tfl.Api.Presentation.Entities",
              "id": "490G000731",
              "name": "The Royal Courts Of Justice",
              "routeType": "Unknown",
              "status": "Unknown",
              "type": "StopPoint",
              "uri": "/StopPoint/490G000731"
             },
             {
              "$type": "Tfl.Api.Presentation.Entities.Identifier, Tfl.Api.Presentation.Entities",
              "id": "490G00006826",
              "name": "Fetter Lane",
              "routeType": "Unknown",
              "status": "Unknown",
              "type": "StopPoint",
              "uri": "/StopPoint/490G00006826"
             },
             {
              "$type": "Tfl.Api.Presentation.Entities.Identifier, Tfl.Api.Presentation.Entities",
              "id": "490G00019205",
              "name": "Ludgate Circus",
              "routeType": "Unknown",
              "status": "Unknown",
              "type": "StopPoint",
              "uri": "/StopPoint/490G00019205"
             },
             {
              "$type": "Tfl.Api.Presentation.Entities.Identifier, Tfl.Api.Presentation.Entities",
              "id": "490G00009443",
              "name": "Ludgate Hill / Old Bailey",
              "routeType": "Unknown",
              "status": "Unknown",
              "type": "StopPoint",
              "uri": "/StopPoint/490G00009443"
             },
             {
              "$type": "Tfl.Api.Presentation.Entities.Identifier, Tfl.Api.Presentation.Entities",
              "id": "490G00012873",
              "name": "St Paul's Cathedral",
              "routeType": "Unknown",
              "status": "Unknown",
              "type": "StopPoint",
              "uri": "/StopPoint/490G00012873"
             },
             {
              "$type": "Tfl.Api.Presentation.Entities.Identifier, Tfl.Api.Presentation.Entities",
              "id": "490G00143E",
              "name": "Mansion House Station",
              "routeType": "Unknown",
              "status": "Unknown",
              "type": "StopPoint",
              "uri": "/StopPoint/490G00143E"
             },
             {
              "$type": "Tfl.Api.Presentation.Entities.Identifier, Tfl.Api.Presentation.Entities",
              "id": "490G00040E",
              "name": "Cannon Street Station",
              "routeType": "Unknown",
              "status": "Unknown",
              "type": "StopPoint",
              "uri": "/StopPoint/490G00040E"
             },
             {
              "$type": "Tfl.Api.Presentation.Entities.Identifier, Tfl.Api.Presentation.Entities",
              "id": "490G09267E",
              "name": "Monument Station",
              "routeType": "Unknown",
              "status": "Unknown",
              "type": "StopPoint",
              "uri": "/StopPoint/490G09267E"
             },
             {
              "$type": "Tfl.Api.Presentation.Entities.Identifier, Tfl.Api.Presentation.Entities",
              "id": "490G000922",
              "name": "London Bridge",
              "routeType": "Unknown",
              "status": "Unknown",
              "type": "StopPoint",
              "uri": "/StopPoint/490G000922"
             },
             {
              "$type": "Tfl.Api.Presentation.Entities.Identifier, Tfl.Api.Presentation.Entities",
              "id": "490G00139R",
              "name": "London Bridge Station",
              "routeType": "Unknown",
              "status": "Unknown",
              "type": "StopPoint",
              "uri": "/StopPoint/490G00139R"
             },
             {
              "$type": "Tfl.Api.Presentation.Entities.Identifier, Tfl.Api.Presentation.Entities",
              "id": "490G00007964",
              "name": "Hay's Galleria",
              "routeType": "Unknown",
              "status": "Unknown",
              "type": "StopPoint",
              "uri": "/StopPoint/490G00007964"
             },
             {
              "$type": "Tfl.Api.Presentation.Entities.Identifier, Tfl.Api.Presentation.Entities",
              "id": "490G00018666",
              "name": "Abbots Lane",
              "routeType": "Unknown",
              "status": "Unknown",
              "type": "StopPoint",
              "uri": "/StopPoint/490G00018666"
             },
             {
              "$type": "Tfl.Api.Presentation.Entities.Identifier, Tfl.Api.Presentation.Entities",
              "id": "490G00016580",
              "name": "City Hall",
              "routeType": "Unknown",
              "status": "Unknown",
              "type": "StopPoint",
              "uri": "/StopPoint/490G00016580"
             },
             {
              "$type": "Tfl.Api.Presentation.Entities.Identifier, Tfl.Api.Presentation.Entities",
              "id": "490G00013746",
              "name": "Tower Bridge Road",
              "routeType": "Unknown",
              "status": "Unknown",
              "type": "StopPoint",
              "uri": "/StopPoint/490G00013746"
             }
            ]
           },
           "plannedWorks": [],
           "routeOptions": [
            {
             "$type": "Tfl.Api.Presentation.Entities.JourneyPlanner.RouteOption, Tfl.Api.Presentation.Entities",
             "directions": [
              "St Mary Cray Station"
             ],
             "lineIdentifier": {
              "$type": "Tfl.Api.Presentation.Entities.Identifier, Tfl.Api.Presentation.Entities",
              "crowding": {
               "$type": "Tfl.Api.Presentation.Entities.Crowding, Tfl.Api.Presentation.Entities"
              },
              "id": "n199",
              "name": "N199",
              "routeType": "Unknown",
              "status": "Unknown",
              "type": "Line",
              "uri": "/Line/n199"
             },
             "name": "N199"
            }
           ]
          },
          {
           "$type": "Tfl.Api.Presentation.Entities.JourneyPlanner.Leg, Tfl.Api.Presentation.Entities",
           "arrivalPoint": {
            "$type": "Tfl.Api.Presentation.Entities.Place, Tfl.Api.Presentation.Entities",
            "commonName": "SE1 2UF",
            "lat": 51.50266561539,
            "lon": -0.07755974773,
            "placeType": "StopPoint"
           },
           "arrivalTime": "2021-03-06T01:46:00",
           "departurePoint": {
            "$type": "Tfl.Api.Presentation.Entities.StopPoint, Tfl.Api.Presentation.Entities",
            "additionalProperties": [],
            "commonName": "Tower Bridge Road",
            "icsCode": "1013746",
            "lat": 51.50271739164,
            "lon": -0.07797542472999999,
            "naptanId": "490G00013746",
            "placeType": "StopPoint",
            "platformName": "K",
            "stopLetter": "K"
           },
           "departureTime": "2021-03-06T01:45:00",
           "disruptions": [],
           "distance": 25,
           "duration": 1,
           "hasFixedLocations": false,
           "instruction": {
            "$type": "Tfl.Api.Presentation.Entities.Instruction, Tfl.Api.Presentation.Entities",
            "detailed": "Walk to SE1 2UF",
            "steps": [
             {
              "$type": "Tfl.Api.Presentation.Entities.InstructionStep, Tfl.Api.Presentation.Entities",
              "cumulativeDistance": 25,
              "cumulativeTravelTime": 18,
              "description": "Tooley Street for 25 metres",
              "descriptionHeading": "Continue along ",
              "distance": 25,
              "latitude": 51.50271739164,
              "longitude": -0.07797542472999999,
              "pathAttribute": {
               "$type": "Tfl.Api.Presentation.Entities.PathAttribute, Tfl.Api.Presentation.Entities"
              },
              "skyDirection": 493,
              "skyDirectionDescription": "North",
              "streetName": "Tooley Street",
              "trackType": "None",
              "turnDirection": "STRAIGHT"
             }
            ],
            "summary": "Walk to SE1 2UF"
           },
           "isDisrupted": false,
           "mode": {
            "$type": "Tfl.Api.Presentation.Entities.Identifier, Tfl.Api.Presentation.Entities",
            "id": "walking",
            "name": "walking",
            "routeType": "Unknown",
            "status": "Unknown",
            "type": "Mode"
           },
           "obstacles": [],
           "path": {
            "$type": "Tfl.Api.Presentation.Entities.JourneyPlanner.Path, Tfl.Api.Presentation.Entities",
            "elevation": [],
            "lineString": "[[51.50271739164, -0.07797542473],[51.5025511525, -0.07770865272],[51.50266561539, -0.07755974773]]",
            "stopPoints": []
           },
           "plannedWorks": [],
           "routeOptions": [
            {
             "$type": "Tfl.Api.Presentation.Entities.JourneyPlanner.RouteOption, Tfl.Api.Presentation.Entities",
             "directions": [
              ""
             ],
             "name": ""
            }
           ]
          }
         ],
         "startDateTime": "2021-03-05T23:55:00"
        },
        {
         "$type": "Tfl.Api.Presentation.Entities.JourneyPlanner.Journey, Tfl.Api.Presentation.Entities",
         "arrivalDateTime": "2021-03-06T02:05:00",
         "duration": 109,
         "legs": [
          {
           "$type": "Tfl.Api.Presentation.Entities.JourneyPlanner.Leg, Tfl.Api.Presentation.Entities",
           "arrivalPoint": {
            "$type": "Tfl.Api.Presentation.Entities.StopPoint, Tfl.Api.Presentation.Entities",
            "additionalProperties": [],
            "commonName": "Heathrow Central Bus Stn (Rail-Air)",
            "icsCode": "1008016",
            "lat": 51.47136544841,
            "lon": -0.45345569183,
            "naptanId": "910GHTRWCBS",
            "placeType": "StopPoint",
            "platformName": "19"
           },
           "arrivalTime": "2021-03-06T00:27:00",
           "departurePoint": {
            "$type": "Tfl.Api.Presentation.Entities.StopPoint, Tfl.Api.Presentation.Entities",
            "additionalProperties": [],
            "commonName": "TW6 1EW",
            "icsCode": "99999997",
            "lat": 51.469776580410006,
            "lon": -0.44957881255,
            "placeType": "StopPoint",
            "platformName": ""
           },
           "departureTime": "2021-03-06T00:16:00",
           "disruptions": [],
           "distance": 706,
           "duration": 11,
           "hasFixedLocations": true,
           "instruction": {
            "$type": "Tfl.Api.Presentation.Entities.Instruction, Tfl.Api.Presentation.Entities",
            "detailed": "Walk to Heathrow Central Bus Station",
            "steps": [
             {
              "$type": "Tfl.Api.Presentation.Entities.InstructionStep, Tfl.Api.Presentation.Entities",
              "cumulativeDistance": 318,
              "cumulativeTravelTime": 286,
              "description": " for 318 metres",
              "descriptionHeading": "Continue along ",
              "distance": 318,
              "latitude": 51.469399547399995,
              "longitude": -0.45098816812,
              "pathAttribute": {
               "$type": "Tfl.Api.Presentation.Entities.PathAttribute, Tfl.Api.Presentation.Entities"
              },
              "skyDirection": 299,
              "skyDirectionDescription": "NorthWest",
              "streetName": "",
              "trackType": "None",
              "turnDirection": "STRAIGHT"
             },
             {
              "$type": "Tfl.Api.Presentation.Entities.InstructionStep, Tfl.Api.Presentation.Entities",
              "cumulativeDistance": 569,
              "cumulativeTravelTime": 512,
              "description": "on to Contrail Way, continue for 251 metres",
              "descriptionHeading": "Take a slight right",
              "distance": 251,
              "latitude": 51.46853877779,
              "longitude": -0.45322012153,
              "pathAttribute": {
               "$type": "Tfl.Api.Presentation.Entities.PathAttribute, Tfl.Api.Presentation.Entities"
              },
              "skyDirection": 318,
              "skyDirectionDescription": "North",
              "streetName": "Contrail Way",
              "trackType": "None",
              "turnDirection": "SLIGHT_RIGHT"
             },
             {
              "$type": "Tfl.Api.Presentation.Entities.InstructionStep, Tfl.Api.Presentation.Entities",
              "cumulativeDistance": 638,
              "cumulativeTravelTime": 574,
              "description": "on to Inner Ring West, continue for 69 metres",
              "descriptionHeading": "Continue along ",
              "distance": 69,
              "latitude": 51.47062030437,
              "longitude": -0.45422958635,
              "pathAttribute": {
               "$type": "Tfl.Api.Presentation.Entities.PathAttribute, Tfl.Api.Presentation.Entities"
              },
              "skyDirection": 346,
              "skyDirectionDescription": "North",
              "streetName": "Inner Ring West",
              "trackType": "None",
              "turnDirection": "STRAIGHT"
             },
             {
              "$type": "Tfl.Api.Presentation.Entities.InstructionStep, Tfl.Api.Presentation.Entities",
              "cumulativeDistance": 706,
              "cumulativeTravelTime": 635,
              "description": "on to Control Tower Road, continue for 68 metres",
              "descriptionHeading": "Take a sharp right",
              "distance": 68,
              "latitude": 51.47123340134,
              "longitude": -0.45435284892,
              "pathAttribute": {
               "$type": "Tfl.Api.Presentation.Entities.PathAttribute, Tfl.Api.Presentation.Entities"
              },
              "skyDirection": 485,
              "skyDirectionDescription": "North",
              "streetName": "Control Tower Road",
              "trackType": "None",
              "turnDirection": "SHARP_RIGHT"
             }
            ],
            "summary": "Walk to Heathrow Central Bus Station"
           },
           "isDisrupted": false,
           "mode": {
            "$type": "Tfl.Api.Presentation.Entities.Identifier, Tfl.Api.Presentation.Entities",
            "id": "walking",
            "name": "walking",
            "routeType": "Unknown",
            "status": "Unknown",
            "type": "Mode"
           },
           "obstacles": [],
           "path": {
            "$type": "Tfl.Api.Presentation.Entities.JourneyPlanner.Path, Tfl.Api.Presentation.Entities",
            "elevation": [],
            "lineString": "[[51.46977658041, -0.44957881255],[51.4693995474, -0.45098816812],[51.46990315369, -0.45235330669],[51.46991214191, -0.45235300257],[51.46988479735, -0.4523251321],[51.46981289153, -0.45232756509],[51.46968724628, -0.45234621415],[51.46867138648, -0.45236618747],[51.46854688075, -0.45247118184],[51.46849693931, -0.45277521685],[51.46853877779, -0.45322012153],[51.46884108363, -0.45364182433],[51.46895982838, -0.45378178552],[51.46917649481, -0.45384644959],[51.46965363027, -0.45388791242],[51.47004968183, -0.45391771884],[51.47031147908, -0.45399525753],[51.47062030437, -0.45422958635],[51.47094558814, -0.45434817678],[51.47123340134, -0.45435284892],[51.47102977877, -0.45391338582],[51.47101509723, -0.4534819363]]",
            "stopPoints": []
           },
           "plannedWorks": [],
           "routeOptions": [
            {
             "$type": "Tfl.Api.Presentation.Entities.JourneyPlanner.RouteOption, Tfl.Api.Presentation.Entities",
             "directions": [
              ""
             ],
             "name": ""
            }
           ]
          },
          {
           "$type": "Tfl.Api.Presentation.Entities.JourneyPlanner.Leg, Tfl.Api.Presentation.Entities",
           "arrivalPoint": {
            "$type": "Tfl.Api.Presentation.Entities.StopPoint, Tfl.Api.Presentation.Entities",
            "additionalProperties": [],
            "commonName": "Southampton Street / Covent Garden",
            "icsCode": "1012247",
            "lat": 51.51039701446,
            "lon": -0.12182258537,
            "naptanId": "490G00012247",
            "placeType": "StopPoint",
            "platformName": "A",
            "stopLetter": "A"
           },
           "arrivalTime": "2021-03-06T01:40:00",
           "departurePoint": {
            "$type": "Tfl.Api.Presentation.Entities.StopPoint, Tfl.Api.Presentation.Entities",
            "additionalProperties": [],
            "commonName": "Heathrow Central Bus Stn (Rail-Air)",
            "icsCode": "1008016",
            "lat": 51.47136544841,
            "lon": -0.45345569183,
            "naptanId": "910GHTRWCBS",
            "placeType": "StopPoint",
            "platformName": "19"
           },
           "departureTime": "2021-03-06T00:27:00",
           "disruptions": [
            {
             "$type": "Tfl.Api.Presentation.Entities.Disruption, Tfl.Api.Presentation.Entities",
             "additionalInfo": "Further information and a <a href=\"https://tfl.gov.uk/campaign/bus-strike?intcmp=25146\">list of affected routes</a>.",
             "category": "RealTime",
             "categoryDescription": "RealTime",
             "created": "2021-02-26T09:44:00",
             "description": "RATP DEV LONDON STRIKE: RATP Dev London bus services in parts of west, south west and north west London are expected to see disruption on Friday 5, Saturday 6 and Wednesday 10 March, TfL is working hard to minimise potential disruption but customers who need to make journeys are advised to check before they travel. Industrial action will affect services from 00:00 to 23:59 on the respective strike dates and until 06:00 on Sunday 7 March.",
             "lastUpdate": "2021-03-04T21:45:00",
             "summary": "",
             "type": "lineInfo"
            }
           ],
           "duration": 73,
           "hasFixedLocations": true,
           "instruction": {
            "$type": "Tfl.Api.Presentation.Entities.Instruction, Tfl.Api.Presentation.Entities",
            "detailed": "N9 bus towards Aldwych",
            "steps": [],
            "summary": "N9 bus to Southampton Street / Covent Garden"
           },
           "isDisrupted": true,
           "mode": {
            "$type": "Tfl.Api.Presentation.Entities.Identifier, Tfl.Api.Presentation.Entities",
            "id": "bus",
            "name": "bus",
            "routeType": "Unknown",
            "status": "Unknown",
            "type": "Mode"
           },
           "obstacles": [],
           "path": {
            "$type": "Tfl.Api.Presentation.Entities.JourneyPlanner.Path, Tfl.Api.Presentation.Entities",
            "elevation": [],
            "lineString": "[[51.47101407422, -0.45348903241],[51.47102977877, -0.45391338582],[51.47123340134, -0.45435284892],[51.47164382467, -0.45410860501],[51.47176814204, -0.45398921576],[51.4718389094, -0.45390043298],[51.47213077657, -0.45353060308],[51.47256683384, -0.45318468913],[51.47283610095, -0.45314678483],[51.47322221498, -0.45310492796],[51.47408413526, -0.45300377882],[51.47417420737, -0.45301513121],[51.47983083553, -0.45305417444],[51.48027239733, -0.45312564199],[51.48032689622, -0.45316700162],[51.48049096238, -0.45333426536],[51.48090783727, -0.45357938727],[51.48107899301, -0.45360240117],[51.4813390818, -0.45355040017],[51.48179653161, -0.4534629197],[51.48194724295, -0.45329940378],[51.48204769582, -0.45273434041],[51.4819630031, -0.45244917367],[51.48188995765, -0.45236523637],[51.48162935737, -0.45169718516],[51.4815074304, -0.45063560289],[51.48142753568, -0.45003344818],[51.48137113303, -0.44984814123],[51.48135277608, -0.4498199607],[51.4812593432, -0.44824648928],[51.4812593432, -0.44824648928],[51.48124865507, -0.44806651712],[51.48118141416, -0.44638383501],[51.48115790672, -0.44596699318],[51.48110660893, -0.44485074433],[51.48110660893, -0.44485074433],[51.48105679557, -0.44376702021],[51.48103806298, -0.44303318812],[51.48101148482, -0.44238603203],[51.48094665055, -0.44089050135],[51.48091833743, -0.44011379483],[51.48089063509, -0.43919645045],[51.48089063509, -0.43919645045],[51.48085402792, -0.43798459424],[51.48083621828, -0.43732274234],[51.48077896367, -0.43572615539],[51.48076859265, -0.43494884035],[51.48075211113, -0.43438775421],[51.48074139338, -0.43425850962],[51.48074004802, -0.43415774669],[51.48072740776, -0.4338845552],[51.48069032907, -0.43309839139],[51.48069032907, -0.43309839139],[51.48065213014, -0.43228859374],[51.48063170332, -0.42874658466],[51.4807350556, -0.42651532735],[51.4807350556, -0.42651532735],[51.48074327993, -0.4263377336],[51.48078145873, -0.42583237365],[51.4809098962, -0.42401338102],[51.48093105628, -0.42358061078],[51.48099590984, -0.42261420937],[51.48099590984, -0.42261420937],[51.48104341969, -0.42190617429],[51.48126090105, -0.4200264766],[51.48127716756, -0.41973193202],[51.48127716756, -0.41973193202],[51.48136208978, -0.41819398861],[51.48134882974, -0.4178776143],[51.48121586028, -0.41668689413],[51.48051086688, -0.41375905236],[51.48027370119, -0.41284560526],[51.48005720113, -0.41204923993],[51.48005720113, -0.41204923993],[51.48003711323, -0.41197535075],[51.47975323824, -0.41093393623],[51.4797155306, -0.41080563771],[51.4796399198, -0.41053464712],[51.47948868509, -0.40999430559],[51.47948868509, -0.40999430559],[51.47917686339, -0.40888024733],[51.4790260231, -0.40836706795],[51.47893106288, -0.40799595373],[51.47879917213, -0.40755412356],[51.47871397939, -0.40724027535],[51.47852561539, -0.40661320888],[51.47829953507, -0.40585785727],[51.47815119939, -0.40534555443],[51.47815119939, -0.40534555443],[51.47796929568, -0.40471733364],[51.47792942717, -0.40443071562],[51.47794681565, -0.40438690751],[51.47798120085, -0.40427050394],[51.47788603189, -0.40388501336],[51.47778559649, -0.40377331589],[51.47762809778, -0.40343320534],[51.4769693816, -0.40118133713],[51.4769693816, -0.40118133713],[51.47683584143, -0.40072484635],[51.47649381445, -0.39938320797],[51.47601886104, -0.39752785119],[51.47587210777, -0.39698325082],[51.47587210777, -0.39698325082],[51.4757536223, -0.39654356138],[51.47570061199, -0.39595503005],[51.47575001122, -0.3956221025],[51.47572166884, -0.3955222985],[51.47569450799, -0.39550885171],[51.47551238525, -0.39534244527],[51.47535092223, -0.39471452635],[51.47526589255, -0.39441511906],[51.47509721084, -0.3939170564],[51.47497228372, -0.39333106303],[51.47485752523, -0.39283111243],[51.47467649426, -0.39208870357],[51.47440862073, -0.39108603012],[51.47440862073, -0.39108603012],[51.47430681304, -0.3907049667],[51.47408882888, -0.38989187964],[51.47392812772, -0.38932156904],[51.47352226457, -0.38792475294],[51.47348433416, -0.38778209924],[51.47316587878, -0.38685739222],[51.47295923305, -0.38621673013],[51.47303735141, -0.38601238855],[51.47292604584, -0.38566947249],[51.47292604584, -0.38566947249],[51.47274624244, -0.38511553473],[51.4726301921, -0.38517722767],[51.47252716247, -0.38487849118],[51.47228316618, -0.38413837542],[51.47221767242, -0.38395350652],[51.47214259535, -0.38372578083],[51.47193692493, -0.3831571054],[51.4715064086, -0.38193405731],[51.47136602876, -0.38153586801],[51.47121646098, -0.38112360797],[51.47116973318, -0.38099567673],[51.47114506465, -0.38092250924],[51.47114506465, -0.38092250924],[51.47096345338, -0.38038385211],[51.47051433592, -0.37911832032],[51.47037394664, -0.37872014846],[51.47007339654, -0.37779493103],[51.46986710026, -0.37718313579],[51.4697046736, -0.37659103413],[51.4697046736, -0.37659103413],[51.46932728898, -0.375215394],[51.46918309671, -0.37454382229],[51.4691541381, -0.37440087408],[51.46896595997, -0.37312604754],[51.46896595997, -0.37312604754],[51.46879683322, -0.37198037478],[51.46873391321, -0.37133472215],[51.46867398882, -0.37090492831],[51.46846562336, -0.36885350391],[51.46791796402, -0.3689162253],[51.46733853655, -0.36863454575],[51.46742240824, -0.36819963875],[51.46751566678, -0.36779318963],[51.46764387352, -0.36731350516],[51.46771136785, -0.36699435577],[51.46761808208, -0.36675293267],[51.4673640167, -0.36658923788],[51.46709257679, -0.36646935663],[51.46706349489, -0.36644735983],[51.46706349489, -0.36644735983],[51.46678358141, -0.36623564201],[51.46671846082, -0.36607960107],[51.46683105275, -0.3651253766],[51.46688955331, -0.3648065511],[51.46708282464, -0.36383503696],[51.46720880565, -0.3631970569],[51.46730922624, -0.36266076841],[51.46750968673, -0.36211328399],[51.46750968673, -0.36211328399],[51.46762971668, -0.36178546044],[51.46772677337, -0.36165240875],[51.4681503465, -0.36107573758],[51.4687927059, -0.35942578824],[51.468870576, -0.35920703031],[51.46926951262, -0.35815607859],[51.46938721893, -0.3579267322],[51.46938721893, -0.3579267322],[51.46964591155, -0.35742267192],[51.46992908616, -0.35709574649],[51.47002593569, -0.35694828738],[51.47052998694, -0.35505841518],[51.47059865903, -0.35482557394],[51.47078669688, -0.35412769296],[51.47094062382, -0.35356465205],[51.47094062382, -0.35356465205],[51.47106894789, -0.35309525195],[51.4710657137, -0.35286499454],[51.47116729962, -0.35241498571],[51.4713528953, -0.35154439239],[51.47148880822, -0.35097795212],[51.47176204336, -0.34994580061],[51.47194828574, -0.34933718931],[51.47194828574, -0.34933718931],[51.47237241418, -0.34795114569],[51.47243289532, -0.34777617529],[51.47287686931, -0.34673781069],[51.47289963995, -0.34668491049],[51.47289963995, -0.34668491049],[51.47328610106, -0.34578707689],[51.47339989627, -0.34556697407],[51.47360133458, -0.34518530817],[51.4738035842, -0.34486120646],[51.47397961837, -0.34457845069],[51.47397961837, -0.34457845069],[51.47465649554, -0.34349118249],[51.47470838879, -0.34334530746],[51.47486060964, -0.34266301285],[51.47490721203, -0.34214293854],[51.47490721203, -0.34214293854],[51.47498836783, -0.34088722939],[51.47500206663, -0.34058434024],[51.47505173848, -0.339646561],[51.47511917435, -0.33869373461],[51.47516903505, -0.33777034352],[51.47519408895, -0.33730630818],[51.47519408895, -0.33730630818],[51.47521888846, -0.33684695059],[51.47523441421, -0.33667358946],[51.47524626434, -0.33624116713],[51.47526587502, -0.33572206383],[51.47534555457, -0.33493649595],[51.47534555457, -0.33493649595],[51.4754315233, -0.33408886107],[51.47549055198, -0.33381311463],[51.4755412059, -0.33358087207],[51.4759237133, -0.33231020098],[51.4759237133, -0.33231020098],[51.47596195965, -0.33218314475],[51.47608266915, -0.33181874265],[51.47680567179, -0.32954593374],[51.47701990483, -0.3288036932],[51.47713389394, -0.32839851153],[51.47713389394, -0.32839851153],[51.47720819612, -0.32813439585],[51.47743957422, -0.32733391317],[51.47760274241, -0.32679512707],[51.47768810047, -0.32647519271],[51.47783370029, -0.32596584483],[51.47785922492, -0.3258641065],[51.4779703102, -0.3254568229],[51.47803561824, -0.32522689602],[51.47803561824, -0.32522689602],[51.47809017611, -0.32503481502],[51.47822760451, -0.32458336006],[51.47827926824, -0.32442305948],[51.47839974751, -0.32404422566],[51.47857168221, -0.323490694],[51.47889818611, -0.32242745785],[51.47916561322, -0.32160099233],[51.47916561322, -0.32160099233],[51.47949237417, -0.32059112176],[51.47963753562, -0.32005294841],[51.47967183645, -0.31993647906],[51.47974002528, -0.31967475268],[51.47993986637, -0.31905984828],[51.47993986637, -0.31905984828],[51.4804031796, -0.3176341896],[51.48080173702, -0.31658261642],[51.48101031638, -0.31607021305],[51.48101031638, -0.31607021305],[51.48112311779, -0.31579309689],[51.48141877124, -0.31509092446],[51.48149697089, -0.31490082022],[51.48162744087, -0.31459357447],[51.4818269138, -0.3140821572],[51.48203269489, -0.31355831884],[51.48203269489, -0.31355831884],[51.48221727937, -0.31308842961],[51.48237160052, -0.31256426357],[51.48238729718, -0.31240526221],[51.48240009309, -0.31204473976],[51.48242692525, -0.31141006047],[51.48247276584, -0.31084668819],[51.48270111974, -0.30984450588],[51.4828305387, -0.30946526548],[51.48300157313, -0.30885404847],[51.48308605098, -0.30847646555],[51.48332154573, -0.30729081354],[51.48332154573, -0.30729081354],[51.48336269968, -0.30708360706],[51.48346935342, -0.30637394233],[51.48360904117, -0.30546141634],[51.48393181515, -0.30424783529],[51.48393181515, -0.30424783529],[51.48398430855, -0.30405046198],[51.48407085293, -0.30381681058],[51.48418394299, -0.30355336803],[51.4845405596, -0.30271918035],[51.48492434118, -0.30189837321],[51.4850786116, -0.30137413931],[51.48516410782, -0.3010685016],[51.48522284922, -0.30077826018],[51.48568835207, -0.2993926655],[51.48602089972, -0.29876095743],[51.48611869517, -0.2984666894],[51.48611869517, -0.2984666894],[51.48617599145, -0.29829428237],[51.48632167588, -0.29779914788],[51.4863697496, -0.29739406584],[51.48638667959, -0.29732141881],[51.48660906563, -0.2965353538],[51.48672945331, -0.29615637905],[51.4869080458, -0.29556748428],[51.4869080458, -0.29556748428],[51.48717566958, -0.29468498874],[51.4872699262, -0.29436459369],[51.48751674078, -0.29340474295],[51.48765278808, -0.2928667268],[51.48771297605, -0.29267723062],[51.48805968744, -0.29178564676],[51.48823663242, -0.29112138823],[51.48823663242, -0.29112138823],[51.48848598405, -0.29018527932],[51.48851962502, -0.2900255772],[51.48861949673, -0.28947448871],[51.48864435925, -0.28932951814],[51.488784333, -0.28844563189],[51.48888755979, -0.2881248764],[51.48905911196, -0.28755668944],[51.48929546606, -0.28711570741],[51.48933715561, -0.2870490605],[51.48933715561, -0.2870490605],[51.48947999688, -0.28682070622],[51.48957612474, -0.28662984701],[51.48961123323, -0.28657091359],[51.48968959612, -0.2863951237],[51.48980411895, -0.2862323817],[51.49009186725, -0.28561660416],[51.49016187266, -0.28548433776],[51.49026656473, -0.28526434245],[51.49071108466, -0.28429164022],[51.49071108466, -0.28429164022],[51.49116404786, -0.28330042435],[51.49135270775, -0.2826739281],[51.49153266728, -0.28268157073],[51.49162190915, -0.28263500243],[51.49170195273, -0.28257437461],[51.49178157459, -0.28248495241],[51.49184237806, -0.28233861702],[51.49188913219, -0.2818470882],[51.49187866823, -0.28174664629],[51.49180065085, -0.28133183399],[51.49185955372, -0.28105592311],[51.49195145067, -0.28057709936],[51.49200655137, -0.28004203808],[51.49210923691, -0.27907303044],[51.49213990434, -0.27871174734],[51.49217078201, -0.27836486095],[51.49221209707, -0.27794497883],[51.49221209707, -0.27794497883],[51.49223337999, -0.27772867563],[51.49233932118, -0.2763705946],[51.49239877902, -0.275766214],[51.49239877902, -0.275766214],[51.49243320055, -0.27541630875],[51.49250307544, -0.27466459877],[51.49257811835, -0.27365339623],[51.49262292789, -0.27303227592],[51.49281741517, -0.27158439074],[51.49285039388, -0.27138146829],[51.49288927685, -0.27081196001],[51.49288927685, -0.27081196001],[51.49293913599, -0.27008162581],[51.49294302589, -0.26973574897],[51.49291995266, -0.26939089314],[51.49289730342, -0.26907483236],[51.49268332138, -0.26676368051],[51.49262970516, -0.26557007351],[51.49257967723, -0.2648892199],[51.49257967723, -0.2648892199],[51.49256215017, -0.26465069901],[51.49253373446, -0.26394591932],[51.49245976884, -0.26259463485],[51.49245784915, -0.2624650605],[51.49244867533, -0.26184598325],[51.49244376706, -0.26151484904],[51.49244376706, -0.26151484904],[51.49243949823, -0.26122690633],[51.49244378904, -0.26090982741],[51.49245772438, -0.26003057609],[51.49247206748, -0.25978514044],[51.49250075213, -0.2592942687],[51.49252558682, -0.25854424784],[51.49254014061, -0.25831320857],[51.49255335695, -0.258081421],[51.49255335695, -0.258081421],[51.49260434335, -0.25718714724],[51.49261140499, -0.25705723009],[51.49265933384, -0.25604702882],[51.49270404994, -0.2554258924],[51.49274383456, -0.25447361971],[51.49278105551, -0.25395360451],[51.49282154183, -0.25303651019],[51.49282154183, -0.25303651019],[51.49284156966, -0.25258277979],[51.49285182034, -0.2520637934],[51.49286099545, -0.25147282087],[51.49294632862, -0.25056201359],[51.4929781968, -0.25028709017],[51.49304236096, -0.24976603672],[51.49310624109, -0.24927125674],[51.49310624109, -0.24927125674],[51.49317132725, -0.24876711738],[51.49321217847, -0.248491847],[51.49326842274, -0.24804311957],[51.49332999501, -0.24734929217],[51.49333683054, -0.24720497438],[51.49335582219, -0.24674964397],[51.49335582219, -0.24674964397],[51.4933765482, -0.24625268296],[51.49340259157, -0.24558902656],[51.49343078572, -0.2450693427],[51.49344229608, -0.24463673267],[51.49349098008, -0.24368409191],[51.49353217917, -0.24283257626],[51.49353771467, -0.24260187327],[51.49355928213, -0.24224090282],[51.49355604504, -0.24202494273],[51.49356257862, -0.24126119228],[51.49355890785, -0.24101643763],[51.49353169517, -0.24026828273],[51.49353169517, -0.24026828273],[51.49349768155, -0.23933333615],[51.49348350624, -0.23898814736],[51.49346142383, -0.23871529162],[51.49339733599, -0.23804069864],[51.49332793545, -0.23761120722],[51.49322386253, -0.23714848127],[51.49322386253, -0.23714848127],[51.49316411615, -0.23688284326],[51.49309730929, -0.2366261217],[51.49304804327, -0.23633991294],[51.49294842621, -0.23569551183],[51.4929243376, -0.2352406338],[51.4929243376, -0.2352406338],[51.49292330323, -0.23522110183],[51.49290186215, -0.2349914427],[51.49282919933, -0.23434600505],[51.49322333561, -0.23424434337],[51.49371611418, -0.23412446236],[51.4938862206, -0.23407467163],[51.49406574779, -0.23405332807],[51.49444147566, -0.23392356043],[51.49446419537, -0.23304391988],[51.49447635226, -0.23261636543],[51.49447635226, -0.23261636543],[51.49448182757, -0.23242378229],[51.49447727018, -0.23212143366],[51.49449402903, -0.23144370544],[51.49447613842, -0.23085375392],[51.49447860901, -0.23042147972],[51.49447404646, -0.23011913145],[51.49447404646, -0.23011913145],[51.49446970044, -0.22983118078],[51.49442310102, -0.22912709509],[51.49439033907, -0.22814876168],[51.49439721735, -0.22741379251],[51.49380064483, -0.2266158063],[51.49361282209, -0.22613708873],[51.49361282209, -0.22613708873],[51.49356682039, -0.22601984219],[51.49310749593, -0.22478439212],[51.49302247048, -0.22451399052],[51.49305580336, -0.22433982929],[51.49307884074, -0.22407963476],[51.49310868408, -0.22367512011],[51.49292654222, -0.2235237399],[51.49289669938, -0.22392825301],[51.49283025256, -0.22429097155],[51.49263842032, -0.22468737086],[51.4916948664, -0.22354280825],[51.49187814394, -0.22317555527],[51.49254577137, -0.22395768944],[51.49254577137, -0.22395768944],[51.49283025256, -0.22429097155],[51.49289669938, -0.22392825301],[51.49292654222, -0.2235237399],[51.49307779709, -0.22341702133],[51.49303377754, -0.22288572883],[51.49305288382, -0.22236638725],[51.49307005802, -0.22112684423],[51.49319659439, -0.21998387896],[51.4932033962, -0.21983955834],[51.49323366205, -0.2194638343],[51.49324595244, -0.21908881028],[51.4932496023, -0.21903172639],[51.4932496023, -0.21903172639],[51.4934130545, -0.21647487756],[51.49356715802, -0.21596466389],[51.4936210824, -0.21578876975],[51.4936210824, -0.21578876975],[51.49377277194, -0.21529397184],[51.49386637118, -0.21494457742],[51.49410551597, -0.21411410145],[51.49426793821, -0.21356032892],[51.49441326111, -0.21306484495],[51.49451671837, -0.21277267933],[51.49470204183, -0.21230745853],[51.49470204183, -0.21230745853],[51.49481985472, -0.2120117063],[51.49489744572, -0.2117925785],[51.49505416355, -0.2114551037],[51.49561000721, -0.21016558868],[51.49582369513, -0.20943689778],[51.49591419828, -0.20888590647],[51.4959689705, -0.20835072043],[51.4960086263, -0.20800341014],[51.49606647525, -0.20766979207],[51.49615983134, -0.20730596705],[51.49625230572, -0.2068845489],[51.49664152944, -0.2058752137],[51.49681422114, -0.20540741736],[51.4969127914, -0.20514215643],[51.4969127914, -0.20514215643],[51.49715105266, -0.20450096369],[51.49729743909, -0.20407741145],[51.4974038288, -0.20376137524],[51.4974038288, -0.20376137524],[51.4975038661, -0.20346420553],[51.49782314955, -0.20258722794],[51.49790072261, -0.20236807005],[51.498012919, -0.20206110629],[51.49822832229, -0.20144752806],[51.4983236464, -0.20121326016],[51.49848212303, -0.2007539867],[51.49848212303, -0.2007539867],[51.49853027906, -0.20061442637],[51.49863348374, -0.20030780815],[51.49880983497, -0.19949404872],[51.49891148898, -0.19908663532],[51.49903943913, -0.19863496097],[51.49909969419, -0.19845969565],[51.49927191323, -0.19796304902],[51.49943580703, -0.19750994979],[51.49951447703, -0.19736277003],[51.49960014175, -0.19708564511],[51.49977247803, -0.19659149835],[51.49977247803, -0.19659149835],[51.49996187539, -0.19604842041],[51.50021230837, -0.19537577199],[51.50039327946, -0.19486434765],[51.50054795236, -0.19439718239],[51.50063147985, -0.19416718771],[51.50063147985, -0.19416718771],[51.50089301862, -0.19344702169],[51.50097933941, -0.19321307912],[51.50124861741, -0.19259728681],[51.50136977469, -0.19228992137],[51.5016388257, -0.19165971894],[51.50188291116, -0.19116017279],[51.50199574398, -0.19089635402],[51.5021189959, -0.19014223454],[51.50219254462, -0.18966384158],[51.50234452831, -0.18902384436],[51.50237647355, -0.18876322465],[51.50237091341, -0.18840323221],[51.50235551997, -0.18825436033],[51.50235551997, -0.18825436033],[51.5022863365, -0.1875853023],[51.50225425702, -0.18725517997],[51.50222195401, -0.18691065849],[51.50212949332, -0.18616508913],[51.50207000352, -0.18580724055],[51.50195933913, -0.18504799062],[51.5018632176, -0.18456367735],[51.5018632176, -0.18456367735],[51.50180328927, -0.18426173149],[51.50174624636, -0.18406228217],[51.50167776326, -0.18370479679],[51.50150624696, -0.18250132279],[51.50149547477, -0.18238648535],[51.50145104555, -0.18184074006],[51.50144568752, -0.18149515564],[51.5014483204, -0.18130343707],[51.5014483204, -0.18130343707],[51.50145835521, -0.18057252394],[51.50146421456, -0.18037057516],[51.5014720844, -0.18029822046],[51.50147119071, -0.18024062308],[51.50153235954, -0.17954658966],[51.50157380261, -0.17816174314],[51.50156354629, -0.17692304002],[51.50160617336, -0.1763667839],[51.50160617336, -0.1763667839],[51.5017429474, -0.17458172945],[51.50180049507, -0.17365729478],[51.50180746376, -0.1735273409],[51.5019000637, -0.17196753186],[51.50192526656, -0.17103788626],[51.50192526656, -0.17103788626],[51.50192860897, -0.17091457589],[51.50190884056, -0.1702237641],[51.50185379079, -0.16900125621],[51.50185199227, -0.1688860612],[51.50183693457, -0.16849763843],[51.50182637358, -0.16839720318],[51.50181962633, -0.16796522235],[51.50182186435, -0.16753288121],[51.50182091398, -0.16712782869],[51.50182091398, -0.16712782869],[51.50182027482, -0.16685575109],[51.5017189044, -0.165548659],[51.50167349575, -0.16494533227],[51.50167393338, -0.16316910258],[51.50167393338, -0.16316910258],[51.50167404841, -0.16268320064],[51.50166592629, -0.16216482706],[51.50167152822, -0.16194847655],[51.50172694399, -0.1608944365],[51.50186328072, -0.16041347039],[51.5020534849, -0.15935399288],[51.50223717984, -0.15845326262],[51.50234302614, -0.15660469962],[51.50235760458, -0.15638798279],[51.50245933388, -0.15599484493],[51.50268166805, -0.15526543629],[51.5028538517, -0.15420664572],[51.50292061999, -0.15348398613],[51.50292061999, -0.15348398613],[51.50297678308, -0.15287607161],[51.50299807311, -0.15251499127],[51.50303892369, -0.15225398086],[51.50306384215, -0.15212329372],[51.50311435937, -0.15190511792],[51.50313927744, -0.15177443038],[51.50325601381, -0.1511933527],[51.50327979599, -0.15099066598],[51.50330289665, -0.15074477999],[51.50330279988, -0.15016842877],[51.50376092273, -0.14899715453],[51.50383031675, -0.14883584301],[51.50403040989, -0.14835058751],[51.50403040989, -0.14835058751],[51.50409014443, -0.14820572062],[51.5042284752, -0.14785429249],[51.50442925725, -0.14747151096],[51.50491818178, -0.14654388977],[51.50499655908, -0.14638220579],[51.50504035482, -0.14630838133],[51.50551959994, -0.14533789922],[51.50566781968, -0.14504368807],[51.50583401214, -0.14474874497],[51.50589372996, -0.14454458344],[51.50615604076, -0.14407281429],[51.50642596865, -0.1435142708],[51.50665255626, -0.14305835242],[51.50672216991, -0.14291142246],[51.50694875511, -0.14245549816],[51.50694875511, -0.14245549816],[51.50714098851, -0.14210183746],[51.50752431093, -0.14132250244],[51.50774837857, -0.14070815122],[51.507791714, -0.14060551486],[51.50803397962, -0.14000482571],[51.50816329846, -0.13965370876],[51.50819764623, -0.13955143656],[51.50826898363, -0.13933902458],[51.50826898363, -0.13933902458],[51.50840373098, -0.13893780016],[51.50843762106, -0.13880672447],[51.50861719896, -0.13822298313],[51.50873661104, -0.13781461798],[51.50879654522, -0.13762483593],[51.50897680338, -0.13708428955],[51.50906232377, -0.1368069974],[51.50908768233, -0.13670508774],[51.50925572211, -0.13619348546],[51.50925572211, -0.13619348546],[51.50937074103, -0.1358433007],[51.5094140721, -0.13574065615],[51.50945648737, -0.13558040539],[51.50967245365, -0.1350239738],[51.50974045379, -0.13477621091],[51.50984943911, -0.13484381454],[51.50995636316, -0.1347818036],[51.51011422956, -0.13453036792],[51.51002395632, -0.13394320319],[51.5100961279, -0.13339263412],[51.50993877003, -0.13311084572],[51.50974661115, -0.1329025368],[51.50968232884, -0.13281869933],[51.50965733006, -0.13279420354],[51.50965733006, -0.13279420354],[51.50952703333, -0.13266652896],[51.50924363106, -0.13237549018],[51.50883395601, -0.13206079821],[51.50846875468, -0.13171547141],[51.50808626736, -0.13141408857],[51.50769433368, -0.13108427662],[51.5076344804, -0.13015005748],[51.50761421105, -0.13000678455],[51.50757229389, -0.12963383392],[51.50756518671, -0.12956509332],[51.50756518671, -0.12956509332],[51.50750849702, -0.12901680599],[51.50748730727, -0.12881593069],[51.50750252335, -0.12864238436],[51.5075039263, -0.12816678878],[51.50751592321, -0.12779163061],[51.50753274706, -0.12771888968],[51.50754058422, -0.12764651712],[51.50755671824, -0.12753057359],[51.50772125611, -0.12713474931],[51.50784315945, -0.12688477438],[51.50801737185, -0.1265317796],[51.50804079584, -0.12648389583],[51.50804079584, -0.12648389583],[51.5081828266, -0.12619355187],[51.50841833239, -0.12573716274],[51.5086031391, -0.12548459834],[51.50869876951, -0.12527892445],[51.50881214259, -0.12505811062],[51.50904741353, -0.12458730809],[51.50932577286, -0.12399944414],[51.50964837099, -0.12336652231],[51.50983155909, -0.1230131309],[51.51000575947, -0.12266010608],[51.51008387264, -0.12248396212],[51.51022166374, -0.12210360821],[51.51034807208, -0.1217743316]]",
            "stopPoints": [
             {
              "$type": "Tfl.Api.Presentation.Entities.Identifier, Tfl.Api.Presentation.Entities",
              "id": "490G00012176",
              "name": "Nene Road",
              "routeType": "Unknown",
              "status": "Unknown",
              "type": "StopPoint",
              "uri": "/StopPoint/490G00012176"
             },
             {
              "$type": "Tfl.Api.Presentation.Entities.Identifier, Tfl.Api.Presentation.Entities",
              "id": "490G00004139",
              "name": "Bolton's Lane",
              "routeType": "Unknown",
              "status": "Unknown",
              "type": "StopPoint",
              "uri": "/StopPoint/490G00004139"
             },
             {
              "$type": "Tfl.Api.Presentation.Entities.Identifier, Tfl.Api.Presentation.Entities",
              "id": "490G00010251",
              "name": "New Road",
              "routeType": "Unknown",
              "status": "Unknown",
              "type": "StopPoint",
              "uri": "/StopPoint/490G00010251"
             },
             {
              "$type": "Tfl.Api.Presentation.Entities.Identifier, Tfl.Api.Presentation.Entities",
              "id": "490G00007811",
              "name": "Harlington Corner",
              "routeType": "Unknown",
              "status": "Unknown",
              "type": "StopPoint",
              "uri": "/StopPoint/490G00007811"
             },
             {
              "$type": "Tfl.Api.Presentation.Entities.Identifier, Tfl.Api.Presentation.Entities",
              "id": "490G00015397",
              "name": "Nobel Drive",
              "routeType": "Unknown",
              "status": "Unknown",
              "type": "StopPoint",
              "uri": "/StopPoint/490G00015397"
             },
             {
              "$type": "Tfl.Api.Presentation.Entities.Identifier, Tfl.Api.Presentation.Entities",
              "id": "490G00010677",
              "name": "Oxford Avenue",
              "routeType": "Unknown",
              "status": "Unknown",
              "type": "StopPoint",
              "uri": "/StopPoint/490G00010677"
             },
             {
              "$type": "Tfl.Api.Presentation.Entities.Identifier, Tfl.Api.Presentation.Entities",
              "id": "490G00013596",
              "name": "Craneswater",
              "routeType": "Unknown",
              "status": "Unknown",
              "type": "StopPoint",
              "uri": "/StopPoint/490G00013596"
             },
             {
              "$type": "Tfl.Api.Presentation.Entities.Identifier, Tfl.Api.Presentation.Entities",
              "id": "490G00005704",
              "name": "Waye Avenue",
              "routeType": "Unknown",
              "status": "Unknown",
              "type": "StopPoint",
              "uri": "/StopPoint/490G00005704"
             },
             {
              "$type": "Tfl.Api.Presentation.Entities.Identifier, Tfl.Api.Presentation.Entities",
              "id": "490G00013235",
              "name": "The Avenue",
              "routeType": "Unknown",
              "status": "Unknown",
              "type": "StopPoint",
              "uri": "/StopPoint/490G00013235"
             },
             {
              "$type": "Tfl.Api.Presentation.Entities.Identifier, Tfl.Api.Presentation.Entities",
              "id": "490G00013495",
              "name": "The Parkway",
              "routeType": "Unknown",
              "status": "Unknown",
              "type": "StopPoint",
              "uri": "/StopPoint/490G00013495"
             },
             {
              "$type": "Tfl.Api.Presentation.Entities.Identifier, Tfl.Api.Presentation.Entities",
              "id": "490G00011470",
              "name": "Rectory Road",
              "routeType": "Unknown",
              "status": "Unknown",
              "type": "StopPoint",
              "uri": "/StopPoint/490G00011470"
             },
             {
              "$type": "Tfl.Api.Presentation.Entities.Identifier, Tfl.Api.Presentation.Entities",
              "id": "490G00015462",
              "name": "Henlys Roundabout",
              "routeType": "Unknown",
              "status": "Unknown",
              "type": "StopPoint",
              "uri": "/StopPoint/490G00015462"
             },
             {
              "$type": "Tfl.Api.Presentation.Entities.Identifier, Tfl.Api.Presentation.Entities",
              "id": "490G000040",
              "name": "Great West Road / Renfrew Road",
              "routeType": "Unknown",
              "status": "Unknown",
              "type": "StopPoint",
              "uri": "/StopPoint/490G000040"
             },
             {
              "$type": "Tfl.Api.Presentation.Entities.Identifier, Tfl.Api.Presentation.Entities",
              "id": "490G00118B",
              "name": "Hounslow West Station",
              "routeType": "Unknown",
              "status": "Unknown",
              "type": "StopPoint",
              "uri": "/StopPoint/490G00118B"
             },
             {
              "$type": "Tfl.Api.Presentation.Entities.Identifier, Tfl.Api.Presentation.Entities",
              "id": "490G00012458",
              "name": "St Paul's Church",
              "routeType": "Unknown",
              "status": "Unknown",
              "type": "StopPoint",
              "uri": "/StopPoint/490G00012458"
             },
             {
              "$type": "Tfl.Api.Presentation.Entities.Identifier, Tfl.Api.Presentation.Entities",
              "id": "490G00006406",
              "name": "Wellington Road North",
              "routeType": "Unknown",
              "status": "Unknown",
              "type": "StopPoint",
              "uri": "/StopPoint/490G00006406"
             },
             {
              "$type": "Tfl.Api.Presentation.Entities.Identifier, Tfl.Api.Presentation.Entities",
              "id": "490G00012454",
              "name": "St Michael & St Martin Church",
              "routeType": "Unknown",
              "status": "Unknown",
              "type": "StopPoint",
              "uri": "/StopPoint/490G00012454"
             },
             {
              "$type": "Tfl.Api.Presentation.Entities.Identifier, Tfl.Api.Presentation.Entities",
              "id": "490G00013259",
              "name": "The Bell",
              "routeType": "Unknown",
              "status": "Unknown",
              "type": "StopPoint",
              "uri": "/StopPoint/490G00013259"
             },
             {
              "$type": "Tfl.Api.Presentation.Entities.Identifier, Tfl.Api.Presentation.Entities",
              "id": "490G00013777",
              "name": "Treaty Centre",
              "routeType": "Unknown",
              "status": "Unknown",
              "type": "StopPoint",
              "uri": "/StopPoint/490G00013777"
             },
             {
              "$type": "Tfl.Api.Presentation.Entities.Identifier, Tfl.Api.Presentation.Entities",
              "id": "490G00008399",
              "name": "Hounslow High Street",
              "routeType": "Unknown",
              "status": "Unknown",
              "type": "StopPoint",
              "uri": "/StopPoint/490G00008399"
             },
             {
              "$type": "Tfl.Api.Presentation.Entities.Identifier, Tfl.Api.Presentation.Entities",
              "id": "490G000601",
              "name": "Hounslow Bus Station",
              "routeType": "Unknown",
              "status": "Unknown",
              "type": "StopPoint",
              "uri": "/StopPoint/490G000601"
             },
             {
              "$type": "Tfl.Api.Presentation.Entities.Identifier, Tfl.Api.Presentation.Entities",
              "id": "490G00004327",
              "name": "Bridge Road",
              "routeType": "Unknown",
              "status": "Unknown",
              "type": "StopPoint",
              "uri": "/StopPoint/490G00004327"
             },
             {
              "$type": "Tfl.Api.Presentation.Entities.Identifier, Tfl.Api.Presentation.Entities",
              "id": "490G00012599",
              "name": "Star Road",
              "routeType": "Unknown",
              "status": "Unknown",
              "type": "StopPoint",
              "uri": "/StopPoint/490G00012599"
             },
             {
              "$type": "Tfl.Api.Presentation.Entities.Identifier, Tfl.Api.Presentation.Entities",
              "id": "490G00013620",
              "name": "Thornbury Road",
              "routeType": "Unknown",
              "status": "Unknown",
              "type": "StopPoint",
              "uri": "/StopPoint/490G00013620"
             },
             {
              "$type": "Tfl.Api.Presentation.Entities.Identifier, Tfl.Api.Presentation.Entities",
              "id": "490G00008510",
              "name": "West Thames College",
              "routeType": "Unknown",
              "status": "Unknown",
              "type": "StopPoint",
              "uri": "/StopPoint/490G00008510"
             },
             {
              "$type": "Tfl.Api.Presentation.Entities.Identifier, Tfl.Api.Presentation.Entities",
              "id": "490G01158B",
              "name": "Isleworth Station",
              "routeType": "Unknown",
              "status": "Unknown",
              "type": "StopPoint",
              "uri": "/StopPoint/490G01158B"
             },
             {
              "$type": "Tfl.Api.Presentation.Entities.Identifier, Tfl.Api.Presentation.Entities",
              "id": "490G00009185",
              "name": "Linkfield Road",
              "routeType": "Unknown",
              "status": "Unknown",
              "type": "StopPoint",
              "uri": "/StopPoint/490G00009185"
             },
             {
              "$type": "Tfl.Api.Presentation.Entities.Identifier, Tfl.Api.Presentation.Entities",
              "id": "490G00014874",
              "name": "Wood Lane",
              "routeType": "Unknown",
              "status": "Unknown",
              "type": "StopPoint",
              "uri": "/StopPoint/490G00014874"
             },
             {
              "$type": "Tfl.Api.Presentation.Entities.Identifier, Tfl.Api.Presentation.Entities",
              "id": "490G00007873",
              "name": "Turnpike Way",
              "routeType": "Unknown",
              "status": "Unknown",
              "type": "StopPoint",
              "uri": "/StopPoint/490G00007873"
             },
             {
              "$type": "Tfl.Api.Presentation.Entities.Identifier, Tfl.Api.Presentation.Entities",
              "id": "490G00004635",
              "name": "The Green School",
              "routeType": "Unknown",
              "status": "Unknown",
              "type": "StopPoint",
              "uri": "/StopPoint/490G00004635"
             },
             {
              "$type": "Tfl.Api.Presentation.Entities.Identifier, Tfl.Api.Presentation.Entities",
              "id": "490G00015029",
              "name": "Busch Corner",
              "routeType": "Unknown",
              "status": "Unknown",
              "type": "StopPoint",
              "uri": "/StopPoint/490G00015029"
             },
             {
              "$type": "Tfl.Api.Presentation.Entities.Identifier, Tfl.Api.Presentation.Entities",
              "id": "490G00013141",
              "name": "Syon Lane",
              "routeType": "Unknown",
              "status": "Unknown",
              "type": "StopPoint",
              "uri": "/StopPoint/490G00013141"
             },
             {
              "$type": "Tfl.Api.Presentation.Entities.Identifier, Tfl.Api.Presentation.Entities",
              "id": "490G00003804",
              "name": "Beech Avenue",
              "routeType": "Unknown",
              "status": "Unknown",
              "type": "StopPoint",
              "uri": "/StopPoint/490G00003804"
             },
             {
              "$type": "Tfl.Api.Presentation.Entities.Identifier, Tfl.Api.Presentation.Entities",
              "id": "490G00004296",
              "name": "Brent Lea",
              "routeType": "Unknown",
              "status": "Unknown",
              "type": "StopPoint",
              "uri": "/StopPoint/490G00004296"
             },
             {
              "$type": "Tfl.Api.Presentation.Entities.Identifier, Tfl.Api.Presentation.Entities",
              "id": "490G00004292",
              "name": "Market Place",
              "routeType": "Unknown",
              "status": "Unknown",
              "type": "StopPoint",
              "uri": "/StopPoint/490G00004292"
             },
             {
              "$type": "Tfl.Api.Presentation.Entities.Identifier, Tfl.Api.Presentation.Entities",
              "id": "490G00004289",
              "name": "Brentford County Court",
              "routeType": "Unknown",
              "status": "Unknown",
              "type": "StopPoint",
              "uri": "/StopPoint/490G00004289"
             },
             {
              "$type": "Tfl.Api.Presentation.Entities.Identifier, Tfl.Api.Presentation.Entities",
              "id": "490G00006297",
              "name": "Watermans Centre",
              "routeType": "Unknown",
              "status": "Unknown",
              "type": "StopPoint",
              "uri": "/StopPoint/490G00006297"
             },
             {
              "$type": "Tfl.Api.Presentation.Entities.Identifier, Tfl.Api.Presentation.Entities",
              "id": "490G00004293",
              "name": "The Musical Museum",
              "routeType": "Unknown",
              "status": "Unknown",
              "type": "StopPoint",
              "uri": "/StopPoint/490G00004293"
             },
             {
              "$type": "Tfl.Api.Presentation.Entities.Identifier, Tfl.Api.Presentation.Entities",
              "id": "490G00008690",
              "name": "London Museum Of Water and Steam",
              "routeType": "Unknown",
              "status": "Unknown",
              "type": "StopPoint",
              "uri": "/StopPoint/490G00008690"
             },
             {
              "$type": "Tfl.Api.Presentation.Entities.Identifier, Tfl.Api.Presentation.Entities",
              "id": "490G01167S",
              "name": "Kew Bridge Station",
              "routeType": "Unknown",
              "status": "Unknown",
              "type": "StopPoint",
              "uri": "/StopPoint/490G01167S"
             },
             {
              "$type": "Tfl.Api.Presentation.Entities.Identifier, Tfl.Api.Presentation.Entities",
              "id": "490G00004290",
              "name": "Brentford Fountain Leisure Centre",
              "routeType": "Unknown",
              "status": "Unknown",
              "type": "StopPoint",
              "uri": "/StopPoint/490G00004290"
             },
             {
              "$type": "Tfl.Api.Presentation.Entities.Identifier, Tfl.Api.Presentation.Entities",
              "id": "490G000750",
              "name": "Thorney Hedge Road",
              "routeType": "Unknown",
              "status": "Unknown",
              "type": "StopPoint",
              "uri": "/StopPoint/490G000750"
             },
             {
              "$type": "Tfl.Api.Presentation.Entities.Identifier, Tfl.Api.Presentation.Entities",
              "id": "490G00094B",
              "name": "Gunnersbury Station",
              "routeType": "Unknown",
              "status": "Unknown",
              "type": "StopPoint",
              "uri": "/StopPoint/490G00094B"
             },
             {
              "$type": "Tfl.Api.Presentation.Entities.Identifier, Tfl.Api.Presentation.Entities",
              "id": "490G00005211",
              "name": "Chiswick Road",
              "routeType": "Unknown",
              "status": "Unknown",
              "type": "StopPoint",
              "uri": "/StopPoint/490G00005211"
             },
             {
              "$type": "Tfl.Api.Presentation.Entities.Identifier, Tfl.Api.Presentation.Entities",
              "id": "490G000807",
              "name": "Turnham Green Church",
              "routeType": "Unknown",
              "status": "Unknown",
              "type": "StopPoint",
              "uri": "/StopPoint/490G000807"
             },
             {
              "$type": "Tfl.Api.Presentation.Entities.Identifier, Tfl.Api.Presentation.Entities",
              "id": "490G00005423",
              "name": "Clifton Gardens",
              "routeType": "Unknown",
              "status": "Unknown",
              "type": "StopPoint",
              "uri": "/StopPoint/490G00005423"
             },
             {
              "$type": "Tfl.Api.Presentation.Entities.Identifier, Tfl.Api.Presentation.Entities",
              "id": "490G00005210",
              "name": "Chiswick Police Station",
              "routeType": "Unknown",
              "status": "Unknown",
              "type": "StopPoint",
              "uri": "/StopPoint/490G00005210"
             },
             {
              "$type": "Tfl.Api.Presentation.Entities.Identifier, Tfl.Api.Presentation.Entities",
              "id": "490G00013850",
              "name": "Chiswick Lane",
              "routeType": "Unknown",
              "status": "Unknown",
              "type": "StopPoint",
              "uri": "/StopPoint/490G00013850"
             },
             {
              "$type": "Tfl.Api.Presentation.Entities.Identifier, Tfl.Api.Presentation.Entities",
              "id": "490G00012521",
              "name": "Stamford Brook Bus Garage",
              "routeType": "Unknown",
              "status": "Unknown",
              "type": "StopPoint",
              "uri": "/StopPoint/490G00012521"
             },
             {
              "$type": "Tfl.Api.Presentation.Entities.Identifier, Tfl.Api.Presentation.Entities",
              "id": "490G000535",
              "name": "Goldhawk Road / Young's Corner",
              "routeType": "Unknown",
              "status": "Unknown",
              "type": "StopPoint",
              "uri": "/StopPoint/490G000535"
             },
             {
              "$type": "Tfl.Api.Presentation.Entities.Identifier, Tfl.Api.Presentation.Entities",
              "id": "490G00012533",
              "name": "Ravenscourt Park",
              "routeType": "Unknown",
              "status": "Unknown",
              "type": "StopPoint",
              "uri": "/StopPoint/490G00012533"
             },
             {
              "$type": "Tfl.Api.Presentation.Entities.Identifier, Tfl.Api.Presentation.Entities",
              "id": "490G00188A",
              "name": "Ravenscourt Park Station",
              "routeType": "Unknown",
              "status": "Unknown",
              "type": "StopPoint",
              "uri": "/StopPoint/490G00188A"
             },
             {
              "$type": "Tfl.Api.Presentation.Entities.Identifier, Tfl.Api.Presentation.Entities",
              "id": "490G00005937",
              "name": "Dalling Road",
              "routeType": "Unknown",
              "status": "Unknown",
              "type": "StopPoint",
              "uri": "/StopPoint/490G00005937"
             },
             {
              "$type": "Tfl.Api.Presentation.Entities.Identifier, Tfl.Api.Presentation.Entities",
              "id": "490G00015588",
              "name": "Lamington Street",
              "routeType": "Unknown",
              "status": "Unknown",
              "type": "StopPoint",
              "uri": "/StopPoint/490G00015588"
             },
             {
              "$type": "Tfl.Api.Presentation.Entities.Identifier, Tfl.Api.Presentation.Entities",
              "id": "490G00007239",
              "name": "Iffley Road",
              "routeType": "Unknown",
              "status": "Unknown",
              "type": "StopPoint",
              "uri": "/StopPoint/490G00007239"
             },
             {
              "$type": "Tfl.Api.Presentation.Entities.Identifier, Tfl.Api.Presentation.Entities",
              "id": "490G00097T",
              "name": "Hammersmith Stn / H&C and Circle Lines",
              "routeType": "Unknown",
              "status": "Unknown",
              "type": "StopPoint",
              "uri": "/StopPoint/490G00097T"
             },
             {
              "$type": "Tfl.Api.Presentation.Entities.Identifier, Tfl.Api.Presentation.Entities",
              "id": "490G000565",
              "name": "Hammersmith Bus Station",
              "routeType": "Unknown",
              "status": "Unknown",
              "type": "StopPoint",
              "uri": "/StopPoint/490G000565"
             },
             {
              "$type": "Tfl.Api.Presentation.Entities.Identifier, Tfl.Api.Presentation.Entities",
              "id": "490G00008997",
              "name": "Latymer Court",
              "routeType": "Unknown",
              "status": "Unknown",
              "type": "StopPoint",
              "uri": "/StopPoint/490G00008997"
             },
             {
              "$type": "Tfl.Api.Presentation.Entities.Identifier, Tfl.Api.Presentation.Entities",
              "id": "490G00004455",
              "name": "Brook Green",
              "routeType": "Unknown",
              "status": "Unknown",
              "type": "StopPoint",
              "uri": "/StopPoint/490G00004455"
             },
             {
              "$type": "Tfl.Api.Presentation.Entities.Identifier, Tfl.Api.Presentation.Entities",
              "id": "490G00010357",
              "name": "North End Road",
              "routeType": "Unknown",
              "status": "Unknown",
              "type": "StopPoint",
              "uri": "/StopPoint/490G00010357"
             },
             {
              "$type": "Tfl.Api.Presentation.Entities.Identifier, Tfl.Api.Presentation.Entities",
              "id": "490G00008287",
              "name": "Holland Road",
              "routeType": "Unknown",
              "status": "Unknown",
              "type": "StopPoint",
              "uri": "/StopPoint/490G00008287"
             },
             {
              "$type": "Tfl.Api.Presentation.Entities.Identifier, Tfl.Api.Presentation.Entities",
              "id": "490G00003106",
              "name": "Warwick Gardens",
              "routeType": "Unknown",
              "status": "Unknown",
              "type": "StopPoint",
              "uri": "/StopPoint/490G00003106"
             },
             {
              "$type": "Tfl.Api.Presentation.Entities.Identifier, Tfl.Api.Presentation.Entities",
              "id": "490G00005528",
              "name": "The Design Museum",
              "routeType": "Unknown",
              "status": "Unknown",
              "type": "StopPoint",
              "uri": "/StopPoint/490G00005528"
             },
             {
              "$type": "Tfl.Api.Presentation.Entities.Identifier, Tfl.Api.Presentation.Entities",
              "id": "490G00010984",
              "name": "Phillimore Gardens",
              "routeType": "Unknown",
              "status": "Unknown",
              "type": "StopPoint",
              "uri": "/StopPoint/490G00010984"
             },
             {
              "$type": "Tfl.Api.Presentation.Entities.Identifier, Tfl.Api.Presentation.Entities",
              "id": "490G00110R",
              "name": "High Street Kensington Station",
              "routeType": "Unknown",
              "status": "Unknown",
              "type": "StopPoint",
              "uri": "/StopPoint/490G00110R"
             },
             {
              "$type": "Tfl.Api.Presentation.Entities.Identifier, Tfl.Api.Presentation.Entities",
              "id": "490G00011761",
              "name": "Kensington Palace",
              "routeType": "Unknown",
              "status": "Unknown",
              "type": "StopPoint",
              "uri": "/StopPoint/490G00011761"
             },
             {
              "$type": "Tfl.Api.Presentation.Entities.Identifier, Tfl.Api.Presentation.Entities",
              "id": "490G00010728",
              "name": "Palace Gate",
              "routeType": "Unknown",
              "status": "Unknown",
              "type": "StopPoint",
              "uri": "/StopPoint/490G00010728"
             },
             {
              "$type": "Tfl.Api.Presentation.Entities.Identifier, Tfl.Api.Presentation.Entities",
              "id": "490G00019923",
              "name": "Queen's Gate",
              "routeType": "Unknown",
              "status": "Unknown",
              "type": "StopPoint",
              "uri": "/StopPoint/490G00019923"
             },
             {
              "$type": "Tfl.Api.Presentation.Entities.Identifier, Tfl.Api.Presentation.Entities",
              "id": "490G00011750",
              "name": "Royal Albert Hall",
              "routeType": "Unknown",
              "status": "Unknown",
              "type": "StopPoint",
              "uri": "/StopPoint/490G00011750"
             },
             {
              "$type": "Tfl.Api.Presentation.Entities.Identifier, Tfl.Api.Presentation.Entities",
              "id": "490G00011198",
              "name": "Prince Of Wales Gate",
              "routeType": "Unknown",
              "status": "Unknown",
              "type": "StopPoint",
              "uri": "/StopPoint/490G00011198"
             },
             {
              "$type": "Tfl.Api.Presentation.Entities.Identifier, Tfl.Api.Presentation.Entities",
              "id": "490G00011822",
              "name": "Rutland Gardens",
              "routeType": "Unknown",
              "status": "Unknown",
              "type": "StopPoint",
              "uri": "/StopPoint/490G00011822"
             },
             {
              "$type": "Tfl.Api.Presentation.Entities.Identifier, Tfl.Api.Presentation.Entities",
              "id": "490G000575",
              "name": "Knightsbridge Station  / Harrods",
              "routeType": "Unknown",
              "status": "Unknown",
              "type": "StopPoint",
              "uri": "/StopPoint/490G000575"
             },
             {
              "$type": "Tfl.Api.Presentation.Entities.Identifier, Tfl.Api.Presentation.Entities",
              "id": "490G00119A",
              "name": "Hyde Park Corner",
              "routeType": "Unknown",
              "status": "Unknown",
              "type": "StopPoint",
              "uri": "/StopPoint/490G00119A"
             },
             {
              "$type": "Tfl.Api.Presentation.Entities.Identifier, Tfl.Api.Presentation.Entities",
              "id": "490G00010574",
              "name": "Old Park Lane / Hard Rock Cafe",
              "routeType": "Unknown",
              "status": "Unknown",
              "type": "StopPoint",
              "uri": "/StopPoint/490G00010574"
             },
             {
              "$type": "Tfl.Api.Presentation.Entities.Identifier, Tfl.Api.Presentation.Entities",
              "id": "490G00093PE",
              "name": "Green Park Station",
              "routeType": "Unknown",
              "status": "Unknown",
              "type": "StopPoint",
              "uri": "/StopPoint/490G00093PE"
             },
             {
              "$type": "Tfl.Api.Presentation.Entities.Identifier, Tfl.Api.Presentation.Entities",
              "id": "490G00010526",
              "name": "Old Bond Street / Royal Academy",
              "routeType": "Unknown",
              "status": "Unknown",
              "type": "StopPoint",
              "uri": "/StopPoint/490G00010526"
             },
             {
              "$type": "Tfl.Api.Presentation.Entities.Identifier, Tfl.Api.Presentation.Entities",
              "id": "490G00179B",
              "name": "Piccadilly Circus",
              "routeType": "Unknown",
              "status": "Unknown",
              "type": "StopPoint",
              "uri": "/StopPoint/490G00179B"
             },
             {
              "$type": "Tfl.Api.Presentation.Entities.Identifier, Tfl.Api.Presentation.Entities",
              "id": "490G00020307",
              "name": "Haymarket / Jermyn Street",
              "routeType": "Unknown",
              "status": "Unknown",
              "type": "StopPoint",
              "uri": "/StopPoint/490G00020307"
             },
             {
              "$type": "Tfl.Api.Presentation.Entities.Identifier, Tfl.Api.Presentation.Entities",
              "id": "490G000804",
              "name": "Trafalgar Square",
              "routeType": "Unknown",
              "status": "Unknown",
              "type": "StopPoint",
              "uri": "/StopPoint/490G000804"
             },
             {
              "$type": "Tfl.Api.Presentation.Entities.Identifier, Tfl.Api.Presentation.Entities",
              "id": "490G00045",
              "name": "Charing Cross Stn / Trafalgar Square",
              "routeType": "Unknown",
              "status": "Unknown",
              "type": "StopPoint",
              "uri": "/StopPoint/490G00045"
             },
             {
              "$type": "Tfl.Api.Presentation.Entities.Identifier, Tfl.Api.Presentation.Entities",
              "id": "490G00012247",
              "name": "Southampton Street / Covent Garden",
              "routeType": "Unknown",
              "status": "Unknown",
              "type": "StopPoint",
              "uri": "/StopPoint/490G00012247"
             }
            ]
           },
           "plannedWorks": [],
           "routeOptions": [
            {
             "$type": "Tfl.Api.Presentation.Entities.JourneyPlanner.RouteOption, Tfl.Api.Presentation.Entities",
             "directions": [
              "Aldwych"
             ],
             "lineIdentifier": {
              "$type": "Tfl.Api.Presentation.Entities.Identifier, Tfl.Api.Presentation.Entities",
              "crowding": {
               "$type": "Tfl.Api.Presentation.Entities.Crowding, Tfl.Api.Presentation.Entities"
              },
              "id": "n9",
              "name": "N9",
              "routeType": "Unknown",
              "status": "Unknown",
              "type": "Line",
              "uri": "/Line/n9"
             },
             "name": "N9"
            }
           ]
          },
          {
           "$type": "Tfl.Api.Presentation.Entities.JourneyPlanner.Leg, Tfl.Api.Presentation.Entities",
           "arrivalPoint": {
            "$type": "Tfl.Api.Presentation.Entities.StopPoint, Tfl.Api.Presentation.Entities",
            "additionalProperties": [],
            "commonName": "Tower Bridge Road",
            "icsCode": "1013746",
            "lat": 51.50271739164,
            "lon": -0.07797542472999999,
            "naptanId": "490G00013746",
            "placeType": "StopPoint",
            "platformName": "K",
            "stopLetter": "K"
           },
           "arrivalTime": "2021-03-06T02:04:00",
           "departurePoint": {
            "$type": "Tfl.Api.Presentation.Entities.StopPoint, Tfl.Api.Presentation.Entities",
            "additionalProperties": [],
            "commonName": "Southampton Street / Covent Garden",
            "icsCode": "1012247",
            "lat": 51.51039701446,
            "lon": -0.12182258537,
            "naptanId": "490G00012247",
            "placeType": "StopPoint",
            "platformName": "A",
            "stopLetter": "A"
           },
           "departureTime": "2021-03-06T01:46:00",
           "disruptions": [
            {
             "$type": "Tfl.Api.Presentation.Entities.Disruption, Tfl.Api.Presentation.Entities",
             "additionalInfo": "",
             "category": "PlannedWork",
             "categoryDescription": "PlannedWork",
             "created": "2021-02-26T07:19:00",
             "description": "HIGH STREET ORPINGTON BR6; Routes 51, 61, 208, 353, 358, 477, B14, R1, R2, R3, R4, R6, R7, R8, R9, R10 N199 are diverted at High Street, Orpington in both directions due to carriageway works. Buses will not serve the High Street / Orpington War Memorial stops.",
             "lastUpdate": "2021-02-26T07:28:00",
             "summary": "HIGH STREET ORPINGTON BR6 - SO21/14009 - ROUTES 51, 61, 208, 353, 358, 477, B14, R1, R2, R3, R4, R6, R7, R8, R9, R10 N199",
             "type": "lineInfo"
            },
            {
             "$type": "Tfl.Api.Presentation.Entities.Disruption, Tfl.Api.Presentation.Entities",
             "additionalInfo": "",
             "category": "PlannedWork",
             "categoryDescription": "PlannedWork",
             "created": "2021-01-28T10:42:00",
             "description": "RUSHEY GREEN SE6: Routes 47 54 136 199 208 N136 N199 towards Bromley is diverted via Plassey Road and Sangley Road due to gas works. Missing stop The Catford Centre.",
             "lastUpdate": "2021-01-28T10:44:00",
             "summary": "RUSHEY GREEN SE6 - SO21/12967 - ROUTES 47 54 136 199 208 N136 N199",
             "type": "lineInfo"
            },
            {
             "$type": "Tfl.Api.Presentation.Entities.Disruption, Tfl.Api.Presentation.Entities",
             "additionalInfo": "",
             "category": "PlannedWork",
             "categoryDescription": "PlannedWork",
             "created": "2021-01-11T15:50:00",
             "description": "RUSHEY GREEN, SE6: Routes 47 54 136 199 208 N136 N199 are on diversion towards Bromley via Brownhill Road, Plassy Road and Sangley Road due to a gas main replacement. Buses are missing the stop The Catford Centre.",
             "lastUpdate": "2021-01-11T15:50:00",
             "summary": "SO21/12345 - RUSHEY GREEN, SE6 - ROUTES 47 54 136 199 208 N136 N199",
             "type": "lineInfo"
            }
           ],
           "duration": 18,
           "hasFixedLocations": true,
           "instruction": {
            "$type": "Tfl.Api.Presentation.Entities.Instruction, Tfl.Api.Presentation.Entities",
            "detailed": "N199 bus towards St Mary Cray Station",
            "steps": [],
            "summary": "N199 bus to Tower Bridge Road"
           },
           "isDisrupted": true,
           "mode": {
            "$type": "Tfl.Api.Presentation.Entities.Identifier, Tfl.Api.Presentation.Entities",
            "id": "bus",
            "name": "bus",
            "routeType": "Unknown",
            "status": "Unknown",
            "type": "Mode"
           },
           "obstacles": [],
           "path": {
            "$type": "Tfl.Api.Presentation.Entities.JourneyPlanner.Path, Tfl.Api.Presentation.Entities",
            "elevation": [],
            "lineString": "[[51.51034807208, -0.1217743316],[51.51046337182, -0.12147398766],[51.51061014619, -0.12109325785],[51.51078203294, -0.12059620178],[51.51097212159, -0.12011280398],[51.51110114912, -0.11974720755],[51.51128247854, -0.11927857494],[51.51167326963, -0.11897424871],[51.51203296447, -0.11897384386],[51.51230377816, -0.11877976966],[51.51230377816, -0.11877976966],[51.51235301697, -0.11874448319],[51.51263735364, -0.11853100272],[51.51290993038, -0.11814506049],[51.51301430298, -0.11792457905],[51.51316889619, -0.11747143356],[51.51325228861, -0.11706445729],[51.51329167175, -0.11671694303],[51.51327158255, -0.11602599132],[51.51310724122, -0.11531216987],[51.51309983442, -0.1148512904],[51.51314987746, -0.11458102498],[51.51314987746, -0.11458102498],[51.5132073988, -0.11427036682],[51.51329999823, -0.11387741598],[51.51338314643, -0.11345602974],[51.51344026026, -0.11309336638],[51.51349690944, -0.11270189696],[51.51364730933, -0.11198948212],[51.51372285546, -0.11165487695],[51.51374772809, -0.11152413811],[51.51382854813, -0.11095871686],[51.51393609302, -0.11037777529],[51.51398583526, -0.11011629493],[51.51411824618, -0.10940460848],[51.51414218754, -0.10921625629],[51.51414838773, -0.10904305099],[51.51416334197, -0.1088550707],[51.51416948145, -0.10873934157],[51.51416948145, -0.10873934157],[51.51418403073, -0.10846507927],[51.51419092669, -0.10833508205],[51.5141895329, -0.10824866543],[51.5141961963, -0.1081042654],[51.51421161372, -0.10794509019],[51.51420836076, -0.10774345138],[51.51421293201, -0.1074694263],[51.51421200239, -0.10741181522],[51.51420898095, -0.10722457923],[51.51421262111, -0.10689294306],[51.51419735722, -0.10650444112],[51.51419317159, -0.10624519153],[51.51419131113, -0.1061299695],[51.51418311755, -0.10591696917],[51.51418311755, -0.10591696917],[51.5141758121, -0.10572706533],[51.51416766953, -0.1052229694],[51.514172933, -0.10499215268],[51.51416781308, -0.10467529251],[51.51416362342, -0.10441604335],[51.51414928261, -0.10408515377],[51.51412269419, -0.10355299966],[51.51400940059, -0.10266413961],[51.5139897966, -0.10256406782],[51.51393075109, -0.10224945033],[51.51388069125, -0.10193446012],[51.51387788763, -0.10191056102],[51.51387788763, -0.10191056102],[51.51382853244, -0.10148984722],[51.5138275999, -0.10143223682],[51.5137934122, -0.10098687758],[51.51376178845, -0.10069994733],[51.51370437081, -0.1004861518],[51.51363773301, -0.10025832817],[51.51349873619, -0.10000469164],[51.51328633106, -0.09910556591],[51.51326356947, -0.09825619843],[51.51321490036, -0.09802763172],[51.51313362803, -0.09765709072],[51.51313362803, -0.09765709072],[51.51302068685, -0.09714217448],[51.51289404716, -0.09654214755],[51.51288365823, -0.09645610859],[51.51273623613, -0.09568400843],[51.51264670451, -0.09515450079],[51.51260659161, -0.0949056658],[51.51260659161, -0.0949056658],[51.5125867035, -0.09478229401],[51.51254584423, -0.09448134888],[51.51248724529, -0.09419555655],[51.51239840925, -0.09370926112],[51.51231284906, -0.09342459637],[51.51214743427, -0.09265326684],[51.51200279893, -0.09205401533],[51.51198365457, -0.09198275658],[51.5118683188, -0.09152640158],[51.51177721115, -0.09115529563],[51.51177721115, -0.09115529563],[51.51167569787, -0.09074181207],[51.51147791141, -0.08964039056],[51.51142828723, -0.08935423541],[51.5112909788, -0.08865381622],[51.51125057341, -0.08838168885],[51.51117187388, -0.08796705045],[51.51113123209, -0.08768052281],[51.51110239417, -0.08756643878],[51.5109471023, -0.08686678318],[51.51087121698, -0.08662496876],[51.51071040102, -0.08668935216],[51.51030883075, -0.08687911135],[51.50980793956, -0.08704420537],[51.50973651788, -0.08707601917],[51.50952201788, -0.08715705884],[51.50952201788, -0.08715705884],[51.50902159588, -0.08735094867],[51.5089144632, -0.08739866775],[51.50790392696, -0.08774360664],[51.50682149784, -0.08809153917],[51.50673210291, -0.08812410149],[51.5065919238, -0.08818816122],[51.5065919238, -0.08818816122],[51.50641969002, -0.08826686887],[51.5063395162, -0.08831345453],[51.50617940321, -0.08842102543],[51.50613993654, -0.08820652889],[51.50611016021, -0.08803485669],[51.50598317284, -0.0873729817],[51.50598317284, -0.0873729817],[51.50587428977, -0.08680548705],[51.50582371923, -0.08646177031],[51.50578401402, -0.08623287728],[51.5057556448, -0.08614760733],[51.50573626196, -0.08606196091],[51.50564833323, -0.0856333533],[51.50550742478, -0.08526460714],[51.50533080462, -0.08491177021],[51.50528422644, -0.08481285579],[51.50510666415, -0.08440242352],[51.50506907198, -0.0843031332],[51.50503491821, -0.08422721342],[51.50503491821, -0.08422721342],[51.50492910045, -0.08399199446],[51.504741843, -0.08353874691],[51.50450682725, -0.08291459471],[51.50439286966, -0.08254473456],[51.50422334406, -0.08207634429],[51.50415390903, -0.08190829133],[51.50415390903, -0.08190829133],[51.50408289568, -0.08173641951],[51.50398051203, -0.08152458092],[51.50383060448, -0.08115623862],[51.50370859758, -0.08084436295],[51.50361307774, -0.08050255769],[51.50351567111, -0.08004556052],[51.50350693766, -0.08000899604],[51.50350693766, -0.08000899604],[51.50345774497, -0.0798030413],[51.50336387271, -0.07956203396],[51.50329790245, -0.07937749042],[51.5032127799, -0.07912170785],[51.50312742092, -0.07885152722],[51.50300399246, -0.07845326866],[51.50292051957, -0.07829828226],[51.50271826667, -0.07797402348]]",
            "stopPoints": [
             {
              "$type": "Tfl.Api.Presentation.Entities.Identifier, Tfl.Api.Presentation.Entities",
              "id": "490G000385",
              "name": "Aldwych",
              "routeType": "Unknown",
              "status": "Unknown",
              "type": "StopPoint",
              "uri": "/StopPoint/490G000385"
             },
             {
              "$type": "Tfl.Api.Presentation.Entities.Identifier, Tfl.Api.Presentation.Entities",
              "id": "490G000731",
              "name": "The Royal Courts Of Justice",
              "routeType": "Unknown",
              "status": "Unknown",
              "type": "StopPoint",
              "uri": "/StopPoint/490G000731"
             },
             {
              "$type": "Tfl.Api.Presentation.Entities.Identifier, Tfl.Api.Presentation.Entities",
              "id": "490G00006826",
              "name": "Fetter Lane",
              "routeType": "Unknown",
              "status": "Unknown",
              "type": "StopPoint",
              "uri": "/StopPoint/490G00006826"
             },
             {
              "$type": "Tfl.Api.Presentation.Entities.Identifier, Tfl.Api.Presentation.Entities",
              "id": "490G00019205",
              "name": "Ludgate Circus",
              "routeType": "Unknown",
              "status": "Unknown",
              "type": "StopPoint",
              "uri": "/StopPoint/490G00019205"
             },
             {
              "$type": "Tfl.Api.Presentation.Entities.Identifier, Tfl.Api.Presentation.Entities",
              "id": "490G00009443",
              "name": "Ludgate Hill / Old Bailey",
              "routeType": "Unknown",
              "status": "Unknown",
              "type": "StopPoint",
              "uri": "/StopPoint/490G00009443"
             },
             {
              "$type": "Tfl.Api.Presentation.Entities.Identifier, Tfl.Api.Presentation.Entities",
              "id": "490G00012873",
              "name": "St Paul's Cathedral",
              "routeType": "Unknown",
              "status": "Unknown",
              "type": "StopPoint",
              "uri": "/StopPoint/490G00012873"
             },
             {
              "$type": "Tfl.Api.Presentation.Entities.Identifier, Tfl.Api.Presentation.Entities",
              "id": "490G00143E",
              "name": "Mansion House Station",
              "routeType": "Unknown",
              "status": "Unknown",
              "type": "StopPoint",
              "uri": "/StopPoint/490G00143E"
             },
             {
              "$type": "Tfl.Api.Presentation.Entities.Identifier, Tfl.Api.Presentation.Entities",
              "id": "490G00040E",
              "name": "Cannon Street Station",
              "routeType": "Unknown",
              "status": "Unknown",
              "type": "StopPoint",
              "uri": "/StopPoint/490G00040E"
             },
             {
              "$type": "Tfl.Api.Presentation.Entities.Identifier, Tfl.Api.Presentation.Entities",
              "id": "490G09267E",
              "name": "Monument Station",
              "routeType": "Unknown",
              "status": "Unknown",
              "type": "StopPoint",
              "uri": "/StopPoint/490G09267E"
             },
             {
              "$type": "Tfl.Api.Presentation.Entities.Identifier, Tfl.Api.Presentation.Entities",
              "id": "490G000922",
              "name": "London Bridge",
              "routeType": "Unknown",
              "status": "Unknown",
              "type": "StopPoint",
              "uri": "/StopPoint/490G000922"
             },
             {
              "$type": "Tfl.Api.Presentation.Entities.Identifier, Tfl.Api.Presentation.Entities",
              "id": "490G00139R",
              "name": "London Bridge Station",
              "routeType": "Unknown",
              "status": "Unknown",
              "type": "StopPoint",
              "uri": "/StopPoint/490G00139R"
             },
             {
              "$type": "Tfl.Api.Presentation.Entities.Identifier, Tfl.Api.Presentation.Entities",
              "id": "490G00007964",
              "name": "Hay's Galleria",
              "routeType": "Unknown",
              "status": "Unknown",
              "type": "StopPoint",
              "uri": "/StopPoint/490G00007964"
             },
             {
              "$type": "Tfl.Api.Presentation.Entities.Identifier, Tfl.Api.Presentation.Entities",
              "id": "490G00018666",
              "name": "Abbots Lane",
              "routeType": "Unknown",
              "status": "Unknown",
              "type": "StopPoint",
              "uri": "/StopPoint/490G00018666"
             },
             {
              "$type": "Tfl.Api.Presentation.Entities.Identifier, Tfl.Api.Presentation.Entities",
              "id": "490G00016580",
              "name": "City Hall",
              "routeType": "Unknown",
              "status": "Unknown",
              "type": "StopPoint",
              "uri": "/StopPoint/490G00016580"
             },
             {
              "$type": "Tfl.Api.Presentation.Entities.Identifier, Tfl.Api.Presentation.Entities",
              "id": "490G00013746",
              "name": "Tower Bridge Road",
              "routeType": "Unknown",
              "status": "Unknown",
              "type": "StopPoint",
              "uri": "/StopPoint/490G00013746"
             }
            ]
           },
           "plannedWorks": [],
           "routeOptions": [
            {
             "$type": "Tfl.Api.Presentation.Entities.JourneyPlanner.RouteOption, Tfl.Api.Presentation.Entities",
             "directions": [
              "St Mary Cray Station"
             ],
             "lineIdentifier": {
              "$type": "Tfl.Api.Presentation.Entities.Identifier, Tfl.Api.Presentation.Entities",
              "crowding": {
               "$type": "Tfl.Api.Presentation.Entities.Crowding, Tfl.Api.Presentation.Entities"
              },
              "id": "n199",
              "name": "N199",
              "routeType": "Unknown",
              "status": "Unknown",
              "type": "Line",
              "uri": "/Line/n199"
             },
             "name": "N199"
            }
           ]
          },
          {
           "$type": "Tfl.Api.Presentation.Entities.JourneyPlanner.Leg, Tfl.Api.Presentation.Entities",
           "arrivalPoint": {
            "$type": "Tfl.Api.Presentation.Entities.Place, Tfl.Api.Presentation.Entities",
            "commonName": "SE1 2UF",
            "lat": 51.50266561539,
            "lon": -0.07755974773,
            "placeType": "StopPoint"
           },
           "arrivalTime": "2021-03-06T02:05:00",
           "departurePoint": {
            "$type": "Tfl.Api.Presentation.Entities.StopPoint, Tfl.Api.Presentation.Entities",
            "additionalProperties": [],
            "commonName": "Tower Bridge Road",
            "icsCode": "1013746",
            "lat": 51.50271739164,
            "lon": -0.07797542472999999,
            "naptanId": "490G00013746",
            "placeType": "StopPoint",
            "platformName": "K",
            "stopLetter": "K"
           },
           "departureTime": "2021-03-06T02:04:00",
           "disruptions": [],
           "distance": 25,
           "duration": 1,
           "hasFixedLocations": false,
           "instruction": {
            "$type": "Tfl.Api.Presentation.Entities.Instruction, Tfl.Api.Presentation.Entities",
            "detailed": "Walk to SE1 2UF",
            "steps": [
             {
              "$type": "Tfl.Api.Presentation.Entities.InstructionStep, Tfl.Api.Presentation.Entities",
              "cumulativeDistance": 25,
              "cumulativeTravelTime": 18,
              "description": "Tooley Street for 25 metres",
              "descriptionHeading": "Continue along ",
              "distance": 25,
              "latitude": 51.50271739164,
              "longitude": -0.07797542472999999,
              "pathAttribute": {
               "$type": "Tfl.Api.Presentation.Entities.PathAttribute, Tfl.Api.Presentation.Entities"
              },
              "skyDirection": 493,
              "skyDirectionDescription": "North",
              "streetName": "Tooley Street",
              "trackType": "None",
              "turnDirection": "STRAIGHT"
             }
            ],
            "summary": "Walk to SE1 2UF"
           },
           "isDisrupted": false,
           "mode": {
            "$type": "Tfl.Api.Presentation.Entities.Identifier, Tfl.Api.Presentation.Entities",
            "id": "walking",
            "name": "walking",
            "routeType": "Unknown",
            "status": "Unknown",
            "type": "Mode"
           },
           "obstacles": [],
           "path": {
            "$type": "Tfl.Api.Presentation.Entities.JourneyPlanner.Path, Tfl.Api.Presentation.Entities",
            "elevation": [],
            "lineString": "[[51.50271739164, -0.07797542473],[51.5025511525, -0.07770865272],[51.50266561539, -0.07755974773]]",
            "stopPoints": []
           },
           "plannedWorks": [],
           "routeOptions": [
            {
             "$type": "Tfl.Api.Presentation.Entities.JourneyPlanner.RouteOption, Tfl.Api.Presentation.Entities",
             "directions": [
              ""
             ],
             "name": ""
            }
           ]
          }
         ],
         "startDateTime": "2021-03-06T00:16:00"
        }
       ],
       "lines": [
        {
         "$type": "Tfl.Api.Presentation.Entities.Line, Tfl.Api.Presentation.Entities",
         "created": "2021-03-02T13:59:20.147Z",
         "crowding": {
          "$type": "Tfl.Api.Presentation.Entities.Crowding, Tfl.Api.Presentation.Entities"
         },
         "disruptions": [],
         "id": "105",
         "lineStatuses": [
          {
           "$type": "Tfl.Api.Presentation.Entities.LineStatus, Tfl.Api.Presentation.Entities",
           "created": "0001-01-01T00:00:00",
           "disruption": {
            "$type": "Tfl.Api.Presentation.Entities.Disruption, Tfl.Api.Presentation.Entities",
            "additionalInfo": "Further information and a <a href=\"https://tfl.gov.uk/campaign/bus-strike?intcmp=25146\">list of affected routes</a>.",
            "affectedRoutes": [],
            "affectedStops": [],
            "category": "RealTime",
            "categoryDescription": "RealTime",
            "created": "2021-02-26T09:44:00Z",
            "description": "RATP DEV LONDON STRIKE: RATP Dev London bus services in parts of west, south west and north west London are expected to see disruption on Friday 5, Saturday 6 and Wednesday 10 March, TfL is working hard to minimise potential disruption but customers who need to make journeys are advised to check before they travel. Industrial action will affect services from 00:00 to 23:59 on the respective strike dates and until 06:00 on Sunday 7 March."
           },
           "id": 0,
           "lineId": "105",
           "reason": "RATP DEV LONDON STRIKE: RATP Dev London bus services in parts of west, south west and north west London are expected to see disruption on Friday 5, Saturday 6 and Wednesday 10 March, TfL is working hard to minimise potential disruption but customers who need to make journeys are advised to check before they travel. Industrial action will affect services from 00:00 to 23:59 on the respective strike dates and until 06:00 on Sunday 7 March.",
           "statusSeverity": 0,
           "statusSeverityDescription": "Special Service",
           "validityPeriods": [
            {
             "$type": "Tfl.Api.Presentation.Entities.ValidityPeriod, Tfl.Api.Presentation.Entities",
             "fromDate": "2021-02-26T04:30:00Z",
             "isNow": true,
             "toDate": "2021-03-07T06:00:00Z"
            }
           ]
          }
         ],
         "modeName": "bus",
         "modified": "2021-03-02T13:59:20.147Z",
         "name": "105",
         "routeSections": [],
         "serviceTypes": [
          {
           "$type": "Tfl.Api.Presentation.Entities.LineServiceTypeInfo, Tfl.Api.Presentation.Entities",
           "name": "Regular",
           "uri": "/Line/Route?ids=105&serviceTypes=Regular"
          }
         ]
        },
        {
         "$type": "Tfl.Api.Presentation.Entities.Line, Tfl.Api.Presentation.Entities",
         "created": "2021-03-02T13:59:20.13Z",
         "crowding": {
          "$type": "Tfl.Api.Presentation.Entities.Crowding, Tfl.Api.Presentation.Entities"
         },
         "disruptions": [],
         "id": "278",
         "lineStatuses": [
          {
           "$type": "Tfl.Api.Presentation.Entities.LineStatus, Tfl.Api.Presentation.Entities",
           "created": "0001-01-01T00:00:00",
           "id": 0,
           "statusSeverity": 10,
           "statusSeverityDescription": "Good Service",
           "validityPeriods": []
          }
         ],
         "modeName": "bus",
         "modified": "2021-03-02T13:59:20.13Z",
         "name": "278",
         "routeSections": [],
         "serviceTypes": [
          {
           "$type": "Tfl.Api.Presentation.Entities.LineServiceTypeInfo, Tfl.Api.Presentation.Entities",
           "name": "Regular",
           "uri": "/Line/Route?ids=278&serviceTypes=Regular"
          }
         ]
        },
        {
         "$type": "Tfl.Api.Presentation.Entities.Line, Tfl.Api.Presentation.Entities",
         "created": "2021-03-02T13:59:20.13Z",
         "crowding": {
          "$type": "Tfl.Api.Presentation.Entities.Crowding, Tfl.Api.Presentation.Entities"
         },
         "disruptions": [],
         "id": "81",
         "lineStatuses": [
          {
           "$type": "Tfl.Api.Presentation.Entities.LineStatus, Tfl.Api.Presentation.Entities",
           "created": "0001-01-01T00:00:00",
           "id": 0,
           "statusSeverity": 10,
           "statusSeverityDescription": "Good Service",
           "validityPeriods": []
          }
         ],
         "modeName": "bus",
         "modified": "2021-03-02T13:59:20.13Z",
         "name": "81",
         "routeSections": [],
         "serviceTypes": [
          {
           "$type": "Tfl.Api.Presentation.Entities.LineServiceTypeInfo, Tfl.Api.Presentation.Entities",
           "name": "Regular",
           "uri": "/Line/Route?ids=81&serviceTypes=Regular"
          }
         ]
        },
        {
         "$type": "Tfl.Api.Presentation.Entities.Line, Tfl.Api.Presentation.Entities",
         "created": "2021-03-02T13:59:20.13Z",
         "crowding": {
          "$type": "Tfl.Api.Presentation.Entities.Crowding, Tfl.Api.Presentation.Entities"
         },
         "disruptions": [],
         "id": "9",
         "lineStatuses": [
          {
           "$type": "Tfl.Api.Presentation.Entities.LineStatus, Tfl.Api.Presentation.Entities",
           "created": "0001-01-01T00:00:00",
           "disruption": {
            "$type": "Tfl.Api.Presentation.Entities.Disruption, Tfl.Api.Presentation.Entities",
            "additionalInfo": "Further information and a <a href=\"https://tfl.gov.uk/campaign/bus-strike?intcmp=25146\">list of affected routes</a>.",
            "affectedRoutes": [],
            "affectedStops": [],
            "category": "RealTime",
            "categoryDescription": "RealTime",
            "created": "2021-02-26T09:44:00Z",
            "description": "RATP DEV LONDON STRIKE: RATP Dev London bus services in parts of west, south west and north west London are expected to see disruption on Friday 5, Saturday 6 and Wednesday 10 March, TfL is working hard to minimise potential disruption but customers who need to make journeys are advised to check before they travel. Industrial action will affect services from 00:00 to 23:59 on the respective strike dates and until 06:00 on Sunday 7 March."
           },
           "id": 0,
           "lineId": "9",
           "reason": "RATP DEV LONDON STRIKE: RATP Dev London bus services in parts of west, south west and north west London are expected to see disruption on Friday 5, Saturday 6 and Wednesday 10 March, TfL is working hard to minimise potential disruption but customers who need to make journeys are advised to check before they travel. Industrial action will affect services from 00:00 to 23:59 on the respective strike dates and until 06:00 on Sunday 7 March.",
           "statusSeverity": 0,
           "statusSeverityDescription": "Special Service",
           "validityPeriods": [
            {
             "$type": "Tfl.Api.Presentation.Entities.ValidityPeriod, Tfl.Api.Presentation.Entities",
             "fromDate": "2021-02-26T04:30:00Z",
             "isNow": true,
             "toDate": "2021-03-07T06:00:00Z"
            }
           ]
          }
         ],
         "modeName": "bus",
         "modified": "2021-03-02T13:59:20.13Z",
         "name": "9",
         "routeSections": [],
         "serviceTypes": [
          {
           "$type": "Tfl.Api.Presentation.Entities.LineServiceTypeInfo, Tfl.Api.Presentation.Entities",
           "name": "Regular",
           "uri": "/Line/Route?ids=9&serviceTypes=Regular"
          }
         ]
        },
        {
         "$type": "Tfl.Api.Presentation.Entities.Line, Tfl.Api.Presentation.Entities",
         "created": "2021-03-02T13:59:20.147Z",
         "crowding": {
          "$type": "Tfl.Api.Presentation.Entities.Crowding, Tfl.Api.Presentation.Entities"
         },
         "disruptions": [],
         "id": "h91",
         "lineStatuses": [
          {
           "$type": "Tfl.Api.Presentation.Entities.LineStatus, Tfl.Api.Presentation.Entities",
           "created": "0001-01-01T00:00:00",
           "disruption": {
            "$type": "Tfl.Api.Presentation.Entities.Disruption, Tfl.Api.Presentation.Entities",
            "affectedRoutes": [],
            "affectedStops": [],
            "category": "PlannedWork",
            "categoryDescription": "PlannedWork",
            "created": "2021-02-25T07:52:00Z",
            "description": "GREAT WEST ROAD: From 22:00 to 05:00 nightly starting on Monday 01 March and ending on Saturday 06 March, route H91 is on diversion due to roadworks. Buses towards Hammersmith will miss stops from Clayponds Avenue to Chiswick Roundabout/Gunnersbury. Buses towards Osterley will miss stops from Chiswick Roundabout/Gunnersbury to Ealing Road. Use stops on Chiswick High Road or use the stops Windmill Road or Ealing Road (stop BU). Buses are diverted via Ealing Road, Brentford High Street, Kew Bridge Road and Chiswick High Road."
           },
           "id": 0,
           "lineId": "h91",
           "reason": "GREAT WEST ROAD: From 22:00 to 05:00 nightly starting on Monday 01 March and ending on Saturday 06 March, route H91 is on diversion due to roadworks. Buses towards Hammersmith will miss stops from Clayponds Avenue to Chiswick Roundabout/Gunnersbury. Buses towards Osterley will miss stops from Chiswick Roundabout/Gunnersbury to Ealing Road. Use stops on Chiswick High Road or use the stops Windmill Road or Ealing Road (stop BU). Buses are diverted via Ealing Road, Brentford High Street, Kew Bridge Road and Chiswick High Road.",
           "statusSeverity": 0,
           "statusSeverityDescription": "Special Service",
           "validityPeriods": [
            {
             "$type": "Tfl.Api.Presentation.Entities.ValidityPeriod, Tfl.Api.Presentation.Entities",
             "fromDate": "2021-03-05T22:00:00Z",
             "isNow": false,
             "toDate": "2021-03-05T23:59:00Z"
            }
           ]
          }
         ],
         "modeName": "bus",
         "modified": "2021-03-02T13:59:20.147Z",
         "name": "H91",
         "routeSections": [],
         "serviceTypes": [
          {
           "$type": "Tfl.Api.Presentation.Entities.LineServiceTypeInfo, Tfl.Api.Presentation.Entities",
           "name": "Regular",
           "uri": "/Line/Route?ids=H91&serviceTypes=Regular"
          }
         ]
        },
        {
         "$type": "Tfl.Api.Presentation.Entities.Line, Tfl.Api.Presentation.Entities",
         "created": "2021-03-02T13:59:20.147Z",
         "crowding": {
          "$type": "Tfl.Api.Presentation.Entities.Crowding, Tfl.Api.Presentation.Entities"
         },
         "disruptions": [],
         "id": "n199",
         "lineStatuses": [
          {
           "$type": "Tfl.Api.Presentation.Entities.LineStatus, Tfl.Api.Presentation.Entities",
           "created": "0001-01-01T00:00:00",
           "disruption": {
            "$type": "Tfl.Api.Presentation.Entities.Disruption, Tfl.Api.Presentation.Entities",
            "affectedRoutes": [],
            "affectedStops": [],
            "category": "PlannedWork",
            "categoryDescription": "PlannedWork",
            "created": "2021-01-28T10:42:00Z",
            "description": "RUSHEY GREEN SE6: Routes 47 54 136 199 208 N136 N199 towards Bromley is diverted via Plassey Road and Sangley Road due to gas works. Missing stop The Catford Centre."
           },
           "id": 0,
           "lineId": "n199",
           "reason": "RUSHEY GREEN SE6: Routes 47 54 136 199 208 N136 N199 towards Bromley is diverted via Plassey Road and Sangley Road due to gas works. Missing stop The Catford Centre.",
           "statusSeverity": 0,
           "statusSeverityDescription": "Special Service",
           "validityPeriods": [
            {
             "$type": "Tfl.Api.Presentation.Entities.ValidityPeriod, Tfl.Api.Presentation.Entities",
             "fromDate": "2021-02-03T07:00:00Z",
             "isNow": false,
             "toDate": "2021-04-11T18:00:00Z"
            }
           ]
          }
         ],
         "modeName": "bus",
         "modified": "2021-03-02T13:59:20.147Z",
         "name": "N199",
         "routeSections": [],
         "serviceTypes": [
          {
           "$type": "Tfl.Api.Presentation.Entities.LineServiceTypeInfo, Tfl.Api.Presentation.Entities",
           "name": "Regular",
           "uri": "/Line/Route?ids=N199&serviceTypes=Regular"
          }
         ]
        },
        {
         "$type": "Tfl.Api.Presentation.Entities.Line, Tfl.Api.Presentation.Entities",
         "created": "2021-03-02T13:59:20.13Z",
         "crowding": {
          "$type": "Tfl.Api.Presentation.Entities.Crowding, Tfl.Api.Presentation.Entities"
         },
         "disruptions": [],
         "id": "n9",
         "lineStatuses": [
          {
           "$type": "Tfl.Api.Presentation.Entities.LineStatus, Tfl.Api.Presentation.Entities",
           "created": "0001-01-01T00:00:00",
           "disruption": {
            "$type": "Tfl.Api.Presentation.Entities.Disruption, Tfl.Api.Presentation.Entities",
            "additionalInfo": "Further information and a <a href=\"https://tfl.gov.uk/campaign/bus-strike?intcmp=25146\">list of affected routes</a>.",
            "affectedRoutes": [],
            "affectedStops": [],
            "category": "RealTime",
            "categoryDescription": "RealTime",
            "created": "2021-02-26T09:44:00Z",
            "description": "RATP DEV LONDON STRIKE: RATP Dev London bus services in parts of west, south west and north west London are expected to see disruption on Friday 5, Saturday 6 and Wednesday 10 March, TfL is working hard to minimise potential disruption but customers who need to make journeys are advised to check before they travel. Industrial action will affect services from 00:00 to 23:59 on the respective strike dates and until 06:00 on Sunday 7 March."
           },
           "id": 0,
           "lineId": "n9",
           "reason": "RATP DEV LONDON STRIKE: RATP Dev London bus services in parts of west, south west and north west London are expected to see disruption on Friday 5, Saturday 6 and Wednesday 10 March, TfL is working hard to minimise potential disruption but customers who need to make journeys are advised to check before they travel. Industrial action will affect services from 00:00 to 23:59 on the respective strike dates and until 06:00 on Sunday 7 March.",
           "statusSeverity": 0,
           "statusSeverityDescription": "Special Service",
           "validityPeriods": [
            {
             "$type": "Tfl.Api.Presentation.Entities.ValidityPeriod, Tfl.Api.Presentation.Entities",
             "fromDate": "2021-02-26T04:30:00Z",
             "isNow": true,
             "toDate": "2021-03-07T06:00:00Z"
            }
           ]
          }
         ],
         "modeName": "bus",
         "modified": "2021-03-02T13:59:20.13Z",
         "name": "N9",
         "routeSections": [],
         "serviceTypes": [
          {
           "$type": "Tfl.Api.Presentation.Entities.LineServiceTypeInfo, Tfl.Api.Presentation.Entities",
           "name": "Regular",
           "uri": "/Line/Route?ids=N9&serviceTypes=Regular"
          }
         ]
        }
       ],
       "recommendedMaxAgeMinutes": 5,
       "searchCriteria": {
        "$type": "Tfl.Api.Presentation.Entities.JourneyPlanner.SearchCriteria, Tfl.Api.Presentation.Entities",
        "dateTime": "2021-03-05T23:37:00",
        "dateTimeType": "Departing",
        "timeAdjustments": {
         "$type": "Tfl.Api.Presentation.Entities.JourneyPlanner.TimeAdjustments, Tfl.Api.Presentation.Entities",
         "earlier": {
          "$type": "Tfl.Api.Presentation.Entities.JourneyPlanner.TimeAdjustment, Tfl.Api.Presentation.Entities",
          "date": "20210305",
          "time": "2320",
          "timeIs": "departing",
          "uri": "/journey/journeyresults/tw61ew/to/se12uf?mode=bus&time=2320&date=20210305&timeIs=departing"
         },
         "earliest": {
          "$type": "Tfl.Api.Presentation.Entities.JourneyPlanner.TimeAdjustment, Tfl.Api.Presentation.Entities",
          "date": "20210305",
          "time": "0300",
          "timeIs": "departing",
          "uri": "/journey/journeyresults/tw61ew/to/se12uf?mode=bus&time=0300&date=20210305&timeIs=departing"
         },
         "later": {
          "$type": "Tfl.Api.Presentation.Entities.JourneyPlanner.TimeAdjustment, Tfl.Api.Presentation.Entities",
          "date": "20210306",
          "time": "0016",
          "timeIs": "departing",
          "uri": "/journey/journeyresults/tw61ew/to/se12uf?mode=bus&time=0016&date=20210306&timeIs=departing"
         },
         "latest": {
          "$type": "Tfl.Api.Presentation.Entities.JourneyPlanner.TimeAdjustment, Tfl.Api.Presentation.Entities",
          "date": "20210306",
          "time": "0300",
          "timeIs": "departing",
          "uri": "/journey/journeyresults/tw61ew/to/se12uf?mode=bus&time=0300&date=20210306&timeIs=departing"
         }
        }
       },
       "stopMessages": []
      },
      "text/plain": [
       "<IPython.core.display.JSON object>"
      ]
     },
     "execution_count": 16,
     "metadata": {
      "application/json": {
       "expanded": false,
       "root": "root"
      }
     },
     "output_type": "execute_result"
    }
   ],
   "source": [
    "result_journey_bus = res7.json()\n",
    "clearer_journey_bus = JSON(result_journey_bus)\n",
    "clearer_journey_bus"
   ]
  },
  {
   "cell_type": "code",
   "execution_count": 105,
   "metadata": {},
   "outputs": [],
   "source": [
    "journey_bus_list = []\n",
    "bus_durations = []\n",
    "\n",
    "for key in result_journey_bus:\n",
    "    if result_journey_bus[key] == result_journey_bus[\"journeys\"]:\n",
    "        journey_bus_list.append(result_journey_bus[key])\n",
    "\n",
    "for journey in journey_bus_list:\n",
    "    for item in journey:\n",
    "        for key in item:\n",
    "            if item[key] == item[\"duration\"]:\n",
    "                bus_durations.append(item[key])\n",
    "\n",
    "bus_durations_dict['bus'] = bus_durations"
   ]
  },
  {
   "cell_type": "code",
   "execution_count": 108,
   "metadata": {},
   "outputs": [
    {
     "data": {
      "text/plain": [
       "{'durations': [{'tube': [82, 83, 82]}, {'bus': [211, 212, 218]}]}"
      ]
     },
     "execution_count": 108,
     "metadata": {},
     "output_type": "execute_result"
    }
   ],
   "source": [
    "journey_planner['durations']=[tube_durations_dict, bus_durations_dict]\n",
    "journey_planner"
   ]
  }
 ],
 "metadata": {
  "kernelspec": {
   "display_name": "Python 3",
   "language": "python",
   "name": "python3"
  },
  "language_info": {
   "codemirror_mode": {
    "name": "ipython",
    "version": 3
   },
   "file_extension": ".py",
   "mimetype": "text/x-python",
   "name": "python",
   "nbconvert_exporter": "python",
   "pygments_lexer": "ipython3",
   "version": "3.8.5"
  }
 },
 "nbformat": 4,
 "nbformat_minor": 4
}
